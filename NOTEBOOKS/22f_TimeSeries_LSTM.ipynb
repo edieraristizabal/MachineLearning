{
 "cells": [
  {
   "cell_type": "markdown",
   "metadata": {
    "id": "02p0nOTdq7u5"
   },
   "source": [
    "**CURSO**: *Machine Learning* en Geociencias<br />\n",
    "**Profesor**: Edier Aristizábal (evaristizabalg@unal.edu.co) <br />\n",
    "**Credits**: The content of this notebook is taken from several sources: Soner Yıldırım, Bex T, Manuel Hupperich, Youssef Hosni and Piero Paialunga en www.towardsdatascience.com. Every effort has been made to trace copyright holders of the materials used in this book. The author apologies for any unintentional omissions and would be pleased to add an acknowledgment in future editions."
   ]
  },
  {
   "cell_type": "markdown",
   "metadata": {
    "id": "FAnf9eTFq7u9"
   },
   "source": [
    "# Time Series Analysis: LSTM"
   ]
  },
  {
   "cell_type": "markdown",
   "metadata": {
    "id": "sSqT36tJq7u-"
   },
   "source": [
    "Long Short Term Memory or LSTM is a type of Neural Network, which was developed on the basis provided by the Recurrent Neural Networks, or RNN. The algorithms main usage falls into NLPs or Time Series, and the main idea behind it relates to processing the information they receive from the previous neuron and applying the activation function from scratch (as the CNN/RNN do), they actually divide the neuron into three main parts from which to set up the input from the next layer of neurons: Learn, Unlearn and Retain gate. The structure of the LSTM layer can be visualized in the image below:\n",
    "\n",
    "![LSTM](https://miro.medium.com/max/700/0*RkFisWmsLWtGCByq.png)\n",
    "\n",
    "#### Parameters for the LSTM\n",
    "* PERCENTAGE = .98 #Split train/val and test set\n",
    "* CALLBACK = .031 #Used to stop training the Network when the MAE from the validation set reached a perormance below 3.1%\n",
    "* BATCH_SIZE = 20 #Number of samples that will be propagated through the network. I chose almost a trading month\n",
    "* EPOCH = 50 #Settled to train the model\n",
    "* WINDOW_LSTM = 30 #The window used for the input data\n",
    "* PREDICTION_SCOPE = 0 #How many period to predict, being 0=1"
   ]
  },
  {
   "cell_type": "code",
   "execution_count": 12,
   "metadata": {},
   "outputs": [],
   "source": [
    "import keras\n",
    "import pandas as pd\n",
    "import statsmodels.api as sm\n",
    "from matplotlib import pyplot as plt\n",
    "from sklearn.model_selection import TimeSeriesSplit\n",
    "from sklearn.preprocessing import MinMaxScaler\n",
    "from keras.models import Sequential\n",
    "from keras.layers import Dense,Dropout\n",
    "#from keras.optimizers import SGD"
   ]
  },
  {
   "cell_type": "code",
   "execution_count": 30,
   "metadata": {},
   "outputs": [
    {
     "name": "stderr",
     "output_type": "stream",
     "text": [
      "/tmp/ipykernel_28959/618929016.py:1: FutureWarning: The error_bad_lines argument has been deprecated and will be removed in a future version. Use on_bad_lines in the future.\n",
      "\n",
      "\n",
      "  Q=pd.read_csv(\"https://github.com/edieraristizabal/MachineLearning/blob/master/data/CaudalHorario.csv\", lineterminator='\\r', error_bad_lines=False)\n"
     ]
    },
    {
     "data": {
      "text/html": [
       "<div>\n",
       "<style scoped>\n",
       "    .dataframe tbody tr th:only-of-type {\n",
       "        vertical-align: middle;\n",
       "    }\n",
       "\n",
       "    .dataframe tbody tr th {\n",
       "        vertical-align: top;\n",
       "    }\n",
       "\n",
       "    .dataframe thead th {\n",
       "        text-align: right;\n",
       "    }\n",
       "</style>\n",
       "<table border=\"1\" class=\"dataframe\">\n",
       "  <thead>\n",
       "    <tr style=\"text-align: right;\">\n",
       "      <th></th>\n",
       "      <th>\\n\\n\\n\\n\\n\\n\\n&lt;!DOCTYPE html&gt;\\n&lt;html lang=\"en\" data-color-mode=\"auto\" data-light-theme=\"light\" data-dark-theme=\"dark\" data-a11y-animated-images=\"system\"&gt;\\n  &lt;head&gt;\\n    &lt;meta charset=\"utf-8\"&gt;\\n  &lt;link rel=\"dns-prefetch\" href=\"https://github.githubassets.com\"&gt;\\n  &lt;link rel=\"dns-prefetch\" href=\"https://avatars.githubusercontent.com\"&gt;\\n  &lt;link rel=\"dns-prefetch\" href=\"https://github-cloud.s3.amazonaws.com\"&gt;\\n  &lt;link rel=\"dns-prefetch\" href=\"https://user-images.githubusercontent.com/\"&gt;\\n  &lt;link rel=\"preconnect\" href=\"https://github.githubassets.com\" crossorigin&gt;\\n  &lt;link rel=\"preconnect\" href=\"https://avatars.githubusercontent.com\"&gt;\\n\\n\\n\\n  &lt;link crossorigin=\"anonymous\" media=\"all\" rel=\"stylesheet\" href=\"https://github.githubassets.com/assets/light-5178aee0ee76.css\" /&gt;&lt;link crossorigin=\"anonymous\" media=\"all\" rel=\"stylesheet\" href=\"https://github.githubassets.com/assets/dark-217d4f9c8e70.css\" /&gt;&lt;link data-color-theme=\"dark_dimmed\" crossorigin=\"anonymous\" media=\"all\" rel=\"stylesheet\" data-href=\"https://github.githubassets.com/assets/dark_dimmed-0adfa28f0e68.css\" /&gt;&lt;link data-color-theme=\"dark_high_contrast\" crossorigin=\"anonymous\" media=\"all\" rel=\"stylesheet\" data-href=\"https://github.githubassets.com/assets/dark_high_contrast-1c8575b36644.css\" /&gt;&lt;link data-color-theme=\"dark_colorblind\" crossorigin=\"anonymous\" media=\"all\" rel=\"stylesheet\" data-href=\"https://github.githubassets.com/assets/dark_colorblind-5113d2be20b0.css\" /&gt;&lt;link data-color-theme=\"light_colorblind\" crossorigin=\"anonymous\" media=\"all\" rel=\"stylesheet\" data-href=\"https://github.githubassets.com/assets/light_colorblind-c96add742484.css\" /&gt;&lt;link data-color-theme=\"light_high_contrast\" crossorigin=\"anonymous\" media=\"all\" rel=\"stylesheet\" data-href=\"https://github.githubassets.com/assets/light_high_contrast-290f92f5e867.css\" /&gt;&lt;link data-color-theme=\"light_tritanopia\" crossorigin=\"anonymous\" media=\"all\" rel=\"stylesheet\" data-href=\"https://github.githubassets.com/assets/light_tritanopia-cdd88f146bf7.css\" /&gt;&lt;link data-color-theme=\"dark_tritanopia\" crossorigin=\"anonymous\" media=\"all\" rel=\"stylesheet\" data-href=\"https://github.githubassets.com/assets/dark_tritanopia-2171ea0f078b.css\" /&gt;\\n  \\n    &lt;link crossorigin=\"anonymous\" media=\"all\" rel=\"stylesheet\" href=\"https://github.githubassets.com/assets/primer-0e158a2f5ddd.css\" /&gt;\\n    &lt;link crossorigin=\"anonymous\" media=\"all\" rel=\"stylesheet\" href=\"https://github.githubassets.com/assets/global-bec0587a3deb.css\" /&gt;\\n    &lt;link crossorigin=\"anonymous\" media=\"all\" rel=\"stylesheet\" href=\"https://github.githubassets.com/assets/github-fb643df33dec.css\" /&gt;\\n  &lt;link crossorigin=\"anonymous\" media=\"all\" rel=\"stylesheet\" href=\"https://github.githubassets.com/assets/code-3d7b701fc6eb.css\" /&gt;\\n\\n    &lt;meta name=\"optimizely-datafile\" content=\"{&amp;quot;groups&amp;quot;: []</th>\n",
       "      <th>&amp;quot;environmentKey&amp;quot;: &amp;quot;production&amp;quot;</th>\n",
       "      <th>&amp;quot;rollouts&amp;quot;: []</th>\n",
       "      <th>&amp;quot;typedAudiences&amp;quot;: []</th>\n",
       "      <th>&amp;quot;projectId&amp;quot;: &amp;quot;16737760170&amp;quot;</th>\n",
       "      <th>&amp;quot;variables&amp;quot;: []</th>\n",
       "      <th>&amp;quot;featureFlags&amp;quot;: []</th>\n",
       "      <th>&amp;quot;experiments&amp;quot;: [{&amp;quot;status&amp;quot;: &amp;quot;Running&amp;quot;</th>\n",
       "      <th>&amp;quot;audienceIds&amp;quot;: []</th>\n",
       "      <th>&amp;quot;variations&amp;quot;: [{&amp;quot;variables&amp;quot;: []</th>\n",
       "      <th>...</th>\n",
       "      <th>&amp;quot;action&amp;quot;:&amp;quot;go to Pricing&amp;quot;</th>\n",
       "      <th>&amp;quot;label&amp;quot;:&amp;quot;text:Pricing&amp;quot;}\"&gt;Pricing&lt;/a&gt;&lt;/li&gt;\\n        &lt;li class=\"mr-3 mr-lg-0\"&gt;&lt;a href=\"https://docs.github.com\" data-analytics-event=\"{&amp;quot;category&amp;quot;:&amp;quot;Footer&amp;quot;</th>\n",
       "      <th>&amp;quot;action&amp;quot;:&amp;quot;go to api&amp;quot;</th>\n",
       "      <th>&amp;quot;label&amp;quot;:&amp;quot;text:api&amp;quot;}\"&gt;API&lt;/a&gt;&lt;/li&gt;\\n        &lt;li class=\"mr-3 mr-lg-0\"&gt;&lt;a href=\"https://services.github.com\" data-analytics-event=\"{&amp;quot;category&amp;quot;:&amp;quot;Footer&amp;quot;</th>\n",
       "      <th>&amp;quot;action&amp;quot;:&amp;quot;go to training&amp;quot;</th>\n",
       "      <th>&amp;quot;label&amp;quot;:&amp;quot;text:training&amp;quot;}\"&gt;Training&lt;/a&gt;&lt;/li&gt;\\n          &lt;li class=\"mr-3 mr-lg-0\"&gt;&lt;a href=\"https://github.blog\" data-analytics-event=\"{&amp;quot;category&amp;quot;:&amp;quot;Footer&amp;quot;</th>\n",
       "      <th>&amp;quot;action&amp;quot;:&amp;quot;go to blog&amp;quot;</th>\n",
       "      <th>&amp;quot;label&amp;quot;:&amp;quot;text:blog&amp;quot;}\"&gt;Blog&lt;/a&gt;&lt;/li&gt;\\n          &lt;li&gt;&lt;a data-ga-click=\"Footer</th>\n",
       "      <th>go to about</th>\n",
       "      <th>text:about\" href=\"https://github.com/about\"&gt;About&lt;/a&gt;&lt;/li&gt;\\n      &lt;/ul&gt;\\n    &lt;/nav&gt;\\n  &lt;/div&gt;\\n\\n  &lt;div class=\"d-flex flex-justify-center pb-6\"&gt;\\n    &lt;span class=\"f6 color-fg-muted\"&gt;&lt;/span&gt;\\n  &lt;/div&gt;\\n&lt;/footer&gt;\\n\\n\\n\\n\\n  &lt;div id=\"ajax-error-message\" class=\"ajax-error-message flash flash-error\" hidden&gt;\\n    &lt;svg aria-hidden=\"true\" height=\"16\" viewBox=\"0 0 16 16\" version=\"1.1\" width=\"16\" data-view-component=\"true\" class=\"octicon octicon-alert\"&gt;\\n    &lt;path fill-rule=\"evenodd\" d=\"M8.22 1.754a.25.25 0 00-.44 0L1.698 13.132a.25.25 0 00.22.368h12.164a.25.25 0 00.22-.368L8.22 1.754zm-1.763-.707c.659-1.234 2.427-1.234 3.086 0l6.082 11.378A1.75 1.75 0 0114.082 15H1.918a1.75 1.75 0 01-1.543-2.575L6.457 1.047zM9 11a1 1 0 11-2 0 1 1 0 012 0zm-.25-5.25a.75.75 0 00-1.5 0v2.5a.75.75 0 001.5 0v-2.5z\"&gt;&lt;/path&gt;\\n&lt;/svg&gt;\\n    &lt;button type=\"button\" class=\"flash-close js-ajax-error-dismiss\" aria-label=\"Dismiss error\"&gt;\\n      &lt;svg aria-hidden=\"true\" height=\"16\" viewBox=\"0 0 16 16\" version=\"1.1\" width=\"16\" data-view-component=\"true\" class=\"octicon octicon-x\"&gt;\\n    &lt;path fill-rule=\"evenodd\" d=\"M3.72 3.72a.75.75 0 011.06 0L8 6.94l3.22-3.22a.75.75 0 111.06 1.06L9.06 8l3.22 3.22a.75.75 0 11-1.06 1.06L8 9.06l-3.22 3.22a.75.75 0 01-1.06-1.06L6.94 8 3.72 4.78a.75.75 0 010-1.06z\"&gt;&lt;/path&gt;\\n&lt;/svg&gt;\\n    &lt;/button&gt;\\n    You can’t perform that action at this time.\\n  &lt;/div&gt;\\n\\n  &lt;div class=\"js-stale-session-flash flash flash-warn flash-banner\" hidden\\n    &gt;\\n    &lt;svg aria-hidden=\"true\" height=\"16\" viewBox=\"0 0 16 16\" version=\"1.1\" width=\"16\" data-view-component=\"true\" class=\"octicon octicon-alert\"&gt;\\n    &lt;path fill-rule=\"evenodd\" d=\"M8.22 1.754a.25.25 0 00-.44 0L1.698 13.132a.25.25 0 00.22.368h12.164a.25.25 0 00.22-.368L8.22 1.754zm-1.763-.707c.659-1.234 2.427-1.234 3.086 0l6.082 11.378A1.75 1.75 0 0114.082 15H1.918a1.75 1.75 0 01-1.543-2.575L6.457 1.047zM9 11a1 1 0 11-2 0 1 1 0 012 0zm-.25-5.25a.75.75 0 00-1.5 0v2.5a.75.75 0 001.5 0v-2.5z\"&gt;&lt;/path&gt;\\n&lt;/svg&gt;\\n    &lt;span class=\"js-stale-session-flash-signed-in\" hidden&gt;You signed in with another tab or window. &lt;a href=\"\"&gt;Reload&lt;/a&gt; to refresh your session.&lt;/span&gt;\\n    &lt;span class=\"js-stale-session-flash-signed-out\" hidden&gt;You signed out in another tab or window. &lt;a href=\"\"&gt;Reload&lt;/a&gt; to refresh your session.&lt;/span&gt;\\n  &lt;/div&gt;\\n    &lt;template id=\"site-details-dialog\"&gt;\\n  &lt;details class=\"details-reset details-overlay details-overlay-dark lh-default color-fg-default hx_rsm\" open&gt;\\n    &lt;summary role=\"button\" aria-label=\"Close dialog\"&gt;&lt;/summary&gt;\\n    &lt;details-dialog class=\"Box Box--overlay d-flex flex-column anim-fade-in fast hx_rsm-dialog hx_rsm-modal\"&gt;\\n      &lt;button class=\"Box-btn-octicon m-0 btn-octicon position-absolute right-0 top-0\" type=\"button\" aria-label=\"Close dialog\" data-close-dialog&gt;\\n        &lt;svg aria-hidden=\"true\" height=\"16\" viewBox=\"0 0 16 16\" version=\"1.1\" width=\"16\" data-view-component=\"true\" class=\"octicon octicon-x\"&gt;\\n    &lt;path fill-rule=\"evenodd\" d=\"M3.72 3.72a.75.75 0 011.06 0L8 6.94l3.22-3.22a.75.75 0 111.06 1.06L9.06 8l3.22 3.22a.75.75 0 11-1.06 1.06L8 9.06l-3.22 3.22a.75.75 0 01-1.06-1.06L6.94 8 3.72 4.78a.75.75 0 010-1.06z\"&gt;&lt;/path&gt;\\n&lt;/svg&gt;\\n      &lt;/button&gt;\\n      &lt;div class=\"octocat-spinner my-6 js-details-dialog-spinner\"&gt;&lt;/div&gt;\\n    &lt;/details-dialog&gt;\\n  &lt;/details&gt;\\n&lt;/template&gt;\\n\\n    &lt;div class=\"Popover js-hovercard-content position-absolute\" style=\"display: none; outline: none;\" tabindex=\"0\"&gt;\\n  &lt;div class=\"Popover-message Popover-message--bottom-left Popover-message--large Box color-shadow-large\" style=\"width:360px;\"&gt;\\n  &lt;/div&gt;\\n&lt;/div&gt;\\n\\n    &lt;template id=\"snippet-clipboard-copy-button\"&gt;\\n  &lt;div class=\"zeroclipboard-container position-absolute right-0 top-0\"&gt;\\n    &lt;clipboard-copy aria-label=\"Copy\" class=\"ClipboardButton btn js-clipboard-copy m-2 p-0 tooltipped-no-delay\" data-copy-feedback=\"Copied!\" data-tooltip-direction=\"w\"&gt;\\n      &lt;svg aria-hidden=\"true\" height=\"16\" viewBox=\"0 0 16 16\" version=\"1.1\" width=\"16\" data-view-component=\"true\" class=\"octicon octicon-copy js-clipboard-copy-icon m-2\"&gt;\\n    &lt;path fill-rule=\"evenodd\" d=\"M0 6.75C0 5.784.784 5 1.75 5h1.5a.75.75 0 010 1.5h-1.5a.25.25 0 00-.25.25v7.5c0 .138.112.25.25.25h7.5a.25.25 0 00.25-.25v-1.5a.75.75 0 011.5 0v1.5A1.75 1.75 0 019.25 16h-7.5A1.75 1.75 0 010 14.25v-7.5z\"&gt;&lt;/path&gt;&lt;path fill-rule=\"evenodd\" d=\"M5 1.75C5 .784 5.784 0 6.75 0h7.5C15.216 0 16 .784 16 1.75v7.5A1.75 1.75 0 0114.25 11h-7.5A1.75 1.75 0 015 9.25v-7.5zm1.75-.25a.25.25 0 00-.25.25v7.5c0 .138.112.25.25.25h7.5a.25.25 0 00.25-.25v-7.5a.25.25 0 00-.25-.25h-7.5z\"&gt;&lt;/path&gt;\\n&lt;/svg&gt;\\n      &lt;svg aria-hidden=\"true\" height=\"16\" viewBox=\"0 0 16 16\" version=\"1.1\" width=\"16\" data-view-component=\"true\" class=\"octicon octicon-check js-clipboard-check-icon color-fg-success d-none m-2\"&gt;\\n    &lt;path fill-rule=\"evenodd\" d=\"M13.78 4.22a.75.75 0 010 1.06l-7.25 7.25a.75.75 0 01-1.06 0L2.22 9.28a.75.75 0 011.06-1.06L6 10.94l6.72-6.72a.75.75 0 011.06 0z\"&gt;&lt;/path&gt;\\n&lt;/svg&gt;\\n    &lt;/clipboard-copy&gt;\\n  &lt;/div&gt;\\n&lt;/template&gt;\\n\\n\\n\\n\\n  &lt;/body&gt;\\n&lt;/html&gt;\\n\\n</th>\n",
       "    </tr>\n",
       "  </thead>\n",
       "  <tbody>\n",
       "  </tbody>\n",
       "</table>\n",
       "<p>0 rows × 625 columns</p>\n",
       "</div>"
      ],
      "text/plain": [
       "Empty DataFrame\n",
       "Columns: [\n",
       "\n",
       "\n",
       "\n",
       "\n",
       "\n",
       "\n",
       "<!DOCTYPE html>\n",
       "<html lang=\"en\" data-color-mode=\"auto\" data-light-theme=\"light\" data-dark-theme=\"dark\" data-a11y-animated-images=\"system\">\n",
       "  <head>\n",
       "    <meta charset=\"utf-8\">\n",
       "  <link rel=\"dns-prefetch\" href=\"https://github.githubassets.com\">\n",
       "  <link rel=\"dns-prefetch\" href=\"https://avatars.githubusercontent.com\">\n",
       "  <link rel=\"dns-prefetch\" href=\"https://github-cloud.s3.amazonaws.com\">\n",
       "  <link rel=\"dns-prefetch\" href=\"https://user-images.githubusercontent.com/\">\n",
       "  <link rel=\"preconnect\" href=\"https://github.githubassets.com\" crossorigin>\n",
       "  <link rel=\"preconnect\" href=\"https://avatars.githubusercontent.com\">\n",
       "\n",
       "\n",
       "\n",
       "  <link crossorigin=\"anonymous\" media=\"all\" rel=\"stylesheet\" href=\"https://github.githubassets.com/assets/light-5178aee0ee76.css\" /><link crossorigin=\"anonymous\" media=\"all\" rel=\"stylesheet\" href=\"https://github.githubassets.com/assets/dark-217d4f9c8e70.css\" /><link data-color-theme=\"dark_dimmed\" crossorigin=\"anonymous\" media=\"all\" rel=\"stylesheet\" data-href=\"https://github.githubassets.com/assets/dark_dimmed-0adfa28f0e68.css\" /><link data-color-theme=\"dark_high_contrast\" crossorigin=\"anonymous\" media=\"all\" rel=\"stylesheet\" data-href=\"https://github.githubassets.com/assets/dark_high_contrast-1c8575b36644.css\" /><link data-color-theme=\"dark_colorblind\" crossorigin=\"anonymous\" media=\"all\" rel=\"stylesheet\" data-href=\"https://github.githubassets.com/assets/dark_colorblind-5113d2be20b0.css\" /><link data-color-theme=\"light_colorblind\" crossorigin=\"anonymous\" media=\"all\" rel=\"stylesheet\" data-href=\"https://github.githubassets.com/assets/light_colorblind-c96add742484.css\" /><link data-color-theme=\"light_high_contrast\" crossorigin=\"anonymous\" media=\"all\" rel=\"stylesheet\" data-href=\"https://github.githubassets.com/assets/light_high_contrast-290f92f5e867.css\" /><link data-color-theme=\"light_tritanopia\" crossorigin=\"anonymous\" media=\"all\" rel=\"stylesheet\" data-href=\"https://github.githubassets.com/assets/light_tritanopia-cdd88f146bf7.css\" /><link data-color-theme=\"dark_tritanopia\" crossorigin=\"anonymous\" media=\"all\" rel=\"stylesheet\" data-href=\"https://github.githubassets.com/assets/dark_tritanopia-2171ea0f078b.css\" />\n",
       "  \n",
       "    <link crossorigin=\"anonymous\" media=\"all\" rel=\"stylesheet\" href=\"https://github.githubassets.com/assets/primer-0e158a2f5ddd.css\" />\n",
       "    <link crossorigin=\"anonymous\" media=\"all\" rel=\"stylesheet\" href=\"https://github.githubassets.com/assets/global-bec0587a3deb.css\" />\n",
       "    <link crossorigin=\"anonymous\" media=\"all\" rel=\"stylesheet\" href=\"https://github.githubassets.com/assets/github-fb643df33dec.css\" />\n",
       "  <link crossorigin=\"anonymous\" media=\"all\" rel=\"stylesheet\" href=\"https://github.githubassets.com/assets/code-3d7b701fc6eb.css\" />\n",
       "\n",
       "    <meta name=\"optimizely-datafile\" content=\"{&quot;groups&quot;: [],  &quot;environmentKey&quot;: &quot;production&quot;,  &quot;rollouts&quot;: [],  &quot;typedAudiences&quot;: [],  &quot;projectId&quot;: &quot;16737760170&quot;,  &quot;variables&quot;: [],  &quot;featureFlags&quot;: [],  &quot;experiments&quot;: [{&quot;status&quot;: &quot;Running&quot;,  &quot;audienceIds&quot;: [],  &quot;variations&quot;: [{&quot;variables&quot;: [],  &quot;id&quot;: &quot;21427950901&quot;,  &quot;key&quot;: &quot;control&quot;},  {&quot;variables&quot;: [],  &quot;id&quot;: &quot;21429710665&quot;,  &quot;key&quot;: &quot;beginner&quot;},  {&quot;variables&quot;: [].1,  &quot;id&quot;: &quot;21437291543&quot;,  &quot;key&quot;: &quot;upstart&quot;}],  &quot;id&quot;: &quot;21445030708&quot;,  &quot;key&quot;: &quot;_259_zero_user_dashboard&quot;,  &quot;layerId&quot;: &quot;21434011841&quot;,  &quot;trafficAllocation&quot;: [{&quot;entityId&quot;: &quot;21427950901&quot;,  &quot;endOfRange&quot;: 3334},  {&quot;entityId&quot;: &quot;21427950901&quot;,  &quot;endOfRange&quot;: 5000},  {&quot;entityId&quot;: &quot;21427950901&quot;.1,  &quot;endOfRange&quot;: 8333},  {&quot;entityId&quot;: &quot;21427950901&quot;.2,  &quot;endOfRange&quot;: 10000}],  &quot;forcedVariations&quot;: {&quot;3c64268131793aa297119a343c19e345&quot;: &quot;beginner&quot;,  &quot;95b24126db31ea8693c0fe5ea9f53b65&quot;: &quot;beginner&quot;,  &quot;086e2abe64e9101112af53b95d2d90b9&quot;: &quot;upstart&quot;,  &quot;bae688df9d297afac98e2d254e912ada&quot;: &quot;control&quot;,  &quot;6c2cfda7c41396fcc31a4db759a42b94&quot;: &quot;beginner&quot;,  &quot;16ed2b4ff7de02663b7c606309695916&quot;: &quot;control&quot;,  &quot;1971768911.1635962195&quot;: &quot;beginner&quot;,  &quot;830bf802470ec6c9c5800c99d8e57445&quot;: &quot;beginner&quot;}},  {&quot;status&quot;: &quot;Running&quot;,  &quot;audienceIds&quot;: [].1,  &quot;variations&quot;: [{&quot;variables&quot;: [].1,  &quot;id&quot;: &quot;21540260416&quot;,  &quot;key&quot;: &quot;variant_fetch_upstream&quot;},  {&quot;variables&quot;: [].2,  &quot;id&quot;: &quot;21551370594&quot;,  &quot;key&quot;: &quot;variant_sync_fork&quot;}],  &quot;id&quot;: &quot;21532540507&quot;,  &quot;key&quot;: &quot;fork_syncing&quot;,  &quot;layerId&quot;: &quot;21510660568&quot;,  &quot;trafficAllocation&quot;: [{&quot;entityId&quot;: &quot;21551370594&quot;,  &quot;endOfRange&quot;: 5000}.1,  {&quot;entityId&quot;: &quot;21551370594&quot;,  &quot;endOfRange&quot;: 10000}].1,  &quot;forcedVariations&quot;: {&quot;bcceffdcc63834cc146ddb8cce0c556d&quot;: &quot;variant_sync_fork&quot;,  &quot;0bd228f43ec6ac1a9eb9087f4e2471e6&quot;: &quot;variant_sync_fork&quot;,  &quot;404ee4d837b290b3089170d9226758ea&quot;: &quot;variant_sync_fork&quot;}},  {&quot;status&quot;: &quot;Running&quot;.1,  &quot;audienceIds&quot;: [].2,  &quot;variations&quot;: [{&quot;variables&quot;: [].2,  &quot;id&quot;: &quot;21571560628&quot;,  &quot;key&quot;: &quot;control&quot;}.1,  {&quot;variables&quot;: [].3,  &quot;id&quot;: &quot;21560360470&quot;,  &quot;key&quot;: &quot;separate&quot;}],  &quot;id&quot;: &quot;21581240400&quot;,  &quot;key&quot;: &quot;_272_zero_user_dashboard_separate&quot;,  &quot;layerId&quot;: &quot;21533861783&quot;,  &quot;trafficAllocation&quot;: [{&quot;entityId&quot;: &quot;21560360470&quot;,  &quot;endOfRange&quot;: 5000}.2,  {&quot;entityId&quot;: &quot;21571560628&quot;,  &quot;endOfRange&quot;: 10000}].2,  &quot;forcedVariations&quot;: {&quot;84527259280cd047a161abdd9cc3e28d&quot;: &quot;separate&quot;,  &quot;ae666882652d9718723c13fda7007b3a&quot;: &quot;separate&quot;}}],  &quot;version&quot;: &quot;4&quot;,  &quot;audiences&quot;: [{&quot;conditions&quot;: &quot;[\\&quot;or\\&quot;,  {\\&quot;match\\&quot;: \\&quot;exact\\&quot;,  \\&quot;name\\&quot;: \\&quot;$opt_dummy_attribute\\&quot;,  \\&quot;type\\&quot;: \\&quot;custom_attribute\\&quot;,  \\&quot;value\\&quot;: \\&quot;$opt_dummy_value\\&quot;}]&quot;,  &quot;id&quot;: &quot;$opt_dummy_audience&quot;,  &quot;name&quot;: &quot;Optimizely-Generated Audience for Backwards Compatibility&quot;}],  &quot;anonymizeIP&quot;: true,  &quot;sdkKey&quot;: &quot;WTc6awnGuYDdG98CYRban&quot;,  &quot;attributes&quot;: [{&quot;id&quot;: &quot;16822470375&quot;,  &quot;key&quot;: &quot;user_id&quot;},  {&quot;id&quot;: &quot;17143601254&quot;,  &quot;key&quot;: &quot;spammy&quot;},  {&quot;id&quot;: &quot;18175660309&quot;,  &quot;key&quot;: &quot;organization_plan&quot;},  {&quot;id&quot;: &quot;18813001570&quot;,  &quot;key&quot;: &quot;is_logged_in&quot;},  {&quot;id&quot;: &quot;19073851829&quot;,  &quot;key&quot;: &quot;geo&quot;},  {&quot;id&quot;: &quot;20175462351&quot;,  &quot;key&quot;: &quot;requestedCurrency&quot;},  {&quot;id&quot;: &quot;20785470195&quot;,  &quot;key&quot;: &quot;country_code&quot;},  {&quot;id&quot;: &quot;21656311196&quot;,  &quot;key&quot;: &quot;opened_downgrade_dialog&quot;}],  &quot;botFiltering&quot;: false,  &quot;accountId&quot;: &quot;16737760170&quot;, ...]\n",
       "Index: []\n",
       "\n",
       "[0 rows x 625 columns]"
      ]
     },
     "execution_count": 30,
     "metadata": {},
     "output_type": "execute_result"
    }
   ],
   "source": [
    "Q=pd.read_csv(\"https://github.com/edieraristizabal/MachineLearning/blob/master/data/CaudalHorario.csv\", lineterminator='\\r', error_bad_lines=False)\n",
    "Q.head()"
   ]
  }
 ],
 "metadata": {
  "colab": {
   "collapsed_sections": [],
   "provenance": []
  },
  "kernelspec": {
   "display_name": "ml",
   "language": "python",
   "name": "ml"
  },
  "language_info": {
   "codemirror_mode": {
    "name": "ipython",
    "version": 3
   },
   "file_extension": ".py",
   "mimetype": "text/x-python",
   "name": "python",
   "nbconvert_exporter": "python",
   "pygments_lexer": "ipython3",
   "version": "3.10.4"
  },
  "vscode": {
   "interpreter": {
    "hash": "81794d4967e6c3204c66dcd87b604927b115b27c00565d3d43f05ba2f3a2cb0d"
   }
  }
 },
 "nbformat": 4,
 "nbformat_minor": 4
}
