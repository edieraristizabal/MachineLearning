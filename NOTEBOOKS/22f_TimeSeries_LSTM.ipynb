{
 "cells": [
  {
   "cell_type": "markdown",
   "metadata": {
    "id": "02p0nOTdq7u5"
   },
   "source": [
    "**CURSO**: *Machine Learning* en Geociencias<br />\n",
    "**Profesor**: Edier Aristizábal (evaristizabalg@unal.edu.co) <br />\n",
    "**Credits**: The content of this notebook is taken from several sources: Soner Yıldırım, Bex T, Manuel Hupperich, Youssef Hosni and Piero Paialunga en www.towardsdatascience.com. Every effort has been made to trace copyright holders of the materials used in this book. The author apologies for any unintentional omissions and would be pleased to add an acknowledgment in future editions."
   ]
  },
  {
   "cell_type": "markdown",
   "metadata": {
    "id": "FAnf9eTFq7u9"
   },
   "source": [
    "# Time Series Analysis: LSTM"
   ]
  },
  {
   "cell_type": "markdown",
   "metadata": {
    "id": "sSqT36tJq7u-"
   },
   "source": [
    "Long Short Term Memory or LSTM is a type of Neural Network, which was developed on the basis provided by the Recurrent Neural Networks, or RNN. The algorithms main usage falls into NLPs or Time Series, and the main idea behind it relates to processing the information they receive from the previous neuron and applying the activation function from scratch (as the CNN/RNN do), they actually divide the neuron into three main parts from which to set up the input from the next layer of neurons: Learn, Unlearn and Retain gate. The structure of the LSTM layer can be visualized in the image below:\n",
    "\n",
    "![LSTM](https://miro.medium.com/max/700/0*RkFisWmsLWtGCByq.png)\n",
    "\n",
    "#### Parameters for the LSTM\n",
    "* PERCENTAGE = .98 #Split train/val and test set\n",
    "* CALLBACK = .031 #Used to stop training the Network when the MAE from the validation set reached a perormance below 3.1%\n",
    "* BATCH_SIZE = 20 #Number of samples that will be propagated through the network. I chose almost a trading month\n",
    "* EPOCH = 50 #Settled to train the model\n",
    "* WINDOW_LSTM = 30 #The window used for the input data\n",
    "* PREDICTION_SCOPE = 0 #How many period to predict, being 0=1"
   ]
  },
  {
   "cell_type": "code",
   "execution_count": 2,
   "metadata": {},
   "outputs": [],
   "source": [
    "import keras\n",
    "import pandas as pd\n",
    "from matplotlib import pyplot as plt\n",
    "from sklearn.model_selection import TimeSeriesSplit\n",
    "from sklearn.preprocessing import MinMaxScaler\n",
    "from keras.models import Sequential\n",
    "from keras.layers import Dense,Dropout\n",
    "#from keras.optimizers import SGD"
   ]
  },
  {
   "cell_type": "code",
   "execution_count": null,
   "metadata": {},
   "outputs": [],
   "source": [
    "Q_SC=pd.read_excel('https://github.com/edieraristizabal/MachineLearning/blob/master/data/CaudalDiario.xlsx?raw=true',sheet_name='Hoja1')\n",
    "#Q=Q_SC[Q_SC['Unnamed: 1']<75]\n",
    "Q.head()"
   ]
  }
 ],
 "metadata": {
  "colab": {
   "collapsed_sections": [],
   "provenance": []
  },
  "kernelspec": {
   "display_name": "ml",
   "language": "python",
   "name": "ml"
  },
  "language_info": {
   "codemirror_mode": {
    "name": "ipython",
    "version": 3
   },
   "file_extension": ".py",
   "mimetype": "text/x-python",
   "name": "python",
   "nbconvert_exporter": "python",
   "pygments_lexer": "ipython3",
   "version": "3.10.4"
  },
  "vscode": {
   "interpreter": {
    "hash": "81794d4967e6c3204c66dcd87b604927b115b27c00565d3d43f05ba2f3a2cb0d"
   }
  }
 },
 "nbformat": 4,
 "nbformat_minor": 4
}
