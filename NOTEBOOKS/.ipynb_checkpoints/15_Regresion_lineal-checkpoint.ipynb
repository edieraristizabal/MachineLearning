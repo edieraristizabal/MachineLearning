{
 "cells": [
  {
   "cell_type": "markdown",
   "metadata": {},
   "source": [
    "CURSO: Análisis Geoespacial (Sem02-2019)                                                                                   \n",
    "Profesor: Edier Aristizábal (evaristizabalg@unal.edu.co)                                                                   \n",
    "Curso website: https://unvirtual.medellin.unal.edu.co/course/view.php?id=579"
   ]
  },
  {
   "cell_type": "markdown",
   "metadata": {},
   "source": [
    "# 15: Regresion Lineal"
   ]
  },
  {
   "cell_type": "markdown",
   "metadata": {},
   "source": [
    "La Regresión Lineal (RL) asume que las variables predictoras tienen una distribución Gaussiana y que no son correlacionables, por lo tanto es impotante en el análisis de datso explorar estas condiciones. Adicionalmente, hay que tener en cuenta que los modelos de RL son modelos geométricos, es decir que se basan en calcular las distancias entre la prediccion y los datos reales, por lo tanto es importante normalizar o estandarizar los datos. "
   ]
  },
  {
   "cell_type": "code",
   "execution_count": null,
   "metadata": {},
   "outputs": [],
   "source": [
    "Para iniciar con la implementación de los modelos RL, primero se importan las librerías a utilizar."
   ]
  },
  {
   "cell_type": "code",
   "execution_count": 15,
   "metadata": {},
   "outputs": [],
   "source": [
    "from sklearn.model_selection import KFold\n",
    "from sklearn.model_selection import cross_val_score\n",
    "from sklearn.model_selection import train_test_split\n",
    "from sklearn.metrics import r2_score, mean_squared_error,mean_absolute_error\n",
    "import matplotlib.pyplot as plt\n",
    "import numpy as np"
   ]
  },
  {
   "cell_type": "markdown",
   "metadata": {},
   "source": [
    "En este Taller utilizaremos la base de datos Boston disponible en la librería Sklearn para problemas de regresión. Por lo tanto la cargamos, separamos en datos de entrenamiento y datos de validación con un 30%, y definimos como variables predictoras *X*, y variable dependiente *y*."
   ]
  },
  {
   "cell_type": "code",
   "execution_count": 5,
   "metadata": {},
   "outputs": [],
   "source": [
    "from sklearn.datasets import load_boston\n",
    "x_train, x_test, y_train, y_test=train_test_split(X, y, test_size=0.3)\n",
    "boston=load_boston()\n",
    "X=boston.data\n",
    "y=boston.target"
   ]
  },
  {
   "cell_type": "markdown",
   "metadata": {},
   "source": [
    "## Metodo OLS de la librería *statsmodels*"
   ]
  },
  {
   "cell_type": "markdown",
   "metadata": {},
   "source": [
    "Aunuqe la librearía mas completa para *machine learning* en Python es Sklearn, existen otras librerías con funciones interesantes, un ejemplo es la librería *statsmodels*. Esta librería permite para los modelos RL obtener un resumen de la implementación del modelo muy útil. A continuación se detalla.\n",
    "\n",
    "Se importa la librearía como *sm*. Para su implementación, a diferencia de Sklearn, se entrena y posteriormente se aplica la función *fit*. \n",
    "\n",
    "Finalmente, podemos imprimir con la función *summary* el resultado de la implementación, con métricas muy importantes que permiten conocer el ajuste a los datos."
   ]
  },
  {
   "cell_type": "code",
   "execution_count": 7,
   "metadata": {},
   "outputs": [
    {
     "name": "stdout",
     "output_type": "stream",
     "text": [
      "                                 OLS Regression Results                                \n",
      "=======================================================================================\n",
      "Dep. Variable:                      y   R-squared (uncentered):                   0.960\n",
      "Model:                            OLS   Adj. R-squared (uncentered):              0.959\n",
      "Method:                 Least Squares   F-statistic:                              633.3\n",
      "Date:                Wed, 27 Nov 2019   Prob (F-statistic):                   9.68e-230\n",
      "Time:                        16:15:39   Log-Likelihood:                         -1062.0\n",
      "No. Observations:                 354   AIC:                                      2150.\n",
      "Df Residuals:                     341   BIC:                                      2200.\n",
      "Df Model:                          13                                                  \n",
      "Covariance Type:            nonrobust                                                  \n",
      "==============================================================================\n",
      "                 coef    std err          t      P>|t|      [0.025      0.975]\n",
      "------------------------------------------------------------------------------\n",
      "x1            -0.0842      0.041     -2.056      0.041      -0.165      -0.004\n",
      "x2             0.0545      0.017      3.240      0.001       0.021       0.088\n",
      "x3            -0.0313      0.076     -0.412      0.680      -0.180       0.118\n",
      "x4             2.9330      1.071      2.740      0.006       0.827       5.039\n",
      "x5            -4.4797      4.020     -1.114      0.266     -12.386       3.427\n",
      "x6             5.8677      0.369     15.887      0.000       5.141       6.594\n",
      "x7            -0.0153      0.017     -0.918      0.359      -0.048       0.017\n",
      "x8            -1.0420      0.225     -4.628      0.000      -1.485      -0.599\n",
      "x9             0.1380      0.078      1.771      0.078      -0.015       0.291\n",
      "x10           -0.0053      0.005     -1.156      0.248      -0.014       0.004\n",
      "x11           -0.4002      0.133     -3.011      0.003      -0.662      -0.139\n",
      "x12            0.0162      0.003      4.770      0.000       0.009       0.023\n",
      "x13           -0.3673      0.065     -5.689      0.000      -0.494      -0.240\n",
      "==============================================================================\n",
      "Omnibus:                      134.752   Durbin-Watson:                   1.955\n",
      "Prob(Omnibus):                  0.000   Jarque-Bera (JB):              826.250\n",
      "Skew:                           1.464   Prob(JB):                    3.82e-180\n",
      "Kurtosis:                       9.888   Cond. No.                     8.52e+03\n",
      "==============================================================================\n",
      "\n",
      "Warnings:\n",
      "[1] Standard Errors assume that the covariance matrix of the errors is correctly specified.\n",
      "[2] The condition number is large, 8.52e+03. This might indicate that there are\n",
      "strong multicollinearity or other numerical problems.\n"
     ]
    }
   ],
   "source": [
    "import statsmodels.api as sm\n",
    "lm=sm.OLS(y_train, x_train).fit()\n",
    "print(lm.summary())"
   ]
  },
  {
   "cell_type": "markdown",
   "metadata": {},
   "source": [
    "Es posible obtener los valores de Y con el modelo entrenado, utilizando los datos de entrenamiento y los datos de validación. Ademas se puede comparar visualmente el ajuste con los datos reales de validación y las predicciones con los datos de validación."
   ]
  },
  {
   "cell_type": "code",
   "execution_count": 20,
   "metadata": {},
   "outputs": [
    {
     "data": {
      "image/png": "[encoded data removed]",
      "text/plain": [
       "<Figure size 432x288 with 1 Axes>"
      ]
     },
     "metadata": {
      "needs_background": "light"
     },
     "output_type": "display_data"
    }
   ],
   "source": [
    "y_train_pred=lm.predict(x_train)\n",
    "y_test_pred=lm.predict(x_test)\n",
    "plt.scatter(y_test,y_test_pred)\n",
    "plt.title('Ajuste');"
   ]
  },
  {
   "cell_type": "markdown",
   "metadata": {},
   "source": [
    "El error residual, es decir la diferencia entre los datos de predicción y los datso reales, se distribuye de la siguiente manera para este ejemplo."
   ]
  },
  {
   "cell_type": "code",
   "execution_count": 28,
   "metadata": {},
   "outputs": [
    {
     "data": {
      "image/png": "[encoded data removed]",
      "text/plain": [
       "<Figure size 432x288 with 1 Axes>"
      ]
     },
     "metadata": {
      "needs_background": "light"
     },
     "output_type": "display_data"
    }
   ],
   "source": [
    "plt.plot(lm.resid,'o')\n",
    "plt.title('Plot error residual')\n",
    "plt.xlabel('Numero de observaciones')\n",
    "plt.ylabel('Error residual');"
   ]
  },
  {
   "cell_type": "markdown",
   "metadata": {},
   "source": [
    "El histograma señala un distribucion parecida a normal, lo cual es importante en lso modelos de RL."
   ]
  },
  {
   "cell_type": "code",
   "execution_count": 31,
   "metadata": {},
   "outputs": [
    {
     "data": {
      "image/png": "[encoded data removed]",
      "text/plain": [
       "<Figure size 432x288 with 1 Axes>"
      ]
     },
     "metadata": {
      "needs_background": "light"
     },
     "output_type": "display_data"
    }
   ],
   "source": [
    "plt.hist(lm.resid, density=True)\n",
    "plt.title('Plot error residual')\n",
    "plt.xlabel('Error residual');"
   ]
  },
  {
   "cell_type": "markdown",
   "metadata": {},
   "source": [
    "A continuación se calcula algunas métricas utilizadas en los problemas de regresión, tanto para los datos de entrenamiento, como para los datos de validación. Lo cual permite observar si el modelo presenta problemas de *Bias* o de *overfitting*."
   ]
  },
  {
   "cell_type": "code",
   "execution_count": 13,
   "metadata": {},
   "outputs": [
    {
     "name": "stdout",
     "output_type": "stream",
     "text": [
      "TRAIN MAE: 3.190239003672459\n",
      "TEST MAE: 3.5275507110072293\n"
     ]
    }
   ],
   "source": [
    "print('TRAIN MAE:',mean_absolute_error(y_train,y_train_pred))\n",
    "print('TEST MAE:',mean_absolute_error(y_test,y_test_pred))"
   ]
  },
  {
   "cell_type": "code",
   "execution_count": 16,
   "metadata": {},
   "outputs": [
    {
     "name": "stdout",
     "output_type": "stream",
     "text": [
      "Train RMSE: 4.859808687822449\n",
      "Test RMSE: 5.119951174205673\n"
     ]
    }
   ],
   "source": [
    "print('Train RMSE:',np.sqrt(mean_squared_error(y_train,y_train_pred)))\n",
    "print('Test RMSE:',np.sqrt(mean_squared_error(y_test,y_test_pred)))"
   ]
  },
  {
   "cell_type": "code",
   "execution_count": null,
   "metadata": {},
   "outputs": [],
   "source": [
    "print('R2 Train:',lm.rsquared(y_train,y_train_pred))\n",
    "print('R2 Test:',lm.rsquared(y_test,y_test_pred))"
   ]
  },
  {
   "cell_type": "markdown",
   "metadata": {},
   "source": [
    "## Regresión Lineal con Sklearn"
   ]
  },
  {
   "cell_type": "markdown",
   "metadata": {},
   "source": [
    "Para implementar los problemas de RL con Sklearn se utiliza el siguiente procedimiento."
   ]
  },
  {
   "cell_type": "code",
   "execution_count": null,
   "metadata": {},
   "outputs": [],
   "source": [
    "from sklearn.linear_model import LinearRegression"
   ]
  },
  {
   "cell_type": "markdown",
   "metadata": {},
   "source": [
    "Se instancia el modelo a utilizar, en este caso *LinearRegression* se ajusta a los datos, y finalmente se aplica a los datos de validación para la predicción y conocer el ajuste. Como resultados se pueden obtener el intercepto y los coeficientes de cada variable predictora."
   ]
  },
  {
   "cell_type": "code",
   "execution_count": 51,
   "metadata": {},
   "outputs": [
    {
     "name": "stdout",
     "output_type": "stream",
     "text": [
      "Intercepto: 34.33409594393511\n",
      "Coeficientes: [-9.41252682e-02  5.72941297e-02 -1.17959446e-03  2.75352371e+00\n",
      " -1.89792057e+01  3.85440454e+00 -5.66414331e-03 -1.54908014e+00\n",
      "  2.54555049e-01 -7.83084350e-03 -8.93916242e-01  1.03079632e-02\n",
      " -4.83491114e-01]\n"
     ]
    }
   ],
   "source": [
    "model = LinearRegression()\n",
    "model.fit(x_train,y_train)\n",
    "y_pred = model.predict(x_test)\n",
    "print('Intercepto:',model.intercept_)\n",
    "print('Coeficientes:',model.coef_)"
   ]
  },
  {
   "cell_type": "markdown",
   "metadata": {},
   "source": [
    "Algunas métricas que se pueden implementar desde *Sklearn* son:"
   ]
  },
  {
   "cell_type": "code",
   "execution_count": 52,
   "metadata": {},
   "outputs": [
    {
     "name": "stdout",
     "output_type": "stream",
     "text": [
      "R2: 0.7634955906523349\n",
      "R2: 0.7634955906523349\n",
      "MSE: 23.534284246784058\n",
      "MAE: 3.4467610795433186\n"
     ]
    }
   ],
   "source": [
    "print('R2:',model.score(x_test,y_test))\n",
    "print('R2:',r2_score(y_test,y_pred))\n",
    "print('MSE:',mean_squared_error(y_test,y_pred))\n",
    "print('MAE:',mean_absolute_error(y_test,y_pred))"
   ]
  },
  {
   "cell_type": "markdown",
   "metadata": {},
   "source": [
    "También se puede obtener el ajuste visual."
   ]
  },
  {
   "cell_type": "code",
   "execution_count": 20,
   "metadata": {},
   "outputs": [
    {
     "data": {
      "image/png": "[encoded data removed]",
      "text/plain": [
       "<matplotlib.figure.Figure at 0x1aa6453a438>"
      ]
     },
     "metadata": {
      "needs_background": "light"
     },
     "output_type": "display_data"
    }
   ],
   "source": [
    "plt.scatter(y_test,y_pred);"
   ]
  },
  {
   "cell_type": "markdown",
   "metadata": {},
   "source": [
    "Con los datos de entrenamiento se puede implementar el *cross validation* y conocer el ajuste del modelo y su varianza."
   ]
  },
  {
   "cell_type": "code",
   "execution_count": 53,
   "metadata": {},
   "outputs": [
    {
     "name": "stdout",
     "output_type": "stream",
     "text": [
      "[ 0.63919994  0.71386698  0.58702344  0.07923081 -0.25294154]\n",
      "0.35327592439588124\n"
     ]
    }
   ],
   "source": [
    "kfold = KFold(n_splits=5, random_state=7)\n",
    "results = cross_val_score(model, X_train, y_train, cv=kfold, scoring='r2')\n",
    "print(results)\n",
    "print(results.mean())"
   ]
  },
  {
   "cell_type": "markdown",
   "metadata": {},
   "source": [
    "Se obtiene como promedio un valor muy bajor, pero es debido a su gran dispersión. Lo cual se puede observar cuando se modifica el número de *split*."
   ]
  },
  {
   "cell_type": "code",
   "execution_count": 54,
   "metadata": {
    "scrolled": true
   },
   "outputs": [
    {
     "name": "stdout",
     "output_type": "stream",
     "text": [
      "[ 0.73376082  0.4730725  -1.00631454  0.64113984  0.54766046  0.73640292\n",
      "  0.37828386 -0.12922703 -0.76843243  0.4189435 ]\n",
      "0.2025289900605492\n"
     ]
    }
   ],
   "source": [
    "kfold = KFold(n_splits=10, random_state=7)\n",
    "results = cross_val_score(model, X, y, cv=kfold, scoring='r2')\n",
    "print(results)\n",
    "print(results.mean())"
   ]
  },
  {
   "cell_type": "markdown",
   "metadata": {},
   "source": [
    "A continuación se presentan los dos modelos de RL con penalización mas conocidos, denominados LAsso (L1) y Ridge (L2)."
   ]
  },
  {
   "cell_type": "markdown",
   "metadata": {},
   "source": [
    "### Ridge Regression\n",
    "A continuación se implementa el modelo *ridge* utilizando la separación simple *train_test* y el *cross validation* para observar la diferencia de resultados entre los coeficientes y el ajuste con la RL normal y *lasso*. En todos estos casos se utiliza por defecto un valor de *lambda* = 1. Los modelso de RL normal corresponde a cualquiera de los dos métodos, pero con un valor de *lambda*=0. Utilizando la curva de validación se puede obtener el valor óptimo que mejora el ajuste del modelo."
   ]
  },
  {
   "cell_type": "code",
   "execution_count": 60,
   "metadata": {},
   "outputs": [],
   "source": [
    "from sklearn.linear_model import Ridge\n",
    "model = Ridge()"
   ]
  },
  {
   "cell_type": "code",
   "execution_count": 61,
   "metadata": {},
   "outputs": [
    {
     "name": "stdout",
     "output_type": "stream",
     "text": [
      "Intercepto: 28.0262752082101\n",
      "Coeficientes: [-8.97936349e-02  5.79959042e-02 -3.81952780e-02  2.59403049e+00\n",
      " -9.74745413e+00  3.90387030e+00 -1.43145582e-02 -1.41260458e+00\n",
      "  2.35286370e-01 -8.70813283e-03 -7.99505049e-01  1.09316575e-02\n",
      " -4.89264002e-01]\n",
      "R2: 0.7628736799283028\n"
     ]
    }
   ],
   "source": [
    "model.fit(x_train,y_train)\n",
    "y_pred = model.predict(x_test)\n",
    "print('Intercepto:',model.intercept_)\n",
    "print('Coeficientes:',model.coef_)\n",
    "print('R2:',r2_score(y_test,y_pred))"
   ]
  },
  {
   "cell_type": "code",
   "execution_count": 62,
   "metadata": {},
   "outputs": [
    {
     "name": "stdout",
     "output_type": "stream",
     "text": [
      "[ 0.66089569  0.74094893  0.62923672  0.08530169 -0.17029513]\n",
      "0.38921758241023985\n"
     ]
    }
   ],
   "source": [
    "kfold = KFold(n_splits=5, random_state=1)\n",
    "results = cross_val_score(model, X, y, cv=kfold, scoring='r2')\n",
    "print(results)\n",
    "print(results.mean())"
   ]
  },
  {
   "cell_type": "markdown",
   "metadata": {},
   "source": [
    "Se observa un mayor ajuste con la separación simple, pero existe una gran varianza en los datos."
   ]
  },
  {
   "cell_type": "markdown",
   "metadata": {},
   "source": [
    "### LASSO Regression\n",
    "De forma similar se implementa el RL tipo *lasso*."
   ]
  },
  {
   "cell_type": "code",
   "execution_count": 63,
   "metadata": {},
   "outputs": [],
   "source": [
    "from sklearn.linear_model import Lasso\n",
    "model = Lasso()"
   ]
  },
  {
   "cell_type": "code",
   "execution_count": 65,
   "metadata": {},
   "outputs": [
    {
     "name": "stdout",
     "output_type": "stream",
     "text": [
      "Intercepto: 38.202168185895495\n",
      "Coeficientes: [-0.03790178  0.0608616  -0.0045888   0.         -0.          1.007868\n",
      "  0.01097365 -0.78931757  0.21562959 -0.0116075  -0.63992023  0.00979854\n",
      " -0.73309521]\n",
      "R2: 0.715480373563341\n"
     ]
    }
   ],
   "source": [
    "model.fit(x_train,y_train)\n",
    "y_pred = model.predict(x_test)\n",
    "print('Intercepto:',model.intercept_)\n",
    "print('Coeficientes:',model.coef_)\n",
    "print('R2:',r2_score(y_test,y_pred))"
   ]
  },
  {
   "cell_type": "code",
   "execution_count": 64,
   "metadata": {},
   "outputs": [
    {
     "name": "stdout",
     "output_type": "stream",
     "text": [
      "[0.56156843 0.63385562 0.33456629 0.35466066 0.27459294]\n",
      "0.431848787926522\n"
     ]
    }
   ],
   "source": [
    "kfold = KFold(n_splits=5, random_state=1)\n",
    "results = cross_val_score(model, X, y, cv=kfold, scoring='r2')\n",
    "print(results)\n",
    "print(results.mean())"
   ]
  },
  {
   "cell_type": "markdown",
   "metadata": {},
   "source": [
    "Similares resultados en términos de varianza para el modelo *lasso*, sin embargo se observa un valor mayor de ajuste para la *cross validation*. en este aso es muy importante elaborar la curva de entrenamiento y entender como el modelo aprende de acuerdo con los datos."
   ]
  }
 ],
 "metadata": {
  "kernelspec": {
   "display_name": "Python 3",
   "language": "python",
   "name": "python3"
  },
  "language_info": {
   "codemirror_mode": {
    "name": "ipython",
    "version": 3
   },
   "file_extension": ".py",
   "mimetype": "text/x-python",
   "name": "python",
   "nbconvert_exporter": "python",
   "pygments_lexer": "ipython3",
   "version": "3.7.4"
  },
  "toc": {
   "base_numbering": 1,
   "nav_menu": {},
   "number_sections": true,
   "sideBar": true,
   "skip_h1_title": false,
   "title_cell": "Table of Contents",
   "title_sidebar": "Contents",
   "toc_cell": false,
   "toc_position": {},
   "toc_section_display": true,
   "toc_window_display": false
  }
 },
 "nbformat": 4,
 "nbformat_minor": 4
}
