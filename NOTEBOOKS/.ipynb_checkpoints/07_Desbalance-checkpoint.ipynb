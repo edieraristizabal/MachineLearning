{
 "cells": [
  {
   "cell_type": "markdown",
   "metadata": {},
   "source": [
    "CURSO: Análisis Geoespacial (Sem02-2019)  \n",
    "Profesor: Edier Aristizábal (evaristizabalg@unal.edu.co)  \n",
    "Curso website: https://unvirtual.medellin.unal.edu.co/course/view.php?id=579"
   ]
  },
  {
   "cell_type": "markdown",
   "metadata": {},
   "source": [
    "# 10: Datos desbalanceados"
   ]
  },
  {
   "cell_type": "markdown",
   "metadata": {},
   "source": [
    "Inicialmente se importan las librarías a utilizar"
   ]
  },
  {
   "cell_type": "code",
   "execution_count": 26,
   "metadata": {},
   "outputs": [],
   "source": [
    "import pandas as pd\n",
    "import matplotlib.pyplot as plt\n",
    "import numpy as np\n",
    "from osgeo import gdal\n",
    "from pandas import DataFrame\n",
    "from sklearn.model_selection import cross_val_score\n",
    "from sklearn.metrics import confusion_matrix\n",
    "import warnings\n",
    "warnings.simplefilter(\"ignore\")"
   ]
  },
  {
   "cell_type": "markdown",
   "metadata": {},
   "source": [
    "En este caso vamos a importar los datos y crear el dataframe para un problema de clasificación para evaluar la susceptibilidad por movimientos en masa."
   ]
  },
  {
   "cell_type": "code",
   "execution_count": 16,
   "metadata": {},
   "outputs": [],
   "source": [
    "driver = gdal.GetDriverByName('GTiff')\n",
    "file = gdal.Open('G:/My Drive/ANALISIS ESPACIAL APLICADO/datos/raster/slope_rad')\n",
    "pendiente = file.GetRasterBand(1)\n",
    "pendiente = pendiente.ReadAsArray()\n",
    "pendiente=np.where(pendiente==-3.4028234663852886e+38,np.nan,pendiente)\n",
    "pendiente=pendiente*180/np.pi\n",
    "pendiente_vector=pendiente.ravel()\n",
    "pendiente_vector2=np.nan_to_num(pendiente_vector)\n",
    "pendiente_vector_MenM=pendiente_vector[~np.isnan(pendiente_vector)] # para eliminar  del vector los datos inf\n",
    "\n",
    "raster = gdal.Open('G:/My Drive/ANALISIS ESPACIAL APLICADO/datos/raster/curvatura')\n",
    "curvatura=raster.GetRasterBand(1)\n",
    "curvatura=curvatura.ReadAsArray()\n",
    "curvatura=np.where(curvatura==-3.4028234663852886e+38,np.nan,curvatura)\n",
    "curvatura_vector=curvatura.ravel()\n",
    "curvatura_vector2=np.nan_to_num(curvatura_vector)\n",
    "curvatura_vector_MenM=curvatura_vector[~np.isnan(curvatura_vector)]\n",
    "\n",
    "raster = gdal.Open('G:/My Drive/ANALISIS ESPACIAL APLICADO/datos/raster/aspecto')\n",
    "aspecto=raster.GetRasterBand(1)\n",
    "aspecto=aspecto.ReadAsArray()\n",
    "aspecto=np.where(aspecto==-3.4028234663852886e+38,np.nan,aspecto)\n",
    "aspecto_vector=aspecto.ravel()\n",
    "aspecto_vector2=np.nan_to_num(aspecto_vector)\n",
    "aspecto_vector_MenM=aspecto_vector[~np.isnan(aspecto_vector)]\n",
    "\n",
    "raster = gdal.Open('G:/My Drive/ANALISIS ESPACIAL APLICADO/datos/raster/flowacum_m2')\n",
    "flujo=raster.GetRasterBand(1)\n",
    "flujo=flujo.ReadAsArray()\n",
    "flujo=np.where(flujo==-3.4028234663852886e+38,np.nan,flujo)\n",
    "flujo_vector=flujo.ravel()\n",
    "flujo_vector2=np.nan_to_num(flujo_vector)\n",
    "flujo_vector_MenM=flujo_vector[~np.isnan(flujo_vector)]\n",
    "\n",
    "driver = gdal.GetDriverByName('GTiff')\n",
    "file = gdal.Open('G:/My Drive/ANALISIS ESPACIAL APLICADO/datos/raster/Coberturas_Arenosa.tif')\n",
    "band = file.GetRasterBand(1)\n",
    "coberturas = band.ReadAsArray()\n",
    "coberturas=np.where(coberturas==2147483647,np.nan,coberturas)\n",
    "coberturas_vector=coberturas.ravel()\n",
    "coberturas_vector2=np.nan_to_num(coberturas_vector)\n",
    "coberturas_vector_MenM=coberturas_vector[~np.isnan(coberturas_vector)]\n",
    "\n",
    "cob=np.ndarray.tolist(coberturas_vector_MenM)\n",
    "for i in range(174):\n",
    "    a=np.random.randint(2,4)\n",
    "    cob.append(a)\n",
    "    \n",
    "coberturas_vector_MenM=np.asarray(cob)\n",
    "\n",
    "np.unique(coberturas)\n",
    "\n",
    "raster = gdal.Open('G:/My Drive/ANALISIS ESPACIAL APLICADO/datos/raster/inventario.tif')\n",
    "inventario=raster.GetRasterBand(1)\n",
    "inventario=inventario.ReadAsArray()\n",
    "msk=np.where(pendiente>=0,1,np.nan)\n",
    "inventario=msk*inventario\n",
    "inventario=np.where(inventario==1,0,inventario)\n",
    "inventario=np.where(inventario==2,1,inventario)\n",
    "inventario_vector=inventario.ravel()\n",
    "inventario_vector_MenM=inventario_vector[~np.isnan(inventario_vector)]"
   ]
  },
  {
   "cell_type": "code",
   "execution_count": 13,
   "metadata": {
    "scrolled": true
   },
   "outputs": [
    {
     "name": "stdout",
     "output_type": "stream",
     "text": [
      "['cobertura', 'pendiente', 'flujo_acum', 'aspecto', 'curvatura']\n"
     ]
    }
   ],
   "source": [
    "d={'inventario':inventario_vector_MenM,'cobertura':coberturas_vector_MenM,'pendiente':pendiente_vector_MenM,'flujo_acum':flujo_vector_MenM,'aspecto':aspecto_vector_MenM,\n",
    "   'curvatura':curvatura_vector_MenM}\n",
    "x = pd.DataFrame(d)\n",
    "X=x.drop(['inventario'],axis=1)\n",
    "y=x['inventario']"
   ]
  },
  {
   "cell_type": "markdown",
   "metadata": {},
   "source": [
    "Con la base de datos de las variables independientes (X) y de la variable dependiente (y), se puede evalaur si estamso ante un problema de datos desbalanceados."
   ]
  },
  {
   "cell_type": "code",
   "execution_count": 4,
   "metadata": {},
   "outputs": [
    {
     "data": {
      "text/plain": [
       "0.0    96429\n",
       "1.0     2631\n",
       "Name: inventario, dtype: int64"
      ]
     },
     "execution_count": 4,
     "metadata": {},
     "output_type": "execute_result"
    }
   ],
   "source": [
    "y.value_counts()"
   ]
  },
  {
   "cell_type": "markdown",
   "metadata": {},
   "source": [
    "La clase con valor 1 solo representa el 2.7% de las observaciones, y precisamente dicha clase, al ser la ocurrencia de movimientos en masa, representa la clase con la mayor relevancia en el entrenamiento.\n",
    "\n",
    "A continuación se utilizará el modelo de regresión logística. Incialmente se utilizarán los datos actuales para conocer el ajuste del modelo ante un entrenamiento con datos desbalanceados."
   ]
  },
  {
   "cell_type": "code",
   "execution_count": null,
   "metadata": {},
   "outputs": [],
   "source": [
    "from sklearn.linear_model import LogisticRegression\n",
    "from sklearn.model_selection import train_test_split"
   ]
  },
  {
   "cell_type": "code",
   "execution_count": 47,
   "metadata": {},
   "outputs": [
    {
     "name": "stdout",
     "output_type": "stream",
     "text": [
      "0.9735369616929169\n"
     ]
    }
   ],
   "source": [
    "# setting up testing and training sets\n",
    "X_train, X_test, y_train, y_test = train_test_split(X, y, test_size=0.3)\n",
    "\n",
    "model=LogisticRegression().fit(X_train,y_train)\n",
    "\n",
    "y_pred=model.predict(X_test)\n",
    "\n",
    "results = cross_val_score(model, X_train, y_train, cv=5, scoring='accuracy')\n",
    "print(results.mean())"
   ]
  },
  {
   "cell_type": "markdown",
   "metadata": {},
   "source": [
    "Se observa una excelente ajuste (*accuracy*) del 97%. Si evaluamos la matriz de confusión:"
   ]
  },
  {
   "cell_type": "code",
   "execution_count": 51,
   "metadata": {},
   "outputs": [
    {
     "data": {
      "image/png": "[encoded data removed]",
      "text/plain": [
       "<matplotlib.figure.Figure at 0x8548f5c0>"
      ]
     },
     "metadata": {
      "needs_background": "light"
     },
     "output_type": "display_data"
    }
   ],
   "source": [
    "matrix = confusion_matrix(y_test, y_pred)\n",
    "import seaborn as sns\n",
    "sns.heatmap(matrix, annot=True, cbar=False, linecolor='black',linewidths=0.7,cmap=plt.cm.Blues)\n",
    "plt.xlabel('Predicted')\n",
    "plt.ylabel('Expected')\n",
    "plt.show()"
   ]
  },
  {
   "cell_type": "markdown",
   "metadata": {},
   "source": [
    "Se observa que el modelo se entrenó muy bien para las celdas de la clase 0, no movimientos en masa, y al ser esta clase la mayoría de celdas pues genera un alto valor de verdaderos negativos, sin embargo no encontró ni una celda de la clase 1, y un número importante de falsos negativos."
   ]
  },
  {
   "cell_type": "markdown",
   "metadata": {},
   "source": [
    "A continuación se utilizará la función *imblearn* para sub-muestrear la clase que tiene mas valores (0)."
   ]
  },
  {
   "cell_type": "code",
   "execution_count": 53,
   "metadata": {},
   "outputs": [
    {
     "name": "stdout",
     "output_type": "stream",
     "text": [
      "0.626158038147139\n"
     ]
    }
   ],
   "source": [
    "from imblearn.under_sampling import RandomUnderSampler\n",
    "rus=RandomUnderSampler(return_indices=True)\n",
    "X_rus,y_rus,id_rus=rus.fit_sample(X_train,y_train)\n",
    "\n",
    "model=LogisticRegression().fit(X_rus,y_rus)\n",
    "y_pred=model.predict(X_test)\n",
    "results = cross_val_score(model, X_rus, y_rus, cv=5, scoring='accuracy')\n",
    "print(results.mean())"
   ]
  },
  {
   "cell_type": "markdown",
   "metadata": {},
   "source": [
    "Como se observa, se reduce considerablemente el *accuracy* del modelo. En cuanto a la matriz de confusión:"
   ]
  },
  {
   "cell_type": "code",
   "execution_count": null,
   "metadata": {},
   "outputs": [],
   "source": [
    "plt.scatter(X_rus,y_rus)"
   ]
  },
  {
   "cell_type": "code",
   "execution_count": 54,
   "metadata": {},
   "outputs": [
    {
     "data": {
      "image/png": "[encoded data removed]",
      "text/plain": [
       "<matplotlib.figure.Figure at 0x8546ff28>"
      ]
     },
     "metadata": {
      "needs_background": "light"
     },
     "output_type": "display_data"
    }
   ],
   "source": [
    "matrix = confusion_matrix(y_test, y_pred)\n",
    "import seaborn as sns\n",
    "sns.heatmap(matrix, annot=True, cbar=False, linecolor='black',linewidths=0.7,cmap=plt.cm.Blues)\n",
    "plt.xlabel('Predicted')\n",
    "plt.ylabel('Expected')\n",
    "plt.show()"
   ]
  },
  {
   "cell_type": "markdown",
   "metadata": {},
   "source": [
    "Se reducen los verdaderos negativos, pero el modelo ya identifica un número importante de verdaderos positivos (660). Pero genera al mismo tiempo un gran número de falsos positivos, lo cual puede señalar un problema de *bias*"
   ]
  },
  {
   "cell_type": "markdown",
   "metadata": {},
   "source": [
    "A continuación se implementa el mismo modelo de regresión logística, pero con un sobremuestreo de la clase minoritaria."
   ]
  },
  {
   "cell_type": "code",
   "execution_count": 55,
   "metadata": {},
   "outputs": [
    {
     "name": "stdout",
     "output_type": "stream",
     "text": [
      "0.6223576256320804\n"
     ]
    }
   ],
   "source": [
    "from imblearn.over_sampling import RandomOverSampler\n",
    "ros=RandomOverSampler(return_indices=True)\n",
    "X_ros,y_ros,id_ros=ros.fit_sample(X_train,y_train)\n",
    "\n",
    "results = cross_val_score(model, X_ros, y_ros, cv=5, scoring='accuracy')\n",
    "print(results.mean())"
   ]
  },
  {
   "cell_type": "code",
   "execution_count": null,
   "metadata": {},
   "outputs": [],
   "source": [
    "plt.scatter(X_ros,y_ros)"
   ]
  },
  {
   "cell_type": "code",
   "execution_count": 58,
   "metadata": {},
   "outputs": [
    {
     "data": {
      "image/png": "[encoded data removed]",
      "text/plain": [
       "<matplotlib.figure.Figure at 0x83b9d898>"
      ]
     },
     "metadata": {
      "needs_background": "light"
     },
     "output_type": "display_data"
    }
   ],
   "source": [
    "matrix = confusion_matrix(y_test, y_pred)\n",
    "import seaborn as sns\n",
    "sns.heatmap(matrix, annot=True, cbar=False, linecolor='black',linewidths=0.7,cmap=plt.cm.Blues)\n",
    "plt.xlabel('Predicted')\n",
    "plt.ylabel('Expected')\n",
    "plt.show()"
   ]
  },
  {
   "cell_type": "markdown",
   "metadata": {},
   "source": [
    "Se observan resultados similares que el modelo de submuestreo, al igual que el caso siguiente donde se implementa la función *SMOTE*."
   ]
  },
  {
   "cell_type": "code",
   "execution_count": 30,
   "metadata": {},
   "outputs": [
    {
     "name": "stdout",
     "output_type": "stream",
     "text": [
      "0.6419767100928053\n"
     ]
    }
   ],
   "source": [
    "from imblearn.over_sampling import SMOTE\n",
    "\n",
    "sm = SMOTE()\n",
    "X_sm, y_sm = sm.fit_sample(X_train, y_train)\n",
    "\n",
    "model=LogisticRegression().fit(X_sm,y_sm)\n",
    "y_pred=model.predict(X_test)\n",
    "results = cross_val_score(model, X_sm, y_sm, cv=5, scoring='accuracy')\n",
    "print(results.mean())"
   ]
  },
  {
   "cell_type": "code",
   "execution_count": 31,
   "metadata": {},
   "outputs": [
    {
     "name": "stdout",
     "output_type": "stream",
     "text": [
      "[[10131 18794]\n",
      " [   65   728]]\n"
     ]
    }
   ],
   "source": [
    "matrix = confusion_matrix(y_test, y_pred)\n",
    "print(matrix)"
   ]
  }
 ],
 "metadata": {
  "kernelspec": {
   "display_name": "Python 3",
   "language": "python",
   "name": "python3"
  },
  "language_info": {
   "codemirror_mode": {
    "name": "ipython",
    "version": 3
   },
   "file_extension": ".py",
   "mimetype": "text/x-python",
   "name": "python",
   "nbconvert_exporter": "python",
   "pygments_lexer": "ipython3",
   "version": "3.6.8"
  },
  "toc": {
   "base_numbering": 1,
   "nav_menu": {},
   "number_sections": true,
   "sideBar": true,
   "skip_h1_title": false,
   "title_cell": "Table of Contents",
   "title_sidebar": "Contents",
   "toc_cell": false,
   "toc_position": {},
   "toc_section_display": true,
   "toc_window_display": false
  }
 },
 "nbformat": 4,
 "nbformat_minor": 2
}
