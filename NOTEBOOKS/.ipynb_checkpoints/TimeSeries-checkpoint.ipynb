{
 "cells": [
  {
   "cell_type": "markdown",
   "metadata": {},
   "source": [
    "**CURSO**: *Machine Learning* en Geociencias<br />\n",
    "**Profesor**: Edier Aristizábal (evaristizabalg@unal.edu.co) <br />\n",
    "**Credits**: The content of this notebook is taken from several sources: Soner Yıldırım en www.towardsdatascience.com. Every effort has been made to trace copyright holders of the materials used in this book. The author apologies for any unintentional omissions and would be pleased to add an acknowledgment in future editions."
   ]
  },
  {
   "cell_type": "markdown",
   "metadata": {},
   "source": [
    "# Time Series Analysis\n",
    "Time series is a sequence of values ordered in time. In this post, we will create time series data with different patterns. One advantage of synthetic datasets is that we can measure the performance of a model and have an idea about how it will perform with real life data. \n",
    "The common patterns observed in a time series are:\n",
    "\n",
    "* **Trend**: An overall upward or downward direction.\n",
    "* **Seasonality**: Patterns that repeat observed or predictable intervals.\n",
    "* **White noise**: Time series does not always follow a pattern or include seasonality. Some processes produce just random data. This kind of time series is called white noise.\n"
   ]
  },
  {
   "cell_type": "markdown",
   "metadata": {},
   "source": [
    "## Creating Synthetic Datasets"
   ]
  },
  {
   "cell_type": "code",
   "execution_count": null,
   "metadata": {},
   "outputs": [],
   "source": [
    "import numpy as np\n",
    "import matplotlib.pyplot as plt\n",
    "%matplotlib inline"
   ]
  },
  {
   "cell_type": "code",
   "execution_count": null,
   "metadata": {},
   "outputs": [],
   "source": [
    "def plot_time_series(time, values, label):\n",
    "    plt.figure(figsize=(10,6))\n",
    "    plt.plot(time, values)\n",
    "    plt.xlabel(\"Time\", fontsize=20)\n",
    "    plt.ylabel(\"Value\", fontsize=20)\n",
    "    plt.title(label, fontsize=20)\n",
    "    plt.grid(True)"
   ]
  },
  {
   "cell_type": "markdown",
   "metadata": {},
   "source": [
    "## Trend in Time Series\n",
    "A stationary time series is a time series whose statistical properties such as mean and standard deviation does not depend on time."
   ]
  },
  {
   "cell_type": "code",
   "execution_count": null,
   "metadata": {},
   "outputs": [],
   "source": [
    "time = np.arange(100)\n",
    "values = time*0.4\n",
    "plot_time_series(time, values, \"Upward Trend\")"
   ]
  },
  {
   "cell_type": "markdown",
   "metadata": {},
   "source": [
    "## Seasonality in Time Series"
   ]
  },
  {
   "cell_type": "code",
   "execution_count": null,
   "metadata": {},
   "outputs": [],
   "source": [
    "# Just a random pattern\n",
    "time = np.arange(50)\n",
    "values = np.where(time < 10, time**3, (time-9)**2)\n",
    "# Repeat the pattern 5 times\n",
    "seasonal = []\n",
    "for i in range(5):\n",
    "    for j in range(50):\n",
    "        seasonal.append(values[j])\n",
    "# Plot\n",
    "time_seasonal = np.arange(250)\n",
    "plot_time_series(time_seasonal, seasonal, label=\"Seasonality\")"
   ]
  },
  {
   "cell_type": "markdown",
   "metadata": {},
   "source": [
    "## Noise"
   ]
  },
  {
   "cell_type": "code",
   "execution_count": null,
   "metadata": {},
   "outputs": [],
   "source": [
    "noise = np.random.randn(250)*100\n",
    "seasonal += noise\n",
    "time_seasonal = np.arange(250)\n",
    "plot_time_series(time_seasonal, seasonal, label=\"Seasonality with Noise\")"
   ]
  },
  {
   "cell_type": "markdown",
   "metadata": {},
   "source": [
    "## Multiple patterns"
   ]
  },
  {
   "cell_type": "code",
   "execution_count": null,
   "metadata": {},
   "outputs": [],
   "source": [
    "seasonal_upward = seasonal + np.arange(250)*10\n",
    "time_seasonal = np.arange(250)\n",
    "plot_time_series(time_seasonal, seasonal_upward, label=\"Seasonality + Upward Trend + Noise\")"
   ]
  }
 ],
 "metadata": {
  "interpreter": {
   "hash": "4aa0f0252448f276f98bacf045c4d98d0099c60388a409db58673de14f4d557a"
  },
  "kernelspec": {
   "display_name": "Python 3.6.5 ('ml')",
   "language": "python",
   "name": "python3"
  },
  "language_info": {
   "codemirror_mode": {
    "name": "ipython",
    "version": 3
   },
   "file_extension": ".py",
   "mimetype": "text/x-python",
   "name": "python",
   "nbconvert_exporter": "python",
   "pygments_lexer": "ipython3",
   "version": "3.6.5"
  },
  "orig_nbformat": 4
 },
 "nbformat": 4,
 "nbformat_minor": 2
}
