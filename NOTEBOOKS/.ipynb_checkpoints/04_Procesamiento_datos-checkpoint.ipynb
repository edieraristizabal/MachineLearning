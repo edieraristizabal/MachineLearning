{
 "cells": [
  {
   "cell_type": "raw",
   "metadata": {},
   "source": [
    "CURSO: Análisis Geoespacial (Sem02-2019)                                                                    \n",
    "Profesor: Edier Aristizábal (evaristizabalg@unal.edu.co)\n",
    "Curso website: https://unvirtual.medellin.unal.edu.co/course/view.php?id=579"
   ]
  },
  {
   "cell_type": "markdown",
   "metadata": {},
   "source": [
    "# 04: Procesamiento de datos (*Feature Engineering*)"
   ]
  },
  {
   "cell_type": "markdown",
   "metadata": {},
   "source": [
    "Luego de obtener e importar los datos se debe realizar una ardua tarea de limpieza y ajuste de los datos. En esta labor se transforman simples valores y datos crudos en realmente variables (*features*) que puedan permitir construir un modelo. Muchos autores consideran que esta fase corresponde al 80% del tiempo dedicado a *machine learning*, por lo cual los resultados finales obtenidos del modelo dependen en un porcentaje similar a la calidad de los datos y variables que conforman el modelo, que se obtiene como resultado de esta fase."
   ]
  },
  {
   "cell_type": "markdown",
   "metadata": {},
   "source": [
    "Las principales librerias utilizadas para el procesamiento de los datos corresponden a *Pandas* y *Numpy*. Sin embargo existen funciones en otros librerÍas que mas adelante se utilizarán. Por ahora solo importaremos estas dos fundamentales librerias."
   ]
  },
  {
   "cell_type": "code",
   "execution_count": 1,
   "metadata": {
    "collapsed": true,
    "jupyter": {
     "outputs_hidden": true
    }
   },
   "outputs": [],
   "source": [
    "import pandas as pd\n",
    "import numpy as np"
   ]
  },
  {
   "cell_type": "markdown",
   "metadata": {},
   "source": [
    "Para este ejercicio vamos a trabajar con la base de datos de torrencialidad del libro 3."
   ]
  },
  {
   "cell_type": "code",
   "execution_count": 2,
   "metadata": {},
   "outputs": [
    {
     "data": {
      "text/html": [
       "<div>\n",
       "<style scoped>\n",
       "    .dataframe tbody tr th:only-of-type {\n",
       "        vertical-align: middle;\n",
       "    }\n",
       "\n",
       "    .dataframe tbody tr th {\n",
       "        vertical-align: top;\n",
       "    }\n",
       "\n",
       "    .dataframe thead th {\n",
       "        text-align: right;\n",
       "    }\n",
       "</style>\n",
       "<table border=\"1\" class=\"dataframe\">\n",
       "  <thead>\n",
       "    <tr style=\"text-align: right;\">\n",
       "      <th></th>\n",
       "      <th>Unnamed: 0</th>\n",
       "      <th>Name</th>\n",
       "      <th>Color</th>\n",
       "      <th>Main Stream Order</th>\n",
       "      <th>Number of streams</th>\n",
       "      <th>Stream Lenght</th>\n",
       "      <th>Main Stream Leght</th>\n",
       "      <th>Stream Lenght Ratio</th>\n",
       "      <th>Bifurcation Ratio</th>\n",
       "      <th>Ro Coefficient</th>\n",
       "      <th>...</th>\n",
       "      <th>Drainage Intensity</th>\n",
       "      <th>Infiltrarion Number</th>\n",
       "      <th>Leght of overland flow</th>\n",
       "      <th>Relief</th>\n",
       "      <th>Categoria</th>\n",
       "      <th>Relief Ratio</th>\n",
       "      <th>Rudgeness Number</th>\n",
       "      <th>Melton Index</th>\n",
       "      <th>Ln Melton</th>\n",
       "      <th>Flash flood record</th>\n",
       "    </tr>\n",
       "  </thead>\n",
       "  <tbody>\n",
       "    <tr>\n",
       "      <td>0</td>\n",
       "      <td>0</td>\n",
       "      <td>DESMOTADORA (Dabeiba)</td>\n",
       "      <td>amarillo</td>\n",
       "      <td>2.0</td>\n",
       "      <td>3</td>\n",
       "      <td>4.9820</td>\n",
       "      <td>4.048</td>\n",
       "      <td>0.907351</td>\n",
       "      <td>2.00</td>\n",
       "      <td>2.20422</td>\n",
       "      <td>...</td>\n",
       "      <td>0.602168</td>\n",
       "      <td>0.567260</td>\n",
       "      <td>0.515155</td>\n",
       "      <td>1.319</td>\n",
       "      <td>A</td>\n",
       "      <td>0.223408</td>\n",
       "      <td>1.280198</td>\n",
       "      <td>0.582183</td>\n",
       "      <td>-0.540971</td>\n",
       "      <td>Torrencial</td>\n",
       "    </tr>\n",
       "    <tr>\n",
       "      <td>1</td>\n",
       "      <td>1</td>\n",
       "      <td>LA ARBOLEDA (Cdad Bolivar) ¿represamiento?</td>\n",
       "      <td>verde</td>\n",
       "      <td>2.0</td>\n",
       "      <td>3</td>\n",
       "      <td>6.5693</td>\n",
       "      <td>5.997</td>\n",
       "      <td>0.531716</td>\n",
       "      <td>2.00</td>\n",
       "      <td>3.7614</td>\n",
       "      <td>...</td>\n",
       "      <td>0.45667</td>\n",
       "      <td>0.107055</td>\n",
       "      <td>1.032682</td>\n",
       "      <td>1.968</td>\n",
       "      <td>B</td>\n",
       "      <td>0.219618</td>\n",
       "      <td>0.952858</td>\n",
       "      <td>0.534278</td>\n",
       "      <td>-0.626839</td>\n",
       "      <td>Torrencial</td>\n",
       "    </tr>\n",
       "    <tr>\n",
       "      <td>2</td>\n",
       "      <td>2</td>\n",
       "      <td>LIBORIANA (Salgar)</td>\n",
       "      <td>NaN</td>\n",
       "      <td>3.0</td>\n",
       "      <td>12</td>\n",
       "      <td>31.8530</td>\n",
       "      <td>18.117</td>\n",
       "      <td>1.496572</td>\n",
       "      <td>3.25</td>\n",
       "      <td>2.09929</td>\n",
       "      <td>...</td>\n",
       "      <td>0.376731</td>\n",
       "      <td>0.111298</td>\n",
       "      <td>0.919901</td>\n",
       "      <td>2.484</td>\n",
       "      <td>A</td>\n",
       "      <td>0.120483</td>\n",
       "      <td>1.350146</td>\n",
       "      <td>0.324482</td>\n",
       "      <td>-1.125524</td>\n",
       "      <td>Torrencial</td>\n",
       "    </tr>\n",
       "    <tr>\n",
       "      <td>3</td>\n",
       "      <td>3</td>\n",
       "      <td>LA ARENOSA (San Carlos)</td>\n",
       "      <td>amarillo</td>\n",
       "      <td>NaN</td>\n",
       "      <td>31</td>\n",
       "      <td>338.2300</td>\n",
       "      <td>6.152</td>\n",
       "      <td>2.050357</td>\n",
       "      <td>5.00</td>\n",
       "      <td>2.96581</td>\n",
       "      <td>...</td>\n",
       "      <td>1.17162</td>\n",
       "      <td>5.639499</td>\n",
       "      <td>0.227900</td>\n",
       "      <td>0.903</td>\n",
       "      <td>B</td>\n",
       "      <td>0.125434</td>\n",
       "      <td>1.981134</td>\n",
       "      <td>0.260024</td>\n",
       "      <td>-1.346980</td>\n",
       "      <td>Torrencial</td>\n",
       "    </tr>\n",
       "    <tr>\n",
       "      <td>4</td>\n",
       "      <td>4</td>\n",
       "      <td>EL BARRO (Bello)</td>\n",
       "      <td>rojo</td>\n",
       "      <td>NaN</td>\n",
       "      <td>4</td>\n",
       "      <td>10.4070</td>\n",
       "      <td>7.350</td>\n",
       "      <td>5.128386</td>\n",
       "      <td>3.00</td>\n",
       "      <td>0.584979</td>\n",
       "      <td>...</td>\n",
       "      <td>0.384357</td>\n",
       "      <td>0.363731</td>\n",
       "      <td>0.513981</td>\n",
       "      <td>1.299</td>\n",
       "      <td>B</td>\n",
       "      <td>0.136407</td>\n",
       "      <td>1.263665</td>\n",
       "      <td>0.397153</td>\n",
       "      <td>-0.923434</td>\n",
       "      <td>Torrencial</td>\n",
       "    </tr>\n",
       "  </tbody>\n",
       "</table>\n",
       "<p>5 rows × 33 columns</p>\n",
       "</div>"
      ],
      "text/plain": [
       "   Unnamed: 0                                        Name     Color  \\\n",
       "0           0                       DESMOTADORA (Dabeiba)  amarillo   \n",
       "1           1  LA ARBOLEDA (Cdad Bolivar) ¿represamiento?     verde   \n",
       "2           2                          LIBORIANA (Salgar)       NaN   \n",
       "3           3                     LA ARENOSA (San Carlos)  amarillo   \n",
       "4           4                            EL BARRO (Bello)      rojo   \n",
       "\n",
       "   Main Stream Order Number of streams  Stream Lenght  Main Stream Leght   \\\n",
       "0                2.0                 3         4.9820               4.048   \n",
       "1                2.0                 3         6.5693               5.997   \n",
       "2                3.0                12        31.8530              18.117   \n",
       "3                NaN                31       338.2300               6.152   \n",
       "4                NaN                 4        10.4070               7.350   \n",
       "\n",
       "   Stream Lenght Ratio  Bifurcation Ratio  Ro Coefficient  ...  \\\n",
       "0             0.907351                2.00        2.20422  ...   \n",
       "1             0.531716                2.00         3.7614  ...   \n",
       "2             1.496572                3.25        2.09929  ...   \n",
       "3             2.050357                5.00        2.96581  ...   \n",
       "4             5.128386                3.00       0.584979  ...   \n",
       "\n",
       "   Drainage Intensity  Infiltrarion Number  Leght of overland flow  Relief  \\\n",
       "0            0.602168             0.567260                0.515155   1.319   \n",
       "1             0.45667             0.107055                1.032682   1.968   \n",
       "2            0.376731             0.111298                0.919901   2.484   \n",
       "3             1.17162             5.639499                0.227900   0.903   \n",
       "4            0.384357             0.363731                0.513981   1.299   \n",
       "\n",
       "   Categoria  Relief Ratio  Rudgeness Number  Melton Index  Ln Melton  \\\n",
       "0          A      0.223408          1.280198      0.582183  -0.540971   \n",
       "1          B      0.219618          0.952858      0.534278  -0.626839   \n",
       "2          A      0.120483          1.350146      0.324482  -1.125524   \n",
       "3          B      0.125434          1.981134      0.260024  -1.346980   \n",
       "4          B      0.136407          1.263665      0.397153  -0.923434   \n",
       "\n",
       "   Flash flood record  \n",
       "0          Torrencial  \n",
       "1          Torrencial  \n",
       "2          Torrencial  \n",
       "3          Torrencial  \n",
       "4          Torrencial  \n",
       "\n",
       "[5 rows x 33 columns]"
      ]
     },
     "execution_count": 2,
     "metadata": {},
     "output_type": "execute_result"
    }
   ],
   "source": [
    "data= pd.read_excel('G:\\My Drive\\ANALISIS ESPACIAL APLICADO\\datos\\procesamiento_datos.xlsx', sheet_name='Sheet1')\n",
    "data.head(5)"
   ]
  },
  {
   "cell_type": "markdown",
   "metadata": {},
   "source": [
    "Se construye tambien, a partir de la tabla importada, el vector de la variable dependiente (y) y la matriz con las variables independientes (X)."
   ]
  },
  {
   "cell_type": "code",
   "execution_count": 6,
   "metadata": {
    "collapsed": true,
    "jupyter": {
     "outputs_hidden": true
    }
   },
   "outputs": [],
   "source": [
    "X=data.drop(['Name', 'Flash flood record'],axis=1)\n",
    "y=data['Flash flood record']"
   ]
  },
  {
   "cell_type": "markdown",
   "metadata": {},
   "source": [
    "Inicialmente es importante obtener datos generales de la base de datos, tales como el número de variables (columnas) y el número de observaciones (filas) con que se cuenta, utilizando el método *shape*."
   ]
  },
  {
   "cell_type": "code",
   "execution_count": 7,
   "metadata": {},
   "outputs": [
    {
     "data": {
      "text/plain": [
       "(73, 31)"
      ]
     },
     "execution_count": 7,
     "metadata": {},
     "output_type": "execute_result"
    }
   ],
   "source": [
    "X.shape"
   ]
  },
  {
   "cell_type": "markdown",
   "metadata": {},
   "source": [
    "Es importante también conocer el nombre de las variables o columnas, el número de datos no nulos que tiene cada una, y el tipo de datos. Para esto utilizaremos la función *info*."
   ]
  },
  {
   "cell_type": "code",
   "execution_count": 8,
   "metadata": {},
   "outputs": [
    {
     "name": "stdout",
     "output_type": "stream",
     "text": [
      "<class 'pandas.core.frame.DataFrame'>\n",
      "RangeIndex: 73 entries, 0 to 72\n",
      "Data columns (total 31 columns):\n",
      "Unnamed: 0                     73 non-null int64\n",
      "Color                          72 non-null object\n",
      "Main Stream Order              37 non-null float64\n",
      "Number of streams              73 non-null object\n",
      "Stream Lenght                  73 non-null float64\n",
      "Main Stream Leght              68 non-null float64\n",
      "Stream Lenght Ratio            73 non-null float64\n",
      "Bifurcation Ratio              73 non-null float64\n",
      "Ro Coefficient                 72 non-null object\n",
      "Lenght of Basin                73 non-null float64\n",
      "Area                           73 non-null float64\n",
      "Perimeter                      72 non-null float64\n",
      "Form Factor                    72 non-null float64\n",
      "Elongation Ratio               72 non-null float64\n",
      "Circularity Ratio              72 non-null float64\n",
      "Compactness Coefficient        73 non-null float64\n",
      "Texture Ratio                  71 non-null float64\n",
      "Fitness Ratio                  73 non-null float64\n",
      "Wandering ratio                73 non-null float64\n",
      "Stream Frequency               73 non-null float64\n",
      "Drainage Density               71 non-null float64\n",
      "Constant Channel mantenance    73 non-null float64\n",
      "Drainage Intensity             72 non-null object\n",
      "Infiltrarion Number            73 non-null float64\n",
      "Leght of overland flow         73 non-null float64\n",
      "Relief                         73 non-null float64\n",
      "Categoria                      73 non-null object\n",
      "Relief Ratio                   73 non-null float64\n",
      "Rudgeness Number               73 non-null float64\n",
      "Melton Index                   73 non-null float64\n",
      "Ln Melton                      73 non-null float64\n",
      "dtypes: float64(25), int64(1), object(5)\n",
      "memory usage: 17.8+ KB\n"
     ]
    }
   ],
   "source": [
    "X.info()"
   ]
  },
  {
   "cell_type": "markdown",
   "metadata": {},
   "source": [
    "En ocasiones es necesario conocer el número de datos unicos que presenta cada columna, especialmente para variables categóricas, ya que dicho número representa el número de categorias o conjuntos del dominio de dicha variable. A continuación se observa que variables como *color*, las cuales representan un atributo de mi objeto de estudio, tiene solo 4 colores, para la variable categórica se presentan 3 diferentes valores y para la columna final, que representa la variable objetivo, tiene solo dos opciones, es decir que corresponde a una variable dicotómica."
   ]
  },
  {
   "cell_type": "code",
   "execution_count": 9,
   "metadata": {
    "scrolled": true
   },
   "outputs": [
    {
     "data": {
      "text/plain": [
       "Unnamed: 0                     73\n",
       "Color                           3\n",
       "Main Stream Order               3\n",
       "Number of streams              42\n",
       "Stream Lenght                  73\n",
       "Main Stream Leght              67\n",
       "Stream Lenght Ratio            73\n",
       "Bifurcation Ratio              50\n",
       "Ro Coefficient                 72\n",
       "Lenght of Basin                73\n",
       "Area                           73\n",
       "Perimeter                      71\n",
       "Form Factor                    72\n",
       "Elongation Ratio               72\n",
       "Circularity Ratio              72\n",
       "Compactness Coefficient        73\n",
       "Texture Ratio                  71\n",
       "Fitness Ratio                  73\n",
       "Wandering ratio                73\n",
       "Stream Frequency               73\n",
       "Drainage Density               71\n",
       "Constant Channel mantenance    73\n",
       "Drainage Intensity             72\n",
       "Infiltrarion Number            73\n",
       "Leght of overland flow         73\n",
       "Relief                         73\n",
       "Categoria                       3\n",
       "Relief Ratio                   73\n",
       "Rudgeness Number               73\n",
       "Melton Index                   73\n",
       "Ln Melton                      73\n",
       "dtype: int64"
      ]
     },
     "execution_count": 9,
     "metadata": {},
     "output_type": "execute_result"
    }
   ],
   "source": [
    "X.nunique()"
   ]
  },
  {
   "cell_type": "markdown",
   "metadata": {},
   "source": [
    "La función *columns* permite conocer el nombre de cada una de las variables o columnas de mi base de datos. De tal forma que pueda posteriormente llamarla utilizando el nombre adecuado."
   ]
  },
  {
   "cell_type": "code",
   "execution_count": 10,
   "metadata": {},
   "outputs": [
    {
     "data": {
      "text/plain": [
       "Index(['Unnamed: 0', 'Color', 'Main Stream Order', 'Number of streams',\n",
       "       'Stream Lenght', 'Main Stream Leght ', 'Stream Lenght Ratio',\n",
       "       'Bifurcation Ratio ', 'Ro Coefficient', 'Lenght of Basin', 'Area ',\n",
       "       'Perimeter', 'Form Factor', 'Elongation Ratio', 'Circularity Ratio',\n",
       "       'Compactness Coefficient', 'Texture Ratio', 'Fitness Ratio',\n",
       "       'Wandering ratio', 'Stream Frequency', 'Drainage Density',\n",
       "       'Constant Channel mantenance', 'Drainage Intensity',\n",
       "       'Infiltrarion Number', 'Leght of overland flow', 'Relief', 'Categoria',\n",
       "       'Relief Ratio', 'Rudgeness Number', 'Melton Index', 'Ln Melton'],\n",
       "      dtype='object')"
      ]
     },
     "execution_count": 10,
     "metadata": {},
     "output_type": "execute_result"
    }
   ],
   "source": [
    "X.columns"
   ]
  },
  {
   "cell_type": "markdown",
   "metadata": {},
   "source": [
    "La función *values* permite obtener una matriz con los valores de toda la base de datos, o como en este caso de una sola columna. Existen muchas funciones que no trabajan con columnas de un DataFrame, por lo cual se requiere convertirlas a una matriz o un vector."
   ]
  },
  {
   "cell_type": "code",
   "execution_count": 12,
   "metadata": {
    "scrolled": true
   },
   "outputs": [
    {
     "data": {
      "text/plain": [
       "array(['amarillo', 'verde', nan, 'amarillo', 'rojo', 'rojo', 'amarillo',\n",
       "       'verde', 'amarillo', 'verde', 'rojo', 'verde', 'rojo', 'verde',\n",
       "       'amarillo', 'amarillo', 'rojo', 'verde', 'verde', 'rojo', 'rojo',\n",
       "       'verde', 'verde', 'amarillo', 'amarillo', 'amarillo', 'rojo',\n",
       "       'verde', 'amarillo', 'rojo', 'verde', 'rojo', 'amarillo', 'verde',\n",
       "       'rojo', 'amarillo', 'verde', 'verde', 'amarillo', 'rojo', 'verde',\n",
       "       'amarillo', 'rojo', 'rojo', 'amarillo', 'amarillo', 'amarillo',\n",
       "       'verde', 'verde', 'verde', 'rojo', 'rojo', 'rojo', 'amarillo',\n",
       "       'verde', 'rojo', 'rojo', 'amarillo', 'verde', 'verde', 'rojo',\n",
       "       'amarillo', 'verde', 'rojo', 'amarillo', 'amarillo', 'verde',\n",
       "       'verde', 'rojo', 'rojo', 'amarillo', 'amarillo', 'verde'],\n",
       "      dtype=object)"
      ]
     },
     "execution_count": 12,
     "metadata": {},
     "output_type": "execute_result"
    }
   ],
   "source": [
    "X['Color'].values"
   ]
  },
  {
   "cell_type": "markdown",
   "metadata": {},
   "source": [
    "Y para obtener el tipo de datos se puede utilizar la funcion *dtypes*. En este caso la mayoría de datos son tipo flotante, es decir números no enteros, a excepción de las variables categóricas que estan como objetos y la variable objetivo que presenta como tipo de datos enteros (0,1)."
   ]
  },
  {
   "cell_type": "code",
   "execution_count": 13,
   "metadata": {
    "scrolled": true
   },
   "outputs": [
    {
     "data": {
      "text/plain": [
       "Unnamed: 0                       int64\n",
       "Color                           object\n",
       "Main Stream Order              float64\n",
       "Number of streams               object\n",
       "Stream Lenght                  float64\n",
       "Main Stream Leght              float64\n",
       "Stream Lenght Ratio            float64\n",
       "Bifurcation Ratio              float64\n",
       "Ro Coefficient                  object\n",
       "Lenght of Basin                float64\n",
       "Area                           float64\n",
       "Perimeter                      float64\n",
       "Form Factor                    float64\n",
       "Elongation Ratio               float64\n",
       "Circularity Ratio              float64\n",
       "Compactness Coefficient        float64\n",
       "Texture Ratio                  float64\n",
       "Fitness Ratio                  float64\n",
       "Wandering ratio                float64\n",
       "Stream Frequency               float64\n",
       "Drainage Density               float64\n",
       "Constant Channel mantenance    float64\n",
       "Drainage Intensity              object\n",
       "Infiltrarion Number            float64\n",
       "Leght of overland flow         float64\n",
       "Relief                         float64\n",
       "Categoria                       object\n",
       "Relief Ratio                   float64\n",
       "Rudgeness Number               float64\n",
       "Melton Index                   float64\n",
       "Ln Melton                      float64\n",
       "dtype: object"
      ]
     },
     "execution_count": 13,
     "metadata": {},
     "output_type": "execute_result"
    }
   ],
   "source": [
    "X.dtypes"
   ]
  },
  {
   "cell_type": "markdown",
   "metadata": {},
   "source": [
    "## Valores faltantes"
   ]
  },
  {
   "cell_type": "markdown",
   "metadata": {},
   "source": [
    "La función *info* ya nos señaló que todas las columnas no tienen el mismo número de datos, lo cual este indicando la ausencia de valores (NaN) en diferentes observaciones (filas). Estos valores se pueden dar por que efectivamente no se levantó dicho dato, o por que no fue leido adecuadamente los datos que existían en esta posición. Es importante conocer de cual de los casos se trata.\n",
    "\n",
    "Para identificar si en una variable existen valores faltantes se utiliza la función *notnull*, la cual verifica si no es un valor nulo. Donde la respuesta sea falso es por que en esta posición existe un NaN."
   ]
  },
  {
   "cell_type": "code",
   "execution_count": 14,
   "metadata": {},
   "outputs": [
    {
     "data": {
      "text/plain": [
       "0      True\n",
       "1      True\n",
       "2      True\n",
       "3     False\n",
       "4     False\n",
       "      ...  \n",
       "68    False\n",
       "69    False\n",
       "70     True\n",
       "71    False\n",
       "72    False\n",
       "Name: Main Stream Order, Length: 73, dtype: bool"
      ]
     },
     "execution_count": 14,
     "metadata": {},
     "output_type": "execute_result"
    }
   ],
   "source": [
    "pd.notnull(X['Main Stream Order'])"
   ]
  },
  {
   "cell_type": "markdown",
   "metadata": {},
   "source": [
    "La función *isnull* concatenada con las funciones *values* y *ravel* nos permiten obtener el número de NaN existentes."
   ]
  },
  {
   "cell_type": "code",
   "execution_count": 15,
   "metadata": {},
   "outputs": [
    {
     "data": {
      "text/plain": [
       "36"
      ]
     },
     "execution_count": 15,
     "metadata": {},
     "output_type": "execute_result"
    }
   ],
   "source": [
    "sum(X['Main Stream Order'].isnull().values.ravel())"
   ]
  },
  {
   "cell_type": "markdown",
   "metadata": {},
   "source": [
    "Si se desea conocer cuantas filas tienen valores *nan* en algún lado se utiliza la siguiente función:"
   ]
  },
  {
   "cell_type": "code",
   "execution_count": 16,
   "metadata": {},
   "outputs": [
    {
     "data": {
      "text/plain": [
       "46"
      ]
     },
     "execution_count": 16,
     "metadata": {},
     "output_type": "execute_result"
    }
   ],
   "source": [
    "sum([True for idx,row in X.iterrows() if any(row.isnull())])"
   ]
  },
  {
   "cell_type": "markdown",
   "metadata": {},
   "source": [
    "Para saber cuantas posiciones en total corresponden a *nan* se utiliza:"
   ]
  },
  {
   "cell_type": "code",
   "execution_count": 17,
   "metadata": {},
   "outputs": [
    {
     "data": {
      "text/plain": [
       "52"
      ]
     },
     "execution_count": 17,
     "metadata": {},
     "output_type": "execute_result"
    }
   ],
   "source": [
    "X.isnull().values.ravel().sum()"
   ]
  },
  {
   "cell_type": "markdown",
   "metadata": {},
   "source": [
    "Existe una librería denominada *Feature Selector* que permite realizar varias acciones para el procesamiento de los datos, entre ellas identificar los valores faltantes. A continuación se importará dicha librería y se utilizará para identificar los *NaN*."
   ]
  },
  {
   "cell_type": "code",
   "execution_count": 18,
   "metadata": {
    "collapsed": true,
    "jupyter": {
     "outputs_hidden": true
    }
   },
   "outputs": [],
   "source": [
    "from feature_selector import FeatureSelector"
   ]
  },
  {
   "cell_type": "markdown",
   "metadata": {},
   "source": [
    "La librería *Feature Selector* se instancia con las variables de entrada señaladas como data, y y con la variable dependiente como Label."
   ]
  },
  {
   "cell_type": "code",
   "execution_count": 19,
   "metadata": {
    "collapsed": true,
    "jupyter": {
     "outputs_hidden": true
    }
   },
   "outputs": [],
   "source": [
    "fs = FeatureSelector(data = X, labels = y)"
   ]
  },
  {
   "cell_type": "markdown",
   "metadata": {},
   "source": [
    "Para identificar el radio de valores faltantes en cada una de las columnas se utiliza:"
   ]
  },
  {
   "cell_type": "code",
   "execution_count": 20,
   "metadata": {
    "collapsed": true,
    "jupyter": {
     "outputs_hidden": true
    }
   },
   "outputs": [],
   "source": [
    "fs.missing_stats"
   ]
  },
  {
   "cell_type": "markdown",
   "metadata": {},
   "source": [
    "Para identificar las variables que presentan un número de valores faltantes por encima de un umbral especificado se utiliza la función:"
   ]
  },
  {
   "cell_type": "code",
   "execution_count": 25,
   "metadata": {},
   "outputs": [
    {
     "name": "stdout",
     "output_type": "stream",
     "text": [
      "2 features with greater than 0.05 missing values.\n",
      "\n"
     ]
    }
   ],
   "source": [
    "fs.identify_missing(missing_threshold=0.05)"
   ]
  },
  {
   "cell_type": "markdown",
   "metadata": {},
   "source": [
    "se puede acceder a las columnas identificadas de la siguiente forma"
   ]
  },
  {
   "cell_type": "code",
   "execution_count": 26,
   "metadata": {},
   "outputs": [
    {
     "name": "stdout",
     "output_type": "stream",
     "text": [
      "['Main Stream Order', 'Main Stream Leght ']\n"
     ]
    }
   ],
   "source": [
    "missing_features = fs.ops['missing']\n",
    "print(missing_features)"
   ]
  },
  {
   "cell_type": "markdown",
   "metadata": {},
   "source": [
    "Se puede además plotear la fracción de valores faltantes de todas las columnas del dataFrame:"
   ]
  },
  {
   "cell_type": "code",
   "execution_count": 23,
   "metadata": {},
   "outputs": [
    {
     "data": {
      "image/png": "[encoded data removed]",
      "text/plain": [
       "<matplotlib.figure.Figure at 0x2b291a81160>"
      ]
     },
     "metadata": {},
     "output_type": "display_data"
    }
   ],
   "source": [
    "fs.plot_missing()"
   ]
  },
  {
   "cell_type": "markdown",
   "metadata": {},
   "source": [
    "## Imputación"
   ]
  },
  {
   "cell_type": "markdown",
   "metadata": {},
   "source": [
    "Luego de identificar las columnas, filas y posiciones que presentan valores nulos, se procede a eliminar o reemplazar estos valores. En ambos casos existen diferentes alternativas segun la cantidad de datos que se tienen y el número de valores nulos, entre otros criterios."
   ]
  },
  {
   "cell_type": "markdown",
   "metadata": {},
   "source": [
    "Con la librearía *Feature Selector* se puede utilizar la funcion *Remove*:"
   ]
  },
  {
   "cell_type": "code",
   "execution_count": null,
   "metadata": {
    "collapsed": true,
    "jupyter": {
     "outputs_hidden": true
    }
   },
   "outputs": [],
   "source": [
    "train_no_missing = fs.remove(methods = ['missing'])"
   ]
  },
  {
   "cell_type": "markdown",
   "metadata": {},
   "source": [
    "Para eliminar la columna o fila que presenta dicho valor nulo se utilizan diferentes criterios. en el caso de la columna o variable se prefiere eliminar cuando se tiene un número importante de valores nulos. Es decir se presentan pocas observaciones o datos de esta variable, por lo tanto no será de mucha ayuda en el modelo. En el caso de preferir eliminar la fila, ya que es una o pocas observaciones de esta variable que presentan valores nulos, se analiza si se cuenta con suficientes observaciones (filas).\n",
    "\n",
    "Para cualquiera de estos casos se utiliza la función *dropna*, especificando en el argumento *axis* si corresponde a una fila (0) o a una columna (1). En el argumento *how* se define el criterio para borrar la fila o columna. En el caso de *all* la función borra solo si todos los valores de dicha fila o columna son NaN. Y *any* borra solo con la presencia de un valor NaN."
   ]
  },
  {
   "cell_type": "code",
   "execution_count": 27,
   "metadata": {},
   "outputs": [
    {
     "data": {
      "text/plain": [
       "(73, 33)"
      ]
     },
     "execution_count": 27,
     "metadata": {},
     "output_type": "execute_result"
    }
   ],
   "source": [
    "data2=data.dropna(axis=0,how='all')\n",
    "data2.shape"
   ]
  },
  {
   "cell_type": "code",
   "execution_count": 28,
   "metadata": {},
   "outputs": [
    {
     "data": {
      "text/plain": [
       "(27, 33)"
      ]
     },
     "execution_count": 28,
     "metadata": {},
     "output_type": "execute_result"
    }
   ],
   "source": [
    "data3=data.dropna(axis=0,how='any')\n",
    "data3.shape"
   ]
  },
  {
   "cell_type": "markdown",
   "metadata": {},
   "source": [
    "En caso de no preferir borrar la fila o columna se procede a reemplazar dicho dato. Existen diferentes formas:\n",
    "- Llenar con un valor de cero (0) o cualquier otro valor que permita trabajar con los datos pero que se identifique todo el tiempo que correspondía a un valor nulo. \n",
    "- reempalazar el valor faltante con la media.\n",
    "- y finalmente reemplazar el NaN con el valor siguiente proximo (*ffill*) o con el valor anterior próximo (*backfill*).\n",
    "\n",
    "A continuación se presentan cada una de estas opciones."
   ]
  },
  {
   "cell_type": "code",
   "execution_count": 29,
   "metadata": {
    "scrolled": true
   },
   "outputs": [
    {
     "data": {
      "text/plain": [
       "0    2.0\n",
       "1    2.0\n",
       "2    3.0\n",
       "3    0.0\n",
       "4    0.0\n",
       "Name: Main Stream Order, dtype: float64"
      ]
     },
     "execution_count": 29,
     "metadata": {},
     "output_type": "execute_result"
    }
   ],
   "source": [
    "Main_Stream=data['Main Stream Order'].fillna(0)\n",
    "Main_Stream.head(5)"
   ]
  },
  {
   "cell_type": "code",
   "execution_count": 30,
   "metadata": {
    "scrolled": true
   },
   "outputs": [
    {
     "data": {
      "text/plain": [
       "0    2.000000\n",
       "1    2.000000\n",
       "2    3.000000\n",
       "3    2.972973\n",
       "4    2.972973\n",
       "Name: Main Stream Order, dtype: float64"
      ]
     },
     "execution_count": 30,
     "metadata": {},
     "output_type": "execute_result"
    }
   ],
   "source": [
    "data4=data['Main Stream Order'].fillna(data['Main Stream Order'].mean())\n",
    "data4.head(5)"
   ]
  },
  {
   "cell_type": "code",
   "execution_count": 33,
   "metadata": {
    "scrolled": true
   },
   "outputs": [
    {
     "data": {
      "text/plain": [
       "0    2.0\n",
       "1    2.0\n",
       "2    3.0\n",
       "3    3.0\n",
       "4    3.0\n",
       "5    4.0\n",
       "6    3.0\n",
       "7    3.0\n",
       "8    2.0\n",
       "9    2.0\n",
       "Name: Main Stream Order, dtype: float64"
      ]
     },
     "execution_count": 33,
     "metadata": {},
     "output_type": "execute_result"
    }
   ],
   "source": [
    "data5=data['Main Stream Order'].fillna(method='ffill')\n",
    "data5.head(10)"
   ]
  },
  {
   "cell_type": "code",
   "execution_count": 32,
   "metadata": {
    "scrolled": true
   },
   "outputs": [
    {
     "data": {
      "text/plain": [
       "0    2.0\n",
       "1    2.0\n",
       "2    3.0\n",
       "3    4.0\n",
       "4    4.0\n",
       "5    4.0\n",
       "6    3.0\n",
       "7    3.0\n",
       "8    2.0\n",
       "9    2.0\n",
       "Name: Main Stream Order, dtype: float64"
      ]
     },
     "execution_count": 32,
     "metadata": {},
     "output_type": "execute_result"
    }
   ],
   "source": [
    "data6=data['Main Stream Order'].fillna(method='backfill')\n",
    "data6.head(10)"
   ]
  },
  {
   "cell_type": "code",
   "execution_count": 60,
   "metadata": {},
   "outputs": [
    {
     "name": "stdout",
     "output_type": "stream",
     "text": [
      "0     2.0\n",
      "1     2.0\n",
      "2     3.0\n",
      "3     NaN\n",
      "4     NaN\n",
      "     ... \n",
      "68    NaN\n",
      "69    NaN\n",
      "70    2.0\n",
      "71    NaN\n",
      "72    NaN\n",
      "Name: Main Stream Order, Length: 73, dtype: float64\n"
     ]
    },
    {
     "data": {
      "text/plain": [
       "0    2.000000\n",
       "1    2.000000\n",
       "2    3.000000\n",
       "3    3.333333\n",
       "4    3.666667\n",
       "5    4.000000\n",
       "6    3.000000\n",
       "7    3.000000\n",
       "8    2.000000\n",
       "9    2.000000\n",
       "Name: Main Stream Order, dtype: float64"
      ]
     },
     "execution_count": 60,
     "metadata": {},
     "output_type": "execute_result"
    }
   ],
   "source": [
    "data7=data['Main Stream Order'].interpolate(limit=1, limit_direction='both')\n",
    "print(data['Main Stream Order'])\n",
    "data7.head(10)"
   ]
  },
  {
   "cell_type": "markdown",
   "metadata": {},
   "source": [
    "Una opción intermedia es eliminar la columna o fila solo si sobrepasa un porcentaje de valores nulos predefinidos como umbral."
   ]
  },
  {
   "cell_type": "code",
   "execution_count": 34,
   "metadata": {},
   "outputs": [
    {
     "data": {
      "text/plain": [
       "(73, 31)"
      ]
     },
     "execution_count": 34,
     "metadata": {},
     "output_type": "execute_result"
    }
   ],
   "source": [
    "umbral = 0.05 # 5% de los datos es nulo\n",
    "data7= data[data.columns[data.isnull().mean() < umbral]]\n",
    "data7.shape"
   ]
  },
  {
   "cell_type": "code",
   "execution_count": 35,
   "metadata": {},
   "outputs": [
    {
     "data": {
      "text/plain": [
       "(69, 33)"
      ]
     },
     "execution_count": 35,
     "metadata": {},
     "output_type": "execute_result"
    }
   ],
   "source": [
    "data8 = data.loc[data.isnull().mean(axis=1) < umbral]\n",
    "data8.shape"
   ]
  },
  {
   "cell_type": "markdown",
   "metadata": {},
   "source": [
    "En caso de corresponder a una variable categórica, los valores nulos se pueden reemplazar con la categoria que mas se repite de la siguiente forma:"
   ]
  },
  {
   "cell_type": "code",
   "execution_count": 37,
   "metadata": {
    "collapsed": true,
    "jupyter": {
     "outputs_hidden": true
    }
   },
   "outputs": [],
   "source": [
    "data9 = data['Color'].fillna(data['Color'].value_counts().idxmax(), inplace=True)\n",
    "data9"
   ]
  },
  {
   "cell_type": "code",
   "execution_count": 38,
   "metadata": {},
   "outputs": [
    {
     "data": {
      "text/plain": [
       "0    amarillo\n",
       "1       verde\n",
       "2       verde\n",
       "3    amarillo\n",
       "4        rojo\n",
       "Name: Color, dtype: object"
      ]
     },
     "execution_count": 38,
     "metadata": {},
     "output_type": "execute_result"
    }
   ],
   "source": [
    "data['Color'].fillna(data['Color'].value_counts().idxmax(), inplace=True)\n",
    "data['Color'].head(5)"
   ]
  },
  {
   "cell_type": "markdown",
   "metadata": {},
   "source": [
    "## Outlier detection"
   ]
  },
  {
   "cell_type": "markdown",
   "metadata": {},
   "source": [
    "Los modelos geometricos, es decir que están basados en distancias, como los modelos de regresión, son sensibles a los *outliers*, ya que generan diferencias muy grandes en la estimación de la función de costo. Es por esto necesario identificar y eliminar dichos valores anómalos."
   ]
  },
  {
   "cell_type": "markdown",
   "metadata": {},
   "source": [
    "Se puede utilizar la desviación estandar para identificar dichos valores y eliminarlos. A continuación se utiliza como factor o número de desviaciones estandar (3) para definir un límite inferior y superior. Posteriomente se filtran las filas de la base de datos con los valores que estén dentro de dicho rango."
   ]
  },
  {
   "cell_type": "code",
   "execution_count": 39,
   "metadata": {},
   "outputs": [
    {
     "data": {
      "text/plain": [
       "(71, 33)"
      ]
     },
     "execution_count": 39,
     "metadata": {},
     "output_type": "execute_result"
    }
   ],
   "source": [
    "factor = 3\n",
    "upper_lim = data['Stream Lenght'].mean () + data['Stream Lenght'].std () * factor\n",
    "lower_lim = data['Stream Lenght'].mean () - data['Stream Lenght'].std () * factor\n",
    "\n",
    "data10 = data[(data['Stream Lenght'] < upper_lim) & (data['Stream Lenght'] > lower_lim)]\n",
    "data10.shape"
   ]
  },
  {
   "cell_type": "markdown",
   "metadata": {},
   "source": [
    "De forma similar se puede realizar, pero utilizando los percentiles, en este caso 95% y 5%."
   ]
  },
  {
   "cell_type": "code",
   "execution_count": null,
   "metadata": {
    "collapsed": true,
    "jupyter": {
     "outputs_hidden": true
    },
    "scrolled": true
   },
   "outputs": [],
   "source": [
    "upper_lim = data['Stream Lenght'].quantile(.95)\n",
    "lower_lim = data['Stream Lenght'].quantile(.05)\n",
    "\n",
    "data11 = data[(data['Stream Lenght'] < upper_lim) & (data['Stream Lenght'] > lower_lim)]\n",
    "data11.shape"
   ]
  },
  {
   "cell_type": "markdown",
   "metadata": {},
   "source": [
    "Otra forma de hacerlo, eliminando los valores por encima y por debajo de los percentiles indicados es:"
   ]
  },
  {
   "cell_type": "code",
   "execution_count": null,
   "metadata": {
    "collapsed": true,
    "jupyter": {
     "outputs_hidden": true
    }
   },
   "outputs": [],
   "source": [
    "y=data['Stream Lenght']\n",
    "pd.DataFrame(y).hist();\n",
    "stream=data['Stream Lenght']\n",
    "UPPERBOUND, LOWERBOUND = np.percentile(stream, [1,99])\n",
    "y = np.clip(stream, UPPERBOUND, LOWERBOUND)\n",
    "pd.DataFrame(y).hist();"
   ]
  },
  {
   "cell_type": "markdown",
   "metadata": {},
   "source": [
    "Si se prefiere no eliminarlos, se pueden reemplazar con los límites definidos."
   ]
  },
  {
   "cell_type": "code",
   "execution_count": null,
   "metadata": {
    "collapsed": true,
    "jupyter": {
     "outputs_hidden": true
    },
    "scrolled": true
   },
   "outputs": [],
   "source": [
    "upper_lim = data['Stream Lenght'].quantile(.95)\n",
    "lower_lim = data['Stream Lenght'].quantile(.05)\n",
    "data.loc[(data['Stream Lenght'] > upper_lim),['Stream Lenght']] = upper_lim\n",
    "data.loc[(data['Stream Lenght'] < lower_lim),['Stream Lenght']] = lower_lim\n",
    "print(upper_lim,lower_lim)"
   ]
  },
  {
   "cell_type": "code",
   "execution_count": null,
   "metadata": {
    "collapsed": true,
    "jupyter": {
     "outputs_hidden": true
    }
   },
   "outputs": [],
   "source": [
    "data.head()"
   ]
  },
  {
   "cell_type": "markdown",
   "metadata": {},
   "source": [
    "La librería *Feature Selector* permite identificar las variables que presentas un valor único, y que por lo tanto no son de utilidad para el modelo. "
   ]
  },
  {
   "cell_type": "code",
   "execution_count": 40,
   "metadata": {},
   "outputs": [
    {
     "name": "stdout",
     "output_type": "stream",
     "text": [
      "0 features with a single unique value.\n",
      "\n"
     ]
    },
    {
     "data": {
      "text/html": [
       "<div>\n",
       "<style scoped>\n",
       "    .dataframe tbody tr th:only-of-type {\n",
       "        vertical-align: middle;\n",
       "    }\n",
       "\n",
       "    .dataframe tbody tr th {\n",
       "        vertical-align: top;\n",
       "    }\n",
       "\n",
       "    .dataframe thead th {\n",
       "        text-align: right;\n",
       "    }\n",
       "</style>\n",
       "<table border=\"1\" class=\"dataframe\">\n",
       "  <thead>\n",
       "    <tr style=\"text-align: right;\">\n",
       "      <th></th>\n",
       "      <th>nunique</th>\n",
       "    </tr>\n",
       "  </thead>\n",
       "  <tbody>\n",
       "    <tr>\n",
       "      <td>Drainage Intensity</td>\n",
       "      <td>72</td>\n",
       "    </tr>\n",
       "    <tr>\n",
       "      <td>Fitness Ratio</td>\n",
       "      <td>73</td>\n",
       "    </tr>\n",
       "    <tr>\n",
       "      <td>Area</td>\n",
       "      <td>73</td>\n",
       "    </tr>\n",
       "    <tr>\n",
       "      <td>Lenght of Basin</td>\n",
       "      <td>73</td>\n",
       "    </tr>\n",
       "    <tr>\n",
       "      <td>Perimeter</td>\n",
       "      <td>71</td>\n",
       "    </tr>\n",
       "  </tbody>\n",
       "</table>\n",
       "</div>"
      ],
      "text/plain": [
       "                    nunique\n",
       "Drainage Intensity       72\n",
       "Fitness Ratio            73\n",
       "Area                     73\n",
       "Lenght of Basin          73\n",
       "Perimeter                71"
      ]
     },
     "execution_count": 40,
     "metadata": {},
     "output_type": "execute_result"
    }
   ],
   "source": [
    "fs.identify_single_unique()\n",
    "single_unique = fs.ops['single_unique']\n",
    "single_unique\n",
    "fs.unique_stats.sample(5)"
   ]
  },
  {
   "cell_type": "markdown",
   "metadata": {},
   "source": [
    "Tambien se puede graficar el número de valores únicos para cada variable independiente."
   ]
  },
  {
   "cell_type": "code",
   "execution_count": 41,
   "metadata": {},
   "outputs": [
    {
     "data": {
      "image/png": "[encoded data removed]",
      "text/plain": [
       "<matplotlib.figure.Figure at 0x2b291abdba8>"
      ]
     },
     "metadata": {},
     "output_type": "display_data"
    }
   ],
   "source": [
    "fs.plot_unique()"
   ]
  },
  {
   "cell_type": "markdown",
   "metadata": {},
   "source": [
    "## Binning"
   ]
  },
  {
   "cell_type": "markdown",
   "metadata": {},
   "source": [
    "Segmentar o definir intervalos en una variable continua o redefinir las categorias en uan variable cualitativa, puede ser util en algunos casos. "
   ]
  },
  {
   "cell_type": "markdown",
   "metadata": {},
   "source": [
    "Para el caso de una variable numérica continua que se desee modificar a una variable categórica se puede utilizar el siguiente código."
   ]
  },
  {
   "cell_type": "code",
   "execution_count": 43,
   "metadata": {},
   "outputs": [
    {
     "name": "stdout",
     "output_type": "stream",
     "text": [
      "533.626\n",
      "3.503\n",
      "0       4.9820\n",
      "1       6.5693\n",
      "2      31.8530\n",
      "3     338.2300\n",
      "4      10.4070\n",
      "        ...   \n",
      "68     26.5890\n",
      "69    371.3520\n",
      "70     23.1830\n",
      "71     28.5890\n",
      "72      5.1030\n",
      "Name: Stream Lenght, Length: 73, dtype: float64\n"
     ]
    },
    {
     "data": {
      "text/plain": [
       "0         low\n",
       "1         low\n",
       "2         low\n",
       "3    high mid\n",
       "4         low\n",
       "Name: Stream Lenght, dtype: category\n",
       "Categories (6, object): [low < low mid < mid < high mid < high < very high]"
      ]
     },
     "execution_count": 43,
     "metadata": {},
     "output_type": "execute_result"
    }
   ],
   "source": [
    "data13=data['Stream Lenght']\n",
    "print(data13.max())\n",
    "print(data13.min())\n",
    "print(data['Stream Lenght'])\n",
    "data13 = pd.cut(data13, bins=[0,100,200,300,400,500,600], labels=[\"low\", \"low mid\",\"mid\",\"high mid\",\"high\",\"very high\"])\n",
    "data13.head(5)"
   ]
  },
  {
   "cell_type": "markdown",
   "metadata": {},
   "source": [
    "Para el caso de una variable categórica que se quiera reclasificar en un valor menor de categorias se puede utilizar el siguiente código."
   ]
  },
  {
   "cell_type": "code",
   "execution_count": 44,
   "metadata": {},
   "outputs": [
    {
     "data": {
      "text/plain": [
       "array(['Europe', 'Europe', 'Other', 'South America', 'South America'],\n",
       "      dtype='<U13')"
      ]
     },
     "execution_count": 44,
     "metadata": {},
     "output_type": "execute_result"
    }
   ],
   "source": [
    "lista=pd.DataFrame(data=['Spain', 'Italy', 'Australia', 'Chile', 'Brazil'], columns=['paises'])\n",
    "\n",
    "conditions = [\n",
    "    lista['paises'].str.contains('Spain'),\n",
    "    lista['paises'].str.contains('Italy'),\n",
    "    lista['paises'].str.contains('Chile'),\n",
    "    lista['paises'].str.contains('Brazil')]\n",
    "\n",
    "choices = ['Europe', 'Europe', 'South America', 'South America']\n",
    "\n",
    "continente= np.select(conditions, choices, default='Other')\n",
    "continente"
   ]
  },
  {
   "cell_type": "markdown",
   "metadata": {},
   "source": [
    "## Variables categóricas"
   ]
  },
  {
   "cell_type": "markdown",
   "metadata": {},
   "source": [
    "Las variables categóricas deben ser transformadas a un valor numérico de tal forma que se pueda trabajar con ellas en los métodos de *machine learning*. Para eso existen diferentes estrategias de acuerdo con el caso de cada variable."
   ]
  },
  {
   "cell_type": "markdown",
   "metadata": {},
   "source": [
    "De forma general se puede transformar una variable categórica en variables numéricas de la siguiente forma."
   ]
  },
  {
   "cell_type": "code",
   "execution_count": 47,
   "metadata": {},
   "outputs": [
    {
     "data": {
      "text/plain": [
       "0   NaN\n",
       "1   NaN\n",
       "2   NaN\n",
       "3   NaN\n",
       "4   NaN\n",
       "Name: Categoria, dtype: float64"
      ]
     },
     "execution_count": 47,
     "metadata": {},
     "output_type": "execute_result"
    }
   ],
   "source": [
    "Cat={'A':1,'B':2,'C':3}\n",
    "data['Categoria']=data['Categoria'].map(Cat)\n",
    "data['Categoria'].head(5)"
   ]
  },
  {
   "cell_type": "markdown",
   "metadata": {},
   "source": [
    "Sin embargo la librería de *machine learning* Science Kit Learning (sckitlearn) presenta diferentes funciones para esta labor. la primera de ellas *LabelEncoder*. Con esta función se transforman las variables en número enteros de acuerdo con el número de categorias que existan."
   ]
  },
  {
   "cell_type": "code",
   "execution_count": 49,
   "metadata": {
    "scrolled": true
   },
   "outputs": [
    {
     "data": {
      "text/plain": [
       "0     0\n",
       "1     1\n",
       "2     0\n",
       "3     1\n",
       "4     1\n",
       "     ..\n",
       "68    0\n",
       "69    1\n",
       "70    2\n",
       "71    0\n",
       "72    1\n",
       "Name: Categoria, Length: 73, dtype: int32"
      ]
     },
     "execution_count": 49,
     "metadata": {},
     "output_type": "execute_result"
    }
   ],
   "source": [
    "from sklearn.preprocessing import LabelEncoder, OneHotEncoder\n",
    "le=LabelEncoder()\n",
    "X['Categoria']=le.fit_transform(X['Categoria'])\n",
    "X['Categoria']"
   ]
  },
  {
   "cell_type": "markdown",
   "metadata": {},
   "source": [
    "Sin embargo, la trasformación anterior puede generar problemas en el modelo ya que en los números consecutivos asignados existe una jerarquía o peso, es decir el 2 > 1, lo cual no necesariamente se presente en la variable categórica original. \n",
    "\n",
    "En estos casos se recomienda utilizar una tranformación binaria  (0,1) a cada categoria, por lo tanto se obtendran nuevas variables en igual número de categorias de la variable a transformar.  es decir que aumenta el número de dimensiones del problema a resolver."
   ]
  },
  {
   "cell_type": "code",
   "execution_count": 51,
   "metadata": {
    "scrolled": true
   },
   "outputs": [
    {
     "name": "stderr",
     "output_type": "stream",
     "text": [
      "C:\\Users\\Edier Aristizabal\\AppData\\Local\\conda\\conda\\envs\\myenm\\lib\\site-packages\\sklearn\\preprocessing\\_encoders.py:415: FutureWarning: The handling of integer data will change in version 0.22. Currently, the categories are determined based on the range [0, max(values)], while in the future they will be determined based on the unique values.\n",
      "If you want the future behaviour and silence this warning, you can specify \"categories='auto'\".\n",
      "In case you used a LabelEncoder before this OneHotEncoder to convert the categories to integers, then you can now use the OneHotEncoder directly.\n",
      "  warnings.warn(msg, FutureWarning)\n"
     ]
    },
    {
     "data": {
      "text/plain": [
       "array([[1., 0., 0.],\n",
       "       [0., 1., 0.],\n",
       "       [1., 0., 0.],\n",
       "       [0., 1., 0.],\n",
       "       [0., 1., 0.],\n",
       "       [0., 0., 1.],\n",
       "       [1., 0., 0.],\n",
       "       [0., 0., 1.],\n",
       "       [0., 1., 0.],\n",
       "       [1., 0., 0.],\n",
       "       [0., 0., 1.],\n",
       "       [0., 1., 0.],\n",
       "       [0., 0., 1.],\n",
       "       [0., 0., 1.],\n",
       "       [0., 0., 1.],\n",
       "       [0., 1., 0.],\n",
       "       [0., 1., 0.],\n",
       "       [1., 0., 0.],\n",
       "       [1., 0., 0.],\n",
       "       [0., 1., 0.],\n",
       "       [0., 0., 1.],\n",
       "       [1., 0., 0.],\n",
       "       [0., 0., 1.],\n",
       "       [1., 0., 0.],\n",
       "       [1., 0., 0.],\n",
       "       [1., 0., 0.],\n",
       "       [0., 1., 0.],\n",
       "       [0., 1., 0.],\n",
       "       [0., 0., 1.],\n",
       "       [0., 0., 1.],\n",
       "       [1., 0., 0.],\n",
       "       [0., 0., 1.],\n",
       "       [0., 1., 0.],\n",
       "       [0., 0., 1.],\n",
       "       [1., 0., 0.],\n",
       "       [0., 1., 0.],\n",
       "       [0., 0., 1.],\n",
       "       [1., 0., 0.],\n",
       "       [1., 0., 0.],\n",
       "       [0., 0., 1.],\n",
       "       [0., 0., 1.],\n",
       "       [0., 1., 0.],\n",
       "       [0., 1., 0.],\n",
       "       [0., 0., 1.],\n",
       "       [0., 0., 1.],\n",
       "       [0., 1., 0.],\n",
       "       [0., 1., 0.],\n",
       "       [1., 0., 0.],\n",
       "       [1., 0., 0.],\n",
       "       [0., 0., 1.],\n",
       "       [1., 0., 0.],\n",
       "       [0., 1., 0.],\n",
       "       [0., 0., 1.],\n",
       "       [1., 0., 0.],\n",
       "       [0., 0., 1.],\n",
       "       [0., 1., 0.],\n",
       "       [0., 1., 0.],\n",
       "       [0., 0., 1.],\n",
       "       [1., 0., 0.],\n",
       "       [0., 1., 0.],\n",
       "       [0., 0., 1.],\n",
       "       [0., 1., 0.],\n",
       "       [1., 0., 0.],\n",
       "       [0., 1., 0.],\n",
       "       [0., 1., 0.],\n",
       "       [0., 1., 0.],\n",
       "       [0., 0., 1.],\n",
       "       [0., 0., 1.],\n",
       "       [1., 0., 0.],\n",
       "       [0., 1., 0.],\n",
       "       [0., 0., 1.],\n",
       "       [1., 0., 0.],\n",
       "       [0., 1., 0.]])"
      ]
     },
     "execution_count": 51,
     "metadata": {},
     "output_type": "execute_result"
    }
   ],
   "source": [
    "ohe=OneHotEncoder(sparse=False)\n",
    "data15=np.array(X['Categoria']).reshape(-1,1)\n",
    "data15=ohe.fit_transform(data15)\n",
    "data15"
   ]
  },
  {
   "cell_type": "markdown",
   "metadata": {},
   "source": [
    "Otra forma de hacerlo directamente es con la función *get_dummies*."
   ]
  },
  {
   "cell_type": "code",
   "execution_count": 52,
   "metadata": {
    "scrolled": true
   },
   "outputs": [
    {
     "data": {
      "text/html": [
       "<div>\n",
       "<style scoped>\n",
       "    .dataframe tbody tr th:only-of-type {\n",
       "        vertical-align: middle;\n",
       "    }\n",
       "\n",
       "    .dataframe tbody tr th {\n",
       "        vertical-align: top;\n",
       "    }\n",
       "\n",
       "    .dataframe thead th {\n",
       "        text-align: right;\n",
       "    }\n",
       "</style>\n",
       "<table border=\"1\" class=\"dataframe\">\n",
       "  <thead>\n",
       "    <tr style=\"text-align: right;\">\n",
       "      <th></th>\n",
       "      <th>Unnamed: 0</th>\n",
       "      <th>Name</th>\n",
       "      <th>Main Stream Order</th>\n",
       "      <th>Number of streams</th>\n",
       "      <th>Stream Lenght</th>\n",
       "      <th>Main Stream Leght</th>\n",
       "      <th>Stream Lenght Ratio</th>\n",
       "      <th>Bifurcation Ratio</th>\n",
       "      <th>Ro Coefficient</th>\n",
       "      <th>Lenght of Basin</th>\n",
       "      <th>...</th>\n",
       "      <th>Relief</th>\n",
       "      <th>Categoria</th>\n",
       "      <th>Relief Ratio</th>\n",
       "      <th>Rudgeness Number</th>\n",
       "      <th>Melton Index</th>\n",
       "      <th>Ln Melton</th>\n",
       "      <th>Flash flood record</th>\n",
       "      <th>Color_amarillo</th>\n",
       "      <th>Color_rojo</th>\n",
       "      <th>Color_verde</th>\n",
       "    </tr>\n",
       "  </thead>\n",
       "  <tbody>\n",
       "    <tr>\n",
       "      <td>0</td>\n",
       "      <td>0</td>\n",
       "      <td>DESMOTADORA (Dabeiba)</td>\n",
       "      <td>2.0</td>\n",
       "      <td>3</td>\n",
       "      <td>4.9820</td>\n",
       "      <td>4.048</td>\n",
       "      <td>0.907351</td>\n",
       "      <td>2.00</td>\n",
       "      <td>2.20422</td>\n",
       "      <td>5.904</td>\n",
       "      <td>...</td>\n",
       "      <td>1.319</td>\n",
       "      <td>0</td>\n",
       "      <td>0.223408</td>\n",
       "      <td>1.280198</td>\n",
       "      <td>0.582183</td>\n",
       "      <td>-0.540971</td>\n",
       "      <td>Torrencial</td>\n",
       "      <td>1</td>\n",
       "      <td>0</td>\n",
       "      <td>0</td>\n",
       "    </tr>\n",
       "    <tr>\n",
       "      <td>1</td>\n",
       "      <td>1</td>\n",
       "      <td>LA ARBOLEDA (Cdad Bolivar) ¿represamiento?</td>\n",
       "      <td>2.0</td>\n",
       "      <td>3</td>\n",
       "      <td>6.5693</td>\n",
       "      <td>5.997</td>\n",
       "      <td>0.531716</td>\n",
       "      <td>2.00</td>\n",
       "      <td>3.7614</td>\n",
       "      <td>8.961</td>\n",
       "      <td>...</td>\n",
       "      <td>1.968</td>\n",
       "      <td>51</td>\n",
       "      <td>0.219618</td>\n",
       "      <td>0.952858</td>\n",
       "      <td>0.534278</td>\n",
       "      <td>-0.626839</td>\n",
       "      <td>Torrencial</td>\n",
       "      <td>0</td>\n",
       "      <td>0</td>\n",
       "      <td>1</td>\n",
       "    </tr>\n",
       "    <tr>\n",
       "      <td>2</td>\n",
       "      <td>2</td>\n",
       "      <td>LIBORIANA (Salgar)</td>\n",
       "      <td>3.0</td>\n",
       "      <td>12</td>\n",
       "      <td>31.8530</td>\n",
       "      <td>18.117</td>\n",
       "      <td>1.496572</td>\n",
       "      <td>3.25</td>\n",
       "      <td>2.09929</td>\n",
       "      <td>20.617</td>\n",
       "      <td>...</td>\n",
       "      <td>2.484</td>\n",
       "      <td>50</td>\n",
       "      <td>0.120483</td>\n",
       "      <td>1.350146</td>\n",
       "      <td>0.324482</td>\n",
       "      <td>-1.125524</td>\n",
       "      <td>Torrencial</td>\n",
       "      <td>0</td>\n",
       "      <td>0</td>\n",
       "      <td>1</td>\n",
       "    </tr>\n",
       "    <tr>\n",
       "      <td>3</td>\n",
       "      <td>3</td>\n",
       "      <td>LA ARENOSA (San Carlos)</td>\n",
       "      <td>NaN</td>\n",
       "      <td>31</td>\n",
       "      <td>338.2300</td>\n",
       "      <td>6.152</td>\n",
       "      <td>2.050357</td>\n",
       "      <td>5.00</td>\n",
       "      <td>2.96581</td>\n",
       "      <td>7.199</td>\n",
       "      <td>...</td>\n",
       "      <td>0.903</td>\n",
       "      <td>49</td>\n",
       "      <td>0.125434</td>\n",
       "      <td>1.981134</td>\n",
       "      <td>0.260024</td>\n",
       "      <td>-1.346980</td>\n",
       "      <td>Torrencial</td>\n",
       "      <td>1</td>\n",
       "      <td>0</td>\n",
       "      <td>0</td>\n",
       "    </tr>\n",
       "    <tr>\n",
       "      <td>4</td>\n",
       "      <td>4</td>\n",
       "      <td>EL BARRO (Bello)</td>\n",
       "      <td>NaN</td>\n",
       "      <td>4</td>\n",
       "      <td>10.4070</td>\n",
       "      <td>7.350</td>\n",
       "      <td>5.128386</td>\n",
       "      <td>3.00</td>\n",
       "      <td>0.584979</td>\n",
       "      <td>9.523</td>\n",
       "      <td>...</td>\n",
       "      <td>1.299</td>\n",
       "      <td>48</td>\n",
       "      <td>0.136407</td>\n",
       "      <td>1.263665</td>\n",
       "      <td>0.397153</td>\n",
       "      <td>-0.923434</td>\n",
       "      <td>Torrencial</td>\n",
       "      <td>0</td>\n",
       "      <td>1</td>\n",
       "      <td>0</td>\n",
       "    </tr>\n",
       "  </tbody>\n",
       "</table>\n",
       "<p>5 rows × 35 columns</p>\n",
       "</div>"
      ],
      "text/plain": [
       "   Unnamed: 0                                        Name  Main Stream Order  \\\n",
       "0           0                       DESMOTADORA (Dabeiba)                2.0   \n",
       "1           1  LA ARBOLEDA (Cdad Bolivar) ¿represamiento?                2.0   \n",
       "2           2                          LIBORIANA (Salgar)                3.0   \n",
       "3           3                     LA ARENOSA (San Carlos)                NaN   \n",
       "4           4                            EL BARRO (Bello)                NaN   \n",
       "\n",
       "  Number of streams  Stream Lenght  Main Stream Leght   Stream Lenght Ratio  \\\n",
       "0                 3         4.9820               4.048             0.907351   \n",
       "1                 3         6.5693               5.997             0.531716   \n",
       "2                12        31.8530              18.117             1.496572   \n",
       "3                31       338.2300               6.152             2.050357   \n",
       "4                 4        10.4070               7.350             5.128386   \n",
       "\n",
       "   Bifurcation Ratio  Ro Coefficient  Lenght of Basin  ...  Relief  Categoria  \\\n",
       "0                2.00        2.20422            5.904  ...   1.319          0   \n",
       "1                2.00         3.7614            8.961  ...   1.968         51   \n",
       "2                3.25        2.09929           20.617  ...   2.484         50   \n",
       "3                5.00        2.96581            7.199  ...   0.903         49   \n",
       "4                3.00       0.584979            9.523  ...   1.299         48   \n",
       "\n",
       "   Relief Ratio  Rudgeness Number  Melton Index  Ln Melton  \\\n",
       "0      0.223408          1.280198      0.582183  -0.540971   \n",
       "1      0.219618          0.952858      0.534278  -0.626839   \n",
       "2      0.120483          1.350146      0.324482  -1.125524   \n",
       "3      0.125434          1.981134      0.260024  -1.346980   \n",
       "4      0.136407          1.263665      0.397153  -0.923434   \n",
       "\n",
       "   Flash flood record  Color_amarillo  Color_rojo  Color_verde  \n",
       "0          Torrencial               1           0            0  \n",
       "1          Torrencial               0           0            1  \n",
       "2          Torrencial               0           0            1  \n",
       "3          Torrencial               1           0            0  \n",
       "4          Torrencial               0           1            0  \n",
       "\n",
       "[5 rows x 35 columns]"
      ]
     },
     "execution_count": 52,
     "metadata": {},
     "output_type": "execute_result"
    }
   ],
   "source": [
    "data15=pd.get_dummies(data, prefix='Color', columns=['Color'])\n",
    "data15.head()"
   ]
  },
  {
   "cell_type": "markdown",
   "metadata": {},
   "source": [
    "Para adicionar nuevas columnas y eliminar columnas del dataFrame, se utiliza:"
   ]
  },
  {
   "cell_type": "code",
   "execution_count": null,
   "metadata": {
    "collapsed": true,
    "jupyter": {
     "outputs_hidden": true
    },
    "scrolled": true
   },
   "outputs": [],
   "source": [
    "new_columns=pd.get_dummies(data['Color'],prefix='color')\n",
    "data15=data.join(new_columns).drop(data['Color'])"
   ]
  },
  {
   "cell_type": "markdown",
   "metadata": {},
   "source": [
    "## Escalar"
   ]
  },
  {
   "cell_type": "markdown",
   "metadata": {},
   "source": [
    "Algunos algoritmos de *machine learning*, tales como Neural Networks, regresión, KNN, support vector machine, PCA, y análisis discriminante linear no se desempeñan adecuadamente si las variables (features) no están en la misma escala. Es por esta razón que se deben escalar, de tal forma que los modelos basados en medir distancias presenten resultados coherentes. En términos generales se tienen las siguientes recomendaciones:\n",
    "\n",
    "- Utilice MinMaxScaler por defecto                                                                                           \n",
    "- Utilice RobustScaler si tiene outliers y un gran rango entre variables                                                     \n",
    "- Utilice StandardScaler si necesita normalizar las variables "
   ]
  },
  {
   "cell_type": "code",
   "execution_count": 54,
   "metadata": {
    "collapsed": true,
    "jupyter": {
     "outputs_hidden": true
    }
   },
   "outputs": [],
   "source": [
    "from sklearn.preprocessing import StandardScaler, MinMaxScaler, RobustScaler, Normalizer"
   ]
  },
  {
   "cell_type": "markdown",
   "metadata": {},
   "source": [
    "StandardScaler escala cada columna para que tenga media 0 y varianza 1."
   ]
  },
  {
   "cell_type": "code",
   "execution_count": 55,
   "metadata": {
    "scrolled": true
   },
   "outputs": [
    {
     "data": {
      "text/plain": [
       "array([[-6.64277861e-01, -8.88885908e-01],\n",
       "       [-6.50139523e-01, -1.13381803e+00],\n",
       "       [-4.24933516e-01, -5.04684157e-01],\n",
       "       [ 2.30401599e+00, -1.43588976e-01],\n",
       "       [-6.15956508e-01,  1.86343814e+00],\n",
       "       [-8.25333098e-02,  7.83744283e-03],\n",
       "       [-6.77451553e-01, -7.88375047e-01],\n",
       "       [-6.34296354e-01, -2.92084694e-01],\n",
       "       [-4.43023962e-01, -5.67297273e-01],\n",
       "       [-5.67074004e-01, -2.61408065e-01],\n",
       "       [-6.31829071e-01, -4.96948679e-01],\n",
       "       [-2.87371310e-01, -6.83280434e-02],\n",
       "       [-2.92599814e-01,  6.69638606e-01],\n",
       "       [-1.48820408e-01, -9.80388867e-02],\n",
       "       [-5.56919840e-01, -1.03504961e-01],\n",
       "       [ 1.87510052e+00,  5.85150523e-02],\n",
       "       [ 1.43628029e+00,  3.00593935e-01],\n",
       "       [ 5.99924520e-01, -2.23367991e-01],\n",
       "       [ 3.20315835e+00,  3.71054377e-01],\n",
       "       [ 2.31753707e+00,  2.03581292e-01],\n",
       "       [-3.22697113e-01, -7.32158344e-01],\n",
       "       [-3.90026349e-01, -5.28524941e-01],\n",
       "       [-2.19837209e-01, -5.30177954e-01],\n",
       "       [-5.39310381e-01, -2.51852956e-01],\n",
       "       [-5.22564917e-01, -1.74344226e-01],\n",
       "       [-6.54168232e-01,  1.81956717e-01],\n",
       "       [-6.75527606e-01, -1.33055206e+00],\n",
       "       [-3.64355909e-01,  5.58789571e-03],\n",
       "       [-4.77655007e-01, -6.25257875e-02],\n",
       "       [-7.26730817e-02, -1.12466835e-01],\n",
       "       [ 1.57265300e-01, -1.38866137e-01],\n",
       "       [-4.67589914e-01, -1.21176437e-01],\n",
       "       [ 1.50387674e+00,  5.90976942e+00],\n",
       "       [ 2.70180093e+00, -5.83838682e-01],\n",
       "       [-5.78760201e-01,  3.77706271e+00],\n",
       "       [-5.17452206e-01, -6.94929709e-01],\n",
       "       [-3.19864636e-01, -2.25636511e-01],\n",
       "       [ 1.69949099e-01, -7.98993044e-02],\n",
       "       [ 3.16765846e-01,  4.95759452e-02],\n",
       "       [-2.16871124e-01,  4.38756964e-01],\n",
       "       [-4.82901325e-01, -1.04941823e-01],\n",
       "       [-4.50675214e-01,  2.46804620e-01],\n",
       "       [-6.14914370e-01, -9.67892446e-01],\n",
       "       [ 5.64251337e-01,  1.77477627e-03],\n",
       "       [-1.28592243e-01, -1.56046392e-02],\n",
       "       [-6.20775283e-01, -2.68770554e-01],\n",
       "       [ 2.52714446e-01, -3.06400631e-01],\n",
       "       [-5.77628991e-01,  2.80824190e-01],\n",
       "       [-4.23980450e-01, -2.04153711e-01],\n",
       "       [-4.54282615e-01,  1.14650172e-01],\n",
       "       [-2.25056806e-01,  4.36792199e-01],\n",
       "       [-5.06710169e-01, -5.86869481e-01],\n",
       "       [-3.83114392e-01, -3.14659184e-01],\n",
       "       [-2.99850243e-01,  1.80887997e-01],\n",
       "       [-3.89438477e-01,  1.50929324e-01],\n",
       "       [-3.19606328e-01, -1.32622040e-01],\n",
       "       [-5.87097304e-01, -5.43517001e-01],\n",
       "       [ 4.84648032e-01, -1.88309160e-01],\n",
       "       [-3.83265814e-01, -3.57436754e-01],\n",
       "       [-6.15822901e-01, -1.22777830e+00],\n",
       "       [ 1.64074435e-02, -2.61789703e-02],\n",
       "       [-4.56206562e-01,  2.66168589e-01],\n",
       "       [-5.05204859e-01, -4.70285214e-02],\n",
       "       [-6.00983569e-01,  2.50217163e+00],\n",
       "       [-5.60447076e-01, -3.97506994e-02],\n",
       "       [ 1.05274197e-01,  5.35841682e-01],\n",
       "       [ 4.04443978e+00,  1.14243380e-01],\n",
       "       [ 4.18730191e-02, -3.73947261e-01],\n",
       "       [-4.71820816e-01, -8.04447944e-01],\n",
       "       [ 2.59903901e+00, -2.19630494e-01],\n",
       "       [-5.02158609e-01, -3.58833087e-01],\n",
       "       [-4.54006493e-01, -7.28177939e-02],\n",
       "       [-6.63200095e-01, -3.69585954e-01]])"
      ]
     },
     "execution_count": 55,
     "metadata": {},
     "output_type": "execute_result"
    }
   ],
   "source": [
    "data15=data[['Stream Lenght','Stream Lenght Ratio']]\n",
    "ss = StandardScaler()\n",
    "data16 = ss.fit_transform(data15)\n",
    "data16"
   ]
  },
  {
   "cell_type": "markdown",
   "metadata": {},
   "source": [
    "RobustScaler sustrae de cada columna la media y divide por el rango intercuartil."
   ]
  },
  {
   "cell_type": "code",
   "execution_count": 56,
   "metadata": {
    "scrolled": true
   },
   "outputs": [
    {
     "data": {
      "text/plain": [
       "array([[-4.78350708e-01, -1.58673610e+00],\n",
       "       [-4.53690556e-01, -2.09297272e+00],\n",
       "       [-6.08852362e-02, -7.92650822e-01],\n",
       "       [ 4.69896065e+00, -4.63232326e-02],\n",
       "       [-3.94068389e-01,  4.10188974e+00],\n",
       "       [ 5.36330728e-01,  2.66651629e-01],\n",
       "       [-5.01328320e-01, -1.37899578e+00],\n",
       "       [-4.26056830e-01, -3.53240791e-01],\n",
       "       [-9.24386720e-02, -9.22062398e-01],\n",
       "       [-3.08807308e-01, -2.89836968e-01],\n",
       "       [-4.21753383e-01, -7.76662794e-01],\n",
       "       [ 1.79051377e-01,  1.09229412e-01],\n",
       "       [ 1.69931797e-01,  1.63449173e+00],\n",
       "       [ 4.20712477e-01,  4.78217192e-02],\n",
       "       [-2.91096369e-01,  3.65241936e-02],\n",
       "       [ 3.95084438e+00,  3.71394368e-01],\n",
       "       [ 3.18545217e+00,  8.71733775e-01],\n",
       "       [ 1.72667671e+00, -2.11214050e-01],\n",
       "       [ 6.26724875e+00,  1.01736455e+00],\n",
       "       [ 4.72254416e+00,  6.71223729e-01],\n",
       "       [ 1.17435953e-01, -1.26280460e+00],\n",
       "       [ 0.00000000e+00, -8.41926015e-01],\n",
       "       [ 2.96844656e-01, -8.45342538e-01],\n",
       "       [-2.60381873e-01, -2.70088045e-01],\n",
       "       [-2.31174360e-01, -1.09889551e-01],\n",
       "       [-4.60717448e-01,  6.26529095e-01],\n",
       "       [-4.97972564e-01, -2.49959137e+00],\n",
       "       [ 4.47744962e-02,  2.62002165e-01],\n",
       "       [-1.52842295e-01,  1.21221773e-01],\n",
       "       [ 5.53528982e-01,  1.80013936e-02],\n",
       "       [ 9.54588531e-01, -3.65618578e-02],\n",
       "       [-1.35286715e-01,  0.00000000e+00],\n",
       "       [ 3.30335420e+00,  1.24650273e+01],\n",
       "       [ 5.39277891e+00, -9.56250917e-01],\n",
       "       [-3.29190424e-01,  8.05705416e+00],\n",
       "       [-2.22256746e-01, -1.18585880e+00],\n",
       "       [ 1.22376373e-01, -2.15902729e-01],\n",
       "       [ 9.76711669e-01,  8.53134152e-02],\n",
       "       [ 1.23279009e+00,  3.52918623e-01],\n",
       "       [ 3.02018115e-01,  1.15729527e+00],\n",
       "       [-1.61992947e-01,  3.35544242e-02],\n",
       "       [-1.05784020e-01,  7.60559625e-01],\n",
       "       [-3.92250687e-01, -1.75003033e+00],\n",
       "       [ 1.66445539e+00,  2.54121040e-01],\n",
       "       [ 4.55994531e-01,  2.18200491e-01],\n",
       "       [-4.02473317e-01, -3.05054090e-01],\n",
       "       [ 1.12107136e+00, -3.82829607e-01],\n",
       "       [-3.27217363e-01,  8.30872788e-01],\n",
       "       [-5.92228937e-02, -1.71501122e-01],\n",
       "       [-1.12076064e-01,  4.87416931e-01],\n",
       "       [ 2.87740612e-01,  1.15323441e+00],\n",
       "       [-2.03520437e-01, -9.62515108e-01],\n",
       "       [ 1.20558671e-02, -3.99898753e-01],\n",
       "       [ 1.57285566e-01,  6.24320216e-01],\n",
       "       [ 1.02537014e-03,  5.62400297e-01],\n",
       "       [ 1.22826914e-01, -2.36562805e-02],\n",
       "       [-3.43732037e-01, -8.72912272e-01],\n",
       "       [ 1.52561095e+00, -1.38752898e-01],\n",
       "       [ 1.17917566e-02, -4.88313338e-01],\n",
       "       [-3.93835350e-01, -2.28717398e+00],\n",
       "       [ 7.08903631e-01,  1.96344992e-01],\n",
       "       [-1.15431821e-01,  8.00581939e-01],\n",
       "       [-2.00894868e-01,  1.53252212e-01],\n",
       "       [-3.67952522e-01,  5.42205254e+00],\n",
       "       [-2.97248590e-01,  1.68294339e-01],\n",
       "       [ 8.63905417e-01,  1.35795429e+00],\n",
       "       [ 7.73461556e+00,  4.86576156e-01],\n",
       "       [ 7.53320801e-01, -5.22437988e-01],\n",
       "       [-1.42666273e-01, -1.41221596e+00],\n",
       "       [ 5.21354110e+00, -2.03489226e-01],\n",
       "       [-1.95581587e-01, -4.91199341e-01],\n",
       "       [-1.11594451e-01,  9.99497962e-02],\n",
       "       [-4.76470862e-01, -5.13423844e-01]])"
      ]
     },
     "execution_count": 56,
     "metadata": {},
     "output_type": "execute_result"
    }
   ],
   "source": [
    "rs=RobustScaler()\n",
    "data17 = rs.fit_transform(data15)\n",
    "data17"
   ]
  },
  {
   "cell_type": "markdown",
   "metadata": {},
   "source": [
    "MinMaxScaler obtiene la media de la columna y divide por el rango"
   ]
  },
  {
   "cell_type": "code",
   "execution_count": 57,
   "metadata": {
    "scrolled": true
   },
   "outputs": [
    {
     "data": {
      "text/plain": [
       "array([[2.78991857e-03, 6.10009042e-02],\n",
       "       [5.78412934e-03, 2.71720020e-02],\n",
       "       [5.34781551e-02, 1.14065088e-01],\n",
       "       [6.31413842e-01, 1.63937899e-01],\n",
       "       [1.30233927e-02, 4.41139280e-01],\n",
       "       [1.25991515e-01, 1.84852221e-01],\n",
       "       [0.00000000e+00, 7.48830033e-02],\n",
       "       [9.13938841e-03, 1.43428351e-01],\n",
       "       [4.96469687e-02, 1.05417252e-01],\n",
       "       [2.33757071e-02, 1.47665266e-01],\n",
       "       [9.66190865e-03, 1.15133477e-01],\n",
       "       [8.26110167e-02, 1.74332594e-01],\n",
       "       [8.15037265e-02, 2.76257163e-01],\n",
       "       [1.11953264e-01, 1.70229068e-01],\n",
       "       [2.55261515e-02, 1.69474119e-01],\n",
       "       [5.40578319e-01, 1.91851580e-01],\n",
       "       [4.47645169e-01, 2.25286405e-01],\n",
       "       [2.70522124e-01, 1.52919187e-01],\n",
       "       [8.21833801e-01, 2.35018078e-01],\n",
       "       [6.34277328e-01, 2.11887464e-01],\n",
       "       [7.51297340e-02, 8.26473966e-02],\n",
       "       [6.08707790e-02, 1.10772308e-01],\n",
       "       [9.69133578e-02, 1.10544002e-01],\n",
       "       [2.92554747e-02, 1.48984974e-01],\n",
       "       [3.28018215e-02, 1.59690125e-01],\n",
       "       [4.93093112e-03, 2.08900777e-01],\n",
       "       [4.07452610e-04, 0.00000000e+00],\n",
       "       [6.63072532e-02, 1.84541524e-01],\n",
       "       [4.23128217e-02, 1.75133974e-01],\n",
       "       [1.28079710e-01, 1.68236346e-01],\n",
       "       [1.76775956e-01, 1.64590196e-01],\n",
       "       [4.44444025e-02, 1.67033416e-01],\n",
       "       [4.61960715e-01, 1.00000000e+00],\n",
       "       [7.15656555e-01, 1.03132628e-01],\n",
       "       [2.09008098e-02, 7.05440330e-01],\n",
       "       [3.38845890e-02, 8.77892449e-02],\n",
       "       [7.57295948e-02, 1.52605869e-01],\n",
       "       [1.79462125e-01, 1.72734424e-01],\n",
       "       [2.10554909e-01, 1.90616952e-01],\n",
       "       [9.75415140e-02, 2.44368849e-01],\n",
       "       [4.12017588e-02, 1.69275666e-01],\n",
       "       [4.80265901e-02, 2.17857272e-01],\n",
       "       [1.32440962e-02, 5.00888835e-02],\n",
       "       [2.62967274e-01, 1.84014873e-01],\n",
       "       [1.16237175e-01, 1.81614508e-01],\n",
       "       [1.20028748e-02, 1.46648393e-01],\n",
       "       [1.96990132e-01, 1.41451099e-01],\n",
       "       [2.11403769e-02, 2.22555899e-01],\n",
       "       [5.36799950e-02, 1.55572975e-01],\n",
       "       [4.72626164e-02, 1.99604705e-01],\n",
       "       [9.58079540e-02, 2.44097485e-01],\n",
       "       [3.61595328e-02, 1.02714028e-01],\n",
       "       [6.23345903e-02, 1.40310466e-01],\n",
       "       [7.99682338e-02, 2.08753170e-01],\n",
       "       [6.09952785e-02, 2.04615416e-01],\n",
       "       [7.57842991e-02, 1.65452602e-01],\n",
       "       [1.91351818e-02, 1.08701674e-01],\n",
       "       [2.46108922e-01, 1.57761352e-01],\n",
       "       [6.23025222e-02, 1.34402224e-01],\n",
       "       [1.30516880e-02, 1.41946408e-02],\n",
       "       [1.46945143e-01, 1.80154030e-01],\n",
       "       [4.68551638e-02, 2.20531734e-01],\n",
       "       [3.64783267e-02, 1.77274386e-01],\n",
       "       [1.61943549e-02, 5.29358221e-01],\n",
       "       [2.47791550e-02, 1.78279565e-01],\n",
       "       [1.65765304e-01, 2.57777745e-01],\n",
       "       [1.00000000e+00, 1.99548521e-01],\n",
       "       [1.52338231e-01, 1.32121869e-01],\n",
       "       [4.35483841e-02, 7.26630885e-02],\n",
       "       [6.93893681e-01, 1.53435393e-01],\n",
       "       [3.71234600e-02, 1.34209369e-01],\n",
       "       [4.73210934e-02, 1.73712490e-01],\n",
       "       [3.01816748e-03, 1.32724232e-01]])"
      ]
     },
     "execution_count": 57,
     "metadata": {},
     "output_type": "execute_result"
    }
   ],
   "source": [
    "mm = MinMaxScaler()\n",
    "data18 = mm.fit_transform(data15)\n",
    "data18"
   ]
  },
  {
   "cell_type": "markdown",
   "metadata": {},
   "source": [
    "La función *Normalizer* a diferencia de las otras opera sobre las filas, y aplica por defecto la normalización conocidad como l2."
   ]
  },
  {
   "cell_type": "code",
   "execution_count": null,
   "metadata": {
    "collapsed": true,
    "jupyter": {
     "outputs_hidden": true
    },
    "scrolled": true
   },
   "outputs": [],
   "source": [
    "n = Normalizer()\n",
    "data19 = n.fit_transform(data15)\n",
    "data19"
   ]
  }
 ],
 "metadata": {
  "kernelspec": {
   "display_name": "Python 3",
   "language": "python",
   "name": "python3"
  },
  "language_info": {
   "codemirror_mode": {
    "name": "ipython",
    "version": 3
   },
   "file_extension": ".py",
   "mimetype": "text/x-python",
   "name": "python",
   "nbconvert_exporter": "python",
   "pygments_lexer": "ipython3",
   "version": "3.7.4"
  },
  "toc": {
   "base_numbering": 1,
   "nav_menu": {},
   "number_sections": true,
   "sideBar": true,
   "skip_h1_title": false,
   "title_cell": "Table of Contents",
   "title_sidebar": "Contents",
   "toc_cell": false,
   "toc_position": {},
   "toc_section_display": true,
   "toc_window_display": false
  }
 },
 "nbformat": 4,
 "nbformat_minor": 4
}
