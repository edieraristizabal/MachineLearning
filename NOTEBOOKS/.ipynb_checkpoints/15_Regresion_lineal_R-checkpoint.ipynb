{
 "cells": [
  {
   "cell_type": "markdown",
   "id": "9bdf8088-25d5-4b7c-891f-b88dbc37cf29",
   "metadata": {},
   "source": [
    "**CURSO**: *Machine Learning* en Geociencias<br />\n",
    "**Profesor**: Edier Aristizábal (evaristizabalg@unal.edu.co) <br />\n",
    "**Credits**: The content of this notebook is taken from several sources such as: [The Data Beast](https://medium.com/@thedatabeast/harnessing-the-power-of-generalized-linear-models-from-conceptualization-to-deployment-9149d161492c), [pyGAM](https://pygam.readthedocs.io/en/latest/index.html), [Tesi Xiao](https://tesixiao.github.io/teaching/2022-winter-142a), [Pablo Oberhauser](https://codeburst.io/pygam-getting-started-with-generalized-additive-models-in-python-457df5b4705f). Every effort has been made to trace copyright holders of the materials used in this notebook. The author apologizes for any unintentional omissions and would be pleased to add an acknowledgment in future editions."
   ]
  },
  {
   "cell_type": "code",
   "execution_count": null,
   "id": "c77b19df-c3bb-4158-85fd-992f2acdfc5b",
   "metadata": {},
   "outputs": [],
   "source": [
    "install.packages(\"gamair\")"
   ]
  },
  {
   "cell_type": "markdown",
   "id": "9382e19f-7e25-44b9-ad46-ad755691aced",
   "metadata": {},
   "source": [
    "# 15b. Regresión lineal en R"
   ]
  },
  {
   "cell_type": "code",
   "execution_count": 11,
   "id": "a1bfd8ad-8ea5-49a6-a103-0e43248a69a6",
   "metadata": {},
   "outputs": [],
   "source": [
    "library(gamair)"
   ]
  },
  {
   "cell_type": "markdown",
   "id": "d72dd772-862d-4d02-9e44-73c208c248fa",
   "metadata": {},
   "source": [
    "En este caso se importa la base de datos Hubble y se define el modelo como *y~x*, y el valor de $-1$ significa que el modelo es sin intercepto, por lo cual es una linea recta que cruza el origen. Este modelo ajusta el coeficiente utilizando \"OLS\""
   ]
  },
  {
   "cell_type": "code",
   "execution_count": 6,
   "id": "ec05b4dd-08e7-4942-bea8-7317f48acb49",
   "metadata": {},
   "outputs": [
    {
     "data": {
      "text/plain": [
       "\n",
       "Call:\n",
       "lm(formula = y ~ x - 1, data = hubble)\n",
       "\n",
       "Residuals:\n",
       "   Min     1Q Median     3Q    Max \n",
       "-736.5 -132.5  -19.0  172.2  558.0 \n",
       "\n",
       "Coefficients:\n",
       "  Estimate Std. Error t value Pr(>|t|)    \n",
       "x   76.581      3.965   19.32 1.03e-15 ***\n",
       "---\n",
       "Signif. codes:  0 '***' 0.001 '**' 0.01 '*' 0.05 '.' 0.1 ' ' 1\n",
       "\n",
       "Residual standard error: 258.9 on 23 degrees of freedom\n",
       "Multiple R-squared:  0.9419,\tAdjusted R-squared:  0.9394 \n",
       "F-statistic: 373.1 on 1 and 23 DF,  p-value: 1.032e-15\n"
      ]
     },
     "metadata": {},
     "output_type": "display_data"
    }
   ],
   "source": [
    "data(hubble)\n",
    "hub.mod=lm(y~x-1,data=hubble)\n",
    "summary(hub.mod)"
   ]
  },
  {
   "cell_type": "markdown",
   "id": "f8171e53-3d1a-4169-aa06-8c012b68fb0d",
   "metadata": {},
   "source": [
    "El resultado arroja un $\\beta=76.5$ con un $p-value<5\\%$ lo que señala que dicho valor es estadísticamente significativo, y un $R^2=0.93$. Sin embargo se debe primero revisar la robustes de los supuestos, evaluando la distribución de los residuos. Una tendencia en la media viola el supuesto de indepedencia, y generalmente indica que alguna variable está faltando o que existe una relación diferente a la lineal entre $y$ y $x$, mientras que una tendencia en la varianza viola el supuesto de la varianza constante, donde transformar la variable $y$, o utilizar un GLM puede ser de ayuda."
   ]
  },
  {
   "cell_type": "code",
   "execution_count": 9,
   "id": "bfe6b55f-a65f-4d3a-9164-4162cdbf983c",
   "metadata": {},
   "outputs": [
    {
     "data": {
      "image/png": "[encoded data removed]",
      "text/plain": [
       "plot without title"
      ]
     },
     "metadata": {
      "image/png": {
       "height": 420,
       "width": 420
      }
     },
     "output_type": "display_data"
    }
   ],
   "source": [
    "plot(fitted(hub.mod),residuals(hub.mod), xlab=\"fitted values\",ylab=\"residuals\")"
   ]
  },
  {
   "cell_type": "markdown",
   "id": "89a05b13-de14-42d5-b89b-62d223af9bf1",
   "metadata": {},
   "source": [
    "Los resultados muestran una distribución aleatoria de los residuos, sin una tendencia en la media. Probablemente el mayor problema lo representan dos puntos con valores muy grandes que violan el supuesto de la varianza constante. Por lo que se deberían revisar dichas medidas, y si existe un problema en la medicion de dichos datos se podrían retirar y correr el modelo sin ellos, lo cual probablemente mejore los resultados."
   ]
  },
  {
   "cell_type": "markdown",
   "id": "ec555c57-57fe-464c-82e8-1526ff846ba8",
   "metadata": {},
   "source": [
    "A continuación se mostrará un ejercicio completo del libro \"Generalized Additive Models\" con datos del Baker & Bellis (1993) conocido como \"Human Sperm competition\"."
   ]
  },
  {
   "cell_type": "code",
   "execution_count": 14,
   "id": "4f808cc7-02fb-47c7-afff-2276cdaa361a",
   "metadata": {},
   "outputs": [
    {
     "data": {
      "image/png": "[encoded data removed]",
      "text/plain": [
       "plot without title"
      ]
     },
     "metadata": {
      "image/png": {
       "height": 420,
       "width": 420
      }
     },
     "output_type": "display_data"
    }
   ],
   "source": [
    "library(gamair)\n",
    "data(sperm.comp1)\n",
    "pairs(sperm.comp1[,-1])"
   ]
  },
  {
   "cell_type": "markdown",
   "id": "fe026bef-d2f9-4bab-b090-73a7d33b97d5",
   "metadata": {},
   "source": [
    "La anterior figura muestra las tres variables de los datos. \"count\" es el número de esperma en millones de uan copulación, \"time.ipc\" es el tiempo en hgoras desde la ultiam copulatión, y \"prop.partner\" es la proporción del tiempo desde la previa copulación que la pareja ha permanecido junta. La figura de la derecha media señala un claro patrón en la reducción del número de esperma cuando cuando aumenta la proporción del tiempo que están juntos.\n",
    "\n",
    "$\n",
    "y_i=\\beta_0+t_i\\beta_1+p_i\\beta_2+\\epsilon_i\n",
    "$\n",
    "\n",
    "Donde $y_i$ es \"sperm count\", $t_i$ es \"time.ipc\" y $p_i$ es \"prop.partner\""
   ]
  },
  {
   "cell_type": "code",
   "execution_count": 15,
   "id": "b2d65915-5ca7-4672-bc4c-42f77ced150d",
   "metadata": {},
   "outputs": [],
   "source": [
    "sc.mod1=lm(count~time.ipc+prop.partner,sperm.comp1)"
   ]
  },
  {
   "cell_type": "code",
   "execution_count": 16,
   "id": "9c86a321-4dd4-4334-b73c-3c290d2e6b96",
   "metadata": {},
   "outputs": [
    {
     "data": {
      "image/png": "[encoded data removed]",
      "text/plain": [
       "Plot with title \"\""
      ]
     },
     "metadata": {
      "image/png": {
       "height": 420,
       "width": 420
      }
     },
     "output_type": "display_data"
    }
   ],
   "source": [
    "par(mfrow=c(2,2))\n",
    "plot(sc.mod1)"
   ]
  },
  {
   "cell_type": "markdown",
   "id": "0ebc7ad1-62ac-459f-a4ab-6693aaeda13f",
   "metadata": {},
   "source": [
    "La figura superior izquierda muestra el residuo del modelo contra los valores del modelo ajustado. Los residuales deben estar aleatoriamente distribidos alrededor de cero y la varianza debe ser constante. Todo parece estar bien. La figura inferior izquierda ayuda a evaluar con mas detalle la varianza de los residuos, lo cual se ve bien. La figura superior derecha es el conocido plot QQ (quantile-quantile), que compara los residuos estandarizados contra los cuantiles de una distribucion normal estandar. Si los residuos presentan una distribución normal deben graficar a lo largo de una linea de 45 grados, en la figura se observa qeu dichos puntos se ajustan bastante bien a uan dsitribución normal, con alguna pequeña desviación en las colas. Finalmente, la figura inferior derecha muestra el residuo estandarizado contra la importancia de cada valor, un avlor grande el residuo contra un valor grande del \"leverage\"señala uan alta influencia de dicho valor en el ajuste del modelo. En la figura también se puede observar la distancia de Cook que también evalua dicha importancia. \n",
    "\n",
    "En las 4 figuras el noveno valor es destacado, por lo tanto es bueno revisarlo:"
   ]
  },
  {
   "cell_type": "code",
   "execution_count": 17,
   "id": "42b2eaab-80c4-4e4c-b9ee-3b1663473e92",
   "metadata": {},
   "outputs": [
    {
     "data": {
      "text/html": [
       "<table class=\"dataframe\">\n",
       "<caption>A data.frame: 1 × 4</caption>\n",
       "<thead>\n",
       "\t<tr><th></th><th scope=col>subject</th><th scope=col>time.ipc</th><th scope=col>prop.partner</th><th scope=col>count</th></tr>\n",
       "\t<tr><th></th><th scope=col>&lt;fct&gt;</th><th scope=col>&lt;int&gt;</th><th scope=col>&lt;dbl&gt;</th><th scope=col>&lt;int&gt;</th></tr>\n",
       "</thead>\n",
       "<tbody>\n",
       "\t<tr><th scope=row>9</th><td>P</td><td>31</td><td>0.3</td><td>76</td></tr>\n",
       "</tbody>\n",
       "</table>\n"
      ],
      "text/latex": [
       "A data.frame: 1 × 4\n",
       "\\begin{tabular}{r|llll}\n",
       "  & subject & time.ipc & prop.partner & count\\\\\n",
       "  & <fct> & <int> & <dbl> & <int>\\\\\n",
       "\\hline\n",
       "\t9 & P & 31 & 0.3 & 76\\\\\n",
       "\\end{tabular}\n"
      ],
      "text/markdown": [
       "\n",
       "A data.frame: 1 × 4\n",
       "\n",
       "| <!--/--> | subject &lt;fct&gt; | time.ipc &lt;int&gt; | prop.partner &lt;dbl&gt; | count &lt;int&gt; |\n",
       "|---|---|---|---|---|\n",
       "| 9 | P | 31 | 0.3 | 76 |\n",
       "\n"
      ],
      "text/plain": [
       "  subject time.ipc prop.partner count\n",
       "9 P       31       0.3          76   "
      ]
     },
     "metadata": {},
     "output_type": "display_data"
    }
   ],
   "source": [
    "sperm.comp1[9,]"
   ]
  },
  {
   "cell_type": "markdown",
   "id": "733d89c7-1e09-4194-96cf-b69199e0dfb2",
   "metadata": {},
   "source": [
    "Aunque este valor incorpora incertidumbre al modelo no existe una razón para ser removido de los datos. En este sentido como los supuestso del modelo parecen razonables, se puede proceder a examinar el modelo:"
   ]
  },
  {
   "cell_type": "code",
   "execution_count": 19,
   "id": "ee9fb363-a8c7-4482-b537-0627c8bc8a98",
   "metadata": {},
   "outputs": [
    {
     "data": {
      "text/plain": [
       "\n",
       "Call:\n",
       "lm(formula = count ~ time.ipc + prop.partner, data = sperm.comp1)\n",
       "\n",
       "Residuals:\n",
       "     Min       1Q   Median       3Q      Max \n",
       "-239.740  -96.772    2.171   96.837  163.997 \n",
       "\n",
       "Coefficients:\n",
       "              Estimate Std. Error t value Pr(>|t|)   \n",
       "(Intercept)   357.4184    88.0822   4.058  0.00159 **\n",
       "time.ipc        1.9416     0.9067   2.141  0.05346 . \n",
       "prop.partner -339.5602   126.2535  -2.690  0.01969 * \n",
       "---\n",
       "Signif. codes:  0 '***' 0.001 '**' 0.01 '*' 0.05 '.' 0.1 ' ' 1\n",
       "\n",
       "Residual standard error: 136.6 on 12 degrees of freedom\n",
       "Multiple R-squared:  0.4573,\tAdjusted R-squared:  0.3669 \n",
       "F-statistic: 5.056 on 2 and 12 DF,  p-value: 0.02554\n"
      ]
     },
     "metadata": {},
     "output_type": "display_data"
    }
   ],
   "source": [
    "summary(sc.mod1)"
   ]
  },
  {
   "cell_type": "markdown",
   "id": "1ca6540b-f736-4e41-9dc2-07e8d840c6db",
   "metadata": {},
   "source": [
    "El modelo solo explica el 37% ($R^2=0.3669$) de la varianza de $y$, donde el intercepto es 357, lo que significa que este es el valor esperado de esperma cuando $time.ipc$ y $prop.partner$ es cero, lo cual no tiene sentido en su interpretación. Dado que el menor valor de $time.ipc$ es 31 horas no se espera predecir un valor de $y$ cerca a cero. en términos de los coeficientes son 1.9 para $time.ipc$ y -339 para $prop.partner$. Estos valores tienen sentido solo con respecto a $y$, inicialmente no se pueden evaluar uno con respecto al otro, si es mayor o menor, ya que sus magnitudes son diferentes.\n",
    "El F-statistic evalua la hipótesis que los datos fueron generados de un modelo con solo intercepto contra la hipotesis alternativa de que el modelo ajustado en realidad generó los datos.\n",
    "\n",
    "Es importante tener en cuenta que cuando el modelo no incluye el intercepto, tanto la estimación del $r^2$ como F-statistic se ve afectada ya que se compara el modelo ajustado con un modelo de media cero, en lugar del intercepto.\n",
    "\n",
    "De acuerdo con los resultados parece que $time.ipc$ puede no ser tan importante, el p-value está ligeramente por encima del 5%. Ahora miraremos el desempeño del modelo sin esta variable."
   ]
  },
  {
   "cell_type": "code",
   "execution_count": 23,
   "id": "247eef68-5c2e-404a-aa89-1407763778aa",
   "metadata": {},
   "outputs": [
    {
     "data": {
      "text/plain": [
       "\n",
       "Call:\n",
       "lm(formula = count ~ prop.partner, data = sperm.comp1)\n",
       "\n",
       "Residuals:\n",
       "    Min      1Q  Median      3Q     Max \n",
       "-287.83 -111.30   18.84  117.45  210.61 \n",
       "\n",
       "Coefficients:\n",
       "             Estimate Std. Error t value Pr(>|t|)    \n",
       "(Intercept)    451.50      86.23   5.236 0.000161 ***\n",
       "prop.partner  -292.23     140.40  -2.081 0.057727 .  \n",
       "---\n",
       "Signif. codes:  0 '***' 0.001 '**' 0.01 '*' 0.05 '.' 0.1 ' ' 1\n",
       "\n",
       "Residual standard error: 154.3 on 13 degrees of freedom\n",
       "Multiple R-squared:   0.25,\tAdjusted R-squared:  0.1923 \n",
       "F-statistic: 4.332 on 1 and 13 DF,  p-value: 0.05773\n"
      ]
     },
     "metadata": {},
     "output_type": "display_data"
    }
   ],
   "source": [
    "sc.mod3=lm(count~prop.partner, sperm.comp1)\n",
    "summary(sc.model3)"
   ]
  },
  {
   "cell_type": "markdown",
   "id": "d08d1a06-21a1-47a8-9796-d7a8f925e912",
   "metadata": {},
   "source": [
    "Como se observa, el modelo no mejora, todo lo contrario la relación entre $y$ y $prop.partner$ tambien se reduce. Si utilizamos el AIC (Akaike's Information Criterion) para comparar los modelos obtenidos hasta ahora y un modelo nulo (sc.mmod4) representado solo por el intercepto nos queda:"
   ]
  },
  {
   "cell_type": "code",
   "execution_count": 21,
   "id": "1fc000c5-3801-4814-91f2-1fdbf7006909",
   "metadata": {},
   "outputs": [],
   "source": [
    "#modelo nulo\n",
    "sc.mod4=lm(count~1,sperm.comp1)"
   ]
  },
  {
   "cell_type": "code",
   "execution_count": 24,
   "id": "c93817e2-8a04-4665-80f2-c8d589ef6d4a",
   "metadata": {},
   "outputs": [
    {
     "data": {
      "text/html": [
       "<table class=\"dataframe\">\n",
       "<caption>A data.frame: 3 × 2</caption>\n",
       "<thead>\n",
       "\t<tr><th></th><th scope=col>df</th><th scope=col>AIC</th></tr>\n",
       "\t<tr><th></th><th scope=col>&lt;dbl&gt;</th><th scope=col>&lt;dbl&gt;</th></tr>\n",
       "</thead>\n",
       "<tbody>\n",
       "\t<tr><th scope=row>sc.mod1</th><td>4</td><td>194.7346</td></tr>\n",
       "\t<tr><th scope=row>sc.mod3</th><td>3</td><td>197.5889</td></tr>\n",
       "\t<tr><th scope=row>sc.mod4</th><td>2</td><td>199.9031</td></tr>\n",
       "</tbody>\n",
       "</table>\n"
      ],
      "text/latex": [
       "A data.frame: 3 × 2\n",
       "\\begin{tabular}{r|ll}\n",
       "  & df & AIC\\\\\n",
       "  & <dbl> & <dbl>\\\\\n",
       "\\hline\n",
       "\tsc.mod1 & 4 & 194.7346\\\\\n",
       "\tsc.mod3 & 3 & 197.5889\\\\\n",
       "\tsc.mod4 & 2 & 199.9031\\\\\n",
       "\\end{tabular}\n"
      ],
      "text/markdown": [
       "\n",
       "A data.frame: 3 × 2\n",
       "\n",
       "| <!--/--> | df &lt;dbl&gt; | AIC &lt;dbl&gt; |\n",
       "|---|---|---|\n",
       "| sc.mod1 | 4 | 194.7346 |\n",
       "| sc.mod3 | 3 | 197.5889 |\n",
       "| sc.mod4 | 2 | 199.9031 |\n",
       "\n"
      ],
      "text/plain": [
       "        df AIC     \n",
       "sc.mod1 4  194.7346\n",
       "sc.mod3 3  197.5889\n",
       "sc.mod4 2  199.9031"
      ]
     },
     "metadata": {},
     "output_type": "display_data"
    }
   ],
   "source": [
    "AIC(sc.mod1,sc.mod3,sc.mod4)"
   ]
  },
  {
   "cell_type": "markdown",
   "id": "1dd10807-1c33-4b5a-ba90-072c552dc9c4",
   "metadata": {},
   "source": [
    "Los resultados demuestran que el sc.mod1 es el mejor modelo entre ellos. Para predecir entonces con nuevos valores:"
   ]
  },
  {
   "cell_type": "code",
   "execution_count": 28,
   "id": "c2effde7-bc9e-42f2-b8f5-ac9937b0ae1b",
   "metadata": {},
   "outputs": [
    {
     "data": {
      "text/html": [
       "<dl>\n",
       "\t<dt>$fit</dt>\n",
       "\t\t<dd><style>\n",
       ".dl-inline {width: auto; margin:0; padding: 0}\n",
       ".dl-inline>dt, .dl-inline>dd {float: none; width: auto; display: inline-block}\n",
       ".dl-inline>dt::after {content: \":\\0020\"; padding-right: .5ex}\n",
       ".dl-inline>dt:not(:first-of-type) {padding-left: .5ex}\n",
       "</style><dl class=dl-inline><dt>1</dt><dd>300.207393816463</dd><dt>2</dt><dd>310.908387265747</dd><dt>3</dt><dd>421.979152760205</dd><dt>4</dt><dd>472.469847862037</dd></dl>\n",
       "</dd>\n",
       "\t<dt>$se.fit</dt>\n",
       "\t\t<dd><style>\n",
       ".dl-inline {width: auto; margin:0; padding: 0}\n",
       ".dl-inline>dt, .dl-inline>dd {float: none; width: auto; display: inline-block}\n",
       ".dl-inline>dt::after {content: \":\\0020\"; padding-right: .5ex}\n",
       ".dl-inline>dt:not(:first-of-type) {padding-left: .5ex}\n",
       "</style><dl class=dl-inline><dt>1</dt><dd>55.2443127342628</dd><dt>2</dt><dd>41.1097737100872</dd><dt>3</dt><dd>76.2597962370907</dd><dt>4</dt><dd>72.8084854919274</dd></dl>\n",
       "</dd>\n",
       "\t<dt>$df</dt>\n",
       "\t\t<dd>12</dd>\n",
       "\t<dt>$residual.scale</dt>\n",
       "\t\t<dd>136.608600248791</dd>\n",
       "</dl>\n"
      ],
      "text/latex": [
       "\\begin{description}\n",
       "\\item[\\$fit] \\begin{description*}\n",
       "\\item[1] 300.207393816463\n",
       "\\item[2] 310.908387265747\n",
       "\\item[3] 421.979152760205\n",
       "\\item[4] 472.469847862037\n",
       "\\end{description*}\n",
       "\n",
       "\\item[\\$se.fit] \\begin{description*}\n",
       "\\item[1] 55.2443127342628\n",
       "\\item[2] 41.1097737100872\n",
       "\\item[3] 76.2597962370907\n",
       "\\item[4] 72.8084854919274\n",
       "\\end{description*}\n",
       "\n",
       "\\item[\\$df] 12\n",
       "\\item[\\$residual.scale] 136.608600248791\n",
       "\\end{description}\n"
      ],
      "text/markdown": [
       "$fit\n",
       ":   1\n",
       ":   300.2073938164632\n",
       ":   310.9083872657473\n",
       ":   421.9791527602054\n",
       ":   472.469847862037\n",
       "\n",
       "\n",
       "$se.fit\n",
       ":   1\n",
       ":   55.24431273426282\n",
       ":   41.10977371008723\n",
       ":   76.25979623709074\n",
       ":   72.8084854919274\n",
       "\n",
       "\n",
       "$df\n",
       ":   12\n",
       "$residual.scale\n",
       ":   136.608600248791\n",
       "\n",
       "\n"
      ],
      "text/plain": [
       "$fit\n",
       "       1        2        3        4 \n",
       "300.2074 310.9084 421.9792 472.4698 \n",
       "\n",
       "$se.fit\n",
       "       1        2        3        4 \n",
       "55.24431 41.10977 76.25980 72.80849 \n",
       "\n",
       "$df\n",
       "[1] 12\n",
       "\n",
       "$residual.scale\n",
       "[1] 136.6086\n"
      ]
     },
     "metadata": {},
     "output_type": "display_data"
    }
   ],
   "source": [
    "df=data.frame(time.ipc=c(23,46,35,68), prop.partner=c(0.3,0.4,0.01,0.05))\n",
    "predict(sc.mod1,df,se=TRUE)  #obtener el error estandar"
   ]
  },
  {
   "cell_type": "markdown",
   "id": "0c88cd68-f3d0-433e-8890-23449d6b7954",
   "metadata": {},
   "source": [
    "### Colinealidad, correlación y causación"
   ]
  },
  {
   "cell_type": "markdown",
   "id": "6897a7e9-a6f9-4fbc-a98b-d4ad7cdc48f1",
   "metadata": {},
   "source": [
    "A continuación vamos a crear las variables $x$, $y$ y $z$. donde $z$ y $y$ es función de $x$, pero no existe causa entre $y$ y $z$, ambas son controladas por $x$."
   ]
  },
  {
   "cell_type": "code",
   "execution_count": 29,
   "id": "e9de5c8b-2996-4382-a792-086f5843ffa7",
   "metadata": {},
   "outputs": [],
   "source": [
    "n=100\n",
    "x=runif(n)\n",
    "z=x+rnorm(n)*.05\n",
    "y=2+3*x+rnorm(n)"
   ]
  },
  {
   "cell_type": "code",
   "execution_count": 30,
   "id": "29e8907d-0d2e-4ec0-ad95-ef394249368c",
   "metadata": {
    "scrolled": true
   },
   "outputs": [
    {
     "data": {
      "text/plain": [
       "\n",
       "Call:\n",
       "lm(formula = y ~ z)\n",
       "\n",
       "Residuals:\n",
       "     Min       1Q   Median       3Q      Max \n",
       "-2.77802 -0.86271  0.04508  0.86977  3.10962 \n",
       "\n",
       "Coefficients:\n",
       "            Estimate Std. Error t value Pr(>|t|)    \n",
       "(Intercept)   2.3000     0.2270   10.13  < 2e-16 ***\n",
       "z             2.9507     0.4104    7.19  1.3e-10 ***\n",
       "---\n",
       "Signif. codes:  0 '***' 0.001 '**' 0.01 '*' 0.05 '.' 0.1 ' ' 1\n",
       "\n",
       "Residual standard error: 1.166 on 98 degrees of freedom\n",
       "Multiple R-squared:  0.3453,\tAdjusted R-squared:  0.3386 \n",
       "F-statistic: 51.69 on 1 and 98 DF,  p-value: 1.299e-10\n"
      ]
     },
     "metadata": {},
     "output_type": "display_data"
    }
   ],
   "source": [
    "summary(lm(y~z))"
   ]
  },
  {
   "cell_type": "markdown",
   "id": "8597d7ef-e4b1-49d9-b218-e2542e9b093e",
   "metadata": {},
   "source": [
    "Aun cuando sabemos que $z$ no tiene ningun role generando $y$, el modelo obtenido señala una fuerte evidencia que $z$ predice adecuadamente $y$"
   ]
  },
  {
   "cell_type": "code",
   "execution_count": 31,
   "id": "162ea43d-01c5-4513-9337-2a906cedc180",
   "metadata": {},
   "outputs": [
    {
     "data": {
      "text/plain": [
       "\n",
       "Call:\n",
       "lm(formula = y ~ x + z)\n",
       "\n",
       "Residuals:\n",
       "    Min      1Q  Median      3Q     Max \n",
       "-2.7331 -0.8028  0.0023  0.8310  2.8610 \n",
       "\n",
       "Coefficients:\n",
       "            Estimate Std. Error t value Pr(>|t|)    \n",
       "(Intercept)   2.2876     0.2212  10.341   <2e-16 ***\n",
       "x             5.9611     2.3887   2.496   0.0143 *  \n",
       "z            -2.9774     2.4089  -1.236   0.2194    \n",
       "---\n",
       "Signif. codes:  0 '***' 0.001 '**' 0.01 '*' 0.05 '.' 0.1 ' ' 1\n",
       "\n",
       "Residual standard error: 1.136 on 97 degrees of freedom\n",
       "Multiple R-squared:  0.3848,\tAdjusted R-squared:  0.3721 \n",
       "F-statistic: 30.34 on 2 and 97 DF,  p-value: 5.842e-11\n"
      ]
     },
     "metadata": {},
     "output_type": "display_data"
    }
   ],
   "source": [
    "summary(lm(y~x+z))"
   ]
  },
  {
   "cell_type": "markdown",
   "id": "aba918d4-928b-438b-b495-6a9d9e0923ef",
   "metadata": {},
   "source": [
    "Cuando incorporamos en un nuevo modelo tanto $x$ y $z$, se observan ambos parámetros con valores similares de $\\beta$ y $R^2$ y altos valores de p-value y del std.error. No es posible distinguir cual es realmente la variable predictora. "
   ]
  },
  {
   "cell_type": "markdown",
   "id": "03c35538-d892-4835-bcf8-15a8fde9575e",
   "metadata": {},
   "source": [
    "### Especificaciones adicionales"
   ]
  },
  {
   "cell_type": "markdown",
   "id": "5cfd7db5-dd72-44b0-aceb-0c746c012222",
   "metadata": {},
   "source": [
    "Cuando se quiere incluir la interacción entre dos variables como covariable se utiliza la siguiente anotación:"
   ]
  },
  {
   "cell_type": "code",
   "execution_count": 42,
   "id": "58705c60-8337-4857-a50b-b6a66b7defde",
   "metadata": {},
   "outputs": [
    {
     "data": {
      "text/plain": [
       "\n",
       "Call:\n",
       "lm(formula = y ~ z:x)\n",
       "\n",
       "Residuals:\n",
       "    Min      1Q  Median      3Q     Max \n",
       "-2.5763 -0.7953  0.0145  0.8149  3.2281 \n",
       "\n",
       "Coefficients:\n",
       "            Estimate Std. Error t value Pr(>|t|)    \n",
       "(Intercept)   2.7872     0.1691  16.486  < 2e-16 ***\n",
       "z:x           2.9915     0.4046   7.393 4.88e-11 ***\n",
       "---\n",
       "Signif. codes:  0 '***' 0.001 '**' 0.01 '*' 0.05 '.' 0.1 ' ' 1\n",
       "\n",
       "Residual standard error: 1.155 on 98 degrees of freedom\n",
       "Multiple R-squared:  0.358,\tAdjusted R-squared:  0.3515 \n",
       "F-statistic: 54.66 on 1 and 98 DF,  p-value: 4.885e-11\n"
      ]
     },
     "metadata": {},
     "output_type": "display_data"
    }
   ],
   "source": [
    "summary(lm(y~z:x))"
   ]
  },
  {
   "cell_type": "markdown",
   "id": "aca176f5-6524-4ba1-a90f-10a9818a1962",
   "metadata": {},
   "source": [
    "Cuando se quiere incluir cada variable individualmente, pero adicionalmente la interacción entre las variables se utliza la siguiente anotación."
   ]
  },
  {
   "cell_type": "code",
   "execution_count": 43,
   "id": "d04438f6-d0ed-41d6-87cf-f97ed32b080c",
   "metadata": {},
   "outputs": [
    {
     "data": {
      "text/plain": [
       "\n",
       "Call:\n",
       "lm(formula = y ~ z * x)\n",
       "\n",
       "Residuals:\n",
       "     Min       1Q   Median       3Q      Max \n",
       "-2.63699 -0.84133  0.01551  0.89137  2.93929 \n",
       "\n",
       "Coefficients:\n",
       "            Estimate Std. Error t value Pr(>|t|)    \n",
       "(Intercept)    2.527      0.320   7.897 4.68e-12 ***\n",
       "z             -3.973      2.593  -1.532   0.1288    \n",
       "x              5.454      2.438   2.237   0.0276 *  \n",
       "z:x            1.552      1.499   1.035   0.3032    \n",
       "---\n",
       "Signif. codes:  0 '***' 0.001 '**' 0.01 '*' 0.05 '.' 0.1 ' ' 1\n",
       "\n",
       "Residual standard error: 1.136 on 96 degrees of freedom\n",
       "Multiple R-squared:  0.3916,\tAdjusted R-squared:  0.3726 \n",
       "F-statistic:  20.6 on 3 and 96 DF,  p-value: 2.189e-10\n"
      ]
     },
     "metadata": {},
     "output_type": "display_data"
    }
   ],
   "source": [
    "summary(lm(y~z*x))"
   ]
  }
 ],
 "metadata": {
  "kernelspec": {
   "display_name": "R",
   "language": "R",
   "name": "ir"
  },
  "language_info": {
   "codemirror_mode": "r",
   "file_extension": ".r",
   "mimetype": "text/x-r-source",
   "name": "R",
   "pygments_lexer": "r",
   "version": "4.3.2"
  }
 },
 "nbformat": 4,
 "nbformat_minor": 5
}
