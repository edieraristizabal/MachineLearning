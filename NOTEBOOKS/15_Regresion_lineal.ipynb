{
 "cells": [
  {
   "cell_type": "markdown",
   "metadata": {
    "id": "f9dKXji3yR1g"
   },
   "source": [
    "**CURSO**: *Machine Learning* en Geociencias<br />\n",
    "**Profesor**: Edier Aristizábal (evaristizabalg@unal.edu.co) <br />\n",
    "**Credits**: The content of this notebook is taken from several sources such as [Matteo Courthoud](https://matteocourthoud.github.io/course/ml-econ/01_regression/), Stuti Singh (2020) in Analytics Vidhya,  [Tirthajyoti Sarkar](https://towardsdatascience.com/how-do-you-check-the-quality-of-your-regression-model-in-python-fa61759ff685), [Jarom Hulet](https://towardsdatascience.com/how-to-interpret-logistic-regression-coefficients-db9381379ab3) and [Jae Kim](https://medium.com/towards-data-science/a-laymans-guide-to-maximum-likelihood-estimation-with-r-code-9e992a10ecd9) in Medium. Every effort has been made to trace copyright holders of the materials used in this notebook. The author apologies for any unintentional omissions and would be pleased to add an acknowledgment in future editions."
   ]
  },
  {
   "cell_type": "markdown",
   "metadata": {
    "id": "HJyqzTdOyR1l"
   },
   "source": [
    "# 15: Regresión Lineal"
   ]
  },
  {
   "cell_type": "markdown",
   "metadata": {
    "id": "nBATY6RRyR1m"
   },
   "source": [
    "La Regresión Lineal (RL) asume que las variables predictoras tienen una distribución Gaussiana y que no son correlacionables, por lo tanto es importante en el análisis de datos explorar estas condiciones. Adicionalmente, hay que tener en cuenta que los modelos de RL son modelos geométricos, es decir que se basan en calcular las distancias entre la predicción y los datos reales, por lo tanto es importante normalizar o estandarizar los datos."
   ]
  },
  {
   "cell_type": "code",
   "execution_count": 19,
   "metadata": {
    "executionInfo": {
     "elapsed": 4055,
     "status": "ok",
     "timestamp": 1697003163959,
     "user": {
      "displayName": "Edier Vicente Aristizabal Giraldo",
      "userId": "14756502124163770629"
     },
     "user_tz": -120
    },
    "id": "TcTloFNshmFU"
   },
   "outputs": [],
   "source": [
    "import warnings\n",
    "warnings.filterwarnings('ignore')\n",
    "\n",
    "import matplotlib.pyplot as plt\n",
    "import seaborn as sns\n",
    "import numpy as np\n",
    "import pandas as pd\n",
    "\n",
    "import statsmodels.api as sm\n",
    "from scipy.stats import norm\n",
    "\n",
    "\n",
    "from sklearn.linear_model import LinearRegression\n",
    "from sklearn.model_selection import KFold\n",
    "from sklearn.model_selection import cross_val_score\n",
    "from sklearn.model_selection import train_test_split\n",
    "from sklearn.metrics import r2_score, mean_squared_error,mean_absolute_error"
   ]
  },
  {
   "cell_type": "markdown",
   "metadata": {
    "id": "KGOWyk-ayR1o"
   },
   "source": [
    "En este Taller utilizaremos la base de datos Boston house-price disponible en [http://lib.stat.cmu.edu/datasets/boston](http://lib.stat.cmu.edu/datasets/boston) para problemas de regresión. La base de datos contiene las siguientes variables:\n",
    "* CRIM     per capita crime rate by town\n",
    "* ZN       proportion of residential land zoned for lots over 25,000 sq.ft.\n",
    "* INDUS    proportion of non-retail business acres per town\n",
    "* CHAS     Charles River dummy variable (= 1 if tract bounds river; 0 otherwise)\n",
    "* NOX      nitric oxides concentration (parts per 10 million)\n",
    "* RM       average number of rooms per dwelling\n",
    "* AGE      proportion of owner-occupied units built prior to 1940\n",
    "* DIS      weighted distances to five Boston employment centres\n",
    "* RAD      index of accessibility to radial highways\n",
    "* TAX      full-value property-tax rate per \\$10,000\n",
    "* PTRATIO  pupil-teacher ratio by town\n",
    "* B        $1000(Bk - 0.63)^2$ where Bk is the proportion of blacks by town\n",
    "* LSTAT    % lower status of the population\n",
    "* MEDV     Median value of owner-occupied homes in $1000's"
   ]
  },
  {
   "cell_type": "code",
   "execution_count": 20,
   "metadata": {
    "executionInfo": {
     "elapsed": 1118,
     "status": "ok",
     "timestamp": 1696941885103,
     "user": {
      "displayName": "Edier Vicente Aristizabal Giraldo",
      "userId": "14756502124163770629"
     },
     "user_tz": -120
    },
    "id": "XiHieIWXyR1p"
   },
   "outputs": [],
   "source": [
    "data_url = \"http://lib.stat.cmu.edu/datasets/boston\"\n",
    "raw_df = pd.read_csv(data_url, sep=\"\\s+\", skiprows=22, header=None)\n",
    "X = np.hstack([raw_df.values[::2, :], raw_df.values[1::2, :2]])\n",
    "y = raw_df.values[1::2, 2]"
   ]
  },
  {
   "cell_type": "markdown",
   "metadata": {
    "id": "2zI5doTvqGGJ"
   },
   "source": [
    "Como se leyeron los datos?\n",
    "Para X, primero se leyeron las filas pares con todas sus columnas de dos en dos empezando por la fila 0. Luego se leyeron las columnas 1, 2 de todas las filas impares de dos en dos empezando por la fila 1. Y finalmente se juntaron ambas bases de datos con el hstack.\n",
    "Para y, se leyo la columna 3 de las filas impares."
   ]
  },
  {
   "cell_type": "code",
   "execution_count": 7,
   "metadata": {
    "colab": {
     "base_uri": "https://localhost:8080/"
    },
    "executionInfo": {
     "elapsed": 451,
     "status": "ok",
     "timestamp": 1696942128000,
     "user": {
      "displayName": "Edier Vicente Aristizabal Giraldo",
      "userId": "14756502124163770629"
     },
     "user_tz": -120
    },
    "id": "FAzASxbRoGq7",
    "outputId": "598e6ecc-e69b-456f-8a39-588f5e875fe3"
   },
   "outputs": [
    {
     "name": "stdout",
     "output_type": "stream",
     "text": [
      "<class 'pandas.core.frame.DataFrame'>\n",
      "RangeIndex: 1012 entries, 0 to 1011\n",
      "Data columns (total 11 columns):\n",
      " #   Column  Non-Null Count  Dtype  \n",
      "---  ------  --------------  -----  \n",
      " 0   0       1012 non-null   float64\n",
      " 1   1       1012 non-null   float64\n",
      " 2   2       1012 non-null   float64\n",
      " 3   3       506 non-null    float64\n",
      " 4   4       506 non-null    float64\n",
      " 5   5       506 non-null    float64\n",
      " 6   6       506 non-null    float64\n",
      " 7   7       506 non-null    float64\n",
      " 8   8       506 non-null    float64\n",
      " 9   9       506 non-null    float64\n",
      " 10  10      506 non-null    float64\n",
      "dtypes: float64(11)\n",
      "memory usage: 87.1 KB\n"
     ]
    }
   ],
   "source": [
    "raw_df.info()"
   ]
  },
  {
   "cell_type": "code",
   "execution_count": 6,
   "metadata": {
    "colab": {
     "base_uri": "https://localhost:8080/",
     "height": 206
    },
    "executionInfo": {
     "elapsed": 258,
     "status": "ok",
     "timestamp": 1696942096250,
     "user": {
      "displayName": "Edier Vicente Aristizabal Giraldo",
      "userId": "14756502124163770629"
     },
     "user_tz": -120
    },
    "id": "-Wdu7iSpoSeU",
    "outputId": "2a6728b6-b2f5-4186-80ca-f13d4607049b"
   },
   "outputs": [
    {
     "data": {
      "text/html": [
       "\n",
       "  <div id=\"df-034cdda6-5697-4aec-9dab-8e10d791dac4\" class=\"colab-df-container\">\n",
       "    <div>\n",
       "<style scoped>\n",
       "    .dataframe tbody tr th:only-of-type {\n",
       "        vertical-align: middle;\n",
       "    }\n",
       "\n",
       "    .dataframe tbody tr th {\n",
       "        vertical-align: top;\n",
       "    }\n",
       "\n",
       "    .dataframe thead th {\n",
       "        text-align: right;\n",
       "    }\n",
       "</style>\n",
       "<table border=\"1\" class=\"dataframe\">\n",
       "  <thead>\n",
       "    <tr style=\"text-align: right;\">\n",
       "      <th></th>\n",
       "      <th>0</th>\n",
       "      <th>1</th>\n",
       "      <th>2</th>\n",
       "      <th>3</th>\n",
       "      <th>4</th>\n",
       "      <th>5</th>\n",
       "      <th>6</th>\n",
       "      <th>7</th>\n",
       "      <th>8</th>\n",
       "      <th>9</th>\n",
       "      <th>10</th>\n",
       "    </tr>\n",
       "  </thead>\n",
       "  <tbody>\n",
       "    <tr>\n",
       "      <th>0</th>\n",
       "      <td>0.00632</td>\n",
       "      <td>18.00</td>\n",
       "      <td>2.31</td>\n",
       "      <td>0.0</td>\n",
       "      <td>0.538</td>\n",
       "      <td>6.575</td>\n",
       "      <td>65.2</td>\n",
       "      <td>4.0900</td>\n",
       "      <td>1.0</td>\n",
       "      <td>296.0</td>\n",
       "      <td>15.3</td>\n",
       "    </tr>\n",
       "    <tr>\n",
       "      <th>1</th>\n",
       "      <td>396.90000</td>\n",
       "      <td>4.98</td>\n",
       "      <td>24.00</td>\n",
       "      <td>NaN</td>\n",
       "      <td>NaN</td>\n",
       "      <td>NaN</td>\n",
       "      <td>NaN</td>\n",
       "      <td>NaN</td>\n",
       "      <td>NaN</td>\n",
       "      <td>NaN</td>\n",
       "      <td>NaN</td>\n",
       "    </tr>\n",
       "    <tr>\n",
       "      <th>2</th>\n",
       "      <td>0.02731</td>\n",
       "      <td>0.00</td>\n",
       "      <td>7.07</td>\n",
       "      <td>0.0</td>\n",
       "      <td>0.469</td>\n",
       "      <td>6.421</td>\n",
       "      <td>78.9</td>\n",
       "      <td>4.9671</td>\n",
       "      <td>2.0</td>\n",
       "      <td>242.0</td>\n",
       "      <td>17.8</td>\n",
       "    </tr>\n",
       "    <tr>\n",
       "      <th>3</th>\n",
       "      <td>396.90000</td>\n",
       "      <td>9.14</td>\n",
       "      <td>21.60</td>\n",
       "      <td>NaN</td>\n",
       "      <td>NaN</td>\n",
       "      <td>NaN</td>\n",
       "      <td>NaN</td>\n",
       "      <td>NaN</td>\n",
       "      <td>NaN</td>\n",
       "      <td>NaN</td>\n",
       "      <td>NaN</td>\n",
       "    </tr>\n",
       "    <tr>\n",
       "      <th>4</th>\n",
       "      <td>0.02729</td>\n",
       "      <td>0.00</td>\n",
       "      <td>7.07</td>\n",
       "      <td>0.0</td>\n",
       "      <td>0.469</td>\n",
       "      <td>7.185</td>\n",
       "      <td>61.1</td>\n",
       "      <td>4.9671</td>\n",
       "      <td>2.0</td>\n",
       "      <td>242.0</td>\n",
       "      <td>17.8</td>\n",
       "    </tr>\n",
       "  </tbody>\n",
       "</table>\n",
       "</div>\n",
       "    <div class=\"colab-df-buttons\">\n",
       "\n",
       "  <div class=\"colab-df-container\">\n",
       "    <button class=\"colab-df-convert\" onclick=\"convertToInteractive('df-034cdda6-5697-4aec-9dab-8e10d791dac4')\"\n",
       "            title=\"Convert this dataframe to an interactive table.\"\n",
       "            style=\"display:none;\">\n",
       "\n",
       "  <svg xmlns=\"http://www.w3.org/2000/svg\" height=\"24px\" viewBox=\"0 -960 960 960\">\n",
       "    <path d=\"M120-120v-720h720v720H120Zm60-500h600v-160H180v160Zm220 220h160v-160H400v160Zm0 220h160v-160H400v160ZM180-400h160v-160H180v160Zm440 0h160v-160H620v160ZM180-180h160v-160H180v160Zm440 0h160v-160H620v160Z\"/>\n",
       "  </svg>\n",
       "    </button>\n",
       "\n",
       "  <style>\n",
       "    .colab-df-container {\n",
       "      display:flex;\n",
       "      gap: 12px;\n",
       "    }\n",
       "\n",
       "    .colab-df-convert {\n",
       "      background-color: #E8F0FE;\n",
       "      border: none;\n",
       "      border-radius: 50%;\n",
       "      cursor: pointer;\n",
       "      display: none;\n",
       "      fill: #1967D2;\n",
       "      height: 32px;\n",
       "      padding: 0 0 0 0;\n",
       "      width: 32px;\n",
       "    }\n",
       "\n",
       "    .colab-df-convert:hover {\n",
       "      background-color: #E2EBFA;\n",
       "      box-shadow: 0px 1px 2px rgba(60, 64, 67, 0.3), 0px 1px 3px 1px rgba(60, 64, 67, 0.15);\n",
       "      fill: #174EA6;\n",
       "    }\n",
       "\n",
       "    .colab-df-buttons div {\n",
       "      margin-bottom: 4px;\n",
       "    }\n",
       "\n",
       "    [theme=dark] .colab-df-convert {\n",
       "      background-color: #3B4455;\n",
       "      fill: #D2E3FC;\n",
       "    }\n",
       "\n",
       "    [theme=dark] .colab-df-convert:hover {\n",
       "      background-color: #434B5C;\n",
       "      box-shadow: 0px 1px 3px 1px rgba(0, 0, 0, 0.15);\n",
       "      filter: drop-shadow(0px 1px 2px rgba(0, 0, 0, 0.3));\n",
       "      fill: #FFFFFF;\n",
       "    }\n",
       "  </style>\n",
       "\n",
       "    <script>\n",
       "      const buttonEl =\n",
       "        document.querySelector('#df-034cdda6-5697-4aec-9dab-8e10d791dac4 button.colab-df-convert');\n",
       "      buttonEl.style.display =\n",
       "        google.colab.kernel.accessAllowed ? 'block' : 'none';\n",
       "\n",
       "      async function convertToInteractive(key) {\n",
       "        const element = document.querySelector('#df-034cdda6-5697-4aec-9dab-8e10d791dac4');\n",
       "        const dataTable =\n",
       "          await google.colab.kernel.invokeFunction('convertToInteractive',\n",
       "                                                    [key], {});\n",
       "        if (!dataTable) return;\n",
       "\n",
       "        const docLinkHtml = 'Like what you see? Visit the ' +\n",
       "          '<a target=\"_blank\" href=https://colab.research.google.com/notebooks/data_table.ipynb>data table notebook</a>'\n",
       "          + ' to learn more about interactive tables.';\n",
       "        element.innerHTML = '';\n",
       "        dataTable['output_type'] = 'display_data';\n",
       "        await google.colab.output.renderOutput(dataTable, element);\n",
       "        const docLink = document.createElement('div');\n",
       "        docLink.innerHTML = docLinkHtml;\n",
       "        element.appendChild(docLink);\n",
       "      }\n",
       "    </script>\n",
       "  </div>\n",
       "\n",
       "\n",
       "<div id=\"df-6099777f-9fec-4056-8883-9792aa52d75d\">\n",
       "  <button class=\"colab-df-quickchart\" onclick=\"quickchart('df-6099777f-9fec-4056-8883-9792aa52d75d')\"\n",
       "            title=\"Suggest charts.\"\n",
       "            style=\"display:none;\">\n",
       "\n",
       "<svg xmlns=\"http://www.w3.org/2000/svg\" height=\"24px\"viewBox=\"0 0 24 24\"\n",
       "     width=\"24px\">\n",
       "    <g>\n",
       "        <path d=\"M19 3H5c-1.1 0-2 .9-2 2v14c0 1.1.9 2 2 2h14c1.1 0 2-.9 2-2V5c0-1.1-.9-2-2-2zM9 17H7v-7h2v7zm4 0h-2V7h2v10zm4 0h-2v-4h2v4z\"/>\n",
       "    </g>\n",
       "</svg>\n",
       "  </button>\n",
       "\n",
       "<style>\n",
       "  .colab-df-quickchart {\n",
       "      --bg-color: #E8F0FE;\n",
       "      --fill-color: #1967D2;\n",
       "      --hover-bg-color: #E2EBFA;\n",
       "      --hover-fill-color: #174EA6;\n",
       "      --disabled-fill-color: #AAA;\n",
       "      --disabled-bg-color: #DDD;\n",
       "  }\n",
       "\n",
       "  [theme=dark] .colab-df-quickchart {\n",
       "      --bg-color: #3B4455;\n",
       "      --fill-color: #D2E3FC;\n",
       "      --hover-bg-color: #434B5C;\n",
       "      --hover-fill-color: #FFFFFF;\n",
       "      --disabled-bg-color: #3B4455;\n",
       "      --disabled-fill-color: #666;\n",
       "  }\n",
       "\n",
       "  .colab-df-quickchart {\n",
       "    background-color: var(--bg-color);\n",
       "    border: none;\n",
       "    border-radius: 50%;\n",
       "    cursor: pointer;\n",
       "    display: none;\n",
       "    fill: var(--fill-color);\n",
       "    height: 32px;\n",
       "    padding: 0;\n",
       "    width: 32px;\n",
       "  }\n",
       "\n",
       "  .colab-df-quickchart:hover {\n",
       "    background-color: var(--hover-bg-color);\n",
       "    box-shadow: 0 1px 2px rgba(60, 64, 67, 0.3), 0 1px 3px 1px rgba(60, 64, 67, 0.15);\n",
       "    fill: var(--button-hover-fill-color);\n",
       "  }\n",
       "\n",
       "  .colab-df-quickchart-complete:disabled,\n",
       "  .colab-df-quickchart-complete:disabled:hover {\n",
       "    background-color: var(--disabled-bg-color);\n",
       "    fill: var(--disabled-fill-color);\n",
       "    box-shadow: none;\n",
       "  }\n",
       "\n",
       "  .colab-df-spinner {\n",
       "    border: 2px solid var(--fill-color);\n",
       "    border-color: transparent;\n",
       "    border-bottom-color: var(--fill-color);\n",
       "    animation:\n",
       "      spin 1s steps(1) infinite;\n",
       "  }\n",
       "\n",
       "  @keyframes spin {\n",
       "    0% {\n",
       "      border-color: transparent;\n",
       "      border-bottom-color: var(--fill-color);\n",
       "      border-left-color: var(--fill-color);\n",
       "    }\n",
       "    20% {\n",
       "      border-color: transparent;\n",
       "      border-left-color: var(--fill-color);\n",
       "      border-top-color: var(--fill-color);\n",
       "    }\n",
       "    30% {\n",
       "      border-color: transparent;\n",
       "      border-left-color: var(--fill-color);\n",
       "      border-top-color: var(--fill-color);\n",
       "      border-right-color: var(--fill-color);\n",
       "    }\n",
       "    40% {\n",
       "      border-color: transparent;\n",
       "      border-right-color: var(--fill-color);\n",
       "      border-top-color: var(--fill-color);\n",
       "    }\n",
       "    60% {\n",
       "      border-color: transparent;\n",
       "      border-right-color: var(--fill-color);\n",
       "    }\n",
       "    80% {\n",
       "      border-color: transparent;\n",
       "      border-right-color: var(--fill-color);\n",
       "      border-bottom-color: var(--fill-color);\n",
       "    }\n",
       "    90% {\n",
       "      border-color: transparent;\n",
       "      border-bottom-color: var(--fill-color);\n",
       "    }\n",
       "  }\n",
       "</style>\n",
       "\n",
       "  <script>\n",
       "    async function quickchart(key) {\n",
       "      const quickchartButtonEl =\n",
       "        document.querySelector('#' + key + ' button');\n",
       "      quickchartButtonEl.disabled = true;  // To prevent multiple clicks.\n",
       "      quickchartButtonEl.classList.add('colab-df-spinner');\n",
       "      try {\n",
       "        const charts = await google.colab.kernel.invokeFunction(\n",
       "            'suggestCharts', [key], {});\n",
       "      } catch (error) {\n",
       "        console.error('Error during call to suggestCharts:', error);\n",
       "      }\n",
       "      quickchartButtonEl.classList.remove('colab-df-spinner');\n",
       "      quickchartButtonEl.classList.add('colab-df-quickchart-complete');\n",
       "    }\n",
       "    (() => {\n",
       "      let quickchartButtonEl =\n",
       "        document.querySelector('#df-6099777f-9fec-4056-8883-9792aa52d75d button');\n",
       "      quickchartButtonEl.style.display =\n",
       "        google.colab.kernel.accessAllowed ? 'block' : 'none';\n",
       "    })();\n",
       "  </script>\n",
       "</div>\n",
       "    </div>\n",
       "  </div>\n"
      ],
      "text/plain": [
       "          0      1      2    3      4      5     6       7    8      9     10\n",
       "0    0.00632  18.00   2.31  0.0  0.538  6.575  65.2  4.0900  1.0  296.0  15.3\n",
       "1  396.90000   4.98  24.00  NaN    NaN    NaN   NaN     NaN  NaN    NaN   NaN\n",
       "2    0.02731   0.00   7.07  0.0  0.469  6.421  78.9  4.9671  2.0  242.0  17.8\n",
       "3  396.90000   9.14  21.60  NaN    NaN    NaN   NaN     NaN  NaN    NaN   NaN\n",
       "4    0.02729   0.00   7.07  0.0  0.469  7.185  61.1  4.9671  2.0  242.0  17.8"
      ]
     },
     "execution_count": 6,
     "metadata": {},
     "output_type": "execute_result"
    }
   ],
   "source": [
    "raw_df.head()"
   ]
  },
  {
   "cell_type": "markdown",
   "metadata": {
    "id": "oP-Dj74NxUQM"
   },
   "source": [
    "## Modelo de regresion simple (univariado)"
   ]
  },
  {
   "cell_type": "markdown",
   "metadata": {
    "id": "rGVxoH-HojtM"
   },
   "source": [
    "Supongamos que estamos interesados en establecer la relación lineal simple entre y (MEDV) y la columna 4 (RM):\n",
    "\n",
    "$MEDV \\approx \\beta_0 + \\beta_1 RM$\n",
    "\n",
    "En este caso sería posible utilizar la herramienta gráfica del _scatterplot_ de la siguiente manera:"
   ]
  },
  {
   "cell_type": "code",
   "execution_count": null,
   "metadata": {
    "colab": {
     "base_uri": "https://localhost:8080/",
     "height": 279
    },
    "executionInfo": {
     "elapsed": 681,
     "status": "ok",
     "timestamp": 1657835895970,
     "user": {
      "displayName": "Edier Vicente Aristizabal Giraldo",
      "userId": "14756502124163770629"
     },
     "user_tz": 300
    },
    "id": "HkH3Xh-mpe9D",
    "outputId": "46e1173d-f1f8-4326-cc1c-97b62bd72b56"
   },
   "outputs": [
    {
     "data": {
      "image/png": "[encoded data removed]",
      "text/plain": [
       "<Figure size 432x288 with 1 Axes>"
      ]
     },
     "metadata": {
      "needs_background": "light"
     },
     "output_type": "display_data"
    }
   ],
   "source": [
    "fig, ax = plt.subplots(1,1)\n",
    "sns.regplot(x=X[:,5], y=y, ax=ax, order=1, ci=None, scatter_kws={'color':'r', 's':20})\n",
    "ax.set_ylabel(\"MEDV\")\n",
    "ax.set_xlim(0,9)\n",
    "ax.set_ylim(0,51)\n",
    "ax.set_xlabel(\"RM\")\n",
    "ax.legend(['Least Squares Fit','Data']);"
   ]
  },
  {
   "cell_type": "markdown",
   "metadata": {},
   "source": [
    "Sin embargo es necesario obtener los coeficientes de la regresión, los cuales corresponden al intercepto ($\\beta_0$) y la pendiente de la recta que relaciona el cambio de *y* cuando *X* incrementa una unidad ($\\beta1$), tambien denominado como efecto marginal medio. \n",
    "\n",
    "A continuación se detallan los procedimientos que nso permiten obtener dichos parámetros."
   ]
  },
  {
   "cell_type": "markdown",
   "metadata": {},
   "source": [
    "### Ordinary Least Square (OLS) estimator"
   ]
  },
  {
   "cell_type": "markdown",
   "metadata": {
    "id": "pz5F70wcq1Ud"
   },
   "source": [
    "El objetivo de una regresión lineal es obtener los coeficientes que ajusten la función lineal a los datos, es decir el intercepto y la pendiente de la función lineal. Para obtener el mejor ajuste se pueden utilizar diferentes estimadores, entre ellos OLS y Maximum Likelihood Estimator (MLE). Para el caso de la regresión lineal ambos estimadores arrojan el mismo resultado. Mientras MLE busca maximizar la función de probabilidades bajo el modelo estadístico asumido, el OLS busca minimizar el residuo de la suma de los cuadrados (Residual Sum of Squares -RSS-):\n",
    "\n",
    "$\\epsilon_i=y_i-\\hat{y}_i$\n",
    "\n",
    "$RSS=\\sum_{n=1}^{N} {\\epsilon_i}^2$"
   ]
  },
  {
   "cell_type": "markdown",
   "metadata": {},
   "source": [
    "En OLS el error no requiere tener una distribución normal, pero si una media de cero, sin embargo tener normalidad en el error implica que los coeficientes también presentan normalidad, por lo tanto nos permite utilizar pruebas de hipótesis. Si los datos son suficientemente grande, no se requiere asumir la normalidad del error por que el teorema del límite central justifica una buena aproximación de los parámetros.\n",
    "\n",
    "Para el OLS la función de costo es:"
   ]
  },
  {
   "cell_type": "markdown",
   "metadata": {},
   "source": [
    "$\\hat\\beta_{OLS}=arg min\\sum_{n=1}^{N} (y_i-X_i\\beta)^2$"
   ]
  },
  {
   "cell_type": "markdown",
   "metadata": {},
   "source": [
    "El proceso de encontrar los valores que minimicen u optimicen una función se denomina **optimización**. Para esto en ciencia de datos se puede utilizar una aproximación analítica o una aproximación numérica. La solucion analítica es determinística, es decir que encuentra una solución exacta, lo cual es raro en modelos estadísticos, pero en regresión lineal es posible. con un poco de cálculo derivando la función de costo se llega a esta solución analítica."
   ]
  },
  {
   "cell_type": "markdown",
   "metadata": {},
   "source": [
    "\n",
    "$\\hat\\beta_1=\\frac{{}\\sum_{i=1}^{n}(X_i-\\hat{X})(y_i-\\hat{y})}{\\sum{i=1}^{n}(X_i-\\hat{X})^2}$\n",
    "\n",
    "y el intercepto:\n",
    "\n",
    "$\\hat\\beta_0=\\hat{y}-\\hat\\beta_1\\hat{X}$"
   ]
  },
  {
   "cell_type": "code",
   "execution_count": null,
   "metadata": {
    "colab": {
     "base_uri": "https://localhost:8080/"
    },
    "executionInfo": {
     "elapsed": 245,
     "status": "ok",
     "timestamp": 1657888140827,
     "user": {
      "displayName": "Edier Vicente Aristizabal Giraldo",
      "userId": "14756502124163770629"
     },
     "user_tz": 300
    },
    "id": "867tJv9se6HD",
    "outputId": "d41d15b2-c6c5-41cf-8d3d-d1b77019a80d"
   },
   "outputs": [
    {
     "name": "stdout",
     "output_type": "stream",
     "text": [
      "-34.67062077643857\n",
      "9.10210898118031\n"
     ]
    }
   ],
   "source": [
    "B1_num = ((X[:,5] - X[:,5].mean()) * (y - y.mean())).sum()\n",
    "B1_den = ((X[:,5] - X[:,5].mean())**2).sum()\n",
    "B1 = B1_num / B1_den\n",
    "B0 = y.mean() - (B1*X[:,5].mean())\n",
    "print(B0)\n",
    "print(B1)"
   ]
  },
  {
   "cell_type": "markdown",
   "metadata": {
    "id": "n7r365Ohuaw0"
   },
   "source": [
    "Tambien puede estimarse analíticamente de su forma matricial:\n",
    "\n",
    "$\\hat\\beta_{OLS}=(X'X)^-1(X'y)$"
   ]
  },
  {
   "cell_type": "code",
   "execution_count": null,
   "metadata": {
    "colab": {
     "base_uri": "https://localhost:8080/"
    },
    "executionInfo": {
     "elapsed": 227,
     "status": "ok",
     "timestamp": 1657888149366,
     "user": {
      "displayName": "Edier Vicente Aristizabal Giraldo",
      "userId": "14756502124163770629"
     },
     "user_tz": 300
    },
    "id": "s9XDiPECsETj",
    "outputId": "4f5bee7a-95f0-42bf-8f03-38333620a95a"
   },
   "outputs": [
    {
     "name": "stdout",
     "output_type": "stream",
     "text": [
      "[3.6533504]\n"
     ]
    }
   ],
   "source": [
    "x_ols=X[:,5].reshape(-1, 1)\n",
    "y_ols=y.T\n",
    "B1 = np.dot(np.linalg.inv(np.dot(x_ols.T,x_ols)),np.dot(x_ols.T,y_ols))\n",
    "print(B1)"
   ]
  },
  {
   "cell_type": "markdown",
   "metadata": {
    "id": "FDCF6004v981"
   },
   "source": [
    "Por qué dieron diferente ambos resultados?"
   ]
  },
  {
   "cell_type": "markdown",
   "metadata": {},
   "source": [
    "### Cómo intrepretar el Intercepto y los coeficientes"
   ]
  },
  {
   "cell_type": "markdown",
   "metadata": {},
   "source": [
    "Los coeficientes de la regresión lineal son muy fáciles de interpretar, y precisamente por esto la regresión lineal es una herramienta muy popular considerando la gran cantidad de algoritmos sofisticados que existen en la actualidad, pero difíciles de interpretar.\n",
    "\n",
    "Los coeficientes de cada variable se denominan efecto marginal medio y se interpretan como el cambio o la pendiente de la recta que relaciona $y$ cuando $X$ incrementa una unidad ($\\beta1$).\n",
    "\n",
    "En cuanto al intercepto, o tambien denominado $\\beta_0$, corresponde a la linea base o el valor que toma $y$ cuando todas las variables son iguales a 0. Es por esto que se debe establecer para cada problema si se incluye el intercepto en la regresión o no. En muchos casos puede tener sentido no incluir el intercepto, es decir, asumir que cuando todas las variables son 0 la variable dependiente tambien toma un valor de 0. En dicho caso, el ajuste que se obtiene está obligado a pasar por el origen, y esto obviamente modifica los coeficientes.\n"
   ]
  },
  {
   "cell_type": "code",
   "execution_count": null,
   "metadata": {
    "colab": {
     "base_uri": "https://localhost:8080/",
     "height": 294
    },
    "executionInfo": {
     "elapsed": 576,
     "status": "ok",
     "timestamp": 1657888160082,
     "user": {
      "displayName": "Edier Vicente Aristizabal Giraldo",
      "userId": "14756502124163770629"
     },
     "user_tz": 300
    },
    "id": "AdJMWmlSwG30",
    "outputId": "09787e59-6d25-4521-a2fc-eb888854df22"
   },
   "outputs": [
    {
     "data": {
      "image/png": "[encoded data removed]",
      "text/plain": [
       "<Figure size 432x288 with 1 Axes>"
      ]
     },
     "metadata": {
      "needs_background": "light"
     },
     "output_type": "display_data"
    }
   ],
   "source": [
    "fig, ax = plt.subplots(1,1)\n",
    "fig.suptitle('Role del intercepto')\n",
    "sns.regplot(x=X[:,5], y=y, ax=ax, order=1, ci=None, scatter_kws={'color':'r', 's':10})\n",
    "ax.plot(X[:,5], B1*X[:,5], color='g')\n",
    "plt.xlim(0,10); plt.ylim(ymin=0);\n",
    "ax.legend(['With Intercept', 'Without intercept']);"
   ]
  },
  {
   "cell_type": "code",
   "execution_count": null,
   "metadata": {},
   "outputs": [
    {
     "name": "stdout",
     "output_type": "stream",
     "text": [
      "[-34.67062078   9.10210898]\n"
     ]
    }
   ],
   "source": [
    "# How to insert intercept? Add constant: column of ones\n",
    "one = np.ones(np.shape(X[:,5]))\n",
    "X1 = np.column_stack([one,X[:,5]])\n",
    "B1 = np.dot(np.linalg.inv(np.dot(X1.T,X1)),np.dot(X1.T,y_ols))\n",
    "print(B1)"
   ]
  },
  {
   "cell_type": "markdown",
   "metadata": {},
   "source": [
    "La incorporación del intercepto en la regresión depende de la librería. *Statsmodel* por defecto no lo incluye, por lo tanto debe incluirse una nueva columna con una costante de tal forma que genere un intercepto, para el caso de *statsmodel* con Patsy, esta por defecto si incluye el intercepto, para eliminarlo se debe incluir en la formula *- 1*. Y finalmente *Sklearn* incluye un argumento dentro de la función denominada *fit_intercept* para incorporar el intercepto, por defecto se encuentra en *True*, si se ajusta a *False* se elimina el intercepto."
   ]
  },
  {
   "cell_type": "markdown",
   "metadata": {},
   "source": [
    "A continuación se presenta un ejercicio de simulacion para ayudarnos a entender los coeficientes de la regresión. Inicialmente vamos a construir una función para simular una regresión lineal"
   ]
  },
  {
   "cell_type": "code",
   "execution_count": null,
   "metadata": {},
   "outputs": [],
   "source": [
    "# simulate linear regression data\n",
    "def regression_simulation(sim_var, sim_error, sim_coef, size):\n",
    "    \n",
    "    '''\n",
    "        Simulates data for simple linear regression.\n",
    "        \n",
    "        inputs:\n",
    "            sim_var (list)    : 2-element list, first element is the mean of a random variable\n",
    "                                that is being used to simulate a feature in the linear regression, \n",
    "                                second is the standard deviation\n",
    "            sim_error (list)   : 2-element list, first element is the mean of random error being added,\n",
    "                                 second is the standard deviation\n",
    "            sim_coef (float)   : impact of the random variable established by sim_var on the target \n",
    "                                 variable\n",
    "            size (int)         : number of units to simulate\n",
    "            \n",
    "        output:\n",
    "            sim_df (DataFrame) : dataframe with simulated data\n",
    "        \n",
    "    '''\n",
    "    \n",
    "    # create an empty dataframe to populate\n",
    "    sim_df = pd.DataFrame()\n",
    "\n",
    "    # create the feature for the linear regression\n",
    "    sim_df['var'] = np.random.normal(sim_var[0], sim_var[1], size = size)\n",
    "    \n",
    "    # multiply feature by the coef to get a simulated impact\n",
    "    sim_df['var_impact'] = sim_df['var']*sim_coef\n",
    "    \n",
    "    # create error for the linear regression\n",
    "    sim_error = np.random.normal(sim_error[0], sim_error[1], size = size)\n",
    "    \n",
    "    # create the target variable\n",
    "    sim_df['target'] = sim_df['var_impact'] + sim_error\n",
    "    \n",
    "    return sim_df"
   ]
  },
  {
   "cell_type": "markdown",
   "metadata": {},
   "source": [
    "Ahora simularemos 30.000 filas con valores de $x$ con uan dsitribución normal, en este caso con media 2 y desviación estandar 0.2. Posteriormente simulamos $y$ multiplicando los valores de $x$ por un coeficiente seleccionado, en este caso 0.16, y le adicionamos un error aleatorio utilizando una distribución normal con valor medio 0 y desviación estandar 2."
   ]
  },
  {
   "cell_type": "code",
   "execution_count": null,
   "metadata": {},
   "outputs": [
    {
     "data": {
      "text/plain": [
       "array([0.16773963])"
      ]
     },
     "metadata": {},
     "output_type": "display_data"
    }
   ],
   "source": [
    "linear_regression_sim_df = regression_simulation(sim_var = [2, 0.2],sim_error = [0, 2],sim_coef = 0.16,size = 30000)\n",
    "    \n",
    "lin_reg = LinearRegression()\n",
    "X = np.array(linear_regression_sim_df['var']).reshape(-1, 1)\n",
    "y = linear_regression_sim_df['target']\n",
    "lin_reg.fit(X, y)\n",
    "\n",
    "lin_reg.coef_"
   ]
  },
  {
   "cell_type": "markdown",
   "metadata": {},
   "source": [
    "Para estar seguros que el coeficiente obtenido no es sesgado, vamos a simular 1000 con 5000 valores cada simulacion obteniendo el coeficiente para cada caso, y graficar la dsitribución de los valores obtenidos."
   ]
  },
  {
   "cell_type": "code",
   "execution_count": null,
   "metadata": {},
   "outputs": [
    {
     "data": {
      "text/plain": [
       "(array([  1.,   2.,   5.,  12.,  28.,  40.,  71.,  92.,  96., 113., 106.,\n",
       "        101., 105.,  86.,  52.,  41.,  22.,  18.,   5.,   4.]),\n",
       " array([0.13858814, 0.14064927, 0.14271039, 0.14477152, 0.14683264,\n",
       "        0.14889377, 0.1509549 , 0.15301602, 0.15507715, 0.15713827,\n",
       "        0.1591994 , 0.16126053, 0.16332165, 0.16538278, 0.1674439 ,\n",
       "        0.16950503, 0.17156615, 0.17362728, 0.17568841, 0.17774953,\n",
       "        0.17981066]),\n",
       " <BarContainer object of 20 artists>)"
      ]
     },
     "metadata": {},
     "output_type": "display_data"
    },
    {
     "data": {
      "image/png": "[encoded data removed]",
      "text/plain": [
       "<Figure size 640x480 with 1 Axes>"
      ]
     },
     "metadata": {},
     "output_type": "display_data"
    }
   ],
   "source": [
    "# run multiple simulations\n",
    "iters = 1000\n",
    "coef_list = []\n",
    "\n",
    "for i in range(iters):\n",
    "    \n",
    "    reg_sim_df = regression_simulation([2, 0.2], [0, 0.1], 0.16, 5000)\n",
    "    \n",
    "    lin_reg = LinearRegression()\n",
    "    X = np.array(reg_sim_df['var']).reshape(-1, 1)\n",
    "    y = reg_sim_df['target']\n",
    "    lin_reg.fit(X, y)\n",
    "    \n",
    "    coef = lin_reg.coef_[0]\n",
    "    \n",
    "    coef_list.append(coef)\n",
    "    \n",
    "\n",
    "plt.hist(coef_list, bins = 20)"
   ]
  },
  {
   "cell_type": "markdown",
   "metadata": {},
   "source": [
    "### Coeficiente de determinación y Coeficiente de correlación"
   ]
  },
  {
   "cell_type": "markdown",
   "metadata": {
    "id": "gxjL03Y8pvCC"
   },
   "source": [
    "Para calcular el coeficiente de determinación $R^2$ y el coeficiente de correlación $R$ se puede utilizar el coeficiente de correlación de Pearson:\n",
    "\n",
    "$\\rho = \\frac{\\text{cov}(X,Y)}{\\sigma_x \\sigma_y}$\n",
    "\n",
    "$r = \\frac{{}\\sum_{i=1}^{n} (x_i - \\overline{x})(y_i - \\overline{y})}\n",
    "\t{\\sqrt{\\sum_{i=1}^{n} (x_i - \\overline{x})^2(y_i - \\overline{y})^2}}$"
   ]
  },
  {
   "cell_type": "code",
   "execution_count": null,
   "metadata": {
    "colab": {
     "base_uri": "https://localhost:8080/"
    },
    "executionInfo": {
     "elapsed": 220,
     "status": "ok",
     "timestamp": 1657888203637,
     "user": {
      "displayName": "Edier Vicente Aristizabal Giraldo",
      "userId": "14756502124163770629"
     },
     "user_tz": 300
    },
    "id": "THyXiSrTqqRS",
    "outputId": "c46d6a77-bff4-4141-d52c-3b0df4b5f729"
   },
   "outputs": [
    {
     "name": "stdout",
     "output_type": "stream",
     "text": [
      "R:  0.6953599470715396\n",
      "R2:  0.8338824539894935\n"
     ]
    }
   ],
   "source": [
    "N = len(X[:,5])\n",
    "num = (N * (X[:,5]*y).sum()) - (X[:,5].sum() * y.sum())\n",
    "den = np.sqrt((N * (X[:,5]**2).sum() - X[:,5].sum()**2) * (N * (y**2).sum() - y.sum()**2))\n",
    "R = num / den\n",
    "print(\"R: \",R)\n",
    "print(\"R2: \",np.sqrt(R))"
   ]
  },
  {
   "cell_type": "markdown",
   "metadata": {
    "id": "iqf0T5NGvEBc"
   },
   "source": [
    "Esto significa que el coeficiente de ajuste o determinacion corresponde al cuadrado de la correlacion lineal entre la variable dependiente y la variable independiente."
   ]
  },
  {
   "cell_type": "markdown",
   "metadata": {},
   "source": [
    "### RSS"
   ]
  },
  {
   "cell_type": "markdown",
   "metadata": {
    "id": "3aeVV20Z1s6X"
   },
   "source": [
    "Para calcular el RSS se puede utilizar:"
   ]
  },
  {
   "cell_type": "code",
   "execution_count": null,
   "metadata": {
    "colab": {
     "base_uri": "https://localhost:8080/"
    },
    "executionInfo": {
     "elapsed": 209,
     "status": "ok",
     "timestamp": 1657888268562,
     "user": {
      "displayName": "Edier Vicente Aristizabal Giraldo",
      "userId": "14756502124163770629"
     },
     "user_tz": 300
    },
    "id": "2krwZzQt8L1T",
    "outputId": "316ac002-36a2-4c40-e641-95382a41e303"
   },
   "outputs": [
    {
     "data": {
      "text/plain": [
       "22.061879196211795"
      ]
     },
     "execution_count": 9,
     "metadata": {},
     "output_type": "execute_result"
    }
   ],
   "source": [
    "from sklearn.preprocessing import scale\n",
    "\n",
    "# First, scale the data\n",
    "X5 = scale(X[:,5], with_mean=True, with_std=False).reshape(-1,1)\n",
    "regr = LinearRegression().fit(X5,y)\n",
    "\n",
    "# Create grid coordinates for plotting\n",
    "B0 = np.linspace(regr.intercept_-5, regr.intercept_+5, 50)\n",
    "B1 = np.linspace(regr.coef_-0.1, regr.coef_+0.1, 50)\n",
    "xx, yy = np.meshgrid(B0, B1, indexing='xy')\n",
    "Z = np.zeros((B0.size,B1.size))\n",
    "\n",
    "# Calculate Z-values (RSS) based on grid of coefficients\n",
    "for (i,j),v in np.ndenumerate(Z):\n",
    "    Z[i,j] =((y - (xx[i,j]+X5.ravel()*yy[i,j]))**2).sum()/1000\n",
    "\n",
    "# Minimized RSS\n",
    "min_RSS = r'$\\beta_0$, $\\beta_1$ for minimized RSS'\n",
    "min_rss = np.sum((regr.intercept_+regr.coef_*X5 - y.reshape(-1,1))**2)/1000\n",
    "min_rss"
   ]
  },
  {
   "cell_type": "code",
   "execution_count": null,
   "metadata": {
    "colab": {
     "base_uri": "https://localhost:8080/"
    },
    "executionInfo": {
     "elapsed": 203,
     "status": "ok",
     "timestamp": 1657888271271,
     "user": {
      "displayName": "Edier Vicente Aristizabal Giraldo",
      "userId": "14756502124163770629"
     },
     "user_tz": 300
    },
    "id": "1OnIUPjlGW7Q",
    "outputId": "7b941862-5a3a-4fd5-89eb-9c2a848291a7"
   },
   "outputs": [
    {
     "name": "stdout",
     "output_type": "stream",
     "text": [
      "22061.8791962118\n"
     ]
    }
   ],
   "source": [
    "prediction=regr.predict(X5.reshape(-1,1))\n",
    "residual=(y-prediction)\n",
    "RSS=sum(residual**2)\n",
    "print(RSS)"
   ]
  },
  {
   "cell_type": "markdown",
   "metadata": {},
   "source": [
    "#### Aproximación numérica"
   ]
  },
  {
   "cell_type": "markdown",
   "metadata": {},
   "source": [
    "Para encontrar los coeficientes de la regresión también se puede utilizar una aproximación numérica, generalmente en ciencia de datos se utiliza el **Gradiente descendente**. el cual es un algoritmo de optimización iterativo de primer orden utilizado para encontrar un mínimo local de una función diferenciable."
   ]
  },
  {
   "cell_type": "code",
   "execution_count": null,
   "metadata": {
    "colab": {
     "base_uri": "https://localhost:8080/",
     "height": 435
    },
    "executionInfo": {
     "elapsed": 1105,
     "status": "ok",
     "timestamp": 1657888290867,
     "user": {
      "displayName": "Edier Vicente Aristizabal Giraldo",
      "userId": "14756502124163770629"
     },
     "user_tz": 300
    },
    "id": "cjYrHHU5-81i",
    "outputId": "82a11075-c231-4c21-a796-c8d0a26d4cf3"
   },
   "outputs": [
    {
     "data": {
      "image/png": "[encoded data removed]",
      "text/plain": [
       "<Figure size 1080x432 with 2 Axes>"
      ]
     },
     "metadata": {
      "needs_background": "light"
     },
     "output_type": "display_data"
    }
   ],
   "source": [
    "fig = plt.figure(figsize=(15,6))\n",
    "fig.suptitle('RSS - Coeficientes de regresión')\n",
    "\n",
    "ax1 = fig.add_subplot(121)\n",
    "ax2 = fig.add_subplot(122, projection='3d')\n",
    "\n",
    "# Left plot\n",
    "CS = ax1.contour(xx, yy, Z, cmap=plt.cm.Set1, levels=[22, 22.2, 22.4, 22.6, 22.8])\n",
    "ax1.scatter(regr.intercept_, regr.coef_[0], c='r', label=min_RSS)\n",
    "ax1.clabel(CS, inline=True, fontsize=10, fmt='%1.1f')\n",
    "\n",
    "# Right plot\n",
    "ax2.plot_surface(xx, yy, Z, rstride=3, cstride=3, alpha=0.3)\n",
    "ax2.contour(xx, yy, Z, zdir='z', offset=Z.min(), cmap=plt.cm.Set1,\n",
    "            alpha=0.4, levels=[22, 22.2, 22.4, 22.6, 22.8])\n",
    "ax2.scatter3D(regr.intercept_, regr.coef_[0], min_rss, c='r', label=min_RSS)\n",
    "ax2.set_zlabel('RSS')\n",
    "ax2.set_zlim(Z.min(),Z.max())\n",
    "ax2.set_ylim(9,9.2)\n",
    "\n",
    "\n",
    "# settings common to both plots\n",
    "for ax in fig.axes:\n",
    "    ax.set_xlabel(r'$\\beta_0$')\n",
    "    ax.set_ylabel(r'$\\beta_1$')\n",
    "    ax.legend()"
   ]
  },
  {
   "cell_type": "markdown",
   "metadata": {
    "id": "L7IZpKE7yR1q"
   },
   "source": [
    "## Regresión lineal con *statsmodels*"
   ]
  },
  {
   "cell_type": "markdown",
   "metadata": {
    "id": "slqrkdlUyR1q"
   },
   "source": [
    "Aunque la librería mas completa para *machine learning* en Python es Sklearn, existen otras librerías con funciones interesantes, un ejemplo es la librería *statsmodels*. Esta librería permite para los modelos RL obtener un resumen de la implementación del modelo muy útil. A continuación se detalla.\n",
    "\n",
    "Se importa la librearía como *sm*. Para su implementación, a diferencia de Sklearn, se entrena y posteriormente se aplica la función *fit*.\n",
    "\n",
    "Finalmente, podemos imprimir con la función *summary* el resultado de la implementación, con métricas muy importantes que permiten conocer el ajuste a los datos."
   ]
  },
  {
   "cell_type": "code",
   "execution_count": null,
   "metadata": {
    "colab": {
     "base_uri": "https://localhost:8080/"
    },
    "executionInfo": {
     "elapsed": 201,
     "status": "ok",
     "timestamp": 1657888305028,
     "user": {
      "displayName": "Edier Vicente Aristizabal Giraldo",
      "userId": "14756502124163770629"
     },
     "user_tz": 300
    },
    "id": "Q__Tnu_SyR1r",
    "outputId": "100a1b87-0802-4ddc-8bbc-61a1209efc53"
   },
   "outputs": [
    {
     "name": "stdout",
     "output_type": "stream",
     "text": [
      "                                 OLS Regression Results                                \n",
      "=======================================================================================\n",
      "Dep. Variable:                      y   R-squared (uncentered):                   0.901\n",
      "Model:                            OLS   Adj. R-squared (uncentered):              0.901\n",
      "Method:                 Least Squares   F-statistic:                              4615.\n",
      "Date:                Fri, 15 Jul 2022   Prob (F-statistic):                   3.74e-256\n",
      "Time:                        12:31:45   Log-Likelihood:                         -1747.1\n",
      "No. Observations:                 506   AIC:                                      3496.\n",
      "Df Residuals:                     505   BIC:                                      3500.\n",
      "Df Model:                           1                                                  \n",
      "Covariance Type:            nonrobust                                                  \n",
      "==============================================================================\n",
      "                 coef    std err          t      P>|t|      [0.025      0.975]\n",
      "------------------------------------------------------------------------------\n",
      "x1             3.6534      0.054     67.930      0.000       3.548       3.759\n",
      "==============================================================================\n",
      "Omnibus:                       83.295   Durbin-Watson:                   0.493\n",
      "Prob(Omnibus):                  0.000   Jarque-Bera (JB):              152.507\n",
      "Skew:                           0.955   Prob(JB):                     7.65e-34\n",
      "Kurtosis:                       4.894   Cond. No.                         1.00\n",
      "==============================================================================\n",
      "\n",
      "Warnings:\n",
      "[1] Standard Errors assume that the covariance matrix of the errors is correctly specified.\n"
     ]
    }
   ],
   "source": [
    "import statsmodels.api as sm\n",
    "lm=sm.OLS(y, X[:,5]).fit()\n",
    "print(lm.summary())"
   ]
  },
  {
   "cell_type": "markdown",
   "metadata": {
    "id": "KMN3aPZP2B74"
   },
   "source": [
    "Para realizar la regresion con intercepto debemos incorporar una constante:"
   ]
  },
  {
   "cell_type": "code",
   "execution_count": 4,
   "metadata": {
    "colab": {
     "base_uri": "https://localhost:8080/"
    },
    "executionInfo": {
     "elapsed": 171,
     "status": "ok",
     "timestamp": 1657841859162,
     "user": {
      "displayName": "Edier Vicente Aristizabal Giraldo",
      "userId": "14756502124163770629"
     },
     "user_tz": 300
    },
    "id": "9WRCZtqaEmGj",
    "outputId": "22831468-60ad-4dee-c0a6-67d7592fce77"
   },
   "outputs": [
    {
     "name": "stdout",
     "output_type": "stream",
     "text": [
      "                            OLS Regression Results                            \n",
      "==============================================================================\n",
      "Dep. Variable:                      y   R-squared:                       0.484\n",
      "Model:                            OLS   Adj. R-squared:                  0.483\n",
      "Method:                 Least Squares   F-statistic:                     471.8\n",
      "Date:                Tue, 28 Nov 2023   Prob (F-statistic):           2.49e-74\n",
      "Time:                        13:47:23   Log-Likelihood:                -1673.1\n",
      "No. Observations:                 506   AIC:                             3350.\n",
      "Df Residuals:                     504   BIC:                             3359.\n",
      "Df Model:                           1                                         \n",
      "Covariance Type:            nonrobust                                         \n",
      "==============================================================================\n",
      "                 coef    std err          t      P>|t|      [0.025      0.975]\n",
      "------------------------------------------------------------------------------\n",
      "const        -34.6706      2.650    -13.084      0.000     -39.877     -29.465\n",
      "x1             9.1021      0.419     21.722      0.000       8.279       9.925\n",
      "==============================================================================\n",
      "Omnibus:                      102.585   Durbin-Watson:                   0.684\n",
      "Prob(Omnibus):                  0.000   Jarque-Bera (JB):              612.449\n",
      "Skew:                           0.726   Prob(JB):                    1.02e-133\n",
      "Kurtosis:                       8.190   Cond. No.                         58.4\n",
      "==============================================================================\n",
      "\n",
      "Notes:\n",
      "[1] Standard Errors assume that the covariance matrix of the errors is correctly specified.\n"
     ]
    }
   ],
   "source": [
    "lm=sm.OLS(y, sm.add_constant(X[:,5])).fit()\n",
    "print(lm.summary())"
   ]
  },
  {
   "cell_type": "markdown",
   "metadata": {
    "id": "IORBVH3PxE17"
   },
   "source": [
    "Verificar que estos valores de los coeficientes y del intercepto son los mismo que se obtuvieron de forma manual al inicio."
   ]
  },
  {
   "cell_type": "markdown",
   "metadata": {
    "id": "X4BJZNtZ0gvT"
   },
   "source": [
    "*Dep. Variable*: Here dependent variable is price that we are going to predict through model.\n",
    "\n",
    "*Model*: OLS stands for Ordinary Least Squares. Ordinary least squares (OLS) is a type of linear least squares method for estimating the unknown parameters in a linear regression model. OLS selects the parameters of a linear function of a set of explanatory variables by the principle of least squares.\n",
    "\n",
    "*Method*: Least squares is a standard approach in regression analysis to approximate the solution by minimising the sum of the squares of the residuals.\n",
    "\n",
    "*No of Observations*: Total no of observations present in dataset.\n",
    "\n",
    "*Df Residuals*: The df(Residual) is the sample size minus the number of parameters being estimated, so it becomes df(Residual) = n — (k+1).\n",
    "\n",
    "*R-Squared*: R2 is a statistic that will give some information about the goodness of fit of a model. It ranges from 0 to 1.\n",
    "\n",
    "*Adj. R Squared*: Each time you add an independent variable to the model, the R-squared increases, even if the independent variable is not significant. It never decreases. Whereas Adjusted R-squared increases only when the independent variable is significant and affects the dependent variable. Adjusted R-square should be used while selecting important predictors (independent variables) for the regression model.\n",
    "\n",
    "*F-statistics and Prob F-statistics*: The “F value’’ and “Prob(F)’’ statistics test the overall significance of the regression model. Specifically, they test the null hypothesis that all of the regression coefficients are equal to zero.The F value is the ratio of the mean regression sum of squares divided by the mean error sum of squares. Its value will range from zero to an arbitrarily large number. The value of Prob(F) is the probability that the null hypothesis for the full model is true (i.e., that all of the regression coefficients are zero). For example, if Prob(F) has a value of 8.13e-31 then there is almost zero chance in 100 that all of the regression parameters are zero.\n",
    "\n",
    "*AIC & BIC*: AIC is abbreviation for Akaike’s Information Criteria and is used for model selection. It penalizes the errors mode in case a new variable is added to the regression equation. It is calculated as the number of parameters minus the likelihood of the overall model. A lower AIC implies a better model. Whereas, BIC stands for Bayesian information criteria and is a variant of AIC where penalties are made more severe.\n",
    "\n",
    "*coef*: Here we have coefficient for const and weights.\n",
    "\n",
    "*std err*: It shows accuracy for each prediction. Lower the std error better the estimates.\n",
    "\n",
    "*t & p(t)*: It shows value for t statistics and p value. It involves hypothesis. It answers question as Is it a useful variable or does it help us to explain variability we have in this case. As we know p value </0.05 is considered as variable significant.\n",
    "\n",
    "*Omnibus/Prob(Omnibus)*: Omnibus test is carried out in order to check whether errors are normally distributed(one of the assumptions of linear regression). Here, the null hypothesis is that the errors are normally distributed. A value close to zero is preferred, that would indicate normality. The Prob (Omnibus) performs a statistical test showing the probability that the residuals are normally distributed. A value close to 1 is preferred here.\n",
    "\n",
    "*Skew*: Value of Skew is preferred close to zero, indicating the residual distribution is normal. Note that this value also controls the Omnibus.\n",
    "\n",
    "*Kurtosis*: It is a measure of curvature (peakiness)of the data. Higher peaks lead to greater Kurtosis. Higher value for Kurtosis shows tighter clustering of residuals around zero, implying a better model with few outliers.\n",
    "\n",
    "*Durbin-Watson*: It tests for homoscedasticity (independance of error). A value between 1 and 2 is preferred.\n",
    "\n",
    "*Jarque-Bera (JB)/Prob(JB)*: This test is for normality of residual(one of the assumption for linear regression)The test is named after Carlos Jarque and Anil K. Bera. The test statistic is always positive. A large value of Jarque-Bera test shows that the errors are not normally distributed.\n",
    "\n",
    "*Condition Number*: This test measures the sensitivity of a function’s output as compared to its input. In case of multicollinearity, we can expect much higher fluctuations to small changes in the data.\n"
   ]
  },
  {
   "cell_type": "markdown",
   "metadata": {
    "id": "_HbwTqMXF2wQ"
   },
   "source": [
    "### Modelo de regresión multivariado"
   ]
  },
  {
   "cell_type": "code",
   "execution_count": 5,
   "metadata": {
    "colab": {
     "base_uri": "https://localhost:8080/",
     "height": 205
    },
    "executionInfo": {
     "elapsed": 255,
     "status": "ok",
     "timestamp": 1657889121054,
     "user": {
      "displayName": "Edier Vicente Aristizabal Giraldo",
      "userId": "14756502124163770629"
     },
     "user_tz": 300
    },
    "id": "RLqY8fYYOV2H",
    "outputId": "dfbc6a5f-f357-49ed-8917-042653f8a1dd"
   },
   "outputs": [
    {
     "data": {
      "text/html": [
       "<div>\n",
       "<style scoped>\n",
       "    .dataframe tbody tr th:only-of-type {\n",
       "        vertical-align: middle;\n",
       "    }\n",
       "\n",
       "    .dataframe tbody tr th {\n",
       "        vertical-align: top;\n",
       "    }\n",
       "\n",
       "    .dataframe thead th {\n",
       "        text-align: right;\n",
       "    }\n",
       "</style>\n",
       "<table border=\"1\" class=\"dataframe\">\n",
       "  <thead>\n",
       "    <tr style=\"text-align: right;\">\n",
       "      <th></th>\n",
       "      <th>MinTemp</th>\n",
       "      <th>MaxTemp</th>\n",
       "      <th>Rainfall</th>\n",
       "      <th>Evaporation</th>\n",
       "      <th>Sunshine</th>\n",
       "      <th>WindGustDir</th>\n",
       "      <th>WindGustSpeed</th>\n",
       "      <th>WindDir9am</th>\n",
       "      <th>WindDir3pm</th>\n",
       "      <th>WindSpeed9am</th>\n",
       "      <th>...</th>\n",
       "      <th>Humidity3pm</th>\n",
       "      <th>Pressure9am</th>\n",
       "      <th>Pressure3pm</th>\n",
       "      <th>Cloud9am</th>\n",
       "      <th>Cloud3pm</th>\n",
       "      <th>Temp9am</th>\n",
       "      <th>Temp3pm</th>\n",
       "      <th>RainToday</th>\n",
       "      <th>RISK_MM</th>\n",
       "      <th>RainTomorrow</th>\n",
       "    </tr>\n",
       "  </thead>\n",
       "  <tbody>\n",
       "    <tr>\n",
       "      <th>0</th>\n",
       "      <td>8.0</td>\n",
       "      <td>24.3</td>\n",
       "      <td>0.0</td>\n",
       "      <td>3.4</td>\n",
       "      <td>6.3</td>\n",
       "      <td>NW</td>\n",
       "      <td>30.0</td>\n",
       "      <td>SW</td>\n",
       "      <td>NW</td>\n",
       "      <td>6.0</td>\n",
       "      <td>...</td>\n",
       "      <td>29</td>\n",
       "      <td>1019.7</td>\n",
       "      <td>1015.0</td>\n",
       "      <td>7</td>\n",
       "      <td>7</td>\n",
       "      <td>14.4</td>\n",
       "      <td>23.6</td>\n",
       "      <td>No</td>\n",
       "      <td>3.6</td>\n",
       "      <td>Yes</td>\n",
       "    </tr>\n",
       "    <tr>\n",
       "      <th>1</th>\n",
       "      <td>14.0</td>\n",
       "      <td>26.9</td>\n",
       "      <td>3.6</td>\n",
       "      <td>4.4</td>\n",
       "      <td>9.7</td>\n",
       "      <td>ENE</td>\n",
       "      <td>39.0</td>\n",
       "      <td>E</td>\n",
       "      <td>W</td>\n",
       "      <td>4.0</td>\n",
       "      <td>...</td>\n",
       "      <td>36</td>\n",
       "      <td>1012.4</td>\n",
       "      <td>1008.4</td>\n",
       "      <td>5</td>\n",
       "      <td>3</td>\n",
       "      <td>17.5</td>\n",
       "      <td>25.7</td>\n",
       "      <td>Yes</td>\n",
       "      <td>3.6</td>\n",
       "      <td>Yes</td>\n",
       "    </tr>\n",
       "  </tbody>\n",
       "</table>\n",
       "<p>2 rows × 22 columns</p>\n",
       "</div>"
      ],
      "text/plain": [
       "   MinTemp  MaxTemp  Rainfall  Evaporation  Sunshine WindGustDir  \\\n",
       "0      8.0     24.3       0.0          3.4       6.3          NW   \n",
       "1     14.0     26.9       3.6          4.4       9.7         ENE   \n",
       "\n",
       "   WindGustSpeed WindDir9am WindDir3pm  WindSpeed9am  ...  Humidity3pm  \\\n",
       "0           30.0         SW         NW           6.0  ...           29   \n",
       "1           39.0          E          W           4.0  ...           36   \n",
       "\n",
       "   Pressure9am  Pressure3pm  Cloud9am  Cloud3pm  Temp9am  Temp3pm  RainToday  \\\n",
       "0       1019.7       1015.0         7         7     14.4     23.6         No   \n",
       "1       1012.4       1008.4         5         3     17.5     25.7        Yes   \n",
       "\n",
       "   RISK_MM RainTomorrow  \n",
       "0      3.6          Yes  \n",
       "1      3.6          Yes  \n",
       "\n",
       "[2 rows x 22 columns]"
      ]
     },
     "execution_count": 5,
     "metadata": {},
     "output_type": "execute_result"
    }
   ],
   "source": [
    "data=pd.read_csv(\"https://raw.githubusercontent.com/Vaibhav-Mehta-19/linear-regression-weather-dataset/master/weather.csv\")\n",
    "data.head(2)"
   ]
  },
  {
   "cell_type": "code",
   "execution_count": 6,
   "metadata": {
    "colab": {
     "base_uri": "https://localhost:8080/"
    },
    "executionInfo": {
     "elapsed": 208,
     "status": "ok",
     "timestamp": 1657888368111,
     "user": {
      "displayName": "Edier Vicente Aristizabal Giraldo",
      "userId": "14756502124163770629"
     },
     "user_tz": 300
    },
    "id": "UNkhCjmKF6E9",
    "outputId": "99b29ae1-8ddd-4f22-b835-1a950dd4e61b"
   },
   "outputs": [
    {
     "name": "stdout",
     "output_type": "stream",
     "text": [
      "                            OLS Regression Results                            \n",
      "==============================================================================\n",
      "Dep. Variable:               Rainfall   R-squared:                       0.219\n",
      "Model:                            OLS   Adj. R-squared:                  0.206\n",
      "Method:                 Least Squares   F-statistic:                     18.01\n",
      "Date:                Tue, 28 Nov 2023   Prob (F-statistic):           9.45e-16\n",
      "Time:                        13:50:57   Log-Likelihood:                -902.09\n",
      "No. Observations:                 328   AIC:                             1816.\n",
      "Df Residuals:                     322   BIC:                             1839.\n",
      "Df Model:                           5                                         \n",
      "Covariance Type:            nonrobust                                         \n",
      "===============================================================================\n",
      "                  coef    std err          t      P>|t|      [0.025      0.975]\n",
      "-------------------------------------------------------------------------------\n",
      "const         186.6444     38.410      4.859      0.000     111.078     262.211\n",
      "MinTemp         0.3614      0.074      4.897      0.000       0.216       0.507\n",
      "MaxTemp        -0.3030      0.066     -4.598      0.000      -0.433      -0.173\n",
      "Evaporation    -0.2294      0.114     -2.013      0.045      -0.454      -0.005\n",
      "Sunshine        0.1229      0.082      1.496      0.136      -0.039       0.285\n",
      "Pressure9am    -0.1781      0.038     -4.733      0.000      -0.252      -0.104\n",
      "==============================================================================\n",
      "Omnibus:                      309.120   Durbin-Watson:                   2.049\n",
      "Prob(Omnibus):                  0.000   Jarque-Bera (JB):             8264.612\n",
      "Skew:                           3.943   Prob(JB):                         0.00\n",
      "Kurtosis:                      26.292   Cond. No.                     1.86e+05\n",
      "==============================================================================\n",
      "\n",
      "Notes:\n",
      "[1] Standard Errors assume that the covariance matrix of the errors is correctly specified.\n",
      "[2] The condition number is large, 1.86e+05. This might indicate that there are\n",
      "strong multicollinearity or other numerical problems.\n"
     ]
    }
   ],
   "source": [
    "df=data.dropna()\n",
    "X=df[[\"MinTemp\", \"MaxTemp\", \"Evaporation\", \"Sunshine\", \"Pressure9am\"]]\n",
    "y=df[\"Rainfall\"]\n",
    "lm=sm.OLS(y, sm.add_constant(X)).fit()\n",
    "print(lm.summary())"
   ]
  },
  {
   "cell_type": "markdown",
   "metadata": {
    "id": "0TI0HzPk_dcy"
   },
   "source": [
    "La librearía _statsmodels_ permite utilizar la sintásis [Pasty](https://patsy.readthedocs.io/en/latest/index.html) de la siguiente forma:"
   ]
  },
  {
   "cell_type": "code",
   "execution_count": null,
   "metadata": {
    "colab": {
     "base_uri": "https://localhost:8080/"
    },
    "executionInfo": {
     "elapsed": 218,
     "status": "ok",
     "timestamp": 1657888375329,
     "user": {
      "displayName": "Edier Vicente Aristizabal Giraldo",
      "userId": "14756502124163770629"
     },
     "user_tz": 300
    },
    "id": "cA727mdXJK1R",
    "outputId": "e98c904a-3e9e-4d5f-8e3e-6563344d4518"
   },
   "outputs": [
    {
     "name": "stdout",
     "output_type": "stream",
     "text": [
      "                            OLS Regression Results                            \n",
      "==============================================================================\n",
      "Dep. Variable:               Rainfall   R-squared:                       0.219\n",
      "Model:                            OLS   Adj. R-squared:                  0.206\n",
      "Method:                 Least Squares   F-statistic:                     18.01\n",
      "Date:                Fri, 15 Jul 2022   Prob (F-statistic):           9.45e-16\n",
      "Time:                        12:32:56   Log-Likelihood:                -902.09\n",
      "No. Observations:                 328   AIC:                             1816.\n",
      "Df Residuals:                     322   BIC:                             1839.\n",
      "Df Model:                           5                                         \n",
      "Covariance Type:            nonrobust                                         \n",
      "===============================================================================\n",
      "                  coef    std err          t      P>|t|      [0.025      0.975]\n",
      "-------------------------------------------------------------------------------\n",
      "Intercept     186.6444     38.410      4.859      0.000     111.078     262.211\n",
      "MinTemp         0.3614      0.074      4.897      0.000       0.216       0.507\n",
      "MaxTemp        -0.3030      0.066     -4.598      0.000      -0.433      -0.173\n",
      "Evaporation    -0.2294      0.114     -2.013      0.045      -0.454      -0.005\n",
      "Sunshine        0.1229      0.082      1.496      0.136      -0.039       0.285\n",
      "Pressure9am    -0.1781      0.038     -4.733      0.000      -0.252      -0.104\n",
      "==============================================================================\n",
      "Omnibus:                      309.120   Durbin-Watson:                   2.049\n",
      "Prob(Omnibus):                  0.000   Jarque-Bera (JB):             8264.612\n",
      "Skew:                           3.943   Prob(JB):                         0.00\n",
      "Kurtosis:                      26.292   Cond. No.                     1.86e+05\n",
      "==============================================================================\n",
      "\n",
      "Warnings:\n",
      "[1] Standard Errors assume that the covariance matrix of the errors is correctly specified.\n",
      "[2] The condition number is large, 1.86e+05. This might indicate that there are\n",
      "strong multicollinearity or other numerical problems.\n"
     ]
    }
   ],
   "source": [
    "#Con intercepto\n",
    "import statsmodels.formula.api as smf\n",
    "lm=smf.ols(formula='Rainfall ~ MinTemp + MaxTemp + Evaporation + Sunshine + Pressure9am', data=df).fit()\n",
    "print(lm.summary())"
   ]
  },
  {
   "cell_type": "code",
   "execution_count": null,
   "metadata": {
    "colab": {
     "base_uri": "https://localhost:8080/"
    },
    "executionInfo": {
     "elapsed": 275,
     "status": "ok",
     "timestamp": 1657888395565,
     "user": {
      "displayName": "Edier Vicente Aristizabal Giraldo",
      "userId": "14756502124163770629"
     },
     "user_tz": 300
    },
    "id": "dKsJNPclbXYr",
    "outputId": "745c9430-25d2-4abe-e868-71f9f07f1ef3"
   },
   "outputs": [
    {
     "name": "stdout",
     "output_type": "stream",
     "text": [
      "                                 OLS Regression Results                                \n",
      "=======================================================================================\n",
      "Dep. Variable:               Rainfall   R-squared (uncentered):                   0.246\n",
      "Model:                            OLS   Adj. R-squared (uncentered):              0.235\n",
      "Method:                 Least Squares   F-statistic:                              21.13\n",
      "Date:                Fri, 15 Jul 2022   Prob (F-statistic):                    2.78e-18\n",
      "Time:                        12:33:16   Log-Likelihood:                         -913.70\n",
      "No. Observations:                 328   AIC:                                      1837.\n",
      "Df Residuals:                     323   BIC:                                      1856.\n",
      "Df Model:                           5                                                  \n",
      "Covariance Type:            nonrobust                                                  \n",
      "===============================================================================\n",
      "                  coef    std err          t      P>|t|      [0.025      0.975]\n",
      "-------------------------------------------------------------------------------\n",
      "MinTemp         0.5059      0.070      7.241      0.000       0.368       0.643\n",
      "MaxTemp        -0.3753      0.066     -5.651      0.000      -0.506      -0.245\n",
      "Evaporation    -0.1557      0.117     -1.333      0.184      -0.386       0.074\n",
      "Sunshine        0.1597      0.085      1.888      0.060      -0.007       0.326\n",
      "Pressure9am     0.0047      0.001      6.088      0.000       0.003       0.006\n",
      "==============================================================================\n",
      "Omnibus:                      313.699   Durbin-Watson:                   1.983\n",
      "Prob(Omnibus):                  0.000   Jarque-Bera (JB):             8276.386\n",
      "Skew:                           4.047   Prob(JB):                         0.00\n",
      "Kurtosis:                      26.239   Cond. No.                         583.\n",
      "==============================================================================\n",
      "\n",
      "Warnings:\n",
      "[1] Standard Errors assume that the covariance matrix of the errors is correctly specified.\n"
     ]
    }
   ],
   "source": [
    "#Para eliminar intercepto\n",
    "import statsmodels.formula.api as smf\n",
    "lm=smf.ols(formula='Rainfall ~ MinTemp + MaxTemp + Evaporation + Sunshine + Pressure9am - 1', data=df).fit()\n",
    "print(lm.summary())"
   ]
  },
  {
   "cell_type": "markdown",
   "metadata": {
    "id": "cmgZQmD12tnh"
   },
   "source": [
    "### Variables predictoras cualitativas"
   ]
  },
  {
   "cell_type": "markdown",
   "metadata": {
    "id": "roUp9Y1H2yS_"
   },
   "source": [
    "Los modelos de regresión permiten incorporar dentro de su análisis variables predictoras categoricas."
   ]
  },
  {
   "cell_type": "code",
   "execution_count": null,
   "metadata": {
    "colab": {
     "base_uri": "https://localhost:8080/"
    },
    "executionInfo": {
     "elapsed": 235,
     "status": "ok",
     "timestamp": 1657889220092,
     "user": {
      "displayName": "Edier Vicente Aristizabal Giraldo",
      "userId": "14756502124163770629"
     },
     "user_tz": 300
    },
    "id": "nf5801Xf5NUJ",
    "outputId": "5dbf5865-e3ff-4d1a-918a-be5cb02a97f9"
   },
   "outputs": [
    {
     "data": {
      "text/plain": [
       "array(['Yes', 'No'], dtype=object)"
      ]
     },
     "execution_count": 22,
     "metadata": {},
     "output_type": "execute_result"
    }
   ],
   "source": [
    "data[\"RainTomorrow\"].unique()"
   ]
  },
  {
   "cell_type": "markdown",
   "metadata": {
    "id": "GMI3Sroy5jnw"
   },
   "source": [
    "Qué pasa si se incluye una variable preditoria binaria a un modelo de regression:"
   ]
  },
  {
   "cell_type": "code",
   "execution_count": null,
   "metadata": {
    "colab": {
     "base_uri": "https://localhost:8080/"
    },
    "executionInfo": {
     "elapsed": 246,
     "status": "ok",
     "timestamp": 1657889361665,
     "user": {
      "displayName": "Edier Vicente Aristizabal Giraldo",
      "userId": "14756502124163770629"
     },
     "user_tz": 300
    },
    "id": "4yre5RNu5s1B",
    "outputId": "501313d4-641f-4c7a-edde-232ed2934745"
   },
   "outputs": [
    {
     "name": "stdout",
     "output_type": "stream",
     "text": [
      "                            OLS Regression Results                            \n",
      "==============================================================================\n",
      "Dep. Variable:               Rainfall   R-squared:                       0.018\n",
      "Model:                            OLS   Adj. R-squared:                  0.015\n",
      "Method:                 Least Squares   F-statistic:                     6.614\n",
      "Date:                Fri, 15 Jul 2022   Prob (F-statistic):             0.0105\n",
      "Time:                        12:49:22   Log-Likelihood:                -1043.0\n",
      "No. Observations:                 366   AIC:                             2090.\n",
      "Df Residuals:                     364   BIC:                             2098.\n",
      "Df Model:                           1                                         \n",
      "Covariance Type:            nonrobust                                         \n",
      "=======================================================================================\n",
      "                          coef    std err          t      P>|t|      [0.025      0.975]\n",
      "---------------------------------------------------------------------------------------\n",
      "Intercept               1.1640      0.242      4.807      0.000       0.688       1.640\n",
      "RainTomorrow[T.Yes]     1.4663      0.570      2.572      0.011       0.345       2.588\n",
      "==============================================================================\n",
      "Omnibus:                      369.227   Durbin-Watson:                   1.985\n",
      "Prob(Omnibus):                  0.000   Jarque-Bera (JB):            10775.629\n",
      "Skew:                           4.464   Prob(JB):                         0.00\n",
      "Kurtosis:                      28.038   Cond. No.                         2.70\n",
      "==============================================================================\n",
      "\n",
      "Warnings:\n",
      "[1] Standard Errors assume that the covariance matrix of the errors is correctly specified.\n"
     ]
    }
   ],
   "source": [
    "lm=sm.OLS.from_formula(\"Rainfall ~ RainTomorrow\", data).fit()\n",
    "print(lm.summary())"
   ]
  },
  {
   "cell_type": "markdown",
   "metadata": {
    "id": "pECh0JJF6JYZ"
   },
   "source": [
    "Utilicemos una variable categorica politómica:"
   ]
  },
  {
   "cell_type": "code",
   "execution_count": null,
   "metadata": {
    "colab": {
     "base_uri": "https://localhost:8080/"
    },
    "executionInfo": {
     "elapsed": 247,
     "status": "ok",
     "timestamp": 1657889507026,
     "user": {
      "displayName": "Edier Vicente Aristizabal Giraldo",
      "userId": "14756502124163770629"
     },
     "user_tz": 300
    },
    "id": "y7hL0ENG6P5S",
    "outputId": "05111554-896e-4654-f526-0762811dc85c"
   },
   "outputs": [
    {
     "data": {
      "text/plain": [
       "array(['NW', 'ENE', 'SSE', 'SE', 'E', 'S', 'N', 'WNW', 'ESE', 'NE', 'NNE',\n",
       "       'NNW', 'SW', 'W', 'WSW', 'SSW'], dtype=object)"
      ]
     },
     "execution_count": 27,
     "metadata": {},
     "output_type": "execute_result"
    }
   ],
   "source": [
    "data[\"WindGustDir\"].dropna().unique()"
   ]
  },
  {
   "cell_type": "code",
   "execution_count": null,
   "metadata": {
    "colab": {
     "base_uri": "https://localhost:8080/"
    },
    "executionInfo": {
     "elapsed": 201,
     "status": "ok",
     "timestamp": 1657889510570,
     "user": {
      "displayName": "Edier Vicente Aristizabal Giraldo",
      "userId": "14756502124163770629"
     },
     "user_tz": 300
    },
    "id": "pmZLcXav6Xj3",
    "outputId": "629040c6-0ba1-433f-f928-b173bde6168e"
   },
   "outputs": [
    {
     "name": "stdout",
     "output_type": "stream",
     "text": [
      "                            OLS Regression Results                            \n",
      "==============================================================================\n",
      "Dep. Variable:               Rainfall   R-squared:                       0.026\n",
      "Model:                            OLS   Adj. R-squared:                 -0.016\n",
      "Method:                 Least Squares   F-statistic:                    0.6226\n",
      "Date:                Fri, 15 Jul 2022   Prob (F-statistic):              0.856\n",
      "Time:                        12:51:51   Log-Likelihood:                -1034.2\n",
      "No. Observations:                 363   AIC:                             2100.\n",
      "Df Residuals:                     347   BIC:                             2163.\n",
      "Df Model:                          15                                         \n",
      "Covariance Type:            nonrobust                                         \n",
      "======================================================================================\n",
      "                         coef    std err          t      P>|t|      [0.025      0.975]\n",
      "--------------------------------------------------------------------------------------\n",
      "Intercept              0.7189      0.703      1.023      0.307      -0.663       2.101\n",
      "WindGustDir[T.ENE]     1.0011      1.050      0.953      0.341      -1.065       3.067\n",
      "WindGustDir[T.ESE]     1.2811      1.135      1.129      0.260      -0.951       3.514\n",
      "WindGustDir[T.N]      -0.3189      1.168     -0.273      0.785      -2.616       1.978\n",
      "WindGustDir[T.NE]      0.7061      1.279      0.552      0.581      -1.810       3.222\n",
      "WindGustDir[T.NNE]    -0.1439      1.667     -0.086      0.931      -3.422       3.134\n",
      "WindGustDir[T.NNW]     0.7447      0.954      0.781      0.435      -1.131       2.620\n",
      "WindGustDir[T.NW]      1.3660      0.863      1.583      0.114      -0.331       3.063\n",
      "WindGustDir[T.S]       0.6538      1.151      0.568      0.570      -1.610       2.917\n",
      "WindGustDir[T.SE]     -0.6189      1.420     -0.436      0.663      -3.412       2.174\n",
      "WindGustDir[T.SSE]     1.8977      1.420      1.336      0.182      -0.895       4.691\n",
      "WindGustDir[T.SSW]    -0.7189      2.037     -0.353      0.724      -4.725       3.287\n",
      "WindGustDir[T.SW]     -0.7189      2.566     -0.280      0.780      -5.766       4.328\n",
      "WindGustDir[T.W]       1.6611      1.186      1.400      0.162      -0.672       3.995\n",
      "WindGustDir[T.WNW]     0.3039      1.008      0.302      0.763      -1.679       2.286\n",
      "WindGustDir[T.WSW]    -0.7189      3.103     -0.232      0.817      -6.823       5.385\n",
      "==============================================================================\n",
      "Omnibus:                      366.076   Durbin-Watson:                   1.845\n",
      "Prob(Omnibus):                  0.000   Jarque-Bera (JB):            11013.942\n",
      "Skew:                           4.438   Prob(JB):                         0.00\n",
      "Kurtosis:                      28.484   Cond. No.                         15.7\n",
      "==============================================================================\n",
      "\n",
      "Warnings:\n",
      "[1] Standard Errors assume that the covariance matrix of the errors is correctly specified.\n"
     ]
    }
   ],
   "source": [
    "lm=sm.OLS.from_formula(\"Rainfall ~ WindGustDir\", data).fit()\n",
    "print(lm.summary())"
   ]
  },
  {
   "cell_type": "markdown",
   "metadata": {
    "id": "VRdRoauX63mU"
   },
   "source": [
    "Qué paso con las clases de las variables? cuántas clases tienen la variable y cuantos coeficientes obtuvo en la regresión?"
   ]
  },
  {
   "cell_type": "markdown",
   "metadata": {
    "id": "8pckbKtt7cyJ"
   },
   "source": [
    "### Transformación de variables"
   ]
  },
  {
   "cell_type": "code",
   "execution_count": null,
   "metadata": {
    "colab": {
     "base_uri": "https://localhost:8080/",
     "height": 205
    },
    "executionInfo": {
     "elapsed": 318,
     "status": "ok",
     "timestamp": 1657889764845,
     "user": {
      "displayName": "Edier Vicente Aristizabal Giraldo",
      "userId": "14756502124163770629"
     },
     "user_tz": 300
    },
    "id": "QgxbZ_xu7hoN",
    "outputId": "54815f29-02d4-4e40-cc26-d71baed61340"
   },
   "outputs": [
    {
     "data": {
      "text/html": [
       "\n",
       "  <div id=\"df-684596cf-de72-4f94-be75-d35229804099\">\n",
       "    <div class=\"colab-df-container\">\n",
       "      <div>\n",
       "<style scoped>\n",
       "    .dataframe tbody tr th:only-of-type {\n",
       "        vertical-align: middle;\n",
       "    }\n",
       "\n",
       "    .dataframe tbody tr th {\n",
       "        vertical-align: top;\n",
       "    }\n",
       "\n",
       "    .dataframe thead th {\n",
       "        text-align: right;\n",
       "    }\n",
       "</style>\n",
       "<table border=\"1\" class=\"dataframe\">\n",
       "  <thead>\n",
       "    <tr style=\"text-align: right;\">\n",
       "      <th></th>\n",
       "      <th>MinTemp</th>\n",
       "      <th>MaxTemp</th>\n",
       "      <th>Rainfall</th>\n",
       "      <th>Evaporation</th>\n",
       "      <th>Sunshine</th>\n",
       "      <th>WindGustDir</th>\n",
       "      <th>WindGustSpeed</th>\n",
       "      <th>WindDir9am</th>\n",
       "      <th>WindDir3pm</th>\n",
       "      <th>WindSpeed9am</th>\n",
       "      <th>...</th>\n",
       "      <th>Humidity3pm</th>\n",
       "      <th>Pressure9am</th>\n",
       "      <th>Pressure3pm</th>\n",
       "      <th>Cloud9am</th>\n",
       "      <th>Cloud3pm</th>\n",
       "      <th>Temp9am</th>\n",
       "      <th>Temp3pm</th>\n",
       "      <th>RainToday</th>\n",
       "      <th>RISK_MM</th>\n",
       "      <th>RainTomorrow</th>\n",
       "    </tr>\n",
       "  </thead>\n",
       "  <tbody>\n",
       "    <tr>\n",
       "      <th>0</th>\n",
       "      <td>8.0</td>\n",
       "      <td>24.3</td>\n",
       "      <td>0.0</td>\n",
       "      <td>3.4</td>\n",
       "      <td>6.3</td>\n",
       "      <td>NW</td>\n",
       "      <td>30.0</td>\n",
       "      <td>SW</td>\n",
       "      <td>NW</td>\n",
       "      <td>6.0</td>\n",
       "      <td>...</td>\n",
       "      <td>29</td>\n",
       "      <td>1019.7</td>\n",
       "      <td>1015.0</td>\n",
       "      <td>7</td>\n",
       "      <td>7</td>\n",
       "      <td>14.4</td>\n",
       "      <td>23.6</td>\n",
       "      <td>No</td>\n",
       "      <td>3.6</td>\n",
       "      <td>Yes</td>\n",
       "    </tr>\n",
       "    <tr>\n",
       "      <th>1</th>\n",
       "      <td>14.0</td>\n",
       "      <td>26.9</td>\n",
       "      <td>3.6</td>\n",
       "      <td>4.4</td>\n",
       "      <td>9.7</td>\n",
       "      <td>ENE</td>\n",
       "      <td>39.0</td>\n",
       "      <td>E</td>\n",
       "      <td>W</td>\n",
       "      <td>4.0</td>\n",
       "      <td>...</td>\n",
       "      <td>36</td>\n",
       "      <td>1012.4</td>\n",
       "      <td>1008.4</td>\n",
       "      <td>5</td>\n",
       "      <td>3</td>\n",
       "      <td>17.5</td>\n",
       "      <td>25.7</td>\n",
       "      <td>Yes</td>\n",
       "      <td>3.6</td>\n",
       "      <td>Yes</td>\n",
       "    </tr>\n",
       "  </tbody>\n",
       "</table>\n",
       "<p>2 rows × 22 columns</p>\n",
       "</div>\n",
       "      <button class=\"colab-df-convert\" onclick=\"convertToInteractive('df-684596cf-de72-4f94-be75-d35229804099')\"\n",
       "              title=\"Convert this dataframe to an interactive table.\"\n",
       "              style=\"display:none;\">\n",
       "        \n",
       "  <svg xmlns=\"http://www.w3.org/2000/svg\" height=\"24px\"viewBox=\"0 0 24 24\"\n",
       "       width=\"24px\">\n",
       "    <path d=\"M0 0h24v24H0V0z\" fill=\"none\"/>\n",
       "    <path d=\"M18.56 5.44l.94 2.06.94-2.06 2.06-.94-2.06-.94-.94-2.06-.94 2.06-2.06.94zm-11 1L8.5 8.5l.94-2.06 2.06-.94-2.06-.94L8.5 2.5l-.94 2.06-2.06.94zm10 10l.94 2.06.94-2.06 2.06-.94-2.06-.94-.94-2.06-.94 2.06-2.06.94z\"/><path d=\"M17.41 7.96l-1.37-1.37c-.4-.4-.92-.59-1.43-.59-.52 0-1.04.2-1.43.59L10.3 9.45l-7.72 7.72c-.78.78-.78 2.05 0 2.83L4 21.41c.39.39.9.59 1.41.59.51 0 1.02-.2 1.41-.59l7.78-7.78 2.81-2.81c.8-.78.8-2.07 0-2.86zM5.41 20L4 18.59l7.72-7.72 1.47 1.35L5.41 20z\"/>\n",
       "  </svg>\n",
       "      </button>\n",
       "      \n",
       "  <style>\n",
       "    .colab-df-container {\n",
       "      display:flex;\n",
       "      flex-wrap:wrap;\n",
       "      gap: 12px;\n",
       "    }\n",
       "\n",
       "    .colab-df-convert {\n",
       "      background-color: #E8F0FE;\n",
       "      border: none;\n",
       "      border-radius: 50%;\n",
       "      cursor: pointer;\n",
       "      display: none;\n",
       "      fill: #1967D2;\n",
       "      height: 32px;\n",
       "      padding: 0 0 0 0;\n",
       "      width: 32px;\n",
       "    }\n",
       "\n",
       "    .colab-df-convert:hover {\n",
       "      background-color: #E2EBFA;\n",
       "      box-shadow: 0px 1px 2px rgba(60, 64, 67, 0.3), 0px 1px 3px 1px rgba(60, 64, 67, 0.15);\n",
       "      fill: #174EA6;\n",
       "    }\n",
       "\n",
       "    [theme=dark] .colab-df-convert {\n",
       "      background-color: #3B4455;\n",
       "      fill: #D2E3FC;\n",
       "    }\n",
       "\n",
       "    [theme=dark] .colab-df-convert:hover {\n",
       "      background-color: #434B5C;\n",
       "      box-shadow: 0px 1px 3px 1px rgba(0, 0, 0, 0.15);\n",
       "      filter: drop-shadow(0px 1px 2px rgba(0, 0, 0, 0.3));\n",
       "      fill: #FFFFFF;\n",
       "    }\n",
       "  </style>\n",
       "\n",
       "      <script>\n",
       "        const buttonEl =\n",
       "          document.querySelector('#df-684596cf-de72-4f94-be75-d35229804099 button.colab-df-convert');\n",
       "        buttonEl.style.display =\n",
       "          google.colab.kernel.accessAllowed ? 'block' : 'none';\n",
       "\n",
       "        async function convertToInteractive(key) {\n",
       "          const element = document.querySelector('#df-684596cf-de72-4f94-be75-d35229804099');\n",
       "          const dataTable =\n",
       "            await google.colab.kernel.invokeFunction('convertToInteractive',\n",
       "                                                     [key], {});\n",
       "          if (!dataTable) return;\n",
       "\n",
       "          const docLinkHtml = 'Like what you see? Visit the ' +\n",
       "            '<a target=\"_blank\" href=https://colab.research.google.com/notebooks/data_table.ipynb>data table notebook</a>'\n",
       "            + ' to learn more about interactive tables.';\n",
       "          element.innerHTML = '';\n",
       "          dataTable['output_type'] = 'display_data';\n",
       "          await google.colab.output.renderOutput(dataTable, element);\n",
       "          const docLink = document.createElement('div');\n",
       "          docLink.innerHTML = docLinkHtml;\n",
       "          element.appendChild(docLink);\n",
       "        }\n",
       "      </script>\n",
       "    </div>\n",
       "  </div>\n",
       "  "
      ],
      "text/plain": [
       "   MinTemp  MaxTemp  Rainfall  Evaporation  Sunshine WindGustDir  \\\n",
       "0      8.0     24.3       0.0          3.4       6.3          NW   \n",
       "1     14.0     26.9       3.6          4.4       9.7         ENE   \n",
       "\n",
       "   WindGustSpeed WindDir9am WindDir3pm  WindSpeed9am  ...  Humidity3pm  \\\n",
       "0           30.0         SW         NW           6.0  ...           29   \n",
       "1           39.0          E          W           4.0  ...           36   \n",
       "\n",
       "   Pressure9am  Pressure3pm  Cloud9am  Cloud3pm  Temp9am  Temp3pm  RainToday  \\\n",
       "0       1019.7       1015.0         7         7     14.4     23.6         No   \n",
       "1       1012.4       1008.4         5         3     17.5     25.7        Yes   \n",
       "\n",
       "   RISK_MM RainTomorrow  \n",
       "0      3.6          Yes  \n",
       "1      3.6          Yes  \n",
       "\n",
       "[2 rows x 22 columns]"
      ]
     },
     "execution_count": 29,
     "metadata": {},
     "output_type": "execute_result"
    }
   ],
   "source": [
    "data.head(2)"
   ]
  },
  {
   "cell_type": "markdown",
   "metadata": {
    "id": "KRtkgaC27kT5"
   },
   "source": [
    "Los modelos de regresión permiten tranformar variables para mejorar el ajuste o para cumplir con los asumpsiones de la regresión. Por ejmplo es posible cosntruir un modelo de la siguiente forma:\n",
    "\n",
    "Rainfall ~ $\\beta_0 + \\beta_1Sunshine + \\beta_2Evaporation + \\beta_3Pressure9am*Pressure3pm$"
   ]
  },
  {
   "cell_type": "code",
   "execution_count": null,
   "metadata": {
    "colab": {
     "base_uri": "https://localhost:8080/"
    },
    "executionInfo": {
     "elapsed": 230,
     "status": "ok",
     "timestamp": 1657890097808,
     "user": {
      "displayName": "Edier Vicente Aristizabal Giraldo",
      "userId": "14756502124163770629"
     },
     "user_tz": 300
    },
    "id": "hnY6KtyI8b87",
    "outputId": "ba82e0df-4a89-49e3-e9a3-768cbd7c0991"
   },
   "outputs": [
    {
     "name": "stdout",
     "output_type": "stream",
     "text": [
      "                            OLS Regression Results                            \n",
      "==============================================================================\n",
      "Dep. Variable:               Rainfall   R-squared:                       0.216\n",
      "Model:                            OLS   Adj. R-squared:                  0.205\n",
      "Method:                 Least Squares   F-statistic:                     19.62\n",
      "Date:                Fri, 15 Jul 2022   Prob (F-statistic):           2.84e-17\n",
      "Time:                        13:01:38   Log-Likelihood:                -991.15\n",
      "No. Observations:                 363   AIC:                             1994.\n",
      "Df Residuals:                     357   BIC:                             2018.\n",
      "Df Model:                           5                                         \n",
      "Covariance Type:            nonrobust                                         \n",
      "===========================================================================================\n",
      "                              coef    std err          t      P>|t|      [0.025      0.975]\n",
      "-------------------------------------------------------------------------------------------\n",
      "Intercept                4927.5974   3609.568      1.365      0.173   -2171.091     1.2e+04\n",
      "Sunshine                   -0.0747      0.061     -1.221      0.223      -0.195       0.046\n",
      "Evaporation                -0.1643      0.085     -1.925      0.055      -0.332       0.004\n",
      "Pressure9am                -5.5031      3.544     -1.553      0.121     -12.472       1.466\n",
      "Pressure3pm                -3.9839      3.559     -1.119      0.264     -10.983       3.015\n",
      "Pressure9am:Pressure3pm     0.0046      0.003      1.309      0.191      -0.002       0.011\n",
      "==============================================================================\n",
      "Omnibus:                      333.976   Durbin-Watson:                   2.042\n",
      "Prob(Omnibus):                  0.000   Jarque-Bera (JB):             9003.830\n",
      "Skew:                           3.862   Prob(JB):                         0.00\n",
      "Kurtosis:                      26.144   Cond. No.                     1.91e+10\n",
      "==============================================================================\n",
      "\n",
      "Warnings:\n",
      "[1] Standard Errors assume that the covariance matrix of the errors is correctly specified.\n",
      "[2] The condition number is large, 1.91e+10. This might indicate that there are\n",
      "strong multicollinearity or other numerical problems.\n"
     ]
    }
   ],
   "source": [
    "lm=sm.OLS.from_formula(\"Rainfall ~ Sunshine + Evaporation + Pressure9am*Pressure3pm\", data).fit()\n",
    "print(lm.summary())"
   ]
  },
  {
   "cell_type": "markdown",
   "metadata": {
    "id": "NYQBRpoz-MYq"
   },
   "source": [
    "Un tipo de transformación común realizado en regresiones para ajustar una variable a un distribución normal es la transformación logarítmica. En este caso se puede realizar de la siguiente manera:"
   ]
  },
  {
   "cell_type": "code",
   "execution_count": null,
   "metadata": {
    "colab": {
     "base_uri": "https://localhost:8080/"
    },
    "executionInfo": {
     "elapsed": 204,
     "status": "ok",
     "timestamp": 1657890434791,
     "user": {
      "displayName": "Edier Vicente Aristizabal Giraldo",
      "userId": "14756502124163770629"
     },
     "user_tz": 300
    },
    "id": "oTPwb6ez9uFa",
    "outputId": "899caa7f-45d9-4ff9-decc-714a61251c29"
   },
   "outputs": [
    {
     "name": "stdout",
     "output_type": "stream",
     "text": [
      "                            OLS Regression Results                            \n",
      "==============================================================================\n",
      "Dep. Variable:               Rainfall   R-squared:                       0.025\n",
      "Model:                            OLS   Adj. R-squared:                  0.019\n",
      "Method:                 Least Squares   F-statistic:                     4.594\n",
      "Date:                Fri, 15 Jul 2022   Prob (F-statistic):             0.0107\n",
      "Time:                        13:07:15   Log-Likelihood:                -1030.6\n",
      "No. Observations:                 363   AIC:                             2067.\n",
      "Df Residuals:                     360   BIC:                             2079.\n",
      "Df Model:                           2                                         \n",
      "Covariance Type:            nonrobust                                         \n",
      "=======================================================================================\n",
      "                          coef    std err          t      P>|t|      [0.025      0.975]\n",
      "---------------------------------------------------------------------------------------\n",
      "Intercept               2.6288      0.595      4.422      0.000       1.460       3.798\n",
      "Sunshine               -0.2042      0.068     -3.019      0.003      -0.337      -0.071\n",
      "np.log(Evaporation)     0.2984      0.340      0.878      0.380      -0.370       0.967\n",
      "==============================================================================\n",
      "Omnibus:                      378.031   Durbin-Watson:                   1.895\n",
      "Prob(Omnibus):                  0.000   Jarque-Bera (JB):            12903.620\n",
      "Skew:                           4.618   Prob(JB):                         0.00\n",
      "Kurtosis:                      30.710   Cond. No.                         24.9\n",
      "==============================================================================\n",
      "\n",
      "Warnings:\n",
      "[1] Standard Errors assume that the covariance matrix of the errors is correctly specified.\n"
     ]
    }
   ],
   "source": [
    "lm=sm.OLS.from_formula(\"Rainfall ~ Sunshine + np.log(Evaporation)\", data).fit()\n",
    "print(lm.summary())"
   ]
  },
  {
   "cell_type": "markdown",
   "metadata": {
    "id": "9ArMqEBeAZ-y"
   },
   "source": [
    "Un caso especial de transformación es la denominada _Box-Cox_ λ. Este tipo de trasnformación se debe realizar previamente de la siguiente manera:"
   ]
  },
  {
   "cell_type": "code",
   "execution_count": null,
   "metadata": {
    "colab": {
     "base_uri": "https://localhost:8080/"
    },
    "executionInfo": {
     "elapsed": 227,
     "status": "ok",
     "timestamp": 1657891297222,
     "user": {
      "displayName": "Edier Vicente Aristizabal Giraldo",
      "userId": "14756502124163770629"
     },
     "user_tz": 300
    },
    "id": "xYsRA_-rA2Qa",
    "outputId": "8549c153-b816-4665-f0c9-02d40992e120"
   },
   "outputs": [
    {
     "name": "stdout",
     "output_type": "stream",
     "text": [
      "[5.68489804 5.98395823 5.57641478 4.47695966 4.57214462 4.6954455\n",
      " 4.88775877 4.7105823  5.07111341 5.50253711 5.79073303 6.02823186\n",
      " 6.09383808 6.4084763  6.43880013 6.52862048 6.43880013 6.31630958\n",
      " 6.54835177 6.65544203 6.65544203 5.05730399 4.93082808 5.68489804\n",
      " 6.14779462 5.98395823 5.42735087 6.10468069 5.68489804 5.6610253\n",
      " 5.19332287 5.91671672 5.67297812 5.93924321 5.37647051 5.97282128\n",
      " 5.85989603 6.12628865 6.25383567 5.74401187 4.93082808 5.33790006\n",
      " 5.17992392 6.00614954 6.30595551 5.2859102  5.36365326 5.25966845\n",
      " 5.27281017 5.53963596 6.26430668 5.40198783 5.19332287 5.69678527\n",
      " 5.36365326 5.91671672 5.96165658 6.13705431 6.47893083 6.807088\n",
      " 6.66506017 6.73185666 6.807088   5.57641478 5.80233592 6.05020653\n",
      " 6.72237049 6.70334233 6.3472343  6.30595551 6.73185666 6.88118079\n",
      " 6.87197999 6.69380016 5.50253711 6.69380016 6.63614797 5.77909939\n",
      " 5.19332287 5.08487567 5.73225314 5.12588345 5.46511118 5.69678527\n",
      " 6.08296952 5.84844392 6.19050535 6.44886483 6.63614797 6.70334233\n",
      " 6.79774723 6.08296952 5.62496712 6.19050535 6.27475403 5.47762328\n",
      " 5.50253711 6.03923257 5.67297812 5.12588345 5.25966845 5.53963596\n",
      " 5.8827117  5.67297812 4.88775877 5.67297812 5.79073303 5.89407565\n",
      " 5.6610253  5.85989603 6.00614954 6.20112113 5.74401187 6.1691998\n",
      " 5.77909939 5.62496712 5.87131856 6.12628865 6.0611539  4.75563931\n",
      " 4.91652375 5.37647051 5.69678527 6.02823186 6.12628865 6.0611539\n",
      " 6.49886919 6.23282217 6.03923257 6.08296952 6.4889105  6.77901201\n",
      " 6.4889105  6.62647185 6.69380016 6.82571624 6.54835177 6.33694884\n",
      " 6.30595551 5.9054106  6.24334088 4.3627508  5.08487567 5.75573902\n",
      " 5.45256193 4.77054241 5.16648088 4.90216747 4.88775877 4.93082808\n",
      " 4.98753507 4.97343396 5.37647051 5.56419031 4.27894777 4.98753507\n",
      " 5.32496349 5.37647051 5.20667806 4.98753507 5.07111341 5.51493938\n",
      " 5.57641478 5.6610253  5.11226029 4.85878214 5.23325864 5.043447\n",
      " 5.27281017 5.09859116 4.57214462 4.95928272 5.21998987 4.98753507\n",
      " 5.0015865  5.29896889 5.25966845 5.36365326 4.95928272 3.72988211\n",
      " 4.19316653 4.3627508  4.19316653 4.75563931 4.72565982 4.6649917\n",
      " 5.0015865  4.68024883 4.80017808 4.87329715 5.27281017 5.25966845\n",
      " 4.77054241 5.02954204 5.0015865  4.94508091 4.84421323 4.55644675\n",
      " 3.92268035 4.24487918 4.87329715 4.7105823  4.77054241 4.34614302\n",
      " 4.3627508  4.31269997 4.78538849 4.93082808 4.87329715 4.68024883\n",
      " 4.78538849 4.85878214 4.93082808 4.2277239  4.50895686 4.29586296\n",
      " 4.41212934 4.41212934 4.6649917  4.47695966 4.31269997 4.6033463\n",
      " 4.17576246 4.39574313 4.61885143 4.05149532 3.82764412 4.34614302\n",
      " 4.6954455  4.47695966 4.47695966 4.5406833  3.80831598 4.21048668\n",
      " 4.2277239  4.03338119 4.05149532 3.97847039 3.82764412 4.27894777\n",
      " 4.3627508  4.55644675 4.4608577  3.80831598 4.06951673 3.76932655\n",
      " 3.86597504 4.26195349 4.2277239  3.68996917 3.35194063 3.19203577\n",
      " 3.16850703 3.09681994 3.68996917 3.66983261 4.63429362 4.15827343\n",
      " 4.01517315 3.76932655 3.58804243 3.78887732 3.66983261 3.78887732\n",
      " 3.78887732 3.70998507 3.90388213 4.03338119 3.72988211 3.39617661\n",
      " 3.60868042 3.90388213 3.90388213 4.24487918 3.39617661 3.76932655\n",
      " 4.01517315 3.92268035 3.64957355 4.24487918 3.68996917 3.95997313\n",
      " 3.37413547 2.89690314 3.30707896 3.5463735  3.90388213 3.60868042\n",
      " 4.34614302 4.26195349 3.78887732 3.95997313 4.06951673 4.2277239\n",
      " 4.24487918 3.90388213 3.78887732 4.29586296 4.26195349 4.75563931\n",
      " 4.41212934 4.34614302 4.58777758 4.6033463  4.74067864 4.3627508\n",
      " 4.6649917  3.88498083 3.72988211 3.9413769  4.57214462 4.6649917\n",
      " 4.47695966 4.34614302 4.42844331 4.6496735  5.35079654 5.82545023\n",
      " 5.05730399 5.09859116 4.0874466  4.24487918 4.85878214 5.56419031\n",
      " 5.56419031 5.07111341 5.3892486  4.58777758 4.75563931 4.95928272\n",
      " 5.25966845 5.84844392 5.68489804 4.98753507 4.68024883 5.21998987\n",
      " 6.0611539  6.20112113 5.23325864 5.31198654 4.85878214 4.55644675\n",
      " 4.84421323 5.13946101 5.40198783 5.45256193 5.63702003 5.89407565\n",
      " 5.2859102  5.08487567 5.27281017 5.6610253  5.73225314 6.15850973\n",
      " 6.03923257 5.21998987 4.39574313 4.85878214 5.23325864 5.82545023\n",
      " 5.89407565 6.38815114 6.14779462 5.12588345 5.98395823 6.33694884]\n",
      "0.3329101923580357\n"
     ]
    }
   ],
   "source": [
    "from scipy import stats\n",
    "transformed_price, lambda_price = stats.boxcox(data['MaxTemp'])\n",
    "print(transformed_price)\n",
    "print(lambda_price)"
   ]
  },
  {
   "cell_type": "code",
   "execution_count": null,
   "metadata": {
    "colab": {
     "base_uri": "https://localhost:8080/"
    },
    "executionInfo": {
     "elapsed": 212,
     "status": "ok",
     "timestamp": 1657891487009,
     "user": {
      "displayName": "Edier Vicente Aristizabal Giraldo",
      "userId": "14756502124163770629"
     },
     "user_tz": 300
    },
    "id": "bhQbanwKBdfF",
    "outputId": "9ae4a05c-ccb7-4216-e155-943b807d55b7"
   },
   "outputs": [
    {
     "name": "stdout",
     "output_type": "stream",
     "text": [
      "                            OLS Regression Results                            \n",
      "==============================================================================\n",
      "Dep. Variable:               Rainfall   R-squared:                       0.025\n",
      "Model:                            OLS   Adj. R-squared:                  0.017\n",
      "Method:                 Least Squares   F-statistic:                     3.025\n",
      "Date:                Fri, 15 Jul 2022   Prob (F-statistic):             0.0296\n",
      "Time:                        13:24:47   Log-Likelihood:                -1030.7\n",
      "No. Observations:                 363   AIC:                             2069.\n",
      "Df Residuals:                     359   BIC:                             2085.\n",
      "Df Model:                           3                                         \n",
      "Covariance Type:            nonrobust                                         \n",
      "=====================================================================================\n",
      "                        coef    std err          t      P>|t|      [0.025      0.975]\n",
      "-------------------------------------------------------------------------------------\n",
      "Intercept             3.3267      1.417      2.347      0.019       0.539       6.114\n",
      "Sunshine             -0.1848      0.070     -2.635      0.009      -0.323      -0.047\n",
      "Evaporation           0.0926      0.112      0.826      0.410      -0.128       0.313\n",
      "transformed_price    -0.1721      0.351     -0.491      0.624      -0.862       0.518\n",
      "==============================================================================\n",
      "Omnibus:                      376.844   Durbin-Watson:                   1.884\n",
      "Prob(Omnibus):                  0.000   Jarque-Bera (JB):            12657.864\n",
      "Skew:                           4.602   Prob(JB):                         0.00\n",
      "Kurtosis:                      30.426   Cond. No.                         73.7\n",
      "==============================================================================\n",
      "\n",
      "Warnings:\n",
      "[1] Standard Errors assume that the covariance matrix of the errors is correctly specified.\n"
     ]
    }
   ],
   "source": [
    "data[\"transformed_price\"]=transformed_price\n",
    "lm=sm.OLS.from_formula(\"Rainfall ~ Sunshine + Evaporation + transformed_price\", data).fit()\n",
    "print(lm.summary())"
   ]
  },
  {
   "cell_type": "markdown",
   "metadata": {
    "id": "BRxbcuKSCUVU"
   },
   "source": [
    "Los modelos de regresión lineal permiten incluso incorporar relaciones no lineales de sus variables, de la siguiente forma:"
   ]
  },
  {
   "cell_type": "code",
   "execution_count": null,
   "metadata": {
    "colab": {
     "base_uri": "https://localhost:8080/"
    },
    "executionInfo": {
     "elapsed": 275,
     "status": "ok",
     "timestamp": 1657891629766,
     "user": {
      "displayName": "Edier Vicente Aristizabal Giraldo",
      "userId": "14756502124163770629"
     },
     "user_tz": 300
    },
    "id": "emuv5xu8Cf3E",
    "outputId": "848815ff-040e-4ac3-fa98-92f43ad74500"
   },
   "outputs": [
    {
     "name": "stdout",
     "output_type": "stream",
     "text": [
      "                            OLS Regression Results                            \n",
      "==============================================================================\n",
      "Dep. Variable:               Rainfall   R-squared:                       0.023\n",
      "Model:                            OLS   Adj. R-squared:                  0.018\n",
      "Method:                 Least Squares   F-statistic:                     4.244\n",
      "Date:                Fri, 15 Jul 2022   Prob (F-statistic):             0.0151\n",
      "Time:                        13:27:10   Log-Likelihood:                -1031.0\n",
      "No. Observations:                 363   AIC:                             2068.\n",
      "Df Residuals:                     360   BIC:                             2080.\n",
      "Df Model:                           2                                         \n",
      "Covariance Type:            nonrobust                                         \n",
      "=======================================================================================\n",
      "                          coef    std err          t      P>|t|      [0.025      0.975]\n",
      "---------------------------------------------------------------------------------------\n",
      "Intercept               2.8195      0.549      5.140      0.000       1.741       3.898\n",
      "Sunshine               -0.1867      0.065     -2.882      0.004      -0.314      -0.059\n",
      "I(Evaporation ** 2)     0.0022      0.007      0.294      0.769      -0.013       0.017\n",
      "==============================================================================\n",
      "Omnibus:                      379.527   Durbin-Watson:                   1.883\n",
      "Prob(Omnibus):                  0.000   Jarque-Bera (JB):            13111.964\n",
      "Skew:                           4.643   Prob(JB):                         0.00\n",
      "Kurtosis:                      30.941   Cond. No.                         104.\n",
      "==============================================================================\n",
      "\n",
      "Warnings:\n",
      "[1] Standard Errors assume that the covariance matrix of the errors is correctly specified.\n"
     ]
    }
   ],
   "source": [
    "lm=sm.OLS.from_formula(\"Rainfall ~ Sunshine + I(Evaporation**2)\", data).fit()\n",
    "print(lm.summary())"
   ]
  },
  {
   "cell_type": "markdown",
   "metadata": {
    "id": "2Hk7tcrL7MBB"
   },
   "source": [
    "### Evaluación de la regresión"
   ]
  },
  {
   "cell_type": "code",
   "execution_count": 7,
   "metadata": {
    "id": "_FTXBC1icQar"
   },
   "outputs": [],
   "source": [
    "data_url = \"http://lib.stat.cmu.edu/datasets/boston\"\n",
    "raw_df = pd.read_csv(data_url, sep=\"\\s+\", skiprows=22, header=None)\n",
    "X = np.hstack([raw_df.values[::2, :], raw_df.values[1::2, :2]])\n",
    "y = raw_df.values[1::2, 2]"
   ]
  },
  {
   "cell_type": "markdown",
   "metadata": {
    "id": "bvHWUzDyyR1s"
   },
   "source": [
    "Es posible obtener los valores de Y con el modelo entrenado, utilizando los datos de entrenamiento y los datos de validación. Ademas se puede comparar visualmente el ajuste con los datos reales de validación y las predicciones con los datos de validación."
   ]
  },
  {
   "cell_type": "code",
   "execution_count": 11,
   "metadata": {
    "colab": {
     "base_uri": "https://localhost:8080/",
     "height": 295
    },
    "executionInfo": {
     "elapsed": 591,
     "status": "ok",
     "timestamp": 1657888408236,
     "user": {
      "displayName": "Edier Vicente Aristizabal Giraldo",
      "userId": "14756502124163770629"
     },
     "user_tz": 300
    },
    "id": "K6SncQVJyR1t",
    "outputId": "f417b979-783e-4178-961f-7a9f03d0e4ce"
   },
   "outputs": [
    {
     "data": {
      "image/png": "[encoded data removed]",
      "text/plain": [
       "<Figure size 640x480 with 1 Axes>"
      ]
     },
     "metadata": {},
     "output_type": "display_data"
    }
   ],
   "source": [
    "lm=sm.OLS(y, sm.add_constant(X)).fit()\n",
    "y_pred=lm.predict(sm.add_constant(X))\n",
    "y_test_pred=lm.predict(sm.add_constant(X))\n",
    "plt.scatter(y,y_pred)\n",
    "plt.title('Datos Modelados vs Datos Reales')\n",
    "plt.xlabel('Valor real')\n",
    "plt.ylabel('Modelo');"
   ]
  },
  {
   "cell_type": "markdown",
   "metadata": {
    "id": "9PzZtrOZyR1t"
   },
   "source": [
    "El error residual, es decir la diferencia entre los datos de predicción y las variables predictoras, se distribuye de la siguiente manera para este ejemplo."
   ]
  },
  {
   "cell_type": "code",
   "execution_count": 12,
   "metadata": {
    "colab": {
     "base_uri": "https://localhost:8080/",
     "height": 338
    },
    "executionInfo": {
     "elapsed": 795,
     "status": "ok",
     "timestamp": 1657848141155,
     "user": {
      "displayName": "Edier Vicente Aristizabal Giraldo",
      "userId": "14756502124163770629"
     },
     "user_tz": 300
    },
    "id": "zJvwPVtyBl87",
    "outputId": "194b0585-d1ed-4c11-c203-0be723d95bcd"
   },
   "outputs": [
    {
     "data": {
      "image/png": "[encoded data removed]",
      "text/plain": [
       "<Figure size 800x500 with 1 Axes>"
      ]
     },
     "metadata": {},
     "output_type": "display_data"
    }
   ],
   "source": [
    "plt.figure(figsize=(8,5))\n",
    "plt.scatter(x=X[:,0],y=lm.resid,color='blue',edgecolor='k')\n",
    "plt.grid(True)\n",
    "xmin=min(X[:,0])\n",
    "xmax = max(X[:,0])\n",
    "plt.hlines(y=0,xmin=xmin*0.9,xmax=xmax*1.1,color='red',linestyle='--',lw=3)\n",
    "plt.ylabel('Residuals',fontsize=14)\n",
    "plt.xlabel('X1',fontsize=14)\n",
    "plt.show()"
   ]
  },
  {
   "cell_type": "code",
   "execution_count": 13,
   "metadata": {
    "colab": {
     "base_uri": "https://localhost:8080/",
     "height": 338
    },
    "executionInfo": {
     "elapsed": 412,
     "status": "ok",
     "timestamp": 1657848161414,
     "user": {
      "displayName": "Edier Vicente Aristizabal Giraldo",
      "userId": "14756502124163770629"
     },
     "user_tz": 300
    },
    "id": "Clv-r_zfyR1u",
    "outputId": "c295aa92-f207-4959-a6e7-5a802798f559"
   },
   "outputs": [
    {
     "data": {
      "image/png": "[encoded data removed]",
      "text/plain": [
       "<Figure size 800x500 with 1 Axes>"
      ]
     },
     "metadata": {},
     "output_type": "display_data"
    }
   ],
   "source": [
    "plt.figure(figsize=(8,5))\n",
    "plt.scatter(x=X[:,1],y=lm.resid,color='blue',edgecolor='k')\n",
    "plt.grid(True)\n",
    "xmin=min(X[:,1])\n",
    "xmax = max(X[:,1])\n",
    "plt.hlines(y=0,xmin=xmin*0.9,xmax=xmax*1.1,color='red',linestyle='--',lw=3)\n",
    "plt.ylabel('Residuals',fontsize=14)\n",
    "plt.xlabel('X2',fontsize=14)\n",
    "plt.show()"
   ]
  },
  {
   "cell_type": "code",
   "execution_count": 14,
   "metadata": {
    "colab": {
     "base_uri": "https://localhost:8080/",
     "height": 338
    },
    "executionInfo": {
     "elapsed": 593,
     "status": "ok",
     "timestamp": 1657848199448,
     "user": {
      "displayName": "Edier Vicente Aristizabal Giraldo",
      "userId": "14756502124163770629"
     },
     "user_tz": 300
    },
    "id": "l4SxLrrqHZbz",
    "outputId": "f3997abe-9cc9-41eb-a781-c1d6bc345386"
   },
   "outputs": [
    {
     "data": {
      "image/png": "[encoded data removed]",
      "text/plain": [
       "<Figure size 800x500 with 1 Axes>"
      ]
     },
     "metadata": {},
     "output_type": "display_data"
    }
   ],
   "source": [
    "plt.figure(figsize=(8,5))\n",
    "plt.scatter(x=X[:,2],y=lm.resid,color='blue',edgecolor='k')\n",
    "plt.grid(True)\n",
    "xmin=min(X[:,2])\n",
    "xmax = max(X[:,2])\n",
    "plt.hlines(y=0,xmin=xmin*0.9,xmax=xmax*1.1,color='red',linestyle='--',lw=3)\n",
    "plt.ylabel('Residuals',fontsize=14)\n",
    "plt.xlabel('X3',fontsize=14)\n",
    "plt.show()"
   ]
  },
  {
   "cell_type": "markdown",
   "metadata": {
    "id": "DWaUbXWFH1IC"
   },
   "source": [
    "Residual plots show some bit of clustering but overall the assumptions linearity and independence seem to hold because the distribution seem random around the 0 axis."
   ]
  },
  {
   "cell_type": "markdown",
   "metadata": {
    "id": "qBEEY6rOH5ay"
   },
   "source": [
    "### Homocedasticidad\n",
    "El residuo debe tener una distribución constante y no presentar tendencias. Una forma de detectar el cambio dela varianza en el residuo es graficando el el residuo contra lso valores de la prediccion"
   ]
  },
  {
   "cell_type": "code",
   "execution_count": 15,
   "metadata": {
    "colab": {
     "base_uri": "https://localhost:8080/",
     "height": 359
    },
    "executionInfo": {
     "elapsed": 577,
     "status": "ok",
     "timestamp": 1657888428800,
     "user": {
      "displayName": "Edier Vicente Aristizabal Giraldo",
      "userId": "14756502124163770629"
     },
     "user_tz": 300
    },
    "id": "N18JJKcdH68R",
    "outputId": "09e9223b-7eed-4fee-86e1-05945c935acf"
   },
   "outputs": [
    {
     "data": {
      "image/png": "[encoded data removed]",
      "text/plain": [
       "<Figure size 800x500 with 1 Axes>"
      ]
     },
     "metadata": {},
     "output_type": "display_data"
    }
   ],
   "source": [
    "plt.figure(figsize=(8,5))\n",
    "p=plt.scatter(x=lm.fittedvalues,y=lm.resid,edgecolor='k')\n",
    "xmin=min(lm.fittedvalues)\n",
    "xmax = max(lm.fittedvalues)\n",
    "plt.hlines(y=0,xmin=xmin*0.9,xmax=xmax*1.1,color='red',linestyle='--',lw=3)\n",
    "plt.xlabel(\"Fitted values\",fontsize=15)\n",
    "plt.ylabel(\"Residuals\",fontsize=15)\n",
    "plt.title(\"Fitted vs. residuals plot\",fontsize=18)\n",
    "plt.grid(True)\n",
    "plt.show()"
   ]
  },
  {
   "cell_type": "markdown",
   "metadata": {
    "id": "zYM4MRnBIbet"
   },
   "source": [
    "### Histogram of normalized residuals"
   ]
  },
  {
   "cell_type": "code",
   "execution_count": 16,
   "metadata": {
    "colab": {
     "base_uri": "https://localhost:8080/",
     "height": 359
    },
    "executionInfo": {
     "elapsed": 10,
     "status": "ok",
     "timestamp": 1653346503430,
     "user": {
      "displayName": "Edier Vicente Aristizabal Giraldo",
      "userId": "14756502124163770629"
     },
     "user_tz": 300
    },
    "id": "jNZ82eU6yR1u",
    "outputId": "4bdd5543-af9d-45e5-dce9-f0d81db67375"
   },
   "outputs": [
    {
     "data": {
      "image/png": "[encoded data removed]",
      "text/plain": [
       "<Figure size 800x500 with 1 Axes>"
      ]
     },
     "metadata": {},
     "output_type": "display_data"
    }
   ],
   "source": [
    "plt.figure(figsize=(8,5))\n",
    "plt.hist(lm.resid_pearson,bins=20,edgecolor='k')\n",
    "plt.ylabel('Count',fontsize=15)\n",
    "plt.xlabel('Normalized residuals',fontsize=15)\n",
    "plt.title(\"Histogram of normalized residuals\",fontsize=18)\n",
    "plt.show()"
   ]
  },
  {
   "cell_type": "markdown",
   "metadata": {
    "id": "9v7vXzz_Iger"
   },
   "source": [
    "### Q-Q plot of the residuals"
   ]
  },
  {
   "cell_type": "code",
   "execution_count": null,
   "metadata": {
    "colab": {
     "base_uri": "https://localhost:8080/",
     "height": 324
    },
    "executionInfo": {
     "elapsed": 379,
     "status": "ok",
     "timestamp": 1653346581868,
     "user": {
      "displayName": "Edier Vicente Aristizabal Giraldo",
      "userId": "14756502124163770629"
     },
     "user_tz": 300
    },
    "id": "gi_v4gP_IjqM",
    "outputId": "f822b086-0e10-4785-e1cc-0f238e920f1a"
   },
   "outputs": [
    {
     "data": {
      "text/plain": [
       "<Figure size 576x360 with 0 Axes>"
      ]
     },
     "metadata": {},
     "output_type": "display_data"
    },
    {
     "data": {
      "image/png": "[encoded data removed]",
      "text/plain": [
       "<Figure size 432x288 with 1 Axes>"
      ]
     },
     "metadata": {
      "needs_background": "light"
     },
     "output_type": "display_data"
    }
   ],
   "source": [
    "from statsmodels.graphics.gofplots import qqplot\n",
    "plt.figure(figsize=(8,5))\n",
    "fig=qqplot(lm.resid_pearson,line='45',fit='True')\n",
    "plt.xticks(fontsize=13)\n",
    "plt.yticks(fontsize=13)\n",
    "plt.xlabel(\"Theoretical quantiles\",fontsize=15)\n",
    "plt.ylabel(\"Sample quantiles\",fontsize=15)\n",
    "plt.title(\"Q-Q plot of normalized residuals\",fontsize=18)\n",
    "plt.grid(True)\n",
    "plt.show()"
   ]
  },
  {
   "cell_type": "code",
   "execution_count": null,
   "metadata": {
    "colab": {
     "base_uri": "https://localhost:8080/"
    },
    "executionInfo": {
     "elapsed": 9,
     "status": "ok",
     "timestamp": 1653346648993,
     "user": {
      "displayName": "Edier Vicente Aristizabal Giraldo",
      "userId": "14756502124163770629"
     },
     "user_tz": 300
    },
    "id": "fNy83X7jI11R",
    "outputId": "e938e4fa-e24d-4dab-c501-cf960fee6466"
   },
   "outputs": [
    {
     "name": "stdout",
     "output_type": "stream",
     "text": [
      "The residuals seem to come from Gaussian process\n"
     ]
    }
   ],
   "source": [
    "from scipy.stats import shapiro\n",
    "_,p=shapiro(lm.resid)\n",
    "if p<0.01:\n",
    "    print(\"The residuals seem to come from Gaussian process\")\n",
    "else:\n",
    "    print(\"The normality assumption may not hold\")"
   ]
  },
  {
   "cell_type": "markdown",
   "metadata": {
    "id": "iky_WThWJO97"
   },
   "source": [
    "### Cook's distance (checking for outliers in residuals)"
   ]
  },
  {
   "cell_type": "markdown",
   "metadata": {},
   "source": [
    "La distancia de Cook es un estimador de la influencia de cada punto. Este valor en resumen arroja que tanto puede cambiar la regresión cuando una observación es eliminada de los datos."
   ]
  },
  {
   "cell_type": "code",
   "execution_count": null,
   "metadata": {
    "colab": {
     "base_uri": "https://localhost:8080/",
     "height": 393
    },
    "executionInfo": {
     "elapsed": 1284,
     "status": "ok",
     "timestamp": 1653346775321,
     "user": {
      "displayName": "Edier Vicente Aristizabal Giraldo",
      "userId": "14756502124163770629"
     },
     "user_tz": 300
    },
    "id": "f00Hs0gtJR6M",
    "outputId": "895871e9-9711-4d96-aa9d-a7eef2848d34"
   },
   "outputs": [
    {
     "name": "stderr",
     "output_type": "stream",
     "text": [
      "/usr/local/lib/python3.7/dist-packages/ipykernel_launcher.py:6: UserWarning: In Matplotlib 3.3 individual lines on a stem plot will be added as a LineCollection instead of individual lines. This significantly improves the performance of a stem plot. To remove this warning and switch to the new behaviour, set the \"use_line_collection\" keyword argument to True.\n",
      "  \n"
     ]
    },
    {
     "data": {
      "image/png": "[encoded data removed]",
      "text/plain": [
       "<Figure size 576x360 with 1 Axes>"
      ]
     },
     "metadata": {
      "needs_background": "light"
     },
     "output_type": "display_data"
    }
   ],
   "source": [
    "from statsmodels.stats.outliers_influence import OLSInfluence as influence\n",
    "inf=influence(lm)\n",
    "(c, p) = inf.cooks_distance\n",
    "plt.figure(figsize=(8,5))\n",
    "plt.title(\"Cook's distance plot for the residuals\",fontsize=16)\n",
    "plt.stem(np.arange(len(c)), c, markerfmt=\",\")\n",
    "plt.grid(True)\n",
    "plt.show()"
   ]
  },
  {
   "cell_type": "markdown",
   "metadata": {
    "id": "EHTOq-BeJlGz"
   },
   "source": [
    "### Variance inflation factor"
   ]
  },
  {
   "cell_type": "code",
   "execution_count": null,
   "metadata": {
    "colab": {
     "base_uri": "https://localhost:8080/"
    },
    "executionInfo": {
     "elapsed": 446,
     "status": "ok",
     "timestamp": 1657848231200,
     "user": {
      "displayName": "Edier Vicente Aristizabal Giraldo",
      "userId": "14756502124163770629"
     },
     "user_tz": 300
    },
    "id": "s5mq2N7UJp2y",
    "outputId": "3378aa1d-19f4-4cc2-9970-bc36c2b434cd"
   },
   "outputs": [
    {
     "name": "stdout",
     "output_type": "stream",
     "text": [
      "Variance inflation factor for x[1]: 2.1\n",
      "Variance inflation factor for x[2]: 2.84\n",
      "Variance inflation factor for x[3]: 14.49\n",
      "Variance inflation factor for x[4]: 1.15\n",
      "Variance inflation factor for x[5]: 73.89\n",
      "Variance inflation factor for x[6]: 77.95\n",
      "Variance inflation factor for x[7]: 21.39\n",
      "Variance inflation factor for x[8]: 14.7\n",
      "Variance inflation factor for x[9]: 15.17\n",
      "Variance inflation factor for x[10]: 61.23\n",
      "Variance inflation factor for x[11]: 85.03\n",
      "Variance inflation factor for x[12]: 20.1\n",
      "Variance inflation factor for x[13]: 11.1\n"
     ]
    }
   ],
   "source": [
    "from statsmodels.stats.outliers_influence import variance_inflation_factor as vif\n",
    "for i in range(len(X[0])):\n",
    "    v=vif(np.matrix(X),i)\n",
    "    print(\"Variance inflation factor for x{}: {}\".format([i+1],round(v,2)))\n"
   ]
  },
  {
   "cell_type": "markdown",
   "metadata": {
    "id": "BETwl-U7MasU"
   },
   "source": [
    "There are several features with VIF > 10, thereby indicating significant multicollinearity"
   ]
  },
  {
   "cell_type": "markdown",
   "metadata": {
    "id": "ThFd1LDnOrUN"
   },
   "source": [
    "### Métricas"
   ]
  },
  {
   "cell_type": "markdown",
   "metadata": {
    "id": "nuFJ6-RLkko1"
   },
   "source": [
    "Separamos en datos de entrenamiento y datos de validación con un 30%, y definimos como variables predictoras *X*, y variable dependiente *y*."
   ]
  },
  {
   "cell_type": "code",
   "execution_count": null,
   "metadata": {
    "id": "lZYxnxqziIri"
   },
   "outputs": [],
   "source": [
    "x_train, x_test, y_train, y_test=train_test_split(X, y, test_size=0.3)"
   ]
  },
  {
   "cell_type": "markdown",
   "metadata": {
    "id": "UU58lGL5yR1v"
   },
   "source": [
    "A continuación se calcula algunas métricas utilizadas en los problemas de regresión, tanto para los datos de entrenamiento, como para los datos de validación. Lo cual permite observar si el modelo presenta problemas de *bias* o de *overfitting*."
   ]
  },
  {
   "cell_type": "code",
   "execution_count": null,
   "metadata": {
    "id": "I4tOErv0dQ0L"
   },
   "outputs": [],
   "source": [
    "y_train_pred=lm.predict(x_train)\n",
    "y_test_pred=lm.predict(x_test)"
   ]
  },
  {
   "cell_type": "code",
   "execution_count": null,
   "metadata": {
    "colab": {
     "base_uri": "https://localhost:8080/"
    },
    "executionInfo": {
     "elapsed": 170,
     "status": "ok",
     "timestamp": 1657848351548,
     "user": {
      "displayName": "Edier Vicente Aristizabal Giraldo",
      "userId": "14756502124163770629"
     },
     "user_tz": 300
    },
    "id": "pNJVRmfcyR1v",
    "outputId": "1acc36b3-bc66-4eea-9b69-f9445b6f5816"
   },
   "outputs": [
    {
     "name": "stdout",
     "output_type": "stream",
     "text": [
      "TRAIN MAE: 3.314080513202407\n",
      "TEST MAE: 3.223044008426965\n"
     ]
    }
   ],
   "source": [
    "print('TRAIN MAE:', mean_absolute_error(y_train,y_train_pred))\n",
    "print('TEST MAE:', mean_absolute_error(y_test,y_test_pred))"
   ]
  },
  {
   "cell_type": "code",
   "execution_count": null,
   "metadata": {
    "colab": {
     "base_uri": "https://localhost:8080/"
    },
    "executionInfo": {
     "elapsed": 3,
     "status": "ok",
     "timestamp": 1657848356139,
     "user": {
      "displayName": "Edier Vicente Aristizabal Giraldo",
      "userId": "14756502124163770629"
     },
     "user_tz": 300
    },
    "id": "NSSiyDNbyR1v",
    "outputId": "0ea29c85-50a4-4f79-ffb9-3f98fa779547"
   },
   "outputs": [
    {
     "name": "stdout",
     "output_type": "stream",
     "text": [
      "Train RMSE: 4.858323955166733\n",
      "Test RMSE: 5.047455022973666\n"
     ]
    }
   ],
   "source": [
    "print('Train RMSE:',np.sqrt(mean_squared_error(y_train,y_train_pred)))\n",
    "print('Test RMSE:',np.sqrt(mean_squared_error(y_test,y_test_pred)))"
   ]
  },
  {
   "cell_type": "code",
   "execution_count": null,
   "metadata": {
    "colab": {
     "base_uri": "https://localhost:8080/"
    },
    "executionInfo": {
     "elapsed": 5,
     "status": "ok",
     "timestamp": 1657848525366,
     "user": {
      "displayName": "Edier Vicente Aristizabal Giraldo",
      "userId": "14756502124163770629"
     },
     "user_tz": 300
    },
    "id": "YjFyyxYhyR1w",
    "outputId": "0921eeac-71cd-4ef1-a2e4-c23c0053bb66"
   },
   "outputs": [
    {
     "name": "stdout",
     "output_type": "stream",
     "text": [
      "R2 Train: 0.9591890143535311\n",
      "R2 Test: 0.9591890143535311\n"
     ]
    }
   ],
   "source": [
    "print('R2 Train:',lm.rsquared)\n",
    "print('R2 Test:',lm.rsquared)"
   ]
  },
  {
   "cell_type": "code",
   "execution_count": null,
   "metadata": {
    "colab": {
     "base_uri": "https://localhost:8080/"
    },
    "executionInfo": {
     "elapsed": 202,
     "status": "ok",
     "timestamp": 1657848554436,
     "user": {
      "displayName": "Edier Vicente Aristizabal Giraldo",
      "userId": "14756502124163770629"
     },
     "user_tz": 300
    },
    "id": "qhMN9fkxeSbv",
    "outputId": "b7d65bf3-5429-421a-a85c-43e3fa6c93b2"
   },
   "outputs": [
    {
     "name": "stdout",
     "output_type": "stream",
     "text": [
      "R2 Train: 0.9581128626022043\n",
      "R2 Test: 0.9581128626022043\n"
     ]
    }
   ],
   "source": [
    "print('R2 Train:',lm.rsquared_adj)\n",
    "print('R2 Test:',lm.rsquared_adj)"
   ]
  },
  {
   "cell_type": "markdown",
   "metadata": {
    "id": "FmJpPPgJyR1w"
   },
   "source": [
    "## Regresión Lineal con Sklearn"
   ]
  },
  {
   "cell_type": "markdown",
   "metadata": {
    "id": "tz3YTgdRyR1w"
   },
   "source": [
    "Para implementar los problemas de RL con Sklearn se utiliza el siguiente procedimiento."
   ]
  },
  {
   "cell_type": "code",
   "execution_count": null,
   "metadata": {
    "id": "fq6_bDmVyR1w"
   },
   "outputs": [],
   "source": [
    "from sklearn.linear_model import LinearRegression"
   ]
  },
  {
   "cell_type": "markdown",
   "metadata": {
    "id": "TsBe-MRLyR1x"
   },
   "source": [
    "Se instancia el modelo a utilizar, en este caso *LinearRegression* se ajusta a los datos, y finalmente se aplica a los datos de validación para la predicción y conocer el ajuste. Como resultados se pueden obtener el intercepto y los coeficientes de cada variable predictora."
   ]
  },
  {
   "cell_type": "code",
   "execution_count": null,
   "metadata": {
    "id": "gV7D-2lbyR1x",
    "outputId": "70706c1c-a46d-4a29-a94f-375ded2fa6d7"
   },
   "outputs": [
    {
     "name": "stdout",
     "output_type": "stream",
     "text": [
      "Intercepto: 34.33409594393511\n",
      "Coeficientes: [-9.41252682e-02  5.72941297e-02 -1.17959446e-03  2.75352371e+00\n",
      " -1.89792057e+01  3.85440454e+00 -5.66414331e-03 -1.54908014e+00\n",
      "  2.54555049e-01 -7.83084350e-03 -8.93916242e-01  1.03079632e-02\n",
      " -4.83491114e-01]\n"
     ]
    }
   ],
   "source": [
    "model = LinearRegression()\n",
    "model.fit(x_train,y_train)\n",
    "y_pred = model.predict(x_test)\n",
    "print('Intercepto:',model.intercept_)\n",
    "print('Coeficientes:',model.coef_)"
   ]
  },
  {
   "cell_type": "markdown",
   "metadata": {
    "id": "w9eTCW_byR1x"
   },
   "source": [
    "Algunas métricas que se pueden implementar desde *Sklearn* son:"
   ]
  },
  {
   "cell_type": "code",
   "execution_count": null,
   "metadata": {
    "id": "XI-p1FNQyR1x",
    "outputId": "1782c7fb-0eb3-4005-a100-2e0be400fe29"
   },
   "outputs": [
    {
     "name": "stdout",
     "output_type": "stream",
     "text": [
      "R2: 0.7634955906523349\n",
      "R2: 0.7634955906523349\n",
      "MSE: 23.534284246784058\n",
      "MAE: 3.4467610795433186\n"
     ]
    }
   ],
   "source": [
    "print('R2:',model.score(x_test,y_test))\n",
    "print('R2:',r2_score(y_test,y_pred))\n",
    "print('MSE:',mean_squared_error(y_test,y_pred))\n",
    "print('MAE:',mean_absolute_error(y_test,y_pred))"
   ]
  },
  {
   "cell_type": "markdown",
   "metadata": {
    "id": "mKYscz1vyR1y"
   },
   "source": [
    "También se puede obtener el ajuste visual."
   ]
  },
  {
   "cell_type": "code",
   "execution_count": null,
   "metadata": {
    "id": "MVGXj4YwyR1y",
    "outputId": "60f9bdb4-55e6-4721-bc62-bde29159ec21"
   },
   "outputs": [
    {
     "data": {
      "image/png": "[encoded data removed]",
      "text/plain": [
       "<matplotlib.figure.Figure at 0x1aa6453a438>"
      ]
     },
     "metadata": {
      "needs_background": "light"
     },
     "output_type": "display_data"
    }
   ],
   "source": [
    "plt.scatter(y_test,y_pred)\n",
    "plt.title('Datos Modelados vs Datos Reales')\n",
    "plt.xlabel('Valor real')\n",
    "plt.ylabel('Modelo');"
   ]
  },
  {
   "cell_type": "markdown",
   "metadata": {
    "id": "CMDsFLugyR1y"
   },
   "source": [
    "Con los datos de entrenamiento se puede implementar el *cross validation* y conocer el ajuste del modelo y su varianza."
   ]
  },
  {
   "cell_type": "code",
   "execution_count": null,
   "metadata": {
    "id": "cGBDYhr_yR1y",
    "outputId": "dbcdc3c6-5199-4b1c-9be6-5b050a93002a"
   },
   "outputs": [
    {
     "name": "stdout",
     "output_type": "stream",
     "text": [
      "[ 0.63919994  0.71386698  0.58702344  0.07923081 -0.25294154]\n",
      "0.35327592439588124\n"
     ]
    }
   ],
   "source": [
    "kfold = KFold(n_splits=5, random_state=7)\n",
    "results = cross_val_score(model, X_train, y_train, cv=kfold, scoring='r2')\n",
    "print(results)\n",
    "print(results.mean())"
   ]
  },
  {
   "cell_type": "markdown",
   "metadata": {
    "id": "5hy-OVzByR1y"
   },
   "source": [
    "Se obtiene como promedio un valor muy bajor, pero es debido a su gran dispersión. Lo cual se puede observar cuando se modifica el número de *split*."
   ]
  },
  {
   "cell_type": "code",
   "execution_count": null,
   "metadata": {
    "id": "UJyuIatvyR1z",
    "outputId": "79a75a58-61eb-40d1-f3ad-bc97a6058c57",
    "scrolled": true
   },
   "outputs": [
    {
     "name": "stdout",
     "output_type": "stream",
     "text": [
      "[ 0.73376082  0.4730725  -1.00631454  0.64113984  0.54766046  0.73640292\n",
      "  0.37828386 -0.12922703 -0.76843243  0.4189435 ]\n",
      "0.2025289900605492\n"
     ]
    }
   ],
   "source": [
    "kfold = KFold(n_splits=10, random_state=7)\n",
    "results = cross_val_score(model, X, y, cv=kfold, scoring='r2')\n",
    "print(results)\n",
    "print(results.mean())"
   ]
  },
  {
   "cell_type": "markdown",
   "metadata": {
    "id": "LRs_OfzVyR1z"
   },
   "source": [
    "A continuación se presentan los dos modelos de RL con penalización mas conocidos, denominados Lasso (L1) y Ridge (L2)."
   ]
  },
  {
   "cell_type": "markdown",
   "metadata": {
    "id": "GowfqRriyR1z"
   },
   "source": [
    "# Regularización"
   ]
  },
  {
   "cell_type": "markdown",
   "metadata": {
    "id": "NSsaBZPVyR1z"
   },
   "source": [
    "Uno de las herramientas para reducir los problemas de *overfitting* se refieren a la regularización. En los siguientes ejemplos vamos a observar la aplicación de los métodos de Ridge y Lasso, y el comportamiento del hiperparámetro Lamba para ambos casos.\n",
    "\n",
    "Inicialmente importamos las librerías:"
   ]
  },
  {
   "cell_type": "code",
   "execution_count": null,
   "metadata": {
    "collapsed": true,
    "id": "zj5VISByyR1z",
    "jupyter": {
     "outputs_hidden": true
    }
   },
   "outputs": [],
   "source": [
    "from sklearn.linear_model import Lasso\n",
    "from sklearn.linear_model import Ridge"
   ]
  },
  {
   "cell_type": "markdown",
   "metadata": {
    "id": "6yKcwmmVyR10"
   },
   "source": [
    "Vamos a trabajar con la base de datos de Sklearn denominada *boston*."
   ]
  },
  {
   "cell_type": "code",
   "execution_count": null,
   "metadata": {
    "colab": {
     "base_uri": "https://localhost:8080/"
    },
    "executionInfo": {
     "elapsed": 508,
     "status": "ok",
     "timestamp": 1657843985676,
     "user": {
      "displayName": "Edier Vicente Aristizabal Giraldo",
      "userId": "14756502124163770629"
     },
     "user_tz": 300
    },
    "id": "TCRm6f4LyR10",
    "outputId": "9dd6293e-de3b-4afd-a6f7-8244589ca5b0"
   },
   "outputs": [
    {
     "name": "stdout",
     "output_type": "stream",
     "text": [
      "(506, 13)\n",
      "(506,)\n"
     ]
    }
   ],
   "source": [
    "data_url = \"http://lib.stat.cmu.edu/datasets/boston\"\n",
    "raw_df = pd.read_csv(data_url, sep=\"\\s+\", skiprows=22, header=None)\n",
    "X = np.hstack([raw_df.values[::2, :], raw_df.values[1::2, :2]])\n",
    "y = raw_df.values[1::2, 2]\n",
    "print(X.shape)\n",
    "print(y.shape)"
   ]
  },
  {
   "cell_type": "code",
   "execution_count": null,
   "metadata": {
    "id": "rKjGIHNcyR10",
    "outputId": "51f84a86-bce6-444a-befd-3765b1b855e5"
   },
   "outputs": [
    {
     "name": "stdout",
     "output_type": "stream",
     "text": [
      "Linear regression score: 0.7406077428649427\n"
     ]
    }
   ],
   "source": [
    "lr=LinearRegression()\n",
    "lr.fit(X, y)\n",
    "lr_score = lr.score(X,y)\n",
    "print('Linear regression score:', lr_score)"
   ]
  },
  {
   "cell_type": "code",
   "execution_count": null,
   "metadata": {
    "id": "Gj8lPRdWyR10",
    "outputId": "4258a570-e30f-450b-e43c-4bea4d63f106"
   },
   "outputs": [
    {
     "data": {
      "image/png": "[encoded data removed]",
      "text/plain": [
       "<Figure size 432x288 with 1 Axes>"
      ]
     },
     "metadata": {
      "needs_background": "light"
     },
     "output_type": "display_data"
    }
   ],
   "source": [
    "plt.plot(lr.coef_,alpha=0.4,linestyle='none',marker='o',markersize=7,color='green',label='LR')\n",
    "plt.xlabel('Variables',fontsize=16)\n",
    "plt.ylabel('Magnitud de coeficientes',fontsize=16)\n",
    "plt.legend(fontsize=13,loc=4)\n",
    "plt.show()"
   ]
  },
  {
   "cell_type": "code",
   "execution_count": null,
   "metadata": {
    "id": "IO3uStBPyR10",
    "outputId": "db372657-cc39-47dd-c771-b1f8e25d73f4"
   },
   "outputs": [
    {
     "name": "stdout",
     "output_type": "stream",
     "text": [
      "[-1.07170557e-01  4.63952195e-02  2.08602395e-02  2.68856140e+00\n",
      " -1.77957587e+01  3.80475246e+00  7.51061703e-04 -1.47575880e+00\n",
      "  3.05655038e-01 -1.23293463e-02 -9.53463555e-01  9.39251272e-03\n",
      " -5.25466633e-01]\n"
     ]
    }
   ],
   "source": [
    "print(lr.coef_)"
   ]
  },
  {
   "cell_type": "markdown",
   "metadata": {
    "id": "fepJErYxyR11"
   },
   "source": [
    "En la figura y matriz anterior se observan los pesos de las 13 variables obtenidas por métodos de regresión linear sin ningún tipo de penalización.\n",
    "\n",
    "A continuación se implementarán sobre los mismos datos el modelo Ridge y Lasso, los cuales penalizan a traves del hiperparámetro lambda los pesos de cada una de las variables."
   ]
  },
  {
   "cell_type": "markdown",
   "metadata": {
    "id": "FelSq8x5yR11"
   },
   "source": [
    "### Ridge regression"
   ]
  },
  {
   "cell_type": "code",
   "execution_count": null,
   "metadata": {
    "id": "5ZdXC0lUyR11",
    "outputId": "ef35f6a4-c329-4c07-e118-5abdb3601019",
    "scrolled": true
   },
   "outputs": [
    {
     "name": "stdout",
     "output_type": "stream",
     "text": [
      "Ridge score_001: 0.7406072669874482\n",
      "Ridge score_1: 0.7388294987673955\n",
      "Ridge score_100: 0.7178124385677699\n"
     ]
    }
   ],
   "source": [
    "rr001 = Ridge(alpha=0.01)\n",
    "rr001.fit(X, y)\n",
    "Ridge_score_001 = rr001.score(X,y)\n",
    "print('Ridge score_001:', Ridge_score_001)\n",
    "\n",
    "rr = Ridge()\n",
    "rr.fit(X, y)\n",
    "Ridge_score = rr.score(X,y)\n",
    "print('Ridge score_1:', Ridge_score)\n",
    "\n",
    "rr100 = Ridge(alpha=100)\n",
    "rr100.fit(X, y)\n",
    "Ridge_score_100 = rr100.score(X,y)\n",
    "print('Ridge score_100:', Ridge_score_100)\n"
   ]
  },
  {
   "cell_type": "code",
   "execution_count": null,
   "metadata": {
    "id": "czlkzRTiyR11",
    "outputId": "35ea4d3d-d95f-43e4-bc08-6eb3b36bef9b",
    "scrolled": true
   },
   "outputs": [
    {
     "data": {
      "image/png": "[encoded data removed]",
      "text/plain": [
       "<Figure size 432x288 with 1 Axes>"
      ]
     },
     "metadata": {
      "needs_background": "light"
     },
     "output_type": "display_data"
    }
   ],
   "source": [
    "plt.plot(rr001.coef_,alpha=0.7,linestyle='none',marker='*',markersize=5,color='red',label=r'Ridge; $\\alpha = 0.01$',zorder=7) # zorder for ordering the markers\n",
    "plt.plot(rr.coef_,alpha=0.5,linestyle='none',marker='d',markersize=6,color='blue',label=r'Ridge; $\\alpha = 1$') # alpha here is for transparency\n",
    "plt.plot(rr100.coef_,alpha=0.4,linestyle='none',marker='o',markersize=7,color='green',label=r'Ridge; $\\alpha = 100$')\n",
    "plt.xlabel('Variables',fontsize=16)\n",
    "plt.ylabel('Magnitud de coeficientes',fontsize=16)\n",
    "plt.legend(fontsize=13,loc=4)\n",
    "plt.show()"
   ]
  },
  {
   "cell_type": "markdown",
   "metadata": {
    "id": "UWLvsLKJyR11"
   },
   "source": [
    "En la figura anterior del modelo Ridge. en el eje X están los índices de los coeficientes, el modelo tiene 13 variables iniciales. Para valores bajos de lambda (0.01), cuando los coeficientes son menos restringidos, la magnitud de los coeficientes es casi similar que para el modelo normal de regresión lineal. Para valores grandes (100), los coeficientes 3, 4 y 5 la magnitud es considerablemente menor comparada al modelo de regresión linear."
   ]
  },
  {
   "cell_type": "markdown",
   "metadata": {
    "id": "0W9wFIK2yR12"
   },
   "source": [
    "A continuación se implementa el modelo *ridge* utilizando la separación simple *train_test* y el *cross validation* para observar la diferencia de resultados entre los coeficientes y el ajuste con la RL normal y *Lasso*. En todos estos casos se utiliza por defecto un valor de *lambda* = 1. Los modelos de RL normal corresponde a cualquiera de los dos métodos, pero con un valor de *lambda*=0. Utilizando la curva de validación se puede obtener el valor óptimo que mejora el ajuste del modelo."
   ]
  },
  {
   "cell_type": "code",
   "execution_count": null,
   "metadata": {
    "id": "bWKlVBZsyR12"
   },
   "outputs": [],
   "source": [
    "model = Ridge()"
   ]
  },
  {
   "cell_type": "code",
   "execution_count": null,
   "metadata": {
    "id": "VnmSNptIyR12",
    "outputId": "097c0d0b-31c1-4f6f-b2f8-c506d309d1c4"
   },
   "outputs": [
    {
     "name": "stdout",
     "output_type": "stream",
     "text": [
      "Intercepto: 28.0262752082101\n",
      "Coeficientes: [-8.97936349e-02  5.79959042e-02 -3.81952780e-02  2.59403049e+00\n",
      " -9.74745413e+00  3.90387030e+00 -1.43145582e-02 -1.41260458e+00\n",
      "  2.35286370e-01 -8.70813283e-03 -7.99505049e-01  1.09316575e-02\n",
      " -4.89264002e-01]\n",
      "R2: 0.7628736799283028\n"
     ]
    }
   ],
   "source": [
    "model.fit(x_train,y_train)\n",
    "y_pred = model.predict(x_test)\n",
    "print('Intercepto:',model.intercept_)\n",
    "print('Coeficientes:',model.coef_)\n",
    "print('R2:',r2_score(y_test,y_pred))"
   ]
  },
  {
   "cell_type": "code",
   "execution_count": null,
   "metadata": {
    "id": "fjnlykqLyR12",
    "outputId": "b495ff99-377e-4a00-9400-bf98288727f7"
   },
   "outputs": [
    {
     "name": "stdout",
     "output_type": "stream",
     "text": [
      "[ 0.66089569  0.74094893  0.62923672  0.08530169 -0.17029513]\n",
      "0.38921758241023985\n"
     ]
    }
   ],
   "source": [
    "kfold = KFold(n_splits=5, random_state=1)\n",
    "results = cross_val_score(model, X, y, cv=kfold, scoring='r2')\n",
    "print(results)\n",
    "print(results.mean())"
   ]
  },
  {
   "cell_type": "markdown",
   "metadata": {
    "id": "tA44aHbgyR12"
   },
   "source": [
    "Se observa un mayor ajuste con la separación simple, pero existe una gran varianza en los datos."
   ]
  },
  {
   "cell_type": "markdown",
   "metadata": {
    "id": "Qzn2ml-SyR12"
   },
   "source": [
    "### LASSO Regression"
   ]
  },
  {
   "cell_type": "markdown",
   "metadata": {
    "id": "Pd75bVmjyR13"
   },
   "source": [
    "Este tipo de regularización (L1) puede reducir completamente la importancia de las variables hasta 0, por lo tanto no solamente se utiliza para reducir el sobreajuste en un modelo, sino ademas como método de selección de variables.. El parémetro por defecto de la regularización Lasso es 1.\n",
    "\n",
    "A continuación se implementará el modelo Lasso."
   ]
  },
  {
   "cell_type": "code",
   "execution_count": null,
   "metadata": {
    "id": "Lt_lBdruyR13",
    "outputId": "7e755abe-98b2-4a58-bc5f-0eb4f92568d0"
   },
   "outputs": [
    {
     "name": "stdout",
     "output_type": "stream",
     "text": [
      "Lasso score para alpha=0.01 es 0.7401747367311462\n",
      "Número de variables utilizadas para alpha =0.01: 13\n",
      "[-1.05330983e-01  4.68329072e-02  6.77570009e-03  2.50607938e+00\n",
      " -1.44226291e+01  3.80918476e+00 -1.76057409e-03 -1.42229358e+00\n",
      "  2.98099885e-01 -1.26220655e-02 -9.17066833e-01  9.56558992e-03\n",
      " -5.31194326e-01]\n",
      "Lasso score para alpha=1 es 0.6825494617506651\n",
      "Número de variables utilizadas para alpha =1:  10\n",
      "[-0.06342255  0.04916867 -0.          0.         -0.          0.94678567\n",
      "  0.02092737 -0.66900864  0.26417501 -0.01520915 -0.72319901  0.00829117\n",
      " -0.76143296]\n",
      "Lasso score para alpha=100 es 0.22497922550751603\n",
      "Número de variables utilizadas para alpha =100: 2\n",
      "[-0.          0.         -0.          0.         -0.          0.\n",
      " -0.          0.         -0.         -0.02097192 -0.          0.00446643\n",
      " -0.        ]\n"
     ]
    }
   ],
   "source": [
    "lasso001 = Lasso(alpha=0.01, max_iter=10e5)\n",
    "lasso001.fit(X,y)\n",
    "lasso_score001=lasso001.score(X,y)\n",
    "coeff_used001 = np.sum(lasso001.coef_!=0)\n",
    "print (\"Lasso score para alpha=0.01 es\", lasso_score001)\n",
    "print (\"Número de variables utilizadas para alpha =0.01:\", coeff_used001)\n",
    "print(lasso001.coef_)\n",
    "\n",
    "lasso = Lasso()\n",
    "lasso.fit(X,y)\n",
    "lasso_score_1=lasso.score(X,y)\n",
    "coeff_used = np.sum(lasso.coef_!=0)\n",
    "print (\"Lasso score para alpha=1 es\", lasso_score_1)\n",
    "print (\"Número de variables utilizadas para alpha =1: \", coeff_used)\n",
    "print(lasso.coef_)\n",
    "\n",
    "lasso100 = Lasso(alpha=100, max_iter=10e5)\n",
    "lasso100.fit(X,y)\n",
    "lasso_score100=lasso100.score(X,y)\n",
    "coeff_used100 = np.sum(lasso100.coef_!=0)\n",
    "print (\"Lasso score para alpha=100 es\", lasso_score100)\n",
    "print (\"Número de variables utilizadas para alpha =100:\", coeff_used100)\n",
    "print(lasso100.coef_)"
   ]
  },
  {
   "cell_type": "markdown",
   "metadata": {
    "id": "unTxVboGyR13"
   },
   "source": [
    "En el caso anterior, cuando se incrementa el valor de lambda a 100, los pesos de los parámetros se reducen de tal forma que solo dos variables (11 y 12) permanecen con valores ligéramente diferentes a 0."
   ]
  },
  {
   "cell_type": "code",
   "execution_count": null,
   "metadata": {
    "id": "aFy_hEKKyR13",
    "outputId": "f2d4ef77-0c31-4910-a317-bb4e0eb10c93"
   },
   "outputs": [
    {
     "data": {
      "image/png": "[encoded data removed]",
      "text/plain": [
       "<Figure size 432x288 with 1 Axes>"
      ]
     },
     "metadata": {
      "needs_background": "light"
     },
     "output_type": "display_data"
    }
   ],
   "source": [
    "plt.plot(lasso001.coef_,alpha=0.7,linestyle='none',marker='*',markersize=5,color='red',label=r'Lasso; $\\alpha = 0.01$',zorder=7) # zorder for ordering the markers\n",
    "plt.plot(lasso.coef_,alpha=0.5,linestyle='none',marker='d',markersize=6,color='blue',label=r'Lasso; $\\alpha = 1$') # alpha here is for transparency\n",
    "plt.plot(lasso100.coef_,alpha=0.4,linestyle='none',marker='o',markersize=7,color='green',label=r'Lasso; $\\alpha = 100$')\n",
    "plt.xlabel('Variables',fontsize=16)\n",
    "plt.ylabel('Magnitud de coeficientes',fontsize=16)\n",
    "plt.legend(fontsize=13,loc=4)\n",
    "plt.show()"
   ]
  },
  {
   "cell_type": "markdown",
   "metadata": {
    "id": "dn44767nyR13"
   },
   "source": [
    "De forma similar se implementa el RL tipo *lasso*."
   ]
  },
  {
   "cell_type": "code",
   "execution_count": null,
   "metadata": {
    "id": "2dfDgA7ByR14"
   },
   "outputs": [],
   "source": [
    "from sklearn.linear_model import Lasso\n",
    "model = Lasso()"
   ]
  },
  {
   "cell_type": "code",
   "execution_count": null,
   "metadata": {
    "id": "cqOr54N2yR14",
    "outputId": "02e69103-51e3-4504-8432-7afb4ce02768"
   },
   "outputs": [
    {
     "name": "stdout",
     "output_type": "stream",
     "text": [
      "Intercepto: 38.202168185895495\n",
      "Coeficientes: [-0.03790178  0.0608616  -0.0045888   0.         -0.          1.007868\n",
      "  0.01097365 -0.78931757  0.21562959 -0.0116075  -0.63992023  0.00979854\n",
      " -0.73309521]\n",
      "R2: 0.715480373563341\n"
     ]
    }
   ],
   "source": [
    "model.fit(x_train,y_train)\n",
    "y_pred = model.predict(x_test)\n",
    "print('Intercepto:',model.intercept_)\n",
    "print('Coeficientes:',model.coef_)\n",
    "print('R2:',r2_score(y_test,y_pred))"
   ]
  },
  {
   "cell_type": "code",
   "execution_count": null,
   "metadata": {
    "id": "23QHfyrQyR14",
    "outputId": "cf933fc6-18ec-4225-a489-91f9cbf6ca6e"
   },
   "outputs": [
    {
     "name": "stdout",
     "output_type": "stream",
     "text": [
      "[0.56156843 0.63385562 0.33456629 0.35466066 0.27459294]\n",
      "0.431848787926522\n"
     ]
    }
   ],
   "source": [
    "kfold = KFold(n_splits=5, random_state=1)\n",
    "results = cross_val_score(model, X, y, cv=kfold, scoring='r2')\n",
    "print(results)\n",
    "print(results.mean())"
   ]
  },
  {
   "cell_type": "markdown",
   "metadata": {
    "id": "rxxHAZVnyR14"
   },
   "source": [
    "Similares resultados en términos de varianza para el modelo *lasso*, sin embargo se observa un valor mayor de ajuste para la *cross validation*. en este aso es muy importante elaborar la curva de entrenamiento y entender como el modelo aprende de acuerdo con los datos."
   ]
  }
 ],
 "metadata": {
  "colab": {
   "provenance": []
  },
  "kernelspec": {
   "display_name": "Python 3 (ipykernel)",
   "language": "python",
   "name": "python3"
  },
  "language_info": {
   "codemirror_mode": {
    "name": "ipython",
    "version": 3
   },
   "file_extension": ".py",
   "mimetype": "text/x-python",
   "name": "python",
   "nbconvert_exporter": "python",
   "pygments_lexer": "ipython3",
   "version": "3.11.4"
  },
  "toc": {
   "base_numbering": 1,
   "nav_menu": {},
   "number_sections": true,
   "sideBar": true,
   "skip_h1_title": false,
   "title_cell": "Table of Contents",
   "title_sidebar": "Contents",
   "toc_cell": false,
   "toc_position": {},
   "toc_section_display": true,
   "toc_window_display": false
  },
  "vscode": {
   "interpreter": {
    "hash": "4368b5b2caae0b389dbb264ec895ac3050f9d5a7bf2d7d86b8d57f39619b4948"
   }
  }
 },
 "nbformat": 4,
 "nbformat_minor": 4
}
