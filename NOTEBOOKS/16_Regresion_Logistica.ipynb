{
 "cells": [
  {
   "cell_type": "markdown",
   "metadata": {},
   "source": [
    "**CURSO**: *Machine Learning* en Geociencias<br />\n",
    "**Profesor**: Edier Aristizábal (evaristizabalg@unal.edu.co) <br />\n",
    "**Credits**: The content of this notebook is taken from several sources, such as: [Ashish Arora in Medium](https://medium.com/@ashisharora2204/logistic-regression-maximum-likelihood-estimation-gradient-descent-a7962a452332). Every effort has been made to trace copyright holders of the materials used in this notebook. The author apologies for any unintentional omissions and would be pleased to add an acknowledgment in future editions.\n"
   ]
  },
  {
   "cell_type": "markdown",
   "metadata": {},
   "source": [
    "# 16: Regresión Logística"
   ]
  },
  {
   "cell_type": "markdown",
   "metadata": {},
   "source": [
    "El modelo de RL corresponde a un modelo supervisado para clasificaciones."
   ]
  },
  {
   "cell_type": "code",
   "execution_count": 1,
   "metadata": {
    "tags": []
   },
   "outputs": [],
   "source": [
    "import numpy as np\n",
    "import pandas as pd\n",
    "#import warnings\n",
    "#warnings.simplefilter(\"ignore\")"
   ]
  },
  {
   "cell_type": "markdown",
   "metadata": {},
   "source": [
    "En este caso se van a utilizar los datos de la base de datos para un modelo de predicción de movimientos en masa, donde la variable objetivo es 1 o 0, que corresponde a si la celda corresponde a un movimiento en masa o no, respectivamente."
   ]
  },
  {
   "cell_type": "code",
   "execution_count": 26,
   "metadata": {
    "tags": []
   },
   "outputs": [
    {
     "data": {
      "text/html": [
       "<div>\n",
       "<style scoped>\n",
       "    .dataframe tbody tr th:only-of-type {\n",
       "        vertical-align: middle;\n",
       "    }\n",
       "\n",
       "    .dataframe tbody tr th {\n",
       "        vertical-align: top;\n",
       "    }\n",
       "\n",
       "    .dataframe thead th {\n",
       "        text-align: right;\n",
       "    }\n",
       "</style>\n",
       "<table border=\"1\" class=\"dataframe\">\n",
       "  <thead>\n",
       "    <tr style=\"text-align: right;\">\n",
       "      <th></th>\n",
       "      <th>Unnamed: 0</th>\n",
       "      <th>inventario</th>\n",
       "      <th>pendiente</th>\n",
       "      <th>aspecto</th>\n",
       "      <th>geologia</th>\n",
       "    </tr>\n",
       "  </thead>\n",
       "  <tbody>\n",
       "    <tr>\n",
       "      <th>0</th>\n",
       "      <td>0</td>\n",
       "      <td>0</td>\n",
       "      <td>10.862183</td>\n",
       "      <td>208.523560</td>\n",
       "      <td>14</td>\n",
       "    </tr>\n",
       "    <tr>\n",
       "      <th>1</th>\n",
       "      <td>1</td>\n",
       "      <td>0</td>\n",
       "      <td>12.265345</td>\n",
       "      <td>207.437332</td>\n",
       "      <td>14</td>\n",
       "    </tr>\n",
       "  </tbody>\n",
       "</table>\n",
       "</div>"
      ],
      "text/plain": [
       "   Unnamed: 0  inventario  pendiente     aspecto  geologia\n",
       "0           0           0  10.862183  208.523560        14\n",
       "1           1           0  12.265345  207.437332        14"
      ]
     },
     "execution_count": 26,
     "metadata": {},
     "output_type": "execute_result"
    }
   ],
   "source": [
    "df= pd.read_excel('https://github.com/edieraristizabal/MachineLearning/raw/master/data/BD_lamiel.xlsx', sheet_name='Sheet1')\n",
    "df.head(2)"
   ]
  },
  {
   "cell_type": "markdown",
   "metadata": {},
   "source": [
    "Para formar la matriz *X* con las variables predictoras se debe eliminar la columna con el inventario de movimientos en masa, que corresponde a la variable dependiente *y*, y una columna, para este caso, denominada *Unnamed: 0* que representa los índices de las filas importados de Excel."
   ]
  },
  {
   "cell_type": "code",
   "execution_count": 24,
   "metadata": {},
   "outputs": [
    {
     "data": {
      "text/html": [
       "<div>\n",
       "<style scoped>\n",
       "    .dataframe tbody tr th:only-of-type {\n",
       "        vertical-align: middle;\n",
       "    }\n",
       "\n",
       "    .dataframe tbody tr th {\n",
       "        vertical-align: top;\n",
       "    }\n",
       "\n",
       "    .dataframe thead th {\n",
       "        text-align: right;\n",
       "    }\n",
       "</style>\n",
       "<table border=\"1\" class=\"dataframe\">\n",
       "  <thead>\n",
       "    <tr style=\"text-align: right;\">\n",
       "      <th></th>\n",
       "      <th>pendiente</th>\n",
       "      <th>aspecto</th>\n",
       "      <th>geologia</th>\n",
       "    </tr>\n",
       "  </thead>\n",
       "  <tbody>\n",
       "    <tr>\n",
       "      <th>0</th>\n",
       "      <td>10.862183</td>\n",
       "      <td>208.523560</td>\n",
       "      <td>14</td>\n",
       "    </tr>\n",
       "    <tr>\n",
       "      <th>1</th>\n",
       "      <td>12.265345</td>\n",
       "      <td>207.437332</td>\n",
       "      <td>14</td>\n",
       "    </tr>\n",
       "  </tbody>\n",
       "</table>\n",
       "</div>"
      ],
      "text/plain": [
       "   pendiente     aspecto  geologia\n",
       "0  10.862183  208.523560        14\n",
       "1  12.265345  207.437332        14"
      ]
     },
     "execution_count": 24,
     "metadata": {},
     "output_type": "execute_result"
    }
   ],
   "source": [
    "X=df.drop(['inventario','Unnamed: 0'],axis=1)\n",
    "X.head(2)"
   ]
  },
  {
   "cell_type": "code",
   "execution_count": 25,
   "metadata": {},
   "outputs": [
    {
     "data": {
      "text/plain": [
       "0    0\n",
       "1    0\n",
       "Name: inventario, dtype: int64"
      ]
     },
     "execution_count": 25,
     "metadata": {},
     "output_type": "execute_result"
    }
   ],
   "source": [
    "y=df['inventario']\n",
    "y.head(2)"
   ]
  },
  {
   "cell_type": "markdown",
   "metadata": {},
   "source": [
    "## Statsmodels"
   ]
  },
  {
   "cell_type": "markdown",
   "metadata": {},
   "source": [
    "Al igual que en el caso de modelos lineales, una buena opción es la librería statsmodels, ya que arroja la hoja de resultados con diferentes métricas que permiten conocer los resultados directamente."
   ]
  },
  {
   "cell_type": "code",
   "execution_count": 3,
   "metadata": {},
   "outputs": [],
   "source": [
    "import statsmodels.api as sm"
   ]
  },
  {
   "cell_type": "markdown",
   "metadata": {},
   "source": [
    "Como la variable geologia es categórica se debe transformar a variables binarias o dummies. Inicialmente es importante saber cuantas clases tiene:"
   ]
  },
  {
   "cell_type": "code",
   "execution_count": 31,
   "metadata": {},
   "outputs": [
    {
     "name": "stdout",
     "output_type": "stream",
     "text": [
      "[ 2  4  6  8  9 10 11 14 15 16]\n"
     ]
    }
   ],
   "source": [
    "print(np.unique(X['geologia']))"
   ]
  },
  {
   "cell_type": "markdown",
   "metadata": {},
   "source": [
    "Y posteriormente se transnforma con la siguiente función:"
   ]
  },
  {
   "cell_type": "code",
   "execution_count": 33,
   "metadata": {},
   "outputs": [
    {
     "data": {
      "text/html": [
       "<div>\n",
       "<style scoped>\n",
       "    .dataframe tbody tr th:only-of-type {\n",
       "        vertical-align: middle;\n",
       "    }\n",
       "\n",
       "    .dataframe tbody tr th {\n",
       "        vertical-align: top;\n",
       "    }\n",
       "\n",
       "    .dataframe thead th {\n",
       "        text-align: right;\n",
       "    }\n",
       "</style>\n",
       "<table border=\"1\" class=\"dataframe\">\n",
       "  <thead>\n",
       "    <tr style=\"text-align: right;\">\n",
       "      <th></th>\n",
       "      <th>geo_2</th>\n",
       "      <th>geo_4</th>\n",
       "      <th>geo_6</th>\n",
       "      <th>geo_8</th>\n",
       "      <th>geo_9</th>\n",
       "      <th>geo_10</th>\n",
       "      <th>geo_11</th>\n",
       "      <th>geo_14</th>\n",
       "      <th>geo_15</th>\n",
       "      <th>geo_16</th>\n",
       "    </tr>\n",
       "  </thead>\n",
       "  <tbody>\n",
       "    <tr>\n",
       "      <th>0</th>\n",
       "      <td>0</td>\n",
       "      <td>0</td>\n",
       "      <td>0</td>\n",
       "      <td>0</td>\n",
       "      <td>0</td>\n",
       "      <td>0</td>\n",
       "      <td>0</td>\n",
       "      <td>1</td>\n",
       "      <td>0</td>\n",
       "      <td>0</td>\n",
       "    </tr>\n",
       "    <tr>\n",
       "      <th>1</th>\n",
       "      <td>0</td>\n",
       "      <td>0</td>\n",
       "      <td>0</td>\n",
       "      <td>0</td>\n",
       "      <td>0</td>\n",
       "      <td>0</td>\n",
       "      <td>0</td>\n",
       "      <td>1</td>\n",
       "      <td>0</td>\n",
       "      <td>0</td>\n",
       "    </tr>\n",
       "  </tbody>\n",
       "</table>\n",
       "</div>"
      ],
      "text/plain": [
       "   geo_2  geo_4  geo_6  geo_8  geo_9  geo_10  geo_11  geo_14  geo_15  geo_16\n",
       "0      0      0      0      0      0       0       0       1       0       0\n",
       "1      0      0      0      0      0       0       0       1       0       0"
      ]
     },
     "execution_count": 33,
     "metadata": {},
     "output_type": "execute_result"
    }
   ],
   "source": [
    "\n",
    "dummy_geologia=pd.get_dummies(X['geologia'],prefix='geo')\n",
    "dummy_geologia.head(2)"
   ]
  },
  {
   "cell_type": "markdown",
   "metadata": {},
   "source": [
    "Luego se debe incorporar las variables binarias creadas y remover la variable previa que contenía la geología."
   ]
  },
  {
   "cell_type": "code",
   "execution_count": 29,
   "metadata": {},
   "outputs": [
    {
     "data": {
      "text/html": [
       "<div>\n",
       "<style scoped>\n",
       "    .dataframe tbody tr th:only-of-type {\n",
       "        vertical-align: middle;\n",
       "    }\n",
       "\n",
       "    .dataframe tbody tr th {\n",
       "        vertical-align: top;\n",
       "    }\n",
       "\n",
       "    .dataframe thead th {\n",
       "        text-align: right;\n",
       "    }\n",
       "</style>\n",
       "<table border=\"1\" class=\"dataframe\">\n",
       "  <thead>\n",
       "    <tr style=\"text-align: right;\">\n",
       "      <th></th>\n",
       "      <th>pendiente</th>\n",
       "      <th>aspecto</th>\n",
       "      <th>geo_2</th>\n",
       "      <th>geo_4</th>\n",
       "      <th>geo_6</th>\n",
       "      <th>geo_8</th>\n",
       "      <th>geo_9</th>\n",
       "      <th>geo_10</th>\n",
       "      <th>geo_11</th>\n",
       "      <th>geo_14</th>\n",
       "      <th>geo_15</th>\n",
       "      <th>geo_16</th>\n",
       "    </tr>\n",
       "  </thead>\n",
       "  <tbody>\n",
       "    <tr>\n",
       "      <th>0</th>\n",
       "      <td>10.862183</td>\n",
       "      <td>208.523560</td>\n",
       "      <td>0</td>\n",
       "      <td>0</td>\n",
       "      <td>0</td>\n",
       "      <td>0</td>\n",
       "      <td>0</td>\n",
       "      <td>0</td>\n",
       "      <td>0</td>\n",
       "      <td>1</td>\n",
       "      <td>0</td>\n",
       "      <td>0</td>\n",
       "    </tr>\n",
       "    <tr>\n",
       "      <th>1</th>\n",
       "      <td>12.265345</td>\n",
       "      <td>207.437332</td>\n",
       "      <td>0</td>\n",
       "      <td>0</td>\n",
       "      <td>0</td>\n",
       "      <td>0</td>\n",
       "      <td>0</td>\n",
       "      <td>0</td>\n",
       "      <td>0</td>\n",
       "      <td>1</td>\n",
       "      <td>0</td>\n",
       "      <td>0</td>\n",
       "    </tr>\n",
       "    <tr>\n",
       "      <th>2</th>\n",
       "      <td>12.469252</td>\n",
       "      <td>202.684647</td>\n",
       "      <td>0</td>\n",
       "      <td>0</td>\n",
       "      <td>0</td>\n",
       "      <td>0</td>\n",
       "      <td>0</td>\n",
       "      <td>0</td>\n",
       "      <td>0</td>\n",
       "      <td>1</td>\n",
       "      <td>0</td>\n",
       "      <td>0</td>\n",
       "    </tr>\n",
       "    <tr>\n",
       "      <th>3</th>\n",
       "      <td>13.148026</td>\n",
       "      <td>211.619766</td>\n",
       "      <td>0</td>\n",
       "      <td>0</td>\n",
       "      <td>0</td>\n",
       "      <td>0</td>\n",
       "      <td>0</td>\n",
       "      <td>0</td>\n",
       "      <td>0</td>\n",
       "      <td>1</td>\n",
       "      <td>0</td>\n",
       "      <td>0</td>\n",
       "    </tr>\n",
       "    <tr>\n",
       "      <th>4</th>\n",
       "      <td>14.091524</td>\n",
       "      <td>220.028976</td>\n",
       "      <td>0</td>\n",
       "      <td>0</td>\n",
       "      <td>0</td>\n",
       "      <td>0</td>\n",
       "      <td>0</td>\n",
       "      <td>0</td>\n",
       "      <td>0</td>\n",
       "      <td>1</td>\n",
       "      <td>0</td>\n",
       "      <td>0</td>\n",
       "    </tr>\n",
       "  </tbody>\n",
       "</table>\n",
       "</div>"
      ],
      "text/plain": [
       "   pendiente     aspecto  geo_2  geo_4  geo_6  geo_8  geo_9  geo_10  geo_11  \\\n",
       "0  10.862183  208.523560      0      0      0      0      0       0       0   \n",
       "1  12.265345  207.437332      0      0      0      0      0       0       0   \n",
       "2  12.469252  202.684647      0      0      0      0      0       0       0   \n",
       "3  13.148026  211.619766      0      0      0      0      0       0       0   \n",
       "4  14.091524  220.028976      0      0      0      0      0       0       0   \n",
       "\n",
       "   geo_14  geo_15  geo_16  \n",
       "0       1       0       0  \n",
       "1       1       0       0  \n",
       "2       1       0       0  \n",
       "3       1       0       0  \n",
       "4       1       0       0  "
      ]
     },
     "execution_count": 29,
     "metadata": {},
     "output_type": "execute_result"
    }
   ],
   "source": [
    "column_name=X.columns.values.tolist()\n",
    "column_name.remove('geologia')\n",
    "X1=X[column_name].join(dummy_geologia)\n",
    "X1.head()"
   ]
  },
  {
   "cell_type": "markdown",
   "metadata": {},
   "source": [
    "Como las clases de las variables categóricas son transformadas en variables binarias, se forma multicolinealidad, ya que las variables binarias creadas conforman sumandolos un vector de valores 1. Para eliminar esta multicolinealidad se debe eliminar una variable, por lo que los coeficientes de las demas clases son con respecto a dicha clase, y el coeficiente de la clase eliminada se encuentra dentro del intercepto. \n",
    "\n",
    "En este caso eliminaremos la variable 'geo_2'."
   ]
  },
  {
   "cell_type": "code",
   "execution_count": 35,
   "metadata": {},
   "outputs": [
    {
     "data": {
      "text/html": [
       "<div>\n",
       "<style scoped>\n",
       "    .dataframe tbody tr th:only-of-type {\n",
       "        vertical-align: middle;\n",
       "    }\n",
       "\n",
       "    .dataframe tbody tr th {\n",
       "        vertical-align: top;\n",
       "    }\n",
       "\n",
       "    .dataframe thead th {\n",
       "        text-align: right;\n",
       "    }\n",
       "</style>\n",
       "<table border=\"1\" class=\"dataframe\">\n",
       "  <thead>\n",
       "    <tr style=\"text-align: right;\">\n",
       "      <th></th>\n",
       "      <th>pendiente</th>\n",
       "      <th>aspecto</th>\n",
       "      <th>geo_4</th>\n",
       "      <th>geo_6</th>\n",
       "      <th>geo_8</th>\n",
       "      <th>geo_9</th>\n",
       "      <th>geo_10</th>\n",
       "      <th>geo_11</th>\n",
       "      <th>geo_14</th>\n",
       "      <th>geo_15</th>\n",
       "      <th>geo_16</th>\n",
       "    </tr>\n",
       "  </thead>\n",
       "  <tbody>\n",
       "    <tr>\n",
       "      <th>0</th>\n",
       "      <td>10.862183</td>\n",
       "      <td>208.523560</td>\n",
       "      <td>0</td>\n",
       "      <td>0</td>\n",
       "      <td>0</td>\n",
       "      <td>0</td>\n",
       "      <td>0</td>\n",
       "      <td>0</td>\n",
       "      <td>1</td>\n",
       "      <td>0</td>\n",
       "      <td>0</td>\n",
       "    </tr>\n",
       "    <tr>\n",
       "      <th>1</th>\n",
       "      <td>12.265345</td>\n",
       "      <td>207.437332</td>\n",
       "      <td>0</td>\n",
       "      <td>0</td>\n",
       "      <td>0</td>\n",
       "      <td>0</td>\n",
       "      <td>0</td>\n",
       "      <td>0</td>\n",
       "      <td>1</td>\n",
       "      <td>0</td>\n",
       "      <td>0</td>\n",
       "    </tr>\n",
       "    <tr>\n",
       "      <th>2</th>\n",
       "      <td>12.469252</td>\n",
       "      <td>202.684647</td>\n",
       "      <td>0</td>\n",
       "      <td>0</td>\n",
       "      <td>0</td>\n",
       "      <td>0</td>\n",
       "      <td>0</td>\n",
       "      <td>0</td>\n",
       "      <td>1</td>\n",
       "      <td>0</td>\n",
       "      <td>0</td>\n",
       "    </tr>\n",
       "    <tr>\n",
       "      <th>3</th>\n",
       "      <td>13.148026</td>\n",
       "      <td>211.619766</td>\n",
       "      <td>0</td>\n",
       "      <td>0</td>\n",
       "      <td>0</td>\n",
       "      <td>0</td>\n",
       "      <td>0</td>\n",
       "      <td>0</td>\n",
       "      <td>1</td>\n",
       "      <td>0</td>\n",
       "      <td>0</td>\n",
       "    </tr>\n",
       "    <tr>\n",
       "      <th>4</th>\n",
       "      <td>14.091524</td>\n",
       "      <td>220.028976</td>\n",
       "      <td>0</td>\n",
       "      <td>0</td>\n",
       "      <td>0</td>\n",
       "      <td>0</td>\n",
       "      <td>0</td>\n",
       "      <td>0</td>\n",
       "      <td>1</td>\n",
       "      <td>0</td>\n",
       "      <td>0</td>\n",
       "    </tr>\n",
       "  </tbody>\n",
       "</table>\n",
       "</div>"
      ],
      "text/plain": [
       "   pendiente     aspecto  geo_4  geo_6  geo_8  geo_9  geo_10  geo_11  geo_14  \\\n",
       "0  10.862183  208.523560      0      0      0      0       0       0       1   \n",
       "1  12.265345  207.437332      0      0      0      0       0       0       1   \n",
       "2  12.469252  202.684647      0      0      0      0       0       0       1   \n",
       "3  13.148026  211.619766      0      0      0      0       0       0       1   \n",
       "4  14.091524  220.028976      0      0      0      0       0       0       1   \n",
       "\n",
       "   geo_15  geo_16  \n",
       "0       0       0  \n",
       "1       0       0  \n",
       "2       0       0  \n",
       "3       0       0  \n",
       "4       0       0  "
      ]
     },
     "execution_count": 35,
     "metadata": {},
     "output_type": "execute_result"
    }
   ],
   "source": [
    "X1.drop('geo_2',axis=1,inplace=True)\n",
    "X1.head()"
   ]
  },
  {
   "cell_type": "markdown",
   "metadata": {},
   "source": [
    "La función Logit de *statsmodels* no incluye por defecto el intercepto, por lo tanto se debe adicionar a las variables independientes una columna con una constante de tal forma que se pueda obtener el intercepto."
   ]
  },
  {
   "cell_type": "code",
   "execution_count": 36,
   "metadata": {
    "tags": []
   },
   "outputs": [
    {
     "name": "stderr",
     "output_type": "stream",
     "text": [
      "c:\\Users\\edier\\miniconda3\\envs\\carto\\Lib\\site-packages\\statsmodels\\base\\optimizer.py:736: RuntimeWarning: Maximum number of iterations has been exceeded.\n",
      "  retvals = optimize.fmin(f, start_params, args=fargs, xtol=xtol,\n",
      "c:\\Users\\edier\\miniconda3\\envs\\carto\\Lib\\site-packages\\statsmodels\\base\\model.py:607: ConvergenceWarning: Maximum Likelihood optimization failed to converge. Check mle_retvals\n",
      "  warnings.warn(\"Maximum Likelihood optimization failed to \"\n"
     ]
    },
    {
     "name": "stdout",
     "output_type": "stream",
     "text": [
      "                           Logit Regression Results                           \n",
      "==============================================================================\n",
      "Dep. Variable:             inventario   No. Observations:               910801\n",
      "Model:                          Logit   Df Residuals:                   910789\n",
      "Method:                           MLE   Df Model:                           11\n",
      "Date:                Mon, 27 Nov 2023   Pseudo R-squ.:                  -35.70\n",
      "Time:                        19:15:51   Log-Likelihood:            -4.3586e+05\n",
      "converged:                      False   LL-Null:                       -11876.\n",
      "Covariance Type:            nonrobust   LLR p-value:                     1.000\n",
      "==============================================================================\n",
      "                 coef    std err          z      P>|z|      [0.025      0.975]\n",
      "------------------------------------------------------------------------------\n",
      "const         -0.0001      0.009     -0.016      0.987      -0.017       0.017\n",
      "pendiente  -4.336e-05      0.000     -0.218      0.827      -0.000       0.000\n",
      "aspecto       -0.0024   2.32e-05   -102.300      0.000      -0.002      -0.002\n",
      "geo_4          0.0006      0.160      0.004      0.997      -0.313       0.314\n",
      "geo_6         -0.0002      0.038     -0.004      0.996      -0.074       0.074\n",
      "geo_8       8.948e-05      0.012      0.007      0.994      -0.024       0.024\n",
      "geo_9       2.028e-05      0.012      0.002      0.999      -0.023       0.023\n",
      "geo_10         0.0006      0.015      0.041      0.967      -0.028       0.029\n",
      "geo_11     -4.513e-05      0.011     -0.004      0.997      -0.022       0.021\n",
      "geo_14         0.0007      0.005      0.138      0.890      -0.010       0.011\n",
      "geo_15         0.0006      0.049      0.012      0.991      -0.095       0.096\n",
      "geo_16      2.323e-05      0.016      0.001      0.999      -0.031       0.031\n",
      "==============================================================================\n"
     ]
    }
   ],
   "source": [
    "model1=sm.Logit(y,sm.add_constant(X1))\n",
    "result1=model1.fit(method='nm')\n",
    "print(result1.summary())"
   ]
  },
  {
   "cell_type": "markdown",
   "metadata": {},
   "source": [
    "Entre los resultados se destacan el estimador para los coeficientes (maxima verosimilitud -MLE-), el logaritmo del estimador MLE (Log-likelihood), el coeficiente de ajuste (Pseudo R-squ.). Con respecto a los coeficientes se presenta el valor de la prueba de hipótesis nula que el valor del coeficiente sea igual a cero (z) como el valor del coeficiente y el error estandar (std err), y el *p-value* (P>|z|), este valor debe ser menor al 5% (0.05), lo cual significa que la probabilidad que el coeficiente tenga un valor de 0 es muy bajo.  Finalmente se presenta el rango del 95% del dominio del valor del coeficiente, si el coeficiente es estadísticamente significativo, dicho rango no debe contener el valor 0."
   ]
  },
  {
   "cell_type": "markdown",
   "metadata": {},
   "source": [
    "Para obtener los pesos de las variables o coeficientes, se puede utilizar también la siguiente función."
   ]
  },
  {
   "cell_type": "code",
   "execution_count": 37,
   "metadata": {
    "tags": []
   },
   "outputs": [
    {
     "data": {
      "text/plain": [
       "const       -0.000144\n",
       "pendiente   -0.000043\n",
       "aspecto     -0.002373\n",
       "geo_4        0.000563\n",
       "geo_6       -0.000169\n",
       "geo_8        0.000089\n",
       "geo_9        0.000020\n",
       "geo_10       0.000597\n",
       "geo_11      -0.000045\n",
       "geo_14       0.000722\n",
       "geo_15       0.000561\n",
       "geo_16       0.000023\n",
       "dtype: float64"
      ]
     },
     "execution_count": 37,
     "metadata": {},
     "output_type": "execute_result"
    }
   ],
   "source": [
    "result1.params"
   ]
  },
  {
   "cell_type": "markdown",
   "metadata": {},
   "source": [
    "Existen diferentes métodos para resolver el problema de regresión, por lo tanto se puede modificar dicho argumento."
   ]
  },
  {
   "cell_type": "code",
   "execution_count": 38,
   "metadata": {
    "tags": []
   },
   "outputs": [
    {
     "name": "stderr",
     "output_type": "stream",
     "text": [
      "c:\\Users\\edier\\miniconda3\\envs\\carto\\Lib\\site-packages\\scipy\\optimize\\_optimize.py:1359: OptimizeWarning: Maximum number of iterations has been exceeded.\n",
      "  res = _minimize_bfgs(f, x0, args, fprime, callback=callback, **opts)\n",
      "c:\\Users\\edier\\miniconda3\\envs\\carto\\Lib\\site-packages\\statsmodels\\base\\model.py:607: ConvergenceWarning: Maximum Likelihood optimization failed to converge. Check mle_retvals\n",
      "  warnings.warn(\"Maximum Likelihood optimization failed to \"\n"
     ]
    },
    {
     "name": "stdout",
     "output_type": "stream",
     "text": [
      "         Current function value: 0.012931\n",
      "         Iterations: 35\n",
      "         Function evaluations: 49\n",
      "         Gradient evaluations: 49\n",
      "                           Logit Regression Results                           \n",
      "==============================================================================\n",
      "Dep. Variable:             inventario   No. Observations:               910801\n",
      "Model:                          Logit   Df Residuals:                   910789\n",
      "Method:                           MLE   Df Model:                           11\n",
      "Date:                Mon, 27 Nov 2023   Pseudo R-squ.:                0.008328\n",
      "Time:                        19:16:53   Log-Likelihood:                -11777.\n",
      "converged:                      False   LL-Null:                       -11876.\n",
      "Covariance Type:            nonrobust   LLR p-value:                 2.108e-36\n",
      "==============================================================================\n",
      "                 coef    std err          z      P>|z|      [0.025      0.975]\n",
      "------------------------------------------------------------------------------\n",
      "const         -6.3694      0.097    -65.668      0.000      -6.560      -6.179\n",
      "pendiente      0.0294      0.002     13.160      0.000       0.025       0.034\n",
      "aspecto       -0.0007      0.000     -2.670      0.008      -0.001      -0.000\n",
      "geo_4         -0.0137      1.427     -0.010      0.992      -2.811       2.783\n",
      "geo_6         -0.2376      0.388     -0.613      0.540      -0.997       0.522\n",
      "geo_8         -0.4133      0.113     -3.672      0.000      -0.634      -0.193\n",
      "geo_9         -2.1404      0.312     -6.869      0.000      -2.751      -1.530\n",
      "geo_10        -0.0882      0.115     -0.765      0.444      -0.314       0.138\n",
      "geo_11        -0.7864      0.127     -6.216      0.000      -1.034      -0.538\n",
      "geo_14        -1.4248      0.058    -24.474      0.000      -1.539      -1.311\n",
      "geo_15        -0.0270      0.452     -0.060      0.952      -0.913       0.859\n",
      "geo_16        -0.0486      0.132     -0.368      0.713      -0.307       0.210\n",
      "==============================================================================\n"
     ]
    }
   ],
   "source": [
    "result1=model1.fit(method='bfgs')\n",
    "print(result1.summary())"
   ]
  },
  {
   "cell_type": "markdown",
   "metadata": {},
   "source": [
    "En el siguiente link se pueden consultar las diferentes argumentos y opciones de la función RL en statsmodels.\n",
    "\n",
    "https://tedboy.github.io/statsmodels_doc/generated/generated/statsmodels.api.Logit.fit.html#statsmodels.api.Logit.fit"
   ]
  },
  {
   "cell_type": "markdown",
   "metadata": {},
   "source": [
    "También es posible utilizar la librería *statsmodels.formula.api*, la cual permite utilizar la nomenclatura *Platsy* que permite el uso de formulas, y mejora la comprensión e interpretación del modelo. Esta librearía incorpora por defecto el intercepto en el modelo y en las fórmulas pueden especificar el tipo de variables categóricas con una *C*. Esto permite que automáticamente el modelo convierta en binaria las clases de la variable categórica y elimine una de ellas, por defecto la primera. En caso de querer eliminar el intercepto se incorpora en la formula \" - 1\" "
   ]
  },
  {
   "cell_type": "code",
   "execution_count": 18,
   "metadata": {},
   "outputs": [],
   "source": [
    "import statsmodels.formula.api as sfm"
   ]
  },
  {
   "cell_type": "code",
   "execution_count": 20,
   "metadata": {},
   "outputs": [
    {
     "name": "stdout",
     "output_type": "stream",
     "text": [
      "Warning: Maximum number of iterations has been exceeded.\n",
      "         Current function value: 0.012661\n",
      "         Iterations: 35\n"
     ]
    },
    {
     "name": "stderr",
     "output_type": "stream",
     "text": [
      "c:\\Users\\edier\\miniconda3\\envs\\carto\\Lib\\site-packages\\statsmodels\\base\\model.py:607: ConvergenceWarning: Maximum Likelihood optimization failed to converge. Check mle_retvals\n",
      "  warnings.warn(\"Maximum Likelihood optimization failed to \"\n"
     ]
    },
    {
     "name": "stdout",
     "output_type": "stream",
     "text": [
      "                           Logit Regression Results                           \n",
      "==============================================================================\n",
      "Dep. Variable:             inventario   No. Observations:               910801\n",
      "Model:                          Logit   Df Residuals:                   910790\n",
      "Method:                           MLE   Df Model:                           10\n",
      "Date:                Mon, 27 Nov 2023   Pseudo R-squ.:                 0.02902\n",
      "Time:                        18:19:49   Log-Likelihood:                -11532.\n",
      "converged:                      False   LL-Null:                       -11876.\n",
      "Covariance Type:            nonrobust   LLR p-value:                1.220e-141\n",
      "=====================================================================================\n",
      "                        coef    std err          z      P>|z|      [0.025      0.975]\n",
      "-------------------------------------------------------------------------------------\n",
      "Intercept            -7.2365      0.089    -81.628      0.000      -7.410      -7.063\n",
      "C(geologia)[T.4]     -8.0658     96.864     -0.083      0.934    -197.915     181.784\n",
      "C(geologia)[T.6]    -12.8057    255.338     -0.050      0.960    -513.259     487.647\n",
      "C(geologia)[T.8]      0.0814      0.109      0.746      0.456      -0.132       0.295\n",
      "C(geologia)[T.9]    -16.5929    552.025     -0.030      0.976   -1098.542    1065.356\n",
      "C(geologia)[T.10]    -0.3878      0.158     -2.454      0.014      -0.698      -0.078\n",
      "C(geologia)[T.11]     0.2244      0.101      2.219      0.027       0.026       0.423\n",
      "C(geologia)[T.14]    -0.5945      0.055    -10.854      0.000      -0.702      -0.487\n",
      "C(geologia)[T.15]     1.4500      0.283      5.129      0.000       0.896       2.004\n",
      "C(geologia)[T.16]   -13.3349    116.976     -0.114      0.909    -242.605     215.935\n",
      "pendiente             0.0397      0.002     17.412      0.000       0.035       0.044\n",
      "=====================================================================================\n"
     ]
    }
   ],
   "source": [
    "lr   = sfm.logit(formula = \"inventario ~ pendiente + C(geologia)\", data = df).fit()\n",
    "print(lr.summary())"
   ]
  },
  {
   "cell_type": "markdown",
   "metadata": {},
   "source": [
    "## Sklearn"
   ]
  },
  {
   "cell_type": "markdown",
   "metadata": {},
   "source": [
    "La librería de Sklearn es mas ágil en resolver los problemas de RL. Como hiperparámetro utiliza el C, el cual regulariza los coeficientes, de forma similar a LASSO, pero de forma 1/C. Es por esto que no se obtienen coeficientes similares que para Statsmodels, se pueden aproximar asignando un valor para regularizar muy bajo o modificando el argumento *penalty=None*."
   ]
  },
  {
   "cell_type": "code",
   "execution_count": 44,
   "metadata": {},
   "outputs": [],
   "source": [
    "from sklearn.linear_model import LogisticRegression\n",
    "#model = LogisticRegression(C=1e30)\n",
    "model=LogisticRegression(penalty=None)"
   ]
  },
  {
   "cell_type": "markdown",
   "metadata": {},
   "source": [
    "En el siguiente link se pueden conocer los diferentes argumentos de la función RL en Sklearn."
   ]
  },
  {
   "cell_type": "markdown",
   "metadata": {},
   "source": [
    "https://scikit-learn.org/stable/modules/generated/sklearn.linear_model.LogisticRegression.html"
   ]
  },
  {
   "cell_type": "markdown",
   "metadata": {},
   "source": [
    "Luego de instanciar el modelo se ajusta a los datos y se pueden obtener tanto los coeficientes como el intercepto."
   ]
  },
  {
   "cell_type": "code",
   "execution_count": 45,
   "metadata": {},
   "outputs": [
    {
     "name": "stderr",
     "output_type": "stream",
     "text": [
      "c:\\Users\\edier\\miniconda3\\envs\\carto\\Lib\\site-packages\\sklearn\\linear_model\\_logistic.py:460: ConvergenceWarning: lbfgs failed to converge (status=1):\n",
      "STOP: TOTAL NO. of ITERATIONS REACHED LIMIT.\n",
      "\n",
      "Increase the number of iterations (max_iter) or scale the data as shown in:\n",
      "    https://scikit-learn.org/stable/modules/preprocessing.html\n",
      "Please also refer to the documentation for alternative solver options:\n",
      "    https://scikit-learn.org/stable/modules/linear_model.html#logistic-regression\n",
      "  n_iter_i = _check_optimize_result(\n"
     ]
    },
    {
     "data": {
      "text/plain": [
       "array([[ 3.98494503e-02,  1.39724415e-04, -3.52172475e-02,\n",
       "        -5.08222818e-01,  3.91478101e-01, -2.74095331e+00,\n",
       "        -3.88330356e-01,  2.31945099e-01, -5.55564633e-01,\n",
       "         5.15636573e-01, -1.65907202e+00]])"
      ]
     },
     "execution_count": 45,
     "metadata": {},
     "output_type": "execute_result"
    }
   ],
   "source": [
    "model2=model.fit(X1,y)\n",
    "model2.coef_"
   ]
  },
  {
   "cell_type": "code",
   "execution_count": 46,
   "metadata": {},
   "outputs": [
    {
     "data": {
      "text/plain": [
       "array([-7.31819658])"
      ]
     },
     "execution_count": 46,
     "metadata": {},
     "output_type": "execute_result"
    }
   ],
   "source": [
    "model2.intercept_"
   ]
  },
  {
   "cell_type": "code",
   "execution_count": 9,
   "metadata": {},
   "outputs": [],
   "source": [
    "from sklearn.model_selection import train_test_split\n",
    "X_train, X_test, y_train, y_test=train_test_split(X,y)"
   ]
  },
  {
   "cell_type": "markdown",
   "metadata": {},
   "source": [
    "A continuación se evaluán algunas de las métricas ya estudiadas en otros talleres."
   ]
  },
  {
   "cell_type": "code",
   "execution_count": 65,
   "metadata": {},
   "outputs": [
    {
     "name": "stdout",
     "output_type": "stream",
     "text": [
      "Precision en entrenamiento: 1.0\n",
      "Precision en validacion: 1.0\n"
     ]
    }
   ],
   "source": [
    "from sklearn.metrics import accuracy_score\n",
    "from sklearn.metrics import classification_report\n",
    "Score_train=accuracy_score(y_train,model2.predict(X_train))\n",
    "print('Precision en entrenamiento:',Score_train)\n",
    "Score_test=accuracy_score(y_test,model2.predict(X_test))\n",
    "print('Precision en validacion:',Score_test)\n",
    "print(classification_report(y_test,model2.predict(X_test)))"
   ]
  },
  {
   "cell_type": "markdown",
   "metadata": {},
   "source": [
    "El método de RL puede arrojar valores categóricos en la predicción, en este caso 0 y 1, o probabilidades para cada caso, de la siguiente forma."
   ]
  },
  {
   "cell_type": "code",
   "execution_count": 66,
   "metadata": {},
   "outputs": [],
   "source": [
    "predictions = model2.predict(X_test)\n",
    "probabilities = model2.predict_proba(X_test)[:, 1]\n",
    "predictions,probabilities"
   ]
  },
  {
   "cell_type": "markdown",
   "metadata": {},
   "source": [
    "El método de partición *cross validation* se puede utilizar de la siguiente manera:"
   ]
  },
  {
   "cell_type": "code",
   "execution_count": 64,
   "metadata": {},
   "outputs": [
    {
     "name": "stdout",
     "output_type": "stream",
     "text": [
      "Valor medio: 0.919047619047619\n",
      "Desviacion estandar: 0.09786843869459148\n"
     ]
    }
   ],
   "source": [
    "from sklearn.model_selection import KFold\n",
    "from sklearn.model_selection import cross_val_score\n",
    "kfold = KFold(n_splits=5, random_state=1)\n",
    "results = cross_val_score(model, X, y, cv=kfold)\n",
    "print('Valor medio:',results.mean())\n",
    "print('Desviacion estandar:',results.std())"
   ]
  }
 ],
 "metadata": {
  "kernelspec": {
   "display_name": "Python 3 (ipykernel)",
   "language": "python",
   "name": "python3"
  },
  "language_info": {
   "codemirror_mode": {
    "name": "ipython",
    "version": 3
   },
   "file_extension": ".py",
   "mimetype": "text/x-python",
   "name": "python",
   "nbconvert_exporter": "python",
   "pygments_lexer": "ipython3",
   "version": "3.12.0"
  },
  "toc": {
   "base_numbering": 1,
   "nav_menu": {},
   "number_sections": true,
   "sideBar": true,
   "skip_h1_title": false,
   "title_cell": "Table of Contents",
   "title_sidebar": "Contents",
   "toc_cell": false,
   "toc_position": {},
   "toc_section_display": true,
   "toc_window_display": false
  },
  "vscode": {
   "interpreter": {
    "hash": "e1d4d4432adaf810d84079afef3a2b5cc3e6cff3448576ce9e7d5e7cd95700e9"
   }
  }
 },
 "nbformat": 4,
 "nbformat_minor": 4
}
