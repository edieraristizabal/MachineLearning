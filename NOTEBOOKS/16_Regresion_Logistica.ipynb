{
 "cells": [
  {
   "cell_type": "markdown",
   "metadata": {},
   "source": [
    "**CURSO**: *Machine Learning* en Geociencias<br />\n",
    "**Profesor**: Edier Aristizábal (evaristizabalg@unal.edu.co) <br />\n",
    "**Credits**: The content of this notebook is taken from several sources. Every effort has been made to trace copyright holders of the materials used in this notebook. The author apologies for any unintentional omissions and would be pleased to add an acknowledgment in future editions.\n"
   ]
  },
  {
   "cell_type": "markdown",
   "metadata": {},
   "source": [
    "# 16: Regresión Logística"
   ]
  },
  {
   "cell_type": "markdown",
   "metadata": {},
   "source": [
    "El modelo de RL corresponde a un modelo supervisado para clasificaciones."
   ]
  },
  {
   "cell_type": "code",
   "execution_count": 1,
   "metadata": {},
   "outputs": [],
   "source": [
    "import numpy as np\n",
    "import pandas as pd\n",
    "#import warnings\n",
    "#warnings.simplefilter(\"ignore\")"
   ]
  },
  {
   "cell_type": "markdown",
   "metadata": {},
   "source": [
    "En este caso se van a utilizar los datos de la base de datos de torrenicalidad, donde la variable objetivo es 1 o 0, que corresponde a si la cuenca es torrencial o no, respectivamente."
   ]
  },
  {
   "cell_type": "code",
   "execution_count": 4,
   "metadata": {},
   "outputs": [
    {
     "name": "stdout",
     "output_type": "stream",
     "text": [
      "(73, 32)\n"
     ]
    }
   ],
   "source": [
    "df= pd.read_excel('G:\\My Drive\\CATEDRA\\MACHINE LEARNING\\datos\\Cuencas_torrencialidad.xlsx', sheet_name='Hoja2')\n",
    "print(df.shape)\n",
    "X=np.array(df.drop(['Flash flood record', 'Name','Cuenca'],axis=1))\n",
    "y=np.array(df['Flash flood record'])"
   ]
  },
  {
   "cell_type": "markdown",
   "metadata": {},
   "source": [
    "## Statsmodels"
   ]
  },
  {
   "cell_type": "markdown",
   "metadata": {},
   "source": [
    "Al igual que en el caso de modelos lineales, una buena opción es la librería statsmodels, ya que arroja la hoja de resultados con diferentes métricas que permiten conocer los resultados directamente."
   ]
  },
  {
   "cell_type": "code",
   "execution_count": null,
   "metadata": {},
   "outputs": [],
   "source": [
    "import statsmodels.api as sm\n",
    "model1=sm.Logit(y,X)\n",
    "result1=model1.fit(method='nm')\n",
    "print(result1.summary())"
   ]
  },
  {
   "cell_type": "markdown",
   "metadata": {},
   "source": [
    "Para obtener los pesos de las variables o coeficientes, se puede utilizar también la siguiente función."
   ]
  },
  {
   "cell_type": "code",
   "execution_count": null,
   "metadata": {},
   "outputs": [],
   "source": [
    "result1.params"
   ]
  },
  {
   "cell_type": "markdown",
   "metadata": {},
   "source": [
    "Existen diferentes métodos para resolver el problema de regresión, por lo tanto se puede modificar dicho argumento."
   ]
  },
  {
   "cell_type": "code",
   "execution_count": 30,
   "metadata": {},
   "outputs": [
    {
     "name": "stdout",
     "output_type": "stream",
     "text": [
      "Optimization terminated successfully.\n",
      "         Current function value: 0.000000\n",
      "         Iterations: 33\n",
      "         Function evaluations: 38\n",
      "         Gradient evaluations: 38\n",
      "                           Logit Regression Results                           \n",
      "==============================================================================\n",
      "Dep. Variable:                      y   No. Observations:                   73\n",
      "Model:                          Logit   Df Residuals:                       45\n",
      "Method:                           MLE   Df Model:                           27\n",
      "Date:                Fri, 06 Dec 2019   Pseudo R-squ.:                   1.000\n",
      "Time:                        15:52:12   Log-Likelihood:            -2.5904e-06\n",
      "converged:                       True   LL-Null:                       -49.768\n",
      "Covariance Type:            nonrobust   LLR p-value:                 3.068e-10\n",
      "==============================================================================\n",
      "                 coef    std err          z      P>|z|      [0.025      0.975]\n",
      "------------------------------------------------------------------------------\n",
      "x1            -1.1552        nan        nan        nan         nan         nan\n",
      "x2             0.2034        nan        nan        nan         nan         nan\n",
      "x3             0.1859        nan        nan        nan         nan         nan\n",
      "x4            -3.6987        nan        nan        nan         nan         nan\n",
      "x5             1.9824        nan        nan        nan         nan         nan\n",
      "x6             2.0192        nan        nan        nan         nan         nan\n",
      "x7            -1.2732        nan        nan        nan         nan         nan\n",
      "x8             3.1019        nan        nan        nan         nan         nan\n",
      "x9            -0.2858        nan        nan        nan         nan         nan\n",
      "x10            1.2527        nan        nan        nan         nan         nan\n",
      "x11           -0.1847        nan        nan        nan         nan         nan\n",
      "x12            0.0712        nan        nan        nan         nan         nan\n",
      "x13            0.3030        nan        nan        nan         nan         nan\n",
      "x14            1.5628        nan        nan        nan         nan         nan\n",
      "x15           -0.0426        nan        nan        nan         nan         nan\n",
      "x16            0.3920        nan        nan        nan         nan         nan\n",
      "x17            0.3447        nan        nan        nan         nan         nan\n",
      "x18            0.4296        nan        nan        nan         nan         nan\n",
      "x19            0.4096        nan        nan        nan         nan         nan\n",
      "x20            2.7423        nan        nan        nan         nan         nan\n",
      "x21           -0.5369        nan        nan        nan         nan         nan\n",
      "x22            3.8166        nan        nan        nan         nan         nan\n",
      "x23            1.3711        nan        nan        nan         nan         nan\n",
      "x24           -0.5713        nan        nan        nan         nan         nan\n",
      "x25            1.1881        nan        nan        nan         nan         nan\n",
      "x26            1.1540        nan        nan        nan         nan         nan\n",
      "x27           -4.4781        nan        nan        nan         nan         nan\n",
      "x28            4.5807        nan        nan        nan         nan         nan\n",
      "x29           31.2709        nan        nan        nan         nan         nan\n",
      "==============================================================================\n",
      "\n",
      "Complete Separation: The results show that there iscomplete separation.\n",
      "In this case the Maximum Likelihood Estimator does not exist and the parameters\n",
      "are not identified.\n"
     ]
    }
   ],
   "source": [
    "result1=model1.fit(method='bfgs')\n",
    "print(result1.summary())"
   ]
  },
  {
   "cell_type": "markdown",
   "metadata": {},
   "source": [
    "También el argumento de máximas interacciones."
   ]
  },
  {
   "cell_type": "code",
   "execution_count": 32,
   "metadata": {},
   "outputs": [
    {
     "name": "stdout",
     "output_type": "stream",
     "text": [
      "Warning: Maximum number of iterations has been exceeded.\n",
      "         Current function value: 0.000000\n",
      "         Iterations: 50\n",
      "                           Logit Regression Results                           \n",
      "==============================================================================\n",
      "Dep. Variable:                      y   No. Observations:                   73\n",
      "Model:                          Logit   Df Residuals:                       45\n",
      "Method:                           MLE   Df Model:                           27\n",
      "Date:                Fri, 06 Dec 2019   Pseudo R-squ.:                   1.000\n",
      "Time:                        15:57:10   Log-Likelihood:            -1.6717e-05\n",
      "converged:                      False   LL-Null:                       -49.768\n",
      "Covariance Type:            nonrobust   LLR p-value:                 3.068e-10\n",
      "==============================================================================\n",
      "                 coef    std err          z      P>|z|      [0.025      0.975]\n",
      "------------------------------------------------------------------------------\n",
      "x1             0.5835   5.83e+08      1e-09      1.000   -1.14e+09    1.14e+09\n",
      "x2             0.1690   9.58e+06   1.76e-08      1.000   -1.88e+07    1.88e+07\n",
      "x3            -0.0378   2.99e+06  -1.27e-08      1.000   -5.85e+06    5.85e+06\n",
      "x4            -0.8367   1.25e+08  -6.71e-09      1.000   -2.45e+08    2.45e+08\n",
      "x5             6.1713    3.3e+07   1.87e-07      1.000   -6.47e+07    6.47e+07\n",
      "x6            -4.3875   1.15e+08  -3.82e-08      1.000   -2.25e+08    2.25e+08\n",
      "x7             3.1755    4.3e+07   7.38e-08      1.000   -8.43e+07    8.43e+07\n",
      "x8             0.4755   1.41e+08   3.38e-09      1.000   -2.76e+08    2.76e+08\n",
      "x9            -0.2163    1.8e+06   -1.2e-07      1.000   -3.53e+06    3.53e+06\n",
      "x10            1.5985   1.18e+07   1.36e-07      1.000   -2.31e+07    2.31e+07\n",
      "x11          -66.9768   5.53e+09  -1.21e-08      1.000   -1.08e+10    1.08e+10\n",
      "x12           33.9496   8.73e+09   3.89e-09      1.000   -1.71e+10    1.71e+10\n",
      "x13           66.2485   5.32e+09   1.25e-08      1.000   -1.04e+10    1.04e+10\n",
      "x14          -13.0593   1.21e+09  -1.08e-08      1.000   -2.37e+09    2.37e+09\n",
      "x15            3.9491   7.43e+08   5.32e-09      1.000   -1.46e+09    1.46e+09\n",
      "x16          146.8509   7.07e+09   2.08e-08      1.000   -1.38e+10    1.38e+10\n",
      "x17         -124.1064   5.19e+09  -2.39e-08      1.000   -1.02e+10    1.02e+10\n",
      "x18           82.4093   1.99e+09   4.13e-08      1.000   -3.91e+09    3.91e+09\n",
      "x19           10.4219   5.61e+08   1.86e-08      1.000    -1.1e+09     1.1e+09\n",
      "x20           29.5099   1.11e+10   2.66e-09      1.000   -2.17e+10    2.17e+10\n",
      "x21          -63.1512   1.76e+09  -3.58e-08      1.000   -3.46e+09    3.46e+09\n",
      "x22          -19.8159    5.3e+08  -3.74e-08      1.000   -1.04e+09    1.04e+09\n",
      "x23           14.7549   2.29e+10   6.44e-10      1.000   -4.49e+10    4.49e+10\n",
      "x24          -10.9299   4.45e+08  -2.46e-08      1.000   -8.72e+08    8.72e+08\n",
      "x25           -0.4199   3.36e+07  -1.25e-08      1.000   -6.59e+07    6.59e+07\n",
      "x26         -370.9051   7.12e+09  -5.21e-08      1.000    -1.4e+10     1.4e+10\n",
      "x27           -2.5319   6.71e+08  -3.77e-09      1.000   -1.32e+09    1.32e+09\n",
      "x28          200.5151   3.39e+09   5.91e-08      1.000   -6.64e+09    6.64e+09\n",
      "x29           17.2011    2.5e+08   6.89e-08      1.000   -4.89e+08    4.89e+08\n",
      "==============================================================================\n",
      "\n",
      "Complete Separation: The results show that there iscomplete separation.\n",
      "In this case the Maximum Likelihood Estimator does not exist and the parameters\n",
      "are not identified.\n"
     ]
    }
   ],
   "source": [
    "result1=model1.fit(maxiter=50)\n",
    "print(result1.summary())"
   ]
  },
  {
   "cell_type": "markdown",
   "metadata": {},
   "source": [
    "En el siguiente link se pueden consultar las diferentes argumentos y opciones de la función RL en statsmodels."
   ]
  },
  {
   "cell_type": "markdown",
   "metadata": {},
   "source": [
    "https://tedboy.github.io/statsmodels_doc/generated/generated/statsmodels.api.Logit.fit.html#statsmodels.api.Logit.fit"
   ]
  },
  {
   "cell_type": "markdown",
   "metadata": {},
   "source": [
    "## Sklearn"
   ]
  },
  {
   "cell_type": "markdown",
   "metadata": {},
   "source": [
    "La librería de Sklearn es mas ágil en resolver los problemas de RL. Como hiperparámetro utiliza el C, el cual regulariza los coeficientes, de forma similar a LASSO, pero de forma 1/C. Es por esto que no se obtienen coeficientes similares que para Statsmodels, se pueden aproximar asignando un valor para regularizar muy bajo y con intercepto 0 de la siguiente forma."
   ]
  },
  {
   "cell_type": "code",
   "execution_count": null,
   "metadata": {},
   "outputs": [],
   "source": [
    "from sklearn.linear_model import LogisticRegression\n",
    "model = LogisticRegression(fit_intercept=False, C=1e30)"
   ]
  },
  {
   "cell_type": "markdown",
   "metadata": {},
   "source": [
    "En el siguiente link se pueden conocer los diferentes argumentos de la función RL en Sklearn."
   ]
  },
  {
   "cell_type": "markdown",
   "metadata": {},
   "source": [
    "https://scikit-learn.org/stable/modules/generated/sklearn.linear_model.LogisticRegression.html"
   ]
  },
  {
   "cell_type": "markdown",
   "metadata": {},
   "source": [
    "Luego de instanciar el modelo se ajusta a los datos y se pueden obtener tanto los coeficientes como el intercepto."
   ]
  },
  {
   "cell_type": "code",
   "execution_count": 55,
   "metadata": {},
   "outputs": [
    {
     "data": {
      "text/plain": [
       "array([[ 0.52537955,  0.19354906, -0.21633247, -0.85129018,  0.35002608,\n",
       "         0.46194467, -0.58862276,  1.75394728,  0.07494584, -0.17569829,\n",
       "        -0.08465279,  0.03639248,  0.15434388,  0.70966486,  0.04038649,\n",
       "         0.2227852 ,  0.23363954,  0.02050789,  0.3737952 ,  0.92456445,\n",
       "        -0.14385653,  0.92093978,  0.46228222, -0.88069803,  0.31697202,\n",
       "         0.27257384, -1.13627211,  1.28170646,  8.57955034]])"
      ]
     },
     "execution_count": 55,
     "metadata": {},
     "output_type": "execute_result"
    }
   ],
   "source": [
    "model2=model.fit(X,y)\n",
    "model2.coef_"
   ]
  },
  {
   "cell_type": "code",
   "execution_count": 56,
   "metadata": {},
   "outputs": [
    {
     "data": {
      "text/plain": [
       "0.0"
      ]
     },
     "execution_count": 56,
     "metadata": {},
     "output_type": "execute_result"
    }
   ],
   "source": [
    "model2.intercept_"
   ]
  },
  {
   "cell_type": "code",
   "execution_count": 9,
   "metadata": {},
   "outputs": [],
   "source": [
    "from sklearn.model_selection import train_test_split\n",
    "X_train, X_test, y_train, y_test=train_test_split(X,y)"
   ]
  },
  {
   "cell_type": "markdown",
   "metadata": {},
   "source": [
    "A continuación se evaluán algunas de las métricas ya estudiadas en otros talleres."
   ]
  },
  {
   "cell_type": "code",
   "execution_count": 65,
   "metadata": {},
   "outputs": [
    {
     "name": "stdout",
     "output_type": "stream",
     "text": [
      "Precision en entrenamiento: 1.0\n",
      "Precision en validacion: 1.0\n"
     ]
    }
   ],
   "source": [
    "from sklearn.metrics import accuracy_score\n",
    "from sklearn.metrics import classification_report\n",
    "Score_train=accuracy_score(y_train,model2.predict(X_train))\n",
    "print('Precision en entrenamiento:',Score_train)\n",
    "Score_test=accuracy_score(y_test,model2.predict(X_test))\n",
    "print('Precision en validacion:',Score_test)\n",
    "print(classification_report(y_test,model2.predict(X_test)))"
   ]
  },
  {
   "cell_type": "markdown",
   "metadata": {},
   "source": [
    "El método de RL puede arrojar valores categóricos en la predicción, en este caso 0 y 1, o probabilidades para cada caso, de la siguiente forma."
   ]
  },
  {
   "cell_type": "code",
   "execution_count": 66,
   "metadata": {},
   "outputs": [],
   "source": [
    "predictions = model2.predict(X_test)\n",
    "probabilities = model2.predict_proba(X_test)[:, 1]\n",
    "predictions,probabilities"
   ]
  },
  {
   "cell_type": "markdown",
   "metadata": {},
   "source": [
    "El método de partición *cross validation* se puede utilizar de la siguiente manera:"
   ]
  },
  {
   "cell_type": "code",
   "execution_count": 64,
   "metadata": {},
   "outputs": [
    {
     "name": "stdout",
     "output_type": "stream",
     "text": [
      "Valor medio: 0.919047619047619\n",
      "Desviacion estandar: 0.09786843869459148\n"
     ]
    }
   ],
   "source": [
    "from sklearn.model_selection import KFold\n",
    "from sklearn.model_selection import cross_val_score\n",
    "kfold = KFold(n_splits=5, random_state=1)\n",
    "results = cross_val_score(model, X, y, cv=kfold)\n",
    "print('Valor medio:',results.mean())\n",
    "print('Desviacion estandar:',results.std())"
   ]
  },
  {
   "cell_type": "markdown",
   "metadata": {},
   "source": [
    "El MLE es Maximum Likelihood Estimation que estima la máxima probabilidad y asume a *joint probablity mass function*, mientras el OLS es un método que aproxima minimizando las distancias y no requiere ninguna hipótesis estocástica."
   ]
  },
  {
   "cell_type": "code",
   "execution_count": 91,
   "metadata": {},
   "outputs": [],
   "source": [
    "probability = model.predict_proba(X_test)[:, 1]\n",
    "log_odds = model.decision_function(X_test)\n",
    "classes = model.predict(X_test)"
   ]
  },
  {
   "cell_type": "code",
   "execution_count": 92,
   "metadata": {},
   "outputs": [
    {
     "data": {
      "text/plain": [
       "True"
      ]
     },
     "execution_count": 92,
     "metadata": {},
     "output_type": "execute_result"
    }
   ],
   "source": [
    "odds_ratio = np.exp(log_odds)\n",
    "probability_manual = odds_ratio / (1 + odds_ratio)\n",
    "\n",
    "# Para chequear si ambos son iguales\n",
    "np.allclose(probability, probability_manual)"
   ]
  },
  {
   "cell_type": "code",
   "execution_count": 72,
   "metadata": {},
   "outputs": [
    {
     "data": {
      "text/plain": [
       "True"
      ]
     },
     "execution_count": 72,
     "metadata": {},
     "output_type": "execute_result"
    }
   ],
   "source": [
    "probability_manual = 1 / (1 + np.exp(-log_odds))\n",
    "\n",
    "# Para chequear si ambos son iguales\n",
    "np.allclose(probability, probability_manual)"
   ]
  },
  {
   "cell_type": "markdown",
   "metadata": {},
   "source": [
    "A continuación se grafican las relaciones entre estos valores obtenidos."
   ]
  },
  {
   "cell_type": "code",
   "execution_count": 87,
   "metadata": {
    "scrolled": true
   },
   "outputs": [
    {
     "data": {
      "image/png": "[encoded data removed]",
      "text/plain": [
       "<Figure size 432x288 with 1 Axes>"
      ]
     },
     "metadata": {
      "needs_background": "light"
     },
     "output_type": "display_data"
    }
   ],
   "source": [
    "import matplotlib.pyplot as plt\n",
    "plt.scatter(log_odds, probability);"
   ]
  },
  {
   "cell_type": "code",
   "execution_count": 83,
   "metadata": {},
   "outputs": [
    {
     "data": {
      "image/png": "[encoded data removed]",
      "text/plain": [
       "<Figure size 432x288 with 1 Axes>"
      ]
     },
     "metadata": {
      "needs_background": "light"
     },
     "output_type": "display_data"
    }
   ],
   "source": [
    "plt.scatter(log_odds, odds_ratio);"
   ]
  },
  {
   "cell_type": "code",
   "execution_count": 84,
   "metadata": {
    "scrolled": true
   },
   "outputs": [
    {
     "data": {
      "image/png": "[encoded data removed]",
      "text/plain": [
       "<Figure size 432x288 with 1 Axes>"
      ]
     },
     "metadata": {
      "needs_background": "light"
     },
     "output_type": "display_data"
    }
   ],
   "source": [
    "plt.scatter(odds_ratio,probability);"
   ]
  },
  {
   "cell_type": "markdown",
   "metadata": {},
   "source": [
    "Finalmente, y para este caso de pocos valores, se puede observar los resultados de la siguiente forma."
   ]
  },
  {
   "cell_type": "code",
   "execution_count": 93,
   "metadata": {},
   "outputs": [
    {
     "data": {
      "text/html": [
       "<div>\n",
       "<style scoped>\n",
       "    .dataframe tbody tr th:only-of-type {\n",
       "        vertical-align: middle;\n",
       "    }\n",
       "\n",
       "    .dataframe tbody tr th {\n",
       "        vertical-align: top;\n",
       "    }\n",
       "\n",
       "    .dataframe thead th {\n",
       "        text-align: right;\n",
       "    }\n",
       "</style>\n",
       "<table border=\"1\" class=\"dataframe\">\n",
       "  <thead>\n",
       "    <tr style=\"text-align: right;\">\n",
       "      <th></th>\n",
       "      <th>probability</th>\n",
       "      <th>log_odds</th>\n",
       "      <th>classes</th>\n",
       "    </tr>\n",
       "  </thead>\n",
       "  <tbody>\n",
       "    <tr>\n",
       "      <td>9</td>\n",
       "      <td>9.374744e-28</td>\n",
       "      <td>-62.234363</td>\n",
       "      <td>0</td>\n",
       "    </tr>\n",
       "    <tr>\n",
       "      <td>2</td>\n",
       "      <td>1.083201e-13</td>\n",
       "      <td>-29.853686</td>\n",
       "      <td>0</td>\n",
       "    </tr>\n",
       "    <tr>\n",
       "      <td>15</td>\n",
       "      <td>6.879915e-13</td>\n",
       "      <td>-28.005000</td>\n",
       "      <td>0</td>\n",
       "    </tr>\n",
       "    <tr>\n",
       "      <td>6</td>\n",
       "      <td>8.871770e-10</td>\n",
       "      <td>-20.842977</td>\n",
       "      <td>0</td>\n",
       "    </tr>\n",
       "    <tr>\n",
       "      <td>11</td>\n",
       "      <td>1.762905e-09</td>\n",
       "      <td>-20.156303</td>\n",
       "      <td>0</td>\n",
       "    </tr>\n",
       "    <tr>\n",
       "      <td>3</td>\n",
       "      <td>2.253783e-08</td>\n",
       "      <td>-17.608070</td>\n",
       "      <td>0</td>\n",
       "    </tr>\n",
       "    <tr>\n",
       "      <td>14</td>\n",
       "      <td>1.572352e-07</td>\n",
       "      <td>-15.665523</td>\n",
       "      <td>0</td>\n",
       "    </tr>\n",
       "    <tr>\n",
       "      <td>4</td>\n",
       "      <td>8.882037e-07</td>\n",
       "      <td>-13.934064</td>\n",
       "      <td>0</td>\n",
       "    </tr>\n",
       "    <tr>\n",
       "      <td>1</td>\n",
       "      <td>1.717688e-06</td>\n",
       "      <td>-13.274530</td>\n",
       "      <td>0</td>\n",
       "    </tr>\n",
       "    <tr>\n",
       "      <td>17</td>\n",
       "      <td>4.936285e-06</td>\n",
       "      <td>-12.218893</td>\n",
       "      <td>0</td>\n",
       "    </tr>\n",
       "    <tr>\n",
       "      <td>16</td>\n",
       "      <td>8.204075e-06</td>\n",
       "      <td>-11.710871</td>\n",
       "      <td>0</td>\n",
       "    </tr>\n",
       "    <tr>\n",
       "      <td>10</td>\n",
       "      <td>2.533105e-05</td>\n",
       "      <td>-10.583454</td>\n",
       "      <td>0</td>\n",
       "    </tr>\n",
       "    <tr>\n",
       "      <td>18</td>\n",
       "      <td>9.987296e-01</td>\n",
       "      <td>6.667181</td>\n",
       "      <td>1</td>\n",
       "    </tr>\n",
       "    <tr>\n",
       "      <td>0</td>\n",
       "      <td>9.999366e-01</td>\n",
       "      <td>9.666471</td>\n",
       "      <td>1</td>\n",
       "    </tr>\n",
       "    <tr>\n",
       "      <td>13</td>\n",
       "      <td>9.999745e-01</td>\n",
       "      <td>10.574943</td>\n",
       "      <td>1</td>\n",
       "    </tr>\n",
       "    <tr>\n",
       "      <td>7</td>\n",
       "      <td>9.999974e-01</td>\n",
       "      <td>12.870480</td>\n",
       "      <td>1</td>\n",
       "    </tr>\n",
       "    <tr>\n",
       "      <td>8</td>\n",
       "      <td>9.999988e-01</td>\n",
       "      <td>13.618179</td>\n",
       "      <td>1</td>\n",
       "    </tr>\n",
       "    <tr>\n",
       "      <td>12</td>\n",
       "      <td>9.999991e-01</td>\n",
       "      <td>13.953546</td>\n",
       "      <td>1</td>\n",
       "    </tr>\n",
       "    <tr>\n",
       "      <td>5</td>\n",
       "      <td>9.999999e-01</td>\n",
       "      <td>16.086290</td>\n",
       "      <td>1</td>\n",
       "    </tr>\n",
       "  </tbody>\n",
       "</table>\n",
       "</div>"
      ],
      "text/plain": [
       "     probability   log_odds  classes\n",
       "9   9.374744e-28 -62.234363        0\n",
       "2   1.083201e-13 -29.853686        0\n",
       "15  6.879915e-13 -28.005000        0\n",
       "6   8.871770e-10 -20.842977        0\n",
       "11  1.762905e-09 -20.156303        0\n",
       "3   2.253783e-08 -17.608070        0\n",
       "14  1.572352e-07 -15.665523        0\n",
       "4   8.882037e-07 -13.934064        0\n",
       "1   1.717688e-06 -13.274530        0\n",
       "17  4.936285e-06 -12.218893        0\n",
       "16  8.204075e-06 -11.710871        0\n",
       "10  2.533105e-05 -10.583454        0\n",
       "18  9.987296e-01   6.667181        1\n",
       "0   9.999366e-01   9.666471        1\n",
       "13  9.999745e-01  10.574943        1\n",
       "7   9.999974e-01  12.870480        1\n",
       "8   9.999988e-01  13.618179        1\n",
       "12  9.999991e-01  13.953546        1\n",
       "5   9.999999e-01  16.086290        1"
      ]
     },
     "execution_count": 93,
     "metadata": {},
     "output_type": "execute_result"
    }
   ],
   "source": [
    "df = pd.DataFrame(dict(probability=probability, log_odds=log_odds, classes=classes))\n",
    "df.sort_values('probability')"
   ]
  }
 ],
 "metadata": {
  "kernelspec": {
   "display_name": "Python 3.9.2 ('geospatial')",
   "language": "python",
   "name": "python3"
  },
  "language_info": {
   "codemirror_mode": {
    "name": "ipython",
    "version": 3
   },
   "file_extension": ".py",
   "mimetype": "text/x-python",
   "name": "python",
   "nbconvert_exporter": "python",
   "pygments_lexer": "ipython3",
   "version": "3.9.2"
  },
  "toc": {
   "base_numbering": 1,
   "nav_menu": {},
   "number_sections": true,
   "sideBar": true,
   "skip_h1_title": false,
   "title_cell": "Table of Contents",
   "title_sidebar": "Contents",
   "toc_cell": false,
   "toc_position": {},
   "toc_section_display": true,
   "toc_window_display": false
  },
  "vscode": {
   "interpreter": {
    "hash": "e1d4d4432adaf810d84079afef3a2b5cc3e6cff3448576ce9e7d5e7cd95700e9"
   }
  }
 },
 "nbformat": 4,
 "nbformat_minor": 4
}
