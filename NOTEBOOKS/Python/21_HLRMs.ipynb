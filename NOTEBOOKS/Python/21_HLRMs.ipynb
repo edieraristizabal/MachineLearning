{
 "cells": [
  {
   "cell_type": "markdown",
   "metadata": {
    "id": "f9dKXji3yR1g"
   },
   "source": [
    "**CURSO**: *Machine Learning* en Geociencias<br />\n",
    "**Profesor**: Edier Aristizábal (evaristizabalg@unal.edu.co) <br />\n",
    "**Credits**: The content of this notebook is taken from several sources such as: [Python for data science](https://www.pythonfordatascience.org/mixed-effects-regression-python/) and [Everton Gomede](https://medium.com/the-modern-scientist/understanding-hierarchical-linear-modeling-hlm2-a-multi-level-approach-to-data-analysis-06c3d27588b6). Every effort has been made to trace copyright holders of the materials used in this notebook. The author apologizes for any unintentional omissions and would be pleased to add an acknowledgment in future editions."
   ]
  },
  {
   "cell_type": "code",
   "execution_count": 19,
   "metadata": {
    "tags": []
   },
   "outputs": [
    {
     "data": {
      "text/plain": [
       "0"
      ]
     },
     "execution_count": 19,
     "metadata": {},
     "output_type": "execute_result"
    }
   ],
   "source": [
    "import pip\n",
    "pip.main(['install','researchpy'])"
   ]
  },
  {
   "cell_type": "markdown",
   "metadata": {},
   "source": [
    "# Hierarchical Regression Models"
   ]
  },
  {
   "cell_type": "markdown",
   "metadata": {},
   "source": [
    "Mixed effects regression is an extension of the general linear model (GLM) that takes into account the hierarchical structure of the data. Mixed effect models are also known as multilevel models, hierarchical models, mixed models (or specifically linear mixed models (LMM)) and are appropriate for many types of data such as clustered data, repeated-measures data, longitudinal data, as well as combinations of those three\n",
    "\n",
    "**Fixed-effect parameters** describe the relationships of the covariates to the dependent variable for an entire population, **random effects** are specific to clusters of subjects within a population.\n",
    "\n",
    "**Fixed factors** are the independent variables that are of interest to the study, e.g. treatment category, sex or gender, categorical variable, etc.\n",
    "**Random factors** are the classification variables that the unit of anlaysis is grouped under, i.e. these are typically the variables that define level 2, level 3, or level n. These factors can also be thought of as a population where the unit measures were randomly sampled from, i.e. (using the school example from above) the school (level 2) had a random sample of students (level 1) scores selected to be used in the study.\n",
    "Gelman & Hill (2007) make the case that the classification of a variable as a fixed effect or random effect will vary depending on the objective of the study and the analysis. How a variable is modeled changes what is being measured and what the model is assuming about the variable itself. Using the school study example, if one were to model the categorical school variable as a fixed effect that model would assume the group means (one from each school) are independent from each other; if the categorical school variable is modeled as a random effect (random intercept only) the model would assume that the schools measured are a sample of a larger population of schools.\n",
    "\n",
    "Earlier it was mentioned how mixed-effect models could be a **random intercept model**, **random slope model**, or a **random intercept and random slope model**. With the differences being the random intercept model allows different intercepts based on the clustering variable while the random slope model allows different slopes based on a variable, and while the random intercepts and random slopes model allows different intercepts based on a clustering variable and slopes based on a variable."
   ]
  },
  {
   "cell_type": "code",
   "execution_count": 1,
   "metadata": {
    "executionInfo": {
     "elapsed": 4055,
     "status": "ok",
     "timestamp": 1697003163959,
     "user": {
      "displayName": "Edier Vicente Aristizabal Giraldo",
      "userId": "14756502124163770629"
     },
     "user_tz": -120
    },
    "id": "TcTloFNshmFU",
    "tags": []
   },
   "outputs": [],
   "source": [
    "import warnings\n",
    "warnings.filterwarnings('ignore')\n",
    "\n",
    "import matplotlib.pyplot as plt\n",
    "import numpy as np\n",
    "import pandas as pd\n",
    "import seaborn as sns\n",
    "import researchpy as rp\n",
    "import statsmodels.api as sm\n",
    "import scipy.stats as stats\n",
    "import statsmodels.formula.api as smf"
   ]
  },
  {
   "cell_type": "markdown",
   "metadata": {},
   "source": [
    "## Ejemplo 1"
   ]
  },
  {
   "cell_type": "code",
   "execution_count": 2,
   "metadata": {
    "tags": []
   },
   "outputs": [
    {
     "name": "stdout",
     "output_type": "stream",
     "text": [
      "<class 'pandas.core.frame.DataFrame'>\n",
      "RangeIndex: 322 entries, 0 to 321\n",
      "Data columns (total 6 columns):\n",
      " #   Column     Non-Null Count  Dtype  \n",
      "---  ------     --------------  -----  \n",
      " 0   pup_id     322 non-null    int64  \n",
      " 1   weight     322 non-null    float64\n",
      " 2   sex        322 non-null    object \n",
      " 3   litter     322 non-null    int64  \n",
      " 4   litsize    322 non-null    int64  \n",
      " 5   treatment  322 non-null    object \n",
      "dtypes: float64(1), int64(3), object(2)\n",
      "memory usage: 15.2+ KB\n"
     ]
    }
   ],
   "source": [
    "df = pd.read_csv(\"http://www-personal.umich.edu/~bwest/rat_pup.dat\", sep = \"\\t\")\n",
    "df.info()"
   ]
  },
  {
   "cell_type": "code",
   "execution_count": 3,
   "metadata": {
    "tags": []
   },
   "outputs": [
    {
     "name": "stdout",
     "output_type": "stream",
     "text": [
      "\n",
      "\n"
     ]
    },
    {
     "data": {
      "text/html": [
       "<div>\n",
       "<style scoped>\n",
       "    .dataframe tbody tr th:only-of-type {\n",
       "        vertical-align: middle;\n",
       "    }\n",
       "\n",
       "    .dataframe tbody tr th {\n",
       "        vertical-align: top;\n",
       "    }\n",
       "\n",
       "    .dataframe thead th {\n",
       "        text-align: right;\n",
       "    }\n",
       "</style>\n",
       "<table border=\"1\" class=\"dataframe\">\n",
       "  <thead>\n",
       "    <tr style=\"text-align: right;\">\n",
       "      <th></th>\n",
       "      <th></th>\n",
       "      <th>N</th>\n",
       "      <th>Mean</th>\n",
       "      <th>SD</th>\n",
       "      <th>SE</th>\n",
       "      <th>95% Conf.</th>\n",
       "      <th>Interval</th>\n",
       "    </tr>\n",
       "    <tr>\n",
       "      <th>treatment</th>\n",
       "      <th>sex</th>\n",
       "      <th></th>\n",
       "      <th></th>\n",
       "      <th></th>\n",
       "      <th></th>\n",
       "      <th></th>\n",
       "      <th></th>\n",
       "    </tr>\n",
       "  </thead>\n",
       "  <tbody>\n",
       "    <tr>\n",
       "      <th rowspan=\"2\" valign=\"top\">Control</th>\n",
       "      <th>Female</th>\n",
       "      <td>54</td>\n",
       "      <td>6.1161</td>\n",
       "      <td>0.6851</td>\n",
       "      <td>0.0932</td>\n",
       "      <td>5.9291</td>\n",
       "      <td>6.3031</td>\n",
       "    </tr>\n",
       "    <tr>\n",
       "      <th>Male</th>\n",
       "      <td>77</td>\n",
       "      <td>6.4710</td>\n",
       "      <td>0.7538</td>\n",
       "      <td>0.0859</td>\n",
       "      <td>6.3000</td>\n",
       "      <td>6.6421</td>\n",
       "    </tr>\n",
       "    <tr>\n",
       "      <th rowspan=\"2\" valign=\"top\">High</th>\n",
       "      <th>Female</th>\n",
       "      <td>32</td>\n",
       "      <td>5.8516</td>\n",
       "      <td>0.6002</td>\n",
       "      <td>0.1061</td>\n",
       "      <td>5.6352</td>\n",
       "      <td>6.0680</td>\n",
       "    </tr>\n",
       "    <tr>\n",
       "      <th>Male</th>\n",
       "      <td>33</td>\n",
       "      <td>5.9185</td>\n",
       "      <td>0.6909</td>\n",
       "      <td>0.1203</td>\n",
       "      <td>5.6735</td>\n",
       "      <td>6.1635</td>\n",
       "    </tr>\n",
       "    <tr>\n",
       "      <th rowspan=\"2\" valign=\"top\">Low</th>\n",
       "      <th>Female</th>\n",
       "      <td>65</td>\n",
       "      <td>5.8375</td>\n",
       "      <td>0.4505</td>\n",
       "      <td>0.0559</td>\n",
       "      <td>5.7259</td>\n",
       "      <td>5.9492</td>\n",
       "    </tr>\n",
       "    <tr>\n",
       "      <th>Male</th>\n",
       "      <td>61</td>\n",
       "      <td>6.0251</td>\n",
       "      <td>0.3803</td>\n",
       "      <td>0.0487</td>\n",
       "      <td>5.9277</td>\n",
       "      <td>6.1225</td>\n",
       "    </tr>\n",
       "  </tbody>\n",
       "</table>\n",
       "</div>"
      ],
      "text/plain": [
       "                   N    Mean      SD      SE  95% Conf.  Interval\n",
       "treatment sex                                                    \n",
       "Control   Female  54  6.1161  0.6851  0.0932     5.9291    6.3031\n",
       "          Male    77  6.4710  0.7538  0.0859     6.3000    6.6421\n",
       "High      Female  32  5.8516  0.6002  0.1061     5.6352    6.0680\n",
       "          Male    33  5.9185  0.6909  0.1203     5.6735    6.1635\n",
       "Low       Female  65  5.8375  0.4505  0.0559     5.7259    5.9492\n",
       "          Male    61  6.0251  0.3803  0.0487     5.9277    6.1225"
      ]
     },
     "execution_count": 3,
     "metadata": {},
     "output_type": "execute_result"
    }
   ],
   "source": [
    "rp.summary_cont(df.groupby([\"treatment\", \"sex\"])[\"weight\"])"
   ]
  },
  {
   "cell_type": "code",
   "execution_count": 11,
   "metadata": {
    "tags": []
   },
   "outputs": [
    {
     "data": {
      "text/plain": [
       "<Figure size 800x400 with 0 Axes>"
      ]
     },
     "metadata": {},
     "output_type": "display_data"
    },
    {
     "data": {
      "image/png": "[encoded data removed]",
      "text/plain": [
       "<Figure size 1600x900 with 1 Axes>"
      ]
     },
     "metadata": {},
     "output_type": "display_data"
    }
   ],
   "source": [
    "boxplot = df.boxplot([\"weight\"], by = [\"treatment\", \"sex\"],figsize = (16, 9),showmeans = True,notch = True)\n",
    "boxplot.set_xlabel(\"Categories\")\n",
    "boxplot.set_ylabel(\"Weight\");"
   ]
  },
  {
   "cell_type": "markdown",
   "metadata": {},
   "source": [
    "### Random Intercept Model\n",
    "Now to fit a random intercept model, recall that this type of model allows for different clusters (a group) to have different intercepts.\n",
    "\n"
   ]
  },
  {
   "cell_type": "code",
   "execution_count": 6,
   "metadata": {
    "tags": []
   },
   "outputs": [
    {
     "data": {
      "text/html": [
       "<table class=\"simpletable\">\n",
       "<tr>\n",
       "       <td>Model:</td>       <td>MixedLM</td> <td>Dependent Variable:</td>  <td>weight</td>  \n",
       "</tr>\n",
       "<tr>\n",
       "  <td>No. Observations:</td>   <td>322</td>         <td>Method:</td>         <td>REML</td>   \n",
       "</tr>\n",
       "<tr>\n",
       "     <td>No. Groups:</td>      <td>27</td>          <td>Scale:</td>         <td>0.1635</td>  \n",
       "</tr>\n",
       "<tr>\n",
       "  <td>Min. group size:</td>     <td>2</td>      <td>Log-Likelihood:</td>   <td>-200.5522</td>\n",
       "</tr>\n",
       "<tr>\n",
       "  <td>Max. group size:</td>    <td>18</td>        <td>Converged:</td>         <td>Yes</td>   \n",
       "</tr>\n",
       "<tr>\n",
       "  <td>Mean group size:</td>   <td>11.9</td>            <td></td>               <td></td>     \n",
       "</tr>\n",
       "</table>\n",
       "<table class=\"simpletable\">\n",
       "<tr>\n",
       "                              <td></td>                              <th>Coef.</th> <th>Std.Err.</th>    <th>z</th>   <th>P>|z|</th> <th>[0.025</th> <th>0.975]</th>\n",
       "</tr>\n",
       "<tr>\n",
       "  <th>Intercept</th>                                                 <td>8.323</td>   <td>0.273</td>  <td>30.447</td> <td>0.000</td>  <td>7.788</td>  <td>8.859</td>\n",
       "</tr>\n",
       "<tr>\n",
       "  <th>C(treatment)[T.High]</th>                                     <td>-0.906</td>   <td>0.192</td>  <td>-4.727</td> <td>0.000</td> <td>-1.282</td> <td>-0.530</td>\n",
       "</tr>\n",
       "<tr>\n",
       "  <th>C(treatment)[T.Low]</th>                                      <td>-0.467</td>   <td>0.158</td>  <td>-2.952</td> <td>0.003</td> <td>-0.777</td> <td>-0.157</td>\n",
       "</tr>\n",
       "<tr>\n",
       "  <th>C(sex, Treatment('Male'))[T.Female]</th>                      <td>-0.412</td>   <td>0.073</td>  <td>-5.625</td> <td>0.000</td> <td>-0.555</td> <td>-0.268</td>\n",
       "</tr>\n",
       "<tr>\n",
       "  <th>C(treatment)[T.High]:C(sex, Treatment('Male'))[T.Female]</th>  <td>0.107</td>   <td>0.132</td>   <td>0.811</td> <td>0.417</td> <td>-0.151</td>  <td>0.366</td>\n",
       "</tr>\n",
       "<tr>\n",
       "  <th>C(treatment)[T.Low]:C(sex, Treatment('Male'))[T.Female]</th>   <td>0.084</td>   <td>0.106</td>   <td>0.794</td> <td>0.427</td> <td>-0.123</td>  <td>0.291</td>\n",
       "</tr>\n",
       "<tr>\n",
       "  <th>litsize</th>                                                  <td>-0.128</td>   <td>0.019</td>  <td>-6.845</td> <td>0.000</td> <td>-0.165</td> <td>-0.092</td>\n",
       "</tr>\n",
       "<tr>\n",
       "  <th>litter Var</th>                                                <td>0.097</td>   <td>0.084</td>     <td></td>      <td></td>       <td></td>       <td></td>   \n",
       "</tr>\n",
       "</table><br/>\n"
      ],
      "text/latex": [
       "\\begin{table}\n",
       "\\caption{Mixed Linear Model Regression Results}\n",
       "\\label{}\n",
       "\\begin{center}\n",
       "\\begin{tabular}{llll}\n",
       "\\hline\n",
       "Model:            & MixedLM & Dependent Variable: & weight     \\\\\n",
       "No. Observations: & 322     & Method:             & REML       \\\\\n",
       "No. Groups:       & 27      & Scale:              & 0.1635     \\\\\n",
       "Min. group size:  & 2       & Log-Likelihood:     & -200.5522  \\\\\n",
       "Max. group size:  & 18      & Converged:          & Yes        \\\\\n",
       "Mean group size:  & 11.9    &                     &            \\\\\n",
       "\\hline\n",
       "\\end{tabular}\n",
       "\\end{center}\n",
       "\n",
       "\\begin{center}\n",
       "\\begin{tabular}{lrrrrrr}\n",
       "\\hline\n",
       "                                                         &  Coef. & Std.Err. &      z & P$> |$z$|$ & [0.025 & 0.975]  \\\\\n",
       "\\hline\n",
       "Intercept                                                &  8.323 &    0.273 & 30.447 &       0.000 &  7.788 &  8.859  \\\\\n",
       "C(treatment)[T.High]                                     & -0.906 &    0.192 & -4.727 &       0.000 & -1.282 & -0.530  \\\\\n",
       "C(treatment)[T.Low]                                      & -0.467 &    0.158 & -2.952 &       0.003 & -0.777 & -0.157  \\\\\n",
       "C(sex, Treatment('Male'))[T.Female]                      & -0.412 &    0.073 & -5.625 &       0.000 & -0.555 & -0.268  \\\\\n",
       "C(treatment)[T.High]:C(sex, Treatment('Male'))[T.Female] &  0.107 &    0.132 &  0.811 &       0.417 & -0.151 &  0.366  \\\\\n",
       "C(treatment)[T.Low]:C(sex, Treatment('Male'))[T.Female]  &  0.084 &    0.106 &  0.794 &       0.427 & -0.123 &  0.291  \\\\\n",
       "litsize                                                  & -0.128 &    0.019 & -6.845 &       0.000 & -0.165 & -0.092  \\\\\n",
       "litter Var                                               &  0.097 &    0.084 &        &             &        &         \\\\\n",
       "\\hline\n",
       "\\end{tabular}\n",
       "\\end{center}\n",
       "\\end{table}\n",
       "\\bigskip\n"
      ],
      "text/plain": [
       "<class 'statsmodels.iolib.summary2.Summary'>\n",
       "\"\"\"\n",
       "                               Mixed Linear Model Regression Results\n",
       "===================================================================================================\n",
       "Model:                            MixedLM               Dependent Variable:               weight   \n",
       "No. Observations:                 322                   Method:                           REML     \n",
       "No. Groups:                       27                    Scale:                            0.1635   \n",
       "Min. group size:                  2                     Log-Likelihood:                   -200.5522\n",
       "Max. group size:                  18                    Converged:                        Yes      \n",
       "Mean group size:                  11.9                                                             \n",
       "---------------------------------------------------------------------------------------------------\n",
       "                                                         Coef.  Std.Err.   z    P>|z| [0.025 0.975]\n",
       "---------------------------------------------------------------------------------------------------\n",
       "Intercept                                                 8.323    0.273 30.447 0.000  7.788  8.859\n",
       "C(treatment)[T.High]                                     -0.906    0.192 -4.727 0.000 -1.282 -0.530\n",
       "C(treatment)[T.Low]                                      -0.467    0.158 -2.952 0.003 -0.777 -0.157\n",
       "C(sex, Treatment('Male'))[T.Female]                      -0.412    0.073 -5.625 0.000 -0.555 -0.268\n",
       "C(treatment)[T.High]:C(sex, Treatment('Male'))[T.Female]  0.107    0.132  0.811 0.417 -0.151  0.366\n",
       "C(treatment)[T.Low]:C(sex, Treatment('Male'))[T.Female]   0.084    0.106  0.794 0.427 -0.123  0.291\n",
       "litsize                                                  -0.128    0.019 -6.845 0.000 -0.165 -0.092\n",
       "litter Var                                                0.097    0.084                           \n",
       "===================================================================================================\n",
       "\n",
       "\"\"\""
      ]
     },
     "execution_count": 6,
     "metadata": {},
     "output_type": "execute_result"
    }
   ],
   "source": [
    "model = smf.mixedlm(\"weight ~ litsize+C(treatment)+C(sex,Treatment('Male'))+C(treatment):C(sex,Treatment('Male'))\",df,groups=\"litter\").fit()\n",
    "model.summary()"
   ]
  },
  {
   "cell_type": "code",
   "execution_count": 8,
   "metadata": {
    "tags": []
   },
   "outputs": [
    {
     "data": {
      "text/plain": [
       "0.31144823004794875"
      ]
     },
     "execution_count": 8,
     "metadata": {},
     "output_type": "execute_result"
    }
   ],
   "source": [
    "import math\n",
    "math.sqrt(0.097)"
   ]
  },
  {
   "cell_type": "markdown",
   "metadata": {},
   "source": [
    "The \"litter Var\" is the random effects of the cluster variable. This models the variation that is present between the litters. One can convert variance to standard deviation by taking the square root, this means that on average the litter weight can vary about 0.311 lbs (\n",
    ").\n",
    "\n",
    "The interaction between treatment and sex is non-significant, therefore this will be removed from the model and re-ran."
   ]
  },
  {
   "cell_type": "code",
   "execution_count": 11,
   "metadata": {
    "tags": []
   },
   "outputs": [
    {
     "data": {
      "text/html": [
       "<table class=\"simpletable\">\n",
       "<tr>\n",
       "       <td>Model:</td>       <td>MixedLM</td> <td>Dependent Variable:</td>  <td>weight</td>  \n",
       "</tr>\n",
       "<tr>\n",
       "  <td>No. Observations:</td>   <td>322</td>         <td>Method:</td>         <td>REML</td>   \n",
       "</tr>\n",
       "<tr>\n",
       "     <td>No. Groups:</td>      <td>27</td>          <td>Scale:</td>         <td>0.1628</td>  \n",
       "</tr>\n",
       "<tr>\n",
       "  <td>Min. group size:</td>     <td>2</td>      <td>Log-Likelihood:</td>   <td>-198.4997</td>\n",
       "</tr>\n",
       "<tr>\n",
       "  <td>Max. group size:</td>    <td>18</td>        <td>Converged:</td>         <td>Yes</td>   \n",
       "</tr>\n",
       "<tr>\n",
       "  <td>Mean group size:</td>   <td>11.9</td>            <td></td>               <td></td>     \n",
       "</tr>\n",
       "</table>\n",
       "<table class=\"simpletable\">\n",
       "<tr>\n",
       "                   <td></td>                    <th>Coef.</th> <th>Std.Err.</th>    <th>z</th>   <th>P>|z|</th> <th>[0.025</th> <th>0.975]</th>\n",
       "</tr>\n",
       "<tr>\n",
       "  <th>Intercept</th>                            <td>8.310</td>   <td>0.274</td>  <td>30.355</td> <td>0.000</td>  <td>7.773</td>  <td>8.846</td>\n",
       "</tr>\n",
       "<tr>\n",
       "  <th>C(treatment)[T.High]</th>                <td>-0.859</td>   <td>0.182</td>  <td>-4.722</td> <td>0.000</td> <td>-1.215</td> <td>-0.502</td>\n",
       "</tr>\n",
       "<tr>\n",
       "  <th>C(treatment)[T.Low]</th>                 <td>-0.429</td>   <td>0.150</td>  <td>-2.849</td> <td>0.004</td> <td>-0.723</td> <td>-0.134</td>\n",
       "</tr>\n",
       "<tr>\n",
       "  <th>C(sex, Treatment('Male'))[T.Female]</th> <td>-0.359</td>   <td>0.048</td>  <td>-7.540</td> <td>0.000</td> <td>-0.452</td> <td>-0.266</td>\n",
       "</tr>\n",
       "<tr>\n",
       "  <th>litsize</th>                             <td>-0.129</td>   <td>0.019</td>  <td>-6.863</td> <td>0.000</td> <td>-0.166</td> <td>-0.092</td>\n",
       "</tr>\n",
       "<tr>\n",
       "  <th>litter Var</th>                           <td>0.097</td>   <td>0.085</td>     <td></td>      <td></td>       <td></td>       <td></td>   \n",
       "</tr>\n",
       "</table><br/>\n"
      ],
      "text/latex": [
       "\\begin{table}\n",
       "\\caption{Mixed Linear Model Regression Results}\n",
       "\\label{}\n",
       "\\begin{center}\n",
       "\\begin{tabular}{llll}\n",
       "\\hline\n",
       "Model:            & MixedLM & Dependent Variable: & weight     \\\\\n",
       "No. Observations: & 322     & Method:             & REML       \\\\\n",
       "No. Groups:       & 27      & Scale:              & 0.1628     \\\\\n",
       "Min. group size:  & 2       & Log-Likelihood:     & -198.4997  \\\\\n",
       "Max. group size:  & 18      & Converged:          & Yes        \\\\\n",
       "Mean group size:  & 11.9    &                     &            \\\\\n",
       "\\hline\n",
       "\\end{tabular}\n",
       "\\end{center}\n",
       "\n",
       "\\begin{center}\n",
       "\\begin{tabular}{lrrrrrr}\n",
       "\\hline\n",
       "                                    &  Coef. & Std.Err. &      z & P$> |$z$|$ & [0.025 & 0.975]  \\\\\n",
       "\\hline\n",
       "Intercept                           &  8.310 &    0.274 & 30.355 &       0.000 &  7.773 &  8.846  \\\\\n",
       "C(treatment)[T.High]                & -0.859 &    0.182 & -4.722 &       0.000 & -1.215 & -0.502  \\\\\n",
       "C(treatment)[T.Low]                 & -0.429 &    0.150 & -2.849 &       0.004 & -0.723 & -0.134  \\\\\n",
       "C(sex, Treatment('Male'))[T.Female] & -0.359 &    0.048 & -7.540 &       0.000 & -0.452 & -0.266  \\\\\n",
       "litsize                             & -0.129 &    0.019 & -6.863 &       0.000 & -0.166 & -0.092  \\\\\n",
       "litter Var                          &  0.097 &    0.085 &        &             &        &         \\\\\n",
       "\\hline\n",
       "\\end{tabular}\n",
       "\\end{center}\n",
       "\\end{table}\n",
       "\\bigskip\n"
      ],
      "text/plain": [
       "<class 'statsmodels.iolib.summary2.Summary'>\n",
       "\"\"\"\n",
       "                    Mixed Linear Model Regression Results\n",
       "==============================================================================\n",
       "Model:                     MixedLM        Dependent Variable:        weight   \n",
       "No. Observations:          322            Method:                    REML     \n",
       "No. Groups:                27             Scale:                     0.1628   \n",
       "Min. group size:           2              Log-Likelihood:            -198.4997\n",
       "Max. group size:           18             Converged:                 Yes      \n",
       "Mean group size:           11.9                                               \n",
       "------------------------------------------------------------------------------\n",
       "                                    Coef.  Std.Err.   z    P>|z| [0.025 0.975]\n",
       "------------------------------------------------------------------------------\n",
       "Intercept                            8.310    0.274 30.355 0.000  7.773  8.846\n",
       "C(treatment)[T.High]                -0.859    0.182 -4.722 0.000 -1.215 -0.502\n",
       "C(treatment)[T.Low]                 -0.429    0.150 -2.849 0.004 -0.723 -0.134\n",
       "C(sex, Treatment('Male'))[T.Female] -0.359    0.048 -7.540 0.000 -0.452 -0.266\n",
       "litsize                             -0.129    0.019 -6.863 0.000 -0.166 -0.092\n",
       "litter Var                           0.097    0.085                           \n",
       "==============================================================================\n",
       "\n",
       "\"\"\""
      ]
     },
     "execution_count": 11,
     "metadata": {},
     "output_type": "execute_result"
    }
   ],
   "source": [
    "# Random Intercept Model w/out Interaction Term\n",
    "\n",
    "model = smf.mixedlm(\"weight ~ litsize + C(treatment) + C(sex, Treatment('Male'))\", df, groups= \"litter\").fit()\n",
    "\n",
    "model.summary()"
   ]
  },
  {
   "cell_type": "markdown",
   "metadata": {},
   "source": [
    "Another useful statistic to generate is the intraclass correlation coefficient (ICC) which measures the similarity of the responses within a random effect; in the current model with 1 cluster variable, this would be the similarity in weights within the litter. The ICC can range between [0,1] where 1 indicates perfect relationship within the clusters. To calculate the ICC one takes the variance of the clustering variable (0.097) and divides it by the unexplained variance of the model (0.1628). The unexplained variance of the model can be found in the top right of the upper table labeled \"scale\". ICC=0.5958. This indicates that there is a moderate level of correlation between the weights within a litter."
   ]
  },
  {
   "cell_type": "markdown",
   "metadata": {},
   "source": [
    "## Random Slope Model\n",
    "**No Correlation Between Random Intercept And Slopes**. Using the same data, a random slope model will be fit where the random intercepts and slopes are independent. In this model, a random slope will be allowed for the sex."
   ]
  },
  {
   "cell_type": "code",
   "execution_count": 9,
   "metadata": {
    "tags": []
   },
   "outputs": [
    {
     "data": {
      "text/html": [
       "<table class=\"simpletable\">\n",
       "<tr>\n",
       "       <td>Model:</td>       <td>MixedLM</td> <td>Dependent Variable:</td>  <td>weight</td>  \n",
       "</tr>\n",
       "<tr>\n",
       "  <td>No. Observations:</td>   <td>322</td>         <td>Method:</td>         <td>REML</td>   \n",
       "</tr>\n",
       "<tr>\n",
       "     <td>No. Groups:</td>      <td>27</td>          <td>Scale:</td>         <td>0.1565</td>  \n",
       "</tr>\n",
       "<tr>\n",
       "  <td>Min. group size:</td>     <td>2</td>      <td>Log-Likelihood:</td>   <td>-205.7020</td>\n",
       "</tr>\n",
       "<tr>\n",
       "  <td>Max. group size:</td>    <td>18</td>        <td>Converged:</td>         <td>Yes</td>   \n",
       "</tr>\n",
       "<tr>\n",
       "  <td>Mean group size:</td>   <td>11.9</td>            <td></td>               <td></td>     \n",
       "</tr>\n",
       "</table>\n",
       "<table class=\"simpletable\">\n",
       "<tr>\n",
       "            <td></td>            <th>Coef.</th> <th>Std.Err.</th>    <th>z</th>   <th>P>|z|</th> <th>[0.025</th> <th>0.975]</th>\n",
       "</tr>\n",
       "<tr>\n",
       "  <th>Intercept</th>             <td>7.874</td>   <td>0.229</td>  <td>34.380</td> <td>0.000</td>  <td>7.425</td>  <td>8.323</td>\n",
       "</tr>\n",
       "<tr>\n",
       "  <th>C(treatment)[T.High]</th> <td>-0.839</td>   <td>0.144</td>  <td>-5.827</td> <td>0.000</td> <td>-1.121</td> <td>-0.557</td>\n",
       "</tr>\n",
       "<tr>\n",
       "  <th>C(treatment)[T.Low]</th>  <td>-0.411</td>   <td>0.116</td>  <td>-3.526</td> <td>0.000</td> <td>-0.639</td> <td>-0.182</td>\n",
       "</tr>\n",
       "<tr>\n",
       "  <th>C(sex)[T.Male]</th>        <td>0.356</td>   <td>0.102</td>   <td>3.508</td> <td>0.000</td>  <td>0.157</td>  <td>0.555</td>\n",
       "</tr>\n",
       "<tr>\n",
       "  <th>litsize</th>              <td>-0.124</td>   <td>0.016</td>  <td>-7.915</td> <td>0.000</td> <td>-0.155</td> <td>-0.093</td>\n",
       "</tr>\n",
       "<tr>\n",
       "  <th>sex Var</th>               <td>0.104</td>   <td>0.076</td>     <td></td>      <td></td>       <td></td>       <td></td>   \n",
       "</tr>\n",
       "</table><br/>\n"
      ],
      "text/latex": [
       "\\begin{table}\n",
       "\\caption{Mixed Linear Model Regression Results}\n",
       "\\label{}\n",
       "\\begin{center}\n",
       "\\begin{tabular}{llll}\n",
       "\\hline\n",
       "Model:            & MixedLM & Dependent Variable: & weight     \\\\\n",
       "No. Observations: & 322     & Method:             & REML       \\\\\n",
       "No. Groups:       & 27      & Scale:              & 0.1565     \\\\\n",
       "Min. group size:  & 2       & Log-Likelihood:     & -205.7020  \\\\\n",
       "Max. group size:  & 18      & Converged:          & Yes        \\\\\n",
       "Mean group size:  & 11.9    &                     &            \\\\\n",
       "\\hline\n",
       "\\end{tabular}\n",
       "\\end{center}\n",
       "\n",
       "\\begin{center}\n",
       "\\begin{tabular}{lrrrrrr}\n",
       "\\hline\n",
       "                     &  Coef. & Std.Err. &      z & P$> |$z$|$ & [0.025 & 0.975]  \\\\\n",
       "\\hline\n",
       "Intercept            &  7.874 &    0.229 & 34.380 &       0.000 &  7.425 &  8.323  \\\\\n",
       "C(treatment)[T.High] & -0.839 &    0.144 & -5.827 &       0.000 & -1.121 & -0.557  \\\\\n",
       "C(treatment)[T.Low]  & -0.411 &    0.116 & -3.526 &       0.000 & -0.639 & -0.182  \\\\\n",
       "C(sex)[T.Male]       &  0.356 &    0.102 &  3.508 &       0.000 &  0.157 &  0.555  \\\\\n",
       "litsize              & -0.124 &    0.016 & -7.915 &       0.000 & -0.155 & -0.093  \\\\\n",
       "sex Var              &  0.104 &    0.076 &        &             &        &         \\\\\n",
       "\\hline\n",
       "\\end{tabular}\n",
       "\\end{center}\n",
       "\\end{table}\n",
       "\\bigskip\n"
      ],
      "text/plain": [
       "<class 'statsmodels.iolib.summary2.Summary'>\n",
       "\"\"\"\n",
       "             Mixed Linear Model Regression Results\n",
       "===============================================================\n",
       "Model:                MixedLM   Dependent Variable:   weight   \n",
       "No. Observations:     322       Method:               REML     \n",
       "No. Groups:           27        Scale:                0.1565   \n",
       "Min. group size:      2         Log-Likelihood:       -205.7020\n",
       "Max. group size:      18        Converged:            Yes      \n",
       "Mean group size:      11.9                                     \n",
       "---------------------------------------------------------------\n",
       "                     Coef.  Std.Err.   z    P>|z| [0.025 0.975]\n",
       "---------------------------------------------------------------\n",
       "Intercept             7.874    0.229 34.380 0.000  7.425  8.323\n",
       "C(treatment)[T.High] -0.839    0.144 -5.827 0.000 -1.121 -0.557\n",
       "C(treatment)[T.Low]  -0.411    0.116 -3.526 0.000 -0.639 -0.182\n",
       "C(sex)[T.Male]        0.356    0.102  3.508 0.000  0.157  0.555\n",
       "litsize              -0.124    0.016 -7.915 0.000 -0.155 -0.093\n",
       "sex Var               0.104    0.076                           \n",
       "===============================================================\n",
       "\n",
       "\"\"\""
      ]
     },
     "execution_count": 9,
     "metadata": {},
     "output_type": "execute_result"
    }
   ],
   "source": [
    "# Random Slope Model: Random intercepts and slopes are independent\n",
    "\n",
    "model2 = smf.mixedlm(\"weight ~ litsize + C(treatment) + C(sex)\", df, groups= \"litter\",vc_formula = {\"sex\" : \"0 + C(sex)\"}).fit()\n",
    "model2.summary()"
   ]
  },
  {
   "cell_type": "markdown",
   "metadata": {},
   "source": [
    "The estimated variance for random sex slopes is 0.104 which is a standard deviation of 0.322. This indicates that from cluster to cluster, i.e. between litters, the sex slopes fluctuate by ± 0.322 - 0.644 (1-2 standard deviations)."
   ]
  },
  {
   "cell_type": "markdown",
   "metadata": {},
   "source": [
    "## Random Slope Model\n",
    "**Correlation Between Random Intercept And Slopes**. Using the same data, a random slope model will be fit where the random intercepts and slopes are correlated. In this model, a random slope will be allowed for the sex."
   ]
  },
  {
   "cell_type": "code",
   "execution_count": 13,
   "metadata": {
    "tags": []
   },
   "outputs": [
    {
     "data": {
      "text/html": [
       "<table class=\"simpletable\">\n",
       "<tr>\n",
       "       <td>Model:</td>       <td>MixedLM</td> <td>Dependent Variable:</td>  <td>weight</td>  \n",
       "</tr>\n",
       "<tr>\n",
       "  <td>No. Observations:</td>   <td>322</td>         <td>Method:</td>         <td>REML</td>   \n",
       "</tr>\n",
       "<tr>\n",
       "     <td>No. Groups:</td>      <td>27</td>          <td>Scale:</td>         <td>0.1601</td>  \n",
       "</tr>\n",
       "<tr>\n",
       "  <td>Min. group size:</td>     <td>2</td>      <td>Log-Likelihood:</td>   <td>-196.3946</td>\n",
       "</tr>\n",
       "<tr>\n",
       "  <td>Max. group size:</td>    <td>18</td>        <td>Converged:</td>         <td>Yes</td>   \n",
       "</tr>\n",
       "<tr>\n",
       "  <td>Mean group size:</td>   <td>11.9</td>            <td></td>               <td></td>     \n",
       "</tr>\n",
       "</table>\n",
       "<table class=\"simpletable\">\n",
       "<tr>\n",
       "               <td></td>                <th>Coef.</th> <th>Std.Err.</th>    <th>z</th>   <th>P>|z|</th> <th>[0.025</th> <th>0.975]</th>\n",
       "</tr>\n",
       "<tr>\n",
       "  <th>Intercept</th>                    <td>7.806</td>   <td>0.263</td>  <td>29.672</td> <td>0.000</td>  <td>7.291</td>  <td>8.322</td>\n",
       "</tr>\n",
       "<tr>\n",
       "  <th>C(treatment)[T.High]</th>        <td>-0.778</td>   <td>0.172</td>  <td>-4.523</td> <td>0.000</td> <td>-1.116</td> <td>-0.441</td>\n",
       "</tr>\n",
       "<tr>\n",
       "  <th>C(treatment)[T.Low]</th>         <td>-0.387</td>   <td>0.137</td>  <td>-2.821</td> <td>0.005</td> <td>-0.656</td> <td>-0.118</td>\n",
       "</tr>\n",
       "<tr>\n",
       "  <th>C(sex)[T.Male]</th>               <td>0.359</td>   <td>0.053</td>   <td>6.783</td> <td>0.000</td>  <td>0.255</td>  <td>0.463</td>\n",
       "</tr>\n",
       "<tr>\n",
       "  <th>litsize</th>                     <td>-0.120</td>   <td>0.018</td>  <td>-6.637</td> <td>0.000</td> <td>-0.155</td> <td>-0.084</td>\n",
       "</tr>\n",
       "<tr>\n",
       "  <th>litter Var</th>                   <td>0.063</td>   <td>0.074</td>     <td></td>      <td></td>       <td></td>       <td></td>   \n",
       "</tr>\n",
       "<tr>\n",
       "  <th>litter x C(sex)[T.Male] Cov</th>  <td>0.028</td>   <td>0.044</td>     <td></td>      <td></td>       <td></td>       <td></td>   \n",
       "</tr>\n",
       "<tr>\n",
       "  <th>C(sex)[T.Male] Var</th>           <td>0.013</td>   <td>0.062</td>     <td></td>      <td></td>       <td></td>       <td></td>   \n",
       "</tr>\n",
       "</table><br/>\n"
      ],
      "text/latex": [
       "\\begin{table}\n",
       "\\caption{Mixed Linear Model Regression Results}\n",
       "\\label{}\n",
       "\\begin{center}\n",
       "\\begin{tabular}{llll}\n",
       "\\hline\n",
       "Model:            & MixedLM & Dependent Variable: & weight     \\\\\n",
       "No. Observations: & 322     & Method:             & REML       \\\\\n",
       "No. Groups:       & 27      & Scale:              & 0.1601     \\\\\n",
       "Min. group size:  & 2       & Log-Likelihood:     & -196.3946  \\\\\n",
       "Max. group size:  & 18      & Converged:          & Yes        \\\\\n",
       "Mean group size:  & 11.9    &                     &            \\\\\n",
       "\\hline\n",
       "\\end{tabular}\n",
       "\\end{center}\n",
       "\n",
       "\\begin{center}\n",
       "\\begin{tabular}{lrrrrrr}\n",
       "\\hline\n",
       "                            &  Coef. & Std.Err. &      z & P$> |$z$|$ & [0.025 & 0.975]  \\\\\n",
       "\\hline\n",
       "Intercept                   &  7.806 &    0.263 & 29.672 &       0.000 &  7.291 &  8.322  \\\\\n",
       "C(treatment)[T.High]        & -0.778 &    0.172 & -4.523 &       0.000 & -1.116 & -0.441  \\\\\n",
       "C(treatment)[T.Low]         & -0.387 &    0.137 & -2.821 &       0.005 & -0.656 & -0.118  \\\\\n",
       "C(sex)[T.Male]              &  0.359 &    0.053 &  6.783 &       0.000 &  0.255 &  0.463  \\\\\n",
       "litsize                     & -0.120 &    0.018 & -6.637 &       0.000 & -0.155 & -0.084  \\\\\n",
       "litter Var                  &  0.063 &    0.074 &        &             &        &         \\\\\n",
       "litter x C(sex)[T.Male] Cov &  0.028 &    0.044 &        &             &        &         \\\\\n",
       "C(sex)[T.Male] Var          &  0.013 &    0.062 &        &             &        &         \\\\\n",
       "\\hline\n",
       "\\end{tabular}\n",
       "\\end{center}\n",
       "\\end{table}\n",
       "\\bigskip\n"
      ],
      "text/plain": [
       "<class 'statsmodels.iolib.summary2.Summary'>\n",
       "\"\"\"\n",
       "                Mixed Linear Model Regression Results\n",
       "======================================================================\n",
       "Model:                 MixedLM      Dependent Variable:      weight   \n",
       "No. Observations:      322          Method:                  REML     \n",
       "No. Groups:            27           Scale:                   0.1601   \n",
       "Min. group size:       2            Log-Likelihood:          -196.3946\n",
       "Max. group size:       18           Converged:               Yes      \n",
       "Mean group size:       11.9                                           \n",
       "----------------------------------------------------------------------\n",
       "                            Coef.  Std.Err.   z    P>|z| [0.025 0.975]\n",
       "----------------------------------------------------------------------\n",
       "Intercept                    7.806    0.263 29.672 0.000  7.291  8.322\n",
       "C(treatment)[T.High]        -0.778    0.172 -4.523 0.000 -1.116 -0.441\n",
       "C(treatment)[T.Low]         -0.387    0.137 -2.821 0.005 -0.656 -0.118\n",
       "C(sex)[T.Male]               0.359    0.053  6.783 0.000  0.255  0.463\n",
       "litsize                     -0.120    0.018 -6.637 0.000 -0.155 -0.084\n",
       "litter Var                   0.063    0.074                           \n",
       "litter x C(sex)[T.Male] Cov  0.028    0.044                           \n",
       "C(sex)[T.Male] Var           0.013    0.062                           \n",
       "======================================================================\n",
       "\n",
       "\"\"\""
      ]
     },
     "execution_count": 13,
     "metadata": {},
     "output_type": "execute_result"
    }
   ],
   "source": [
    "# Random Slope Model: Random intercepts and slopes are correlated\n",
    "\n",
    "model3 = smf.mixedlm(\"weight ~ litsize + C(treatment) + C(sex)\", df, groups= \"litter\",re_formula = \"1 + C(sex)\").fit()\n",
    "model3.summary()"
   ]
  },
  {
   "cell_type": "markdown",
   "metadata": {},
   "source": [
    "When including random intercepts and random slopes it's useful to calculate the estimated correlation coefficient between the random intercepts and random slopes. This is calculated by taking the co-variance of the random intercept (clustering variable) and random slope (random slope variable) and dividing it by the product of the variance of the random intercept and the variance of the random slope variable.\n",
    "0.9784\n",
    "This indicates that the litters with higher weight tend to have males that are of higher weight."
   ]
  },
  {
   "cell_type": "markdown",
   "metadata": {},
   "source": [
    "## Assumption check\n",
    "Linear mixed effect models have the same assumptions as the traditional standard linear regression model. For the model diagnostics, the first model will be used which was a random intercept model with the clustering variable being litter.\n",
    "\n",
    "## Normality\n",
    "One can check for normality of the residuals graphically, a formal statistical test, or a combination of the two. If the overal sample is large one should use both since as the sample size increases so does the power of the tests, meaning that the larger the sample size the smaller of a difference the formal statistical test will detect and a significant p-value will be provided.\n",
    "\n",
    "First let's visualize the residuals with a kernal density estimate plot and Q-Q plot."
   ]
  },
  {
   "cell_type": "code",
   "execution_count": 10,
   "metadata": {
    "tags": []
   },
   "outputs": [
    {
     "data": {
      "text/plain": [
       "Text(0.5, 0, 'Residuals')"
      ]
     },
     "execution_count": 10,
     "metadata": {},
     "output_type": "execute_result"
    },
    {
     "data": {
      "image/png": "[encoded data removed]",
      "text/plain": [
       "<Figure size 800x400 with 1 Axes>"
      ]
     },
     "metadata": {},
     "output_type": "display_data"
    }
   ],
   "source": [
    "fig = plt.figure(figsize = (8, 4))\n",
    "ax = sns.distplot(model.resid, hist = False, kde_kws = {\"shade\" : True, \"lw\": 1}, fit = stats.norm)\n",
    "ax.set_title(\"KDE Plot of Model Residuals (Blue) and Normal Distribution (Black)\")\n",
    "ax.set_xlabel(\"Residuals\")"
   ]
  },
  {
   "cell_type": "code",
   "execution_count": 12,
   "metadata": {
    "tags": []
   },
   "outputs": [
    {
     "data": {
      "text/plain": [
       "Text(0.5, 1.0, 'Q-Q Plot')"
      ]
     },
     "execution_count": 12,
     "metadata": {},
     "output_type": "execute_result"
    },
    {
     "data": {
      "image/png": "[encoded data removed]",
      "text/plain": [
       "<Figure size 800x400 with 1 Axes>"
      ]
     },
     "metadata": {},
     "output_type": "display_data"
    }
   ],
   "source": [
    "## Q-Q PLot\n",
    "\n",
    "fig = plt.figure(figsize = (8,4))\n",
    "ax = fig.add_subplot(111)\n",
    "sm.qqplot(model.resid, dist = stats.norm, line = 's', ax = ax)\n",
    "ax.set_title(\"Q-Q Plot\")"
   ]
  },
  {
   "cell_type": "markdown",
   "metadata": {},
   "source": [
    "There is some deviation from normality, but it doesn't look concerning. There is an outlier, which is evident in both of the plots. How to handle the outlier is up to the researcher.\n",
    "\n",
    "Now to formally test for normality using Shapir-Wilk test of normality."
   ]
  },
  {
   "cell_type": "code",
   "execution_count": 18,
   "metadata": {
    "tags": []
   },
   "outputs": [
    {
     "name": "stdout",
     "output_type": "stream",
     "text": [
      "Statistic 0.8948183655738831\n",
      "p-value 3.958863266503507e-14\n"
     ]
    }
   ],
   "source": [
    "labels = [\"Statistic\", \"p-value\"]\n",
    "\n",
    "norm_res = stats.shapiro(model.resid)\n",
    "\n",
    "for key, val in dict(zip(labels, norm_res)).items():\n",
    "    print(key, val)"
   ]
  },
  {
   "cell_type": "markdown",
   "metadata": {},
   "source": [
    "The test is significant which indicates that the assumption of normality for the residuals is violated. This would suggest that the model could be adjusted to meet this assumption. Common techniques include transform variables, remove outliers, use a non-parametric approach, or rely on the central limit theorem."
   ]
  },
  {
   "cell_type": "markdown",
   "metadata": {},
   "source": [
    "## Homoskedasticity of variance\n",
    "Just as with checking for normality, one can check for homoskedasticity of variance visually, with a formal test, or both. First to check for homoskedasticity visually, this can be done with an RVF Plot (residuals versus fitted values) and a boxplot."
   ]
  },
  {
   "cell_type": "code",
   "execution_count": 13,
   "metadata": {
    "tags": []
   },
   "outputs": [
    {
     "data": {
      "text/plain": [
       "Text(0, 0.5, 'Residuals')"
      ]
     },
     "execution_count": 13,
     "metadata": {},
     "output_type": "execute_result"
    },
    {
     "data": {
      "image/png": "[encoded data removed]",
      "text/plain": [
       "<Figure size 800x400 with 1 Axes>"
      ]
     },
     "metadata": {},
     "output_type": "display_data"
    }
   ],
   "source": [
    "fig = plt.figure(figsize = (8, 4))\n",
    "ax = sns.scatterplot(y = model.resid, x = model.fittedvalues)\n",
    "ax.set_title(\"RVF Plot\")\n",
    "ax.set_xlabel(\"Fitted Values\")\n",
    "ax.set_ylabel(\"Residuals\")"
   ]
  },
  {
   "cell_type": "code",
   "execution_count": 15,
   "metadata": {
    "tags": []
   },
   "outputs": [
    {
     "data": {
      "image/png": "[encoded data removed]",
      "text/plain": [
       "<Figure size 800x400 with 1 Axes>"
      ]
     },
     "metadata": {},
     "output_type": "display_data"
    }
   ],
   "source": [
    "fig = plt.figure(figsize = (8,4))\n",
    "ax = sns.boxplot(x = model.model.groups, y = model.resid)\n",
    "ax.set_title(\"Distribution of Residuals for Weight by Litter\")\n",
    "ax.set_ylabel(\"Residuals\")\n",
    "ax.set_xlabel(\"Litter\");"
   ]
  },
  {
   "cell_type": "markdown",
   "metadata": {},
   "source": [
    "Now to formally test this assumption with the White’s Lagrange Multiplier Test for Heteroscedasticity"
   ]
  },
  {
   "cell_type": "code",
   "execution_count": 21,
   "metadata": {
    "tags": []
   },
   "outputs": [
    {
     "name": "stdout",
     "output_type": "stream",
     "text": [
      "LM Statistic 24.859526210906917\n",
      "LM-Test p-value 0.0056182250407701105\n",
      "F-Statistic 2.601904935064365\n",
      "F-Test p-value 0.004794715230006886\n"
     ]
    }
   ],
   "source": [
    "from statsmodels.stats.diagnostic import het_white\n",
    "\n",
    "het_white_res = het_white(model.resid, model.model.exog)\n",
    "labels = [\"LM Statistic\", \"LM-Test p-value\", \"F-Statistic\", \"F-Test p-value\"]\n",
    "\n",
    "for key, val in dict(zip(labels, het_white_res)).items():\n",
    "    print(key, val)"
   ]
  },
  {
   "cell_type": "markdown",
   "metadata": {},
   "source": [
    "Based on the visual tests, it appears that there isn't much concern about violating the assumption of homoskedasticity of the variance; however the formal testing indicates this assumption is violated.\n",
    "\n",
    "To address this, one could assess the model for outliers, or transform variables."
   ]
  },
  {
   "cell_type": "markdown",
   "metadata": {},
   "source": [
    "## Ejemplo 2\n",
    "\n",
    "The synthetic dataset contains student-level variables (student_id, study_hours) and school-level variables (school_id, school_funding), along with the generated dependent variable (test_scores)."
   ]
  },
  {
   "cell_type": "code",
   "execution_count": 2,
   "metadata": {
    "tags": []
   },
   "outputs": [],
   "source": [
    "# Step 1: Generate a Synthetic Dataset\n",
    "np.random.seed(42)\n",
    "num_schools = 30\n",
    "num_students = 300\n",
    "\n",
    "# School-level data (Level 2)\n",
    "schools = pd.DataFrame({\n",
    "    \"school_id\": np.arange(num_schools),\n",
    "    \"school_funding\": np.random.uniform(50000, 200000, num_schools)  # Random school funding\n",
    "})\n",
    "\n",
    "# Student-level data (Level 1)\n",
    "students = pd.DataFrame({\n",
    "    \"student_id\": np.arange(num_students),\n",
    "    \"school_id\": np.random.choice(schools['school_id'], num_students),  # Assign students to schools\n",
    "    \"study_hours\": np.random.uniform(1, 5, num_students)  # Random study hours\n",
    "})\n",
    "\n",
    "# Generating a target variable 'test_scores' influenced by both levels\n",
    "# Let's assume both study hours and school funding positively affect test scores\n",
    "students = students.merge(schools, on=\"school_id\")\n",
    "students['test_scores'] = 50 + students['study_hours'] * 3 + students['school_funding'] * 0.0001 + np.random.normal(0, 5, num_students)\n"
   ]
  },
  {
   "cell_type": "code",
   "execution_count": 3,
   "metadata": {
    "tags": []
   },
   "outputs": [
    {
     "data": {
      "text/html": [
       "<table class=\"simpletable\">\n",
       "<tr>\n",
       "       <td>Model:</td>       <td>MixedLM</td> <td>Dependent Variable:</td> <td>test_scores</td>\n",
       "</tr>\n",
       "<tr>\n",
       "  <td>No. Observations:</td>   <td>300</td>         <td>Method:</td>          <td>REML</td>    \n",
       "</tr>\n",
       "<tr>\n",
       "     <td>No. Groups:</td>      <td>30</td>          <td>Scale:</td>          <td>26.2411</td>  \n",
       "</tr>\n",
       "<tr>\n",
       "  <td>Min. group size:</td>     <td>6</td>      <td>Log-Likelihood:</td>    <td>-951.1178</td> \n",
       "</tr>\n",
       "<tr>\n",
       "  <td>Max. group size:</td>    <td>19</td>        <td>Converged:</td>          <td>Yes</td>    \n",
       "</tr>\n",
       "<tr>\n",
       "  <td>Mean group size:</td>   <td>10.0</td>            <td></td>                <td></td>      \n",
       "</tr>\n",
       "</table>\n",
       "<table class=\"simpletable\">\n",
       "<tr>\n",
       "               <td></td>                <th>Coef.</th> <th>Std.Err.</th>    <th>z</th>   <th>P>|z|</th> <th>[0.025</th> <th>0.975]</th>\n",
       "</tr>\n",
       "<tr>\n",
       "  <th>Intercept</th>                   <td>60.528</td>   <td>1.237</td>  <td>48.918</td> <td>0.000</td> <td>58.103</td> <td>62.953</td>\n",
       "</tr>\n",
       "<tr>\n",
       "  <th>study_hours</th>                  <td>3.267</td>   <td>0.334</td>   <td>9.792</td> <td>0.000</td>  <td>2.613</td>  <td>3.921</td>\n",
       "</tr>\n",
       "<tr>\n",
       "  <th>school_id Var</th>               <td>23.092</td>   <td>2.398</td>     <td></td>      <td></td>       <td></td>       <td></td>   \n",
       "</tr>\n",
       "<tr>\n",
       "  <th>school_id x study_hours Cov</th> <td>-2.647</td>   <td>0.555</td>     <td></td>      <td></td>       <td></td>       <td></td>   \n",
       "</tr>\n",
       "<tr>\n",
       "  <th>study_hours Var</th>              <td>1.176</td>   <td>0.173</td>     <td></td>      <td></td>       <td></td>       <td></td>   \n",
       "</tr>\n",
       "</table><br/>\n"
      ],
      "text/latex": [
       "\\begin{table}\n",
       "\\caption{Mixed Linear Model Regression Results}\n",
       "\\label{}\n",
       "\\begin{center}\n",
       "\\begin{tabular}{llll}\n",
       "\\hline\n",
       "Model:            & MixedLM & Dependent Variable: & test\\_scores  \\\\\n",
       "No. Observations: & 300     & Method:             & REML          \\\\\n",
       "No. Groups:       & 30      & Scale:              & 26.2411       \\\\\n",
       "Min. group size:  & 6       & Log-Likelihood:     & -951.1178     \\\\\n",
       "Max. group size:  & 19      & Converged:          & Yes           \\\\\n",
       "Mean group size:  & 10.0    &                     &               \\\\\n",
       "\\hline\n",
       "\\end{tabular}\n",
       "\\end{center}\n",
       "\n",
       "\\begin{center}\n",
       "\\begin{tabular}{lrrrrrr}\n",
       "\\hline\n",
       "                              &  Coef. & Std.Err. &      z & P$> |$z$|$ & [0.025 & 0.975]  \\\\\n",
       "\\hline\n",
       "Intercept                     & 60.528 &    1.237 & 48.918 &       0.000 & 58.103 & 62.953  \\\\\n",
       "study\\_hours                  &  3.267 &    0.334 &  9.792 &       0.000 &  2.613 &  3.921  \\\\\n",
       "school\\_id Var                & 23.092 &    2.398 &        &             &        &         \\\\\n",
       "school\\_id x study\\_hours Cov & -2.647 &    0.555 &        &             &        &         \\\\\n",
       "study\\_hours Var              &  1.176 &    0.173 &        &             &        &         \\\\\n",
       "\\hline\n",
       "\\end{tabular}\n",
       "\\end{center}\n",
       "\\end{table}\n",
       "\\bigskip\n"
      ],
      "text/plain": [
       "<class 'statsmodels.iolib.summary2.Summary'>\n",
       "\"\"\"\n",
       "                Mixed Linear Model Regression Results\n",
       "======================================================================\n",
       "Model:                 MixedLM     Dependent Variable:     test_scores\n",
       "No. Observations:      300         Method:                 REML       \n",
       "No. Groups:            30          Scale:                  26.2411    \n",
       "Min. group size:       6           Log-Likelihood:         -951.1178  \n",
       "Max. group size:       19          Converged:              Yes        \n",
       "Mean group size:       10.0                                           \n",
       "----------------------------------------------------------------------\n",
       "                            Coef.  Std.Err.   z    P>|z| [0.025 0.975]\n",
       "----------------------------------------------------------------------\n",
       "Intercept                   60.528    1.237 48.918 0.000 58.103 62.953\n",
       "study_hours                  3.267    0.334  9.792 0.000  2.613  3.921\n",
       "school_id Var               23.092    2.398                           \n",
       "school_id x study_hours Cov -2.647    0.555                           \n",
       "study_hours Var              1.176    0.173                           \n",
       "======================================================================\n",
       "\n",
       "\"\"\""
      ]
     },
     "execution_count": 3,
     "metadata": {},
     "output_type": "execute_result"
    }
   ],
   "source": [
    "# Step 2: Define and Fit the HLM2\n",
    "# Random intercept model with student-level and school-level predictors\n",
    "md = sm.MixedLM.from_formula(\"test_scores ~ study_hours\", groups=\"school_id\", re_formula=\"~study_hours\", data=students)\n",
    "mdf = md.fit()\n",
    "\n",
    "mdf.summary()"
   ]
  },
  {
   "cell_type": "code",
   "execution_count": 4,
   "metadata": {
    "tags": []
   },
   "outputs": [
    {
     "data": {
      "image/png": "[encoded data removed]",
      "text/plain": [
       "<Figure size 1000x600 with 1 Axes>"
      ]
     },
     "metadata": {},
     "output_type": "display_data"
    }
   ],
   "source": [
    "# Step 3: Visualization\n",
    "# Plotting the fixed effects\n",
    "plt.figure(figsize=(10, 6))\n",
    "sns.barplot(x=[\"Intercept\", \"Study Hours\"], y=mdf.fe_params)\n",
    "plt.title('Fixed Effects of the HLM2 Model')\n",
    "plt.ylabel('Coefficient Value')\n",
    "plt.show()"
   ]
  },
  {
   "cell_type": "code",
   "execution_count": 5,
   "metadata": {
    "tags": []
   },
   "outputs": [
    {
     "data": {
      "text/html": [
       "<div>\n",
       "<style scoped>\n",
       "    .dataframe tbody tr th:only-of-type {\n",
       "        vertical-align: middle;\n",
       "    }\n",
       "\n",
       "    .dataframe tbody tr th {\n",
       "        vertical-align: top;\n",
       "    }\n",
       "\n",
       "    .dataframe thead th {\n",
       "        text-align: right;\n",
       "    }\n",
       "</style>\n",
       "<table border=\"1\" class=\"dataframe\">\n",
       "  <thead>\n",
       "    <tr style=\"text-align: right;\">\n",
       "      <th></th>\n",
       "      <th>student_id</th>\n",
       "      <th>school_id</th>\n",
       "      <th>study_hours</th>\n",
       "      <th>school_funding</th>\n",
       "      <th>test_scores</th>\n",
       "    </tr>\n",
       "  </thead>\n",
       "  <tbody>\n",
       "    <tr>\n",
       "      <th>0</th>\n",
       "      <td>0</td>\n",
       "      <td>18</td>\n",
       "      <td>1.372411</td>\n",
       "      <td>114791.752796</td>\n",
       "      <td>76.545423</td>\n",
       "    </tr>\n",
       "    <tr>\n",
       "      <th>1</th>\n",
       "      <td>84</td>\n",
       "      <td>18</td>\n",
       "      <td>3.045370</td>\n",
       "      <td>114791.752796</td>\n",
       "      <td>66.573793</td>\n",
       "    </tr>\n",
       "    <tr>\n",
       "      <th>2</th>\n",
       "      <td>135</td>\n",
       "      <td>18</td>\n",
       "      <td>3.951588</td>\n",
       "      <td>114791.752796</td>\n",
       "      <td>69.135329</td>\n",
       "    </tr>\n",
       "    <tr>\n",
       "      <th>3</th>\n",
       "      <td>153</td>\n",
       "      <td>18</td>\n",
       "      <td>2.735407</td>\n",
       "      <td>114791.752796</td>\n",
       "      <td>66.688432</td>\n",
       "    </tr>\n",
       "    <tr>\n",
       "      <th>4</th>\n",
       "      <td>195</td>\n",
       "      <td>18</td>\n",
       "      <td>4.213924</td>\n",
       "      <td>114791.752796</td>\n",
       "      <td>63.501468</td>\n",
       "    </tr>\n",
       "  </tbody>\n",
       "</table>\n",
       "</div>"
      ],
      "text/plain": [
       "   student_id  school_id  study_hours  school_funding  test_scores\n",
       "0           0         18     1.372411   114791.752796    76.545423\n",
       "1          84         18     3.045370   114791.752796    66.573793\n",
       "2         135         18     3.951588   114791.752796    69.135329\n",
       "3         153         18     2.735407   114791.752796    66.688432\n",
       "4         195         18     4.213924   114791.752796    63.501468"
      ]
     },
     "execution_count": 5,
     "metadata": {},
     "output_type": "execute_result"
    }
   ],
   "source": [
    "students.head()"
   ]
  },
  {
   "cell_type": "markdown",
   "metadata": {},
   "source": [
    "### Fixed Effects:\n",
    "**Intercept**: The average test score is about 60.528 when study hours are zero. This value is influenced by the average school funding across all schools.\n",
    "\n",
    "**Study Hours Coefficient**: For each additional hour of study, the test score increases by approximately 3.267 points.\n",
    "\n",
    "### Random Effects:\n",
    "The variance components show the variability in intercepts and slopes across different schools.\n",
    "\n",
    "- The positive coefficient for study hours suggests a direct positive relationship between study hours and test scores.\n",
    "- The model accounts for the variability in test scores both within and across schools.\n",
    "- The random effects indicate that the impact of study hours on test scores varies from school to school."
   ]
  },
  {
   "cell_type": "code",
   "execution_count": null,
   "metadata": {},
   "outputs": [],
   "source": []
  }
 ],
 "metadata": {
  "colab": {
   "provenance": []
  },
  "kernelspec": {
   "display_name": "ml",
   "language": "python",
   "name": "ml"
  },
  "language_info": {
   "codemirror_mode": {
    "name": "ipython",
    "version": 3
   },
   "file_extension": ".py",
   "mimetype": "text/x-python",
   "name": "python",
   "nbconvert_exporter": "python",
   "pygments_lexer": "ipython3",
   "version": "3.11.4"
  },
  "toc": {
   "base_numbering": 1,
   "nav_menu": {},
   "number_sections": true,
   "sideBar": true,
   "skip_h1_title": false,
   "title_cell": "Table of Contents",
   "title_sidebar": "Contents",
   "toc_cell": false,
   "toc_position": {},
   "toc_section_display": true,
   "toc_window_display": false
  },
  "vscode": {
   "interpreter": {
    "hash": "4368b5b2caae0b389dbb264ec895ac3050f9d5a7bf2d7d86b8d57f39619b4948"
   }
  }
 },
 "nbformat": 4,
 "nbformat_minor": 4
}
