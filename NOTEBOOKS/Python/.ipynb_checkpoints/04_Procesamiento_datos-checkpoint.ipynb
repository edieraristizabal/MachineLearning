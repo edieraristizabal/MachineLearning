{
 "cells": [
  {
   "cell_type": "markdown",
   "metadata": {
    "id": "l_mHfGN5g5AP"
   },
   "source": [
    "**CURSO**: *Machine Learning* en Geociencias<br />\n",
    "**Profesor**: Edier Aristizábal (evaristizabalg@unal.edu.co) <br />\n",
    "**Credits**: The content of this notebook is taken from several sources: Every effort has been made to trace copyright holders of the materials used in this book. The author apologies for any unintentional omissions and would be pleased to add an acknowledgment in future editions."
   ]
  },
  {
   "cell_type": "markdown",
   "metadata": {
    "id": "GXpFLjqYg5AQ"
   },
   "source": [
    "# 04: Procesamiento de datos (*Feature Engineering*)"
   ]
  },
  {
   "cell_type": "markdown",
   "metadata": {
    "id": "KYb1KWQgg5AR"
   },
   "source": [
    "Luego de obtener e importar los datos se debe realizar una ardua tarea de limpieza y ajuste de los datos. En esta labor se transforman simples valores y datos crudos en realmente variables (*features*) que puedan permitir construir un modelo. Muchos autores consideran que esta fase corresponde al 80% del tiempo dedicado a *machine learning*, por lo cual los resultados finales obtenidos del modelo dependen en un porcentaje similar a la calidad de los datos y variables que conforman el modelo, que se obtiene como resultado de esta fase."
   ]
  },
  {
   "cell_type": "code",
   "execution_count": null,
   "metadata": {
    "colab": {
     "base_uri": "https://localhost:8080/"
    },
    "executionInfo": {
     "elapsed": 41043,
     "status": "ok",
     "timestamp": 1663254531084,
     "user": {
      "displayName": "Edier Vicente Aristizabal Giraldo",
      "userId": "14756502124163770629"
     },
     "user_tz": 300
    },
    "id": "rAoepC_DLucR",
    "outputId": "f242c421-3a70-41c8-e3a2-40a00b84bea9"
   },
   "outputs": [
    {
     "name": "stdout",
     "output_type": "stream",
     "text": [
      "Mounted at /content/drive\n"
     ]
    }
   ],
   "source": [
    "from google.colab import drive\n",
    "drive.mount('/content/drive')"
   ]
  },
  {
   "cell_type": "markdown",
   "metadata": {
    "id": "W5dJ2odNg5AR"
   },
   "source": [
    "Las principales librerias utilizadas para el procesamiento de los datos corresponden a *Pandas* y *Numpy*. Sin embargo existen funciones en otros librerías que mas adelante se utilizarán. Por ahora solo importaremos estas dos fundamentales librerías."
   ]
  },
  {
   "cell_type": "code",
   "execution_count": null,
   "metadata": {
    "id": "XRaaZ6Cbg5AS"
   },
   "outputs": [],
   "source": [
    "import pandas as pd\n",
    "import numpy as np"
   ]
  },
  {
   "cell_type": "markdown",
   "metadata": {
    "id": "xA5pTf_MLFrf"
   },
   "source": [
    "## Web scraping"
   ]
  },
  {
   "cell_type": "code",
   "execution_count": null,
   "metadata": {
    "id": "QYgsYt6XLGFG"
   },
   "outputs": [],
   "source": [
    "from IPython.display import IFrame\n",
    "from IPython.core.display import HTML\n",
    "from bs4 import BeautifulSoup\n",
    "from IPython.display import IFrame"
   ]
  },
  {
   "cell_type": "code",
   "execution_count": null,
   "metadata": {
    "colab": {
     "base_uri": "https://localhost:8080/",
     "height": 421
    },
    "executionInfo": {
     "elapsed": 387,
     "status": "ok",
     "timestamp": 1663086265244,
     "user": {
      "displayName": "Edier Vicente Aristizabal Giraldo",
      "userId": "14756502124163770629"
     },
     "user_tz": 300
    },
    "id": "z-obZzvgNDkt",
    "outputId": "ca9879f5-a367-44cb-b74b-de3ea7d0055b"
   },
   "outputs": [
    {
     "data": {
      "text/html": [
       "\n",
       "        <iframe\n",
       "            width=\"800\"\n",
       "            height=\"400\"\n",
       "            src=\"https://edieraristizabal.github.io/MachineLearning/\"\n",
       "            frameborder=\"0\"\n",
       "            allowfullscreen\n",
       "        ></iframe>\n",
       "        "
      ],
      "text/plain": [
       "<IPython.lib.display.IFrame at 0x7f5413c351d0>"
      ]
     },
     "execution_count": 4,
     "metadata": {},
     "output_type": "execute_result"
    }
   ],
   "source": [
    "# IFrame will allow us to view the HTML document\n",
    "IFrame(src='https://edieraristizabal.github.io/MachineLearning/', width=800, height=400)"
   ]
  },
  {
   "cell_type": "code",
   "execution_count": null,
   "metadata": {
    "id": "jkMRkhZHNDkv"
   },
   "outputs": [],
   "source": [
    "# Open a file and pass the file handle (here file handle is f) to BeautifulSoup\n",
    "file_name = '/content/drive/MyDrive/CATEDRA/MACHINE LEARNING/MachineLearning/data/Machine learning en geociencias _ MachineLearning.html'\n",
    "with open(file_name) as f:  #Windows users may need to add the option encoding='utf8'\n",
    "    stock_soup = BeautifulSoup(f, 'html.parser')"
   ]
  },
  {
   "cell_type": "code",
   "execution_count": null,
   "metadata": {
    "id": "eVmovdaKrIDD"
   },
   "outputs": [],
   "source": [
    "print(stock_soup)"
   ]
  },
  {
   "cell_type": "code",
   "execution_count": null,
   "metadata": {
    "colab": {
     "base_uri": "https://localhost:8080/"
    },
    "executionInfo": {
     "elapsed": 317,
     "status": "ok",
     "timestamp": 1663086378594,
     "user": {
      "displayName": "Edier Vicente Aristizabal Giraldo",
      "userId": "14756502124163770629"
     },
     "user_tz": 300
    },
    "id": "MA892Tl6NDkw",
    "outputId": "8571e968-e80c-474a-c3d9-1f46094c394e"
   },
   "outputs": [
    {
     "name": "stdout",
     "output_type": "stream",
     "text": [
      "<!DOCTYPE html>\n",
      "<!-- saved from url=(0051)https://edieraristizabal.github.io/MachineLearning/ -->\n",
      "<html lang=\"en-US\">\n",
      " <head>\n",
      "  <meta content=\"text/html; charset=utf-8\" http-equiv=\"Content-Type\"/>\n",
      "  <meta content=\"IE=edge\" http-equiv=\"X-UA-Compatible\"/>\n",
      "  <meta content=\"width=device-width, initial-scale=1\" name=\"viewport\"/>\n",
      "  <!-- Begin Jekyll SEO tag v2.8.0 -->\n",
      "  <title>\n",
      "   Machine learning en geociencias | MachineLearning\n",
      "  </title>\n",
      "  <meta content=\"Jekyll v3.9.2\" name=\"generator\"/>\n",
      "  <meta content=\"Machine learning en geociencias\" property=\"og:title\"/>\n",
      "  <meta content=\"en_US\" property=\"og:locale\"/>\n",
      "  <meta content=\"Curso del posgrado en Recursos hidráulicos de la Facultad de Minas, Universidad Nacional de Colombia, sede Medellín\" name=\"description\"/>\n",
      "  <meta content=\"Curso del posgrado en Recursos hidráulicos de la Facultad de Minas, Universidad Nacional de Colombia, sede Medellín\" property=\"og:description\"/>\n",
      "  <link href=\"https://edieraristizabal.github.io/MachineLearning/\" rel=\"ca\n"
     ]
    }
   ],
   "source": [
    "# Look at first 1000 characters to see head of the document (don't want to print too much or it's messy)\n",
    "print(stock_soup.prettify()[:1000])"
   ]
  },
  {
   "cell_type": "code",
   "execution_count": null,
   "metadata": {
    "colab": {
     "base_uri": "https://localhost:8080/"
    },
    "executionInfo": {
     "elapsed": 410,
     "status": "ok",
     "timestamp": 1663086491118,
     "user": {
      "displayName": "Edier Vicente Aristizabal Giraldo",
      "userId": "14756502124163770629"
     },
     "user_tz": 300
    },
    "id": "_fo_1zpXNDkw",
    "outputId": "5b3a3b66-61c4-4a7a-9dc6-d75e53a5f956"
   },
   "outputs": [
    {
     "data": {
      "text/plain": [
       "{'html': 1,\n",
       " 'head': 1,\n",
       " 'meta': 13,\n",
       " 'title': 1,\n",
       " 'link': 2,\n",
       " 'script': 3,\n",
       " 'body': 1,\n",
       " 'div': 1,\n",
       " 'header': 1,\n",
       " 'h1': 2,\n",
       " 'a': 27,\n",
       " 'p': 10,\n",
       " 'small': 2,\n",
       " 'section': 1,\n",
       " 'strong': 1,\n",
       " 'em': 8,\n",
       " 'h2': 5,\n",
       " 'ul': 1,\n",
       " 'li': 20,\n",
       " 'footer': 1}"
      ]
     },
     "execution_count": 10,
     "metadata": {},
     "output_type": "execute_result"
    }
   ],
   "source": [
    "# One possible solution\n",
    "tag_list = []\n",
    "for tag in stock_soup.find_all():\n",
    "    tag_list.append(tag.name)\n",
    "\n",
    "tag_count_dict = {}\n",
    "for tag_name in tag_list:\n",
    "    if tag_name in tag_count_dict:\n",
    "        tag_count_dict[tag_name] = tag_count_dict[tag_name] + 1\n",
    "    else:\n",
    "        tag_count_dict[tag_name] = 1\n",
    "        \n",
    "tag_count_dict"
   ]
  },
  {
   "cell_type": "code",
   "execution_count": null,
   "metadata": {
    "colab": {
     "base_uri": "https://localhost:8080/"
    },
    "executionInfo": {
     "elapsed": 376,
     "status": "ok",
     "timestamp": 1663086562479,
     "user": {
      "displayName": "Edier Vicente Aristizabal Giraldo",
      "userId": "14756502124163770629"
     },
     "user_tz": 300
    },
    "id": "whgSTZ83NDkx",
    "outputId": "6b1df745-4407-45a4-86ab-0ec44621ffa3"
   },
   "outputs": [
    {
     "data": {
      "text/plain": [
       "[<li><a href=\"https://edieraristizabal.github.io/MachineLearning/NOTEBOOKS/01_Ambiente_de_trabajo.ipynb\">Ambiente de trabajo</a></li>,\n",
       " <li><a href=\"https://edieraristizabal.github.io/MachineLearning/NOTEBOOKS/02_Importar.ipynb\">Importar datos</a></li>,\n",
       " <li><a href=\"https://edieraristizabal.github.io/MachineLearning/NOTEBOOKS/03_DataFrame.ipynb\">Creación de la base de datos</a></li>,\n",
       " <li><a href=\"https://edieraristizabal.github.io/MachineLearning/NOTEBOOKS/04_Procesamiento_datos.ipynb\">Procesamiento de datos</a></li>,\n",
       " <li><a href=\"https://edieraristizabal.github.io/MachineLearning/NOTEBOOKS/05_EDA.ipynb\">Análisis exploratorio de datos</a></li>,\n",
       " <li><a href=\"https://edieraristizabal.github.io/MachineLearning/NOTEBOOKS/06_SeleccionVariables.ipynb\">Selección de variables</a></li>,\n",
       " <li><a href=\"https://edieraristizabal.github.io/MachineLearning/NOTEBOOKS/07_Desbalance.ipynb\">Datos desbalanceados</a></li>,\n",
       " <li><a href=\"https://edieraristizabal.github.io/MachineLearning/NOTEBOOKS/08_Validation.ipynb\">Validación</a></li>,\n",
       " <li><a href=\"https://edieraristizabal.github.io/MachineLearning/NOTEBOOKS/09_Algorithm_Tunning.ipynb\">Selección de hiperparámetros</a></li>,\n",
       " <li><a href=\"https://edieraristizabal.github.io/MachineLearning/NOTEBOOKS/10_Metric.ipynb\">Métrica</a></li>,\n",
       " <li><a href=\"https://edieraristizabal.github.io/MachineLearning/NOTEBOOKS/11_Bias-Variance_TradeOff.ipynb\">Trade-off Bias-Variance</a></li>,\n",
       " <li><a href=\"https://edieraristizabal.github.io/MachineLearning/NOTEBOOKS/12_Cluster.ipynb\">Clustering</a></li>,\n",
       " <li><a href=\"https://edieraristizabal.github.io/MachineLearning/NOTEBOOKS/13_PCA.ipynb\">Análisis de componentes principales</a></li>,\n",
       " <li><a href=\"https://edieraristizabal.github.io/MachineLearning/NOTEBOOKS/14_Discriminante.ipynb\">Análisis discriminante</a></li>,\n",
       " <li><a href=\"https://edieraristizabal.github.io/MachineLearning/NOTEBOOKS/15_Regresion_lineal.ipynb\">Regresión Lineal</a></li>,\n",
       " <li><a href=\"https://edieraristizabal.github.io/MachineLearning/NOTEBOOKS/16_Regresion_Logistica.ipynb\">Regresión Ligística</a></li>,\n",
       " <li><a href=\"https://edieraristizabal.github.io/MachineLearning/NOTEBOOKS/17_KNN.ipynb\">Vecino más cercano</a></li>,\n",
       " <li><a href=\"https://edieraristizabal.github.io/MachineLearning/NOTEBOOKS/18_SVM.ipynb\">Support Vector Machine</a></li>,\n",
       " <li><a href=\"https://edieraristizabal.github.io/MachineLearning/NOTEBOOKS/19_RedesNeuronales.ipynb\">Redes Neuronales Artificiales</a></li>,\n",
       " <li><a href=\"https://edieraristizabal.github.io/MachineLearning/NOTEBOOKS/20_Ensembles.ipynb\">Modelos ensamblados</a></li>]"
      ]
     },
     "execution_count": 13,
     "metadata": {},
     "output_type": "execute_result"
    }
   ],
   "source": [
    "stock_soup.find_all(\"li\")"
   ]
  },
  {
   "cell_type": "code",
   "execution_count": null,
   "metadata": {
    "id": "sQfEIfL0NDkx"
   },
   "outputs": [],
   "source": [
    "import urllib # package required to interact with live webpage\n",
    "site_url='https://edieraristizabal.github.io/MachineLearning/'\n",
    "r = urllib.request.urlopen(site_url)\n",
    "site_content = r.read().decode('utf-8')\n",
    "\n",
    "# Saving scraped HTML to .html file (for later processing)\n",
    "with open('saved_page.html', 'w') as f:\n",
    "    f.write(site_content)\n",
    "\n",
    "# Use html.parser to create soup\n",
    "s = BeautifulSoup(site_content, 'html.parser')"
   ]
  },
  {
   "cell_type": "code",
   "execution_count": null,
   "metadata": {
    "colab": {
     "base_uri": "https://localhost:8080/"
    },
    "executionInfo": {
     "elapsed": 357,
     "status": "ok",
     "timestamp": 1663086712140,
     "user": {
      "displayName": "Edier Vicente Aristizabal Giraldo",
      "userId": "14756502124163770629"
     },
     "user_tz": 300
    },
    "id": "iwaOxhmZNDky",
    "outputId": "6272d1d7-d1dd-4522-a68e-cb04d0bb31e6"
   },
   "outputs": [
    {
     "name": "stdout",
     "output_type": "stream",
     "text": [
      "<!DOCTYPE html>\n",
      "<html lang=\"en-US\">\n",
      " <head>\n",
      "  <meta charset=\"utf-8\"/>\n",
      "  <meta content=\"IE=edge\" http-equiv=\"X-UA-Compatible\"/>\n",
      "  <meta content=\"width=device-width, initial-scale=1\" name=\"viewport\"/>\n",
      "  <!-- Begin Jekyll SEO tag v2.8.0 -->\n",
      "  <title>\n",
      "   Machine learning en geociencias | MachineLearning\n",
      "  </title>\n",
      "  <meta content=\"Jekyll v3.9.2\" name=\"generator\">\n",
      "   <meta content=\"Machine learning en geociencias\" property=\"og:title\">\n",
      "    <meta content=\"en_US\" property=\"og:locale\">\n",
      "     <meta content\n"
     ]
    }
   ],
   "source": [
    "# Look at the soup object by using prettify() method\n",
    "print(s.prettify()[:500]) # Only show portion of text as it is very long"
   ]
  },
  {
   "cell_type": "markdown",
   "metadata": {
    "id": "EccNC1n9NDky"
   },
   "source": [
    "## Datos locales"
   ]
  },
  {
   "cell_type": "markdown",
   "metadata": {
    "id": "nBxYaAq0g5AV"
   },
   "source": [
    "Para este ejercicio vamos a trabajar con la base de datos de torrencialidad del libro 3."
   ]
  },
  {
   "cell_type": "code",
   "execution_count": null,
   "metadata": {
    "colab": {
     "base_uri": "https://localhost:8080/",
     "height": 491
    },
    "executionInfo": {
     "elapsed": 3068,
     "status": "ok",
     "timestamp": 1663259564142,
     "user": {
      "displayName": "Edier Vicente Aristizabal Giraldo",
      "userId": "14756502124163770629"
     },
     "user_tz": 300
    },
    "id": "goVNG4pPg5AV",
    "outputId": "d77f93e1-f71c-4ce7-d640-77f9e74f1a75"
   },
   "outputs": [
    {
     "data": {
      "text/html": [
       "\n",
       "  <div id=\"df-9e235639-cd98-4541-9191-7084c4a1df4e\">\n",
       "    <div class=\"colab-df-container\">\n",
       "      <div>\n",
       "<style scoped>\n",
       "    .dataframe tbody tr th:only-of-type {\n",
       "        vertical-align: middle;\n",
       "    }\n",
       "\n",
       "    .dataframe tbody tr th {\n",
       "        vertical-align: top;\n",
       "    }\n",
       "\n",
       "    .dataframe thead th {\n",
       "        text-align: right;\n",
       "    }\n",
       "</style>\n",
       "<table border=\"1\" class=\"dataframe\">\n",
       "  <thead>\n",
       "    <tr style=\"text-align: right;\">\n",
       "      <th></th>\n",
       "      <th>Main Stream Order</th>\n",
       "      <th>Color</th>\n",
       "      <th>Categoria</th>\n",
       "      <th>Number of streams</th>\n",
       "      <th>Stream Lenght</th>\n",
       "      <th>Main Stream Leght</th>\n",
       "      <th>Stream Lenght Ratio</th>\n",
       "      <th>Bifurcation Ratio</th>\n",
       "      <th>Ro Coefficient</th>\n",
       "      <th>Lenght of Basin</th>\n",
       "      <th>...</th>\n",
       "      <th>Constant  Channel mantenance</th>\n",
       "      <th>Drainage Intensity</th>\n",
       "      <th>Infiltrarion Number</th>\n",
       "      <th>Leght of overland flow</th>\n",
       "      <th>Relief</th>\n",
       "      <th>Mean Basin Slope</th>\n",
       "      <th>Relief Ratio</th>\n",
       "      <th>Rudgeness Number</th>\n",
       "      <th>Melton Index</th>\n",
       "      <th>Flash flood record</th>\n",
       "    </tr>\n",
       "  </thead>\n",
       "  <tbody>\n",
       "    <tr>\n",
       "      <th>0</th>\n",
       "      <td>2.0</td>\n",
       "      <td>Azul</td>\n",
       "      <td>A</td>\n",
       "      <td>3.0</td>\n",
       "      <td>4.9820</td>\n",
       "      <td>4.048</td>\n",
       "      <td>0.907351</td>\n",
       "      <td>2.0</td>\n",
       "      <td>2.204219</td>\n",
       "      <td>5.904</td>\n",
       "      <td>...</td>\n",
       "      <td>1.030309</td>\n",
       "      <td>0.602168</td>\n",
       "      <td>0.567260</td>\n",
       "      <td>0.515155</td>\n",
       "      <td>1.319</td>\n",
       "      <td>24.320</td>\n",
       "      <td>0.223408</td>\n",
       "      <td>1.280198</td>\n",
       "      <td>0.582183</td>\n",
       "      <td>AB</td>\n",
       "    </tr>\n",
       "    <tr>\n",
       "      <th>1</th>\n",
       "      <td>2.0</td>\n",
       "      <td>Azul</td>\n",
       "      <td>B</td>\n",
       "      <td>3.0</td>\n",
       "      <td>6.5693</td>\n",
       "      <td>NaN</td>\n",
       "      <td>0.531716</td>\n",
       "      <td>NaN</td>\n",
       "      <td>NaN</td>\n",
       "      <td>8.961</td>\n",
       "      <td>...</td>\n",
       "      <td>2.065365</td>\n",
       "      <td>0.456670</td>\n",
       "      <td>0.107055</td>\n",
       "      <td>1.032682</td>\n",
       "      <td>1.968</td>\n",
       "      <td>28.100</td>\n",
       "      <td>0.219618</td>\n",
       "      <td>0.952858</td>\n",
       "      <td>0.534278</td>\n",
       "      <td>AB</td>\n",
       "    </tr>\n",
       "    <tr>\n",
       "      <th>2</th>\n",
       "      <td>NaN</td>\n",
       "      <td>Azul</td>\n",
       "      <td>C</td>\n",
       "      <td>NaN</td>\n",
       "      <td>NaN</td>\n",
       "      <td>18.117</td>\n",
       "      <td>1.496572</td>\n",
       "      <td>kklk</td>\n",
       "      <td>2.099288</td>\n",
       "      <td>20.617</td>\n",
       "      <td>...</td>\n",
       "      <td>NaN</td>\n",
       "      <td>0.376731</td>\n",
       "      <td>0.111298</td>\n",
       "      <td>0.919901</td>\n",
       "      <td>2.484</td>\n",
       "      <td>28.860</td>\n",
       "      <td>0.120483</td>\n",
       "      <td>1.350146</td>\n",
       "      <td>0.324482</td>\n",
       "      <td>AB</td>\n",
       "    </tr>\n",
       "    <tr>\n",
       "      <th>3</th>\n",
       "      <td>3.0</td>\n",
       "      <td>Rojo</td>\n",
       "      <td>B</td>\n",
       "      <td>31.0</td>\n",
       "      <td>26.4590</td>\n",
       "      <td>6.152</td>\n",
       "      <td>NaN</td>\n",
       "      <td>5.0</td>\n",
       "      <td>2.965810</td>\n",
       "      <td>NaN</td>\n",
       "      <td>...</td>\n",
       "      <td>0.455800</td>\n",
       "      <td>1.171624</td>\n",
       "      <td>5.639499</td>\n",
       "      <td>0.227900</td>\n",
       "      <td>0.903</td>\n",
       "      <td>20.669</td>\n",
       "      <td>0.125434</td>\n",
       "      <td>1.981134</td>\n",
       "      <td>0.260024</td>\n",
       "      <td>AB</td>\n",
       "    </tr>\n",
       "    <tr>\n",
       "      <th>4</th>\n",
       "      <td>2.0</td>\n",
       "      <td>NaN</td>\n",
       "      <td>C</td>\n",
       "      <td>4.0</td>\n",
       "      <td>10.4070</td>\n",
       "      <td>7.350</td>\n",
       "      <td>5.128386</td>\n",
       "      <td>3.0</td>\n",
       "      <td>NaN</td>\n",
       "      <td>9.523</td>\n",
       "      <td>...</td>\n",
       "      <td>1.027962</td>\n",
       "      <td>0.384357</td>\n",
       "      <td>0.363731</td>\n",
       "      <td>NaN</td>\n",
       "      <td>1.299</td>\n",
       "      <td>17.790</td>\n",
       "      <td>0.136407</td>\n",
       "      <td>1.263665</td>\n",
       "      <td>0.397153</td>\n",
       "      <td>AB</td>\n",
       "    </tr>\n",
       "    <tr>\n",
       "      <th>5</th>\n",
       "      <td>4.0</td>\n",
       "      <td>Rojo</td>\n",
       "      <td>A</td>\n",
       "      <td>30.0</td>\n",
       "      <td>70.2940</td>\n",
       "      <td>NaN</td>\n",
       "      <td>2.282589</td>\n",
       "      <td>2.275</td>\n",
       "      <td>2.041470</td>\n",
       "      <td>32.542</td>\n",
       "      <td>...</td>\n",
       "      <td>1.733206</td>\n",
       "      <td>0.426779</td>\n",
       "      <td>0.142070</td>\n",
       "      <td>NaN</td>\n",
       "      <td>2.599</td>\n",
       "      <td>26.390</td>\n",
       "      <td>0.079866</td>\n",
       "      <td>1.499533</td>\n",
       "      <td>0.235463</td>\n",
       "      <td>AB</td>\n",
       "    </tr>\n",
       "    <tr>\n",
       "      <th>6</th>\n",
       "      <td>3.0</td>\n",
       "      <td>Rojo</td>\n",
       "      <td>C</td>\n",
       "      <td>9.0</td>\n",
       "      <td>NaN</td>\n",
       "      <td>2.576</td>\n",
       "      <td>1.061497</td>\n",
       "      <td>NaN</td>\n",
       "      <td>2.570182</td>\n",
       "      <td>3.101</td>\n",
       "      <td>...</td>\n",
       "      <td>0.380531</td>\n",
       "      <td>2.569226</td>\n",
       "      <td>17.742808</td>\n",
       "      <td>NaN</td>\n",
       "      <td>0.674</td>\n",
       "      <td>26.696</td>\n",
       "      <td>0.217349</td>\n",
       "      <td>1.771209</td>\n",
       "      <td>0.583774</td>\n",
       "      <td>AB</td>\n",
       "    </tr>\n",
       "    <tr>\n",
       "      <th>7</th>\n",
       "      <td>3.0</td>\n",
       "      <td>NaN</td>\n",
       "      <td>A</td>\n",
       "      <td>52468.0</td>\n",
       "      <td>8.3480</td>\n",
       "      <td>3.536</td>\n",
       "      <td>1.822621</td>\n",
       "      <td>3.0</td>\n",
       "      <td>1.469104</td>\n",
       "      <td>4.218</td>\n",
       "      <td>...</td>\n",
       "      <td>NaN</td>\n",
       "      <td>1.317681</td>\n",
       "      <td>NaN</td>\n",
       "      <td>NaN</td>\n",
       "      <td>NaN</td>\n",
       "      <td>31.098</td>\n",
       "      <td>0.239924</td>\n",
       "      <td>1.826633</td>\n",
       "      <td>0.470570</td>\n",
       "      <td>AB</td>\n",
       "    </tr>\n",
       "    <tr>\n",
       "      <th>8</th>\n",
       "      <td>2.0</td>\n",
       "      <td>Azul</td>\n",
       "      <td>B</td>\n",
       "      <td>NaN</td>\n",
       "      <td>NaN</td>\n",
       "      <td>NaN</td>\n",
       "      <td>1.400547</td>\n",
       "      <td>7.0</td>\n",
       "      <td>4.998046</td>\n",
       "      <td>22.711</td>\n",
       "      <td>...</td>\n",
       "      <td>1.591711</td>\n",
       "      <td>0.268258</td>\n",
       "      <td>0.105883</td>\n",
       "      <td>0.795855</td>\n",
       "      <td>1.755</td>\n",
       "      <td>21.470</td>\n",
       "      <td>0.077275</td>\n",
       "      <td>1.102587</td>\n",
       "      <td>0.254728</td>\n",
       "      <td>AB</td>\n",
       "    </tr>\n",
       "    <tr>\n",
       "      <th>9</th>\n",
       "      <td>3.0</td>\n",
       "      <td>Azul</td>\n",
       "      <td>A</td>\n",
       "      <td>15.0</td>\n",
       "      <td>15.8950</td>\n",
       "      <td>6.774</td>\n",
       "      <td>1.869667</td>\n",
       "      <td>NaN</td>\n",
       "      <td>1.626193</td>\n",
       "      <td>7.592</td>\n",
       "      <td>...</td>\n",
       "      <td>0.434917</td>\n",
       "      <td>0.943693</td>\n",
       "      <td>4.989059</td>\n",
       "      <td>0.217458</td>\n",
       "      <td>1.518</td>\n",
       "      <td>19.550</td>\n",
       "      <td>NaN</td>\n",
       "      <td>3.490324</td>\n",
       "      <td>0.577349</td>\n",
       "      <td>AB</td>\n",
       "    </tr>\n",
       "  </tbody>\n",
       "</table>\n",
       "<p>10 rows × 31 columns</p>\n",
       "</div>\n",
       "      <button class=\"colab-df-convert\" onclick=\"convertToInteractive('df-9e235639-cd98-4541-9191-7084c4a1df4e')\"\n",
       "              title=\"Convert this dataframe to an interactive table.\"\n",
       "              style=\"display:none;\">\n",
       "        \n",
       "  <svg xmlns=\"http://www.w3.org/2000/svg\" height=\"24px\"viewBox=\"0 0 24 24\"\n",
       "       width=\"24px\">\n",
       "    <path d=\"M0 0h24v24H0V0z\" fill=\"none\"/>\n",
       "    <path d=\"M18.56 5.44l.94 2.06.94-2.06 2.06-.94-2.06-.94-.94-2.06-.94 2.06-2.06.94zm-11 1L8.5 8.5l.94-2.06 2.06-.94-2.06-.94L8.5 2.5l-.94 2.06-2.06.94zm10 10l.94 2.06.94-2.06 2.06-.94-2.06-.94-.94-2.06-.94 2.06-2.06.94z\"/><path d=\"M17.41 7.96l-1.37-1.37c-.4-.4-.92-.59-1.43-.59-.52 0-1.04.2-1.43.59L10.3 9.45l-7.72 7.72c-.78.78-.78 2.05 0 2.83L4 21.41c.39.39.9.59 1.41.59.51 0 1.02-.2 1.41-.59l7.78-7.78 2.81-2.81c.8-.78.8-2.07 0-2.86zM5.41 20L4 18.59l7.72-7.72 1.47 1.35L5.41 20z\"/>\n",
       "  </svg>\n",
       "      </button>\n",
       "      \n",
       "  <style>\n",
       "    .colab-df-container {\n",
       "      display:flex;\n",
       "      flex-wrap:wrap;\n",
       "      gap: 12px;\n",
       "    }\n",
       "\n",
       "    .colab-df-convert {\n",
       "      background-color: #E8F0FE;\n",
       "      border: none;\n",
       "      border-radius: 50%;\n",
       "      cursor: pointer;\n",
       "      display: none;\n",
       "      fill: #1967D2;\n",
       "      height: 32px;\n",
       "      padding: 0 0 0 0;\n",
       "      width: 32px;\n",
       "    }\n",
       "\n",
       "    .colab-df-convert:hover {\n",
       "      background-color: #E2EBFA;\n",
       "      box-shadow: 0px 1px 2px rgba(60, 64, 67, 0.3), 0px 1px 3px 1px rgba(60, 64, 67, 0.15);\n",
       "      fill: #174EA6;\n",
       "    }\n",
       "\n",
       "    [theme=dark] .colab-df-convert {\n",
       "      background-color: #3B4455;\n",
       "      fill: #D2E3FC;\n",
       "    }\n",
       "\n",
       "    [theme=dark] .colab-df-convert:hover {\n",
       "      background-color: #434B5C;\n",
       "      box-shadow: 0px 1px 3px 1px rgba(0, 0, 0, 0.15);\n",
       "      filter: drop-shadow(0px 1px 2px rgba(0, 0, 0, 0.3));\n",
       "      fill: #FFFFFF;\n",
       "    }\n",
       "  </style>\n",
       "\n",
       "      <script>\n",
       "        const buttonEl =\n",
       "          document.querySelector('#df-9e235639-cd98-4541-9191-7084c4a1df4e button.colab-df-convert');\n",
       "        buttonEl.style.display =\n",
       "          google.colab.kernel.accessAllowed ? 'block' : 'none';\n",
       "\n",
       "        async function convertToInteractive(key) {\n",
       "          const element = document.querySelector('#df-9e235639-cd98-4541-9191-7084c4a1df4e');\n",
       "          const dataTable =\n",
       "            await google.colab.kernel.invokeFunction('convertToInteractive',\n",
       "                                                     [key], {});\n",
       "          if (!dataTable) return;\n",
       "\n",
       "          const docLinkHtml = 'Like what you see? Visit the ' +\n",
       "            '<a target=\"_blank\" href=https://colab.research.google.com/notebooks/data_table.ipynb>data table notebook</a>'\n",
       "            + ' to learn more about interactive tables.';\n",
       "          element.innerHTML = '';\n",
       "          dataTable['output_type'] = 'display_data';\n",
       "          await google.colab.output.renderOutput(dataTable, element);\n",
       "          const docLink = document.createElement('div');\n",
       "          docLink.innerHTML = docLinkHtml;\n",
       "          element.appendChild(docLink);\n",
       "        }\n",
       "      </script>\n",
       "    </div>\n",
       "  </div>\n",
       "  "
      ],
      "text/plain": [
       "   Main Stream Order Color Categoria  Number of streams  Stream Lenght  \\\n",
       "0                2.0  Azul         A                3.0         4.9820   \n",
       "1                2.0  Azul         B                3.0         6.5693   \n",
       "2                NaN  Azul         C                NaN            NaN   \n",
       "3                3.0  Rojo         B               31.0        26.4590   \n",
       "4                2.0   NaN         C                4.0        10.4070   \n",
       "5                4.0  Rojo         A               30.0        70.2940   \n",
       "6                3.0  Rojo         C                9.0            NaN   \n",
       "7                3.0   NaN         A            52468.0         8.3480   \n",
       "8                2.0  Azul         B                NaN            NaN   \n",
       "9                3.0  Azul         A               15.0        15.8950   \n",
       "\n",
       "   Main Stream Leght   Stream Lenght Ratio Bifurcation Ratio   Ro Coefficient  \\\n",
       "0               4.048             0.907351                2.0        2.204219   \n",
       "1                 NaN             0.531716                NaN             NaN   \n",
       "2              18.117             1.496572               kklk        2.099288   \n",
       "3               6.152                  NaN                5.0        2.965810   \n",
       "4               7.350             5.128386                3.0             NaN   \n",
       "5                 NaN             2.282589              2.275        2.041470   \n",
       "6               2.576             1.061497                NaN        2.570182   \n",
       "7               3.536             1.822621                3.0        1.469104   \n",
       "8                 NaN             1.400547                7.0        4.998046   \n",
       "9               6.774             1.869667                NaN        1.626193   \n",
       "\n",
       "   Lenght of Basin  ...  Constant  Channel mantenance  Drainage Intensity  \\\n",
       "0            5.904  ...                      1.030309            0.602168   \n",
       "1            8.961  ...                      2.065365            0.456670   \n",
       "2           20.617  ...                           NaN            0.376731   \n",
       "3              NaN  ...                      0.455800            1.171624   \n",
       "4            9.523  ...                      1.027962            0.384357   \n",
       "5           32.542  ...                      1.733206            0.426779   \n",
       "6            3.101  ...                      0.380531            2.569226   \n",
       "7            4.218  ...                           NaN            1.317681   \n",
       "8           22.711  ...                      1.591711            0.268258   \n",
       "9            7.592  ...                      0.434917            0.943693   \n",
       "\n",
       "   Infiltrarion Number  Leght of overland flow  Relief  Mean Basin Slope  \\\n",
       "0             0.567260                0.515155   1.319            24.320   \n",
       "1             0.107055                1.032682   1.968            28.100   \n",
       "2             0.111298                0.919901   2.484            28.860   \n",
       "3             5.639499                0.227900   0.903            20.669   \n",
       "4             0.363731                     NaN   1.299            17.790   \n",
       "5             0.142070                     NaN   2.599            26.390   \n",
       "6            17.742808                     NaN   0.674            26.696   \n",
       "7                  NaN                     NaN     NaN            31.098   \n",
       "8             0.105883                0.795855   1.755            21.470   \n",
       "9             4.989059                0.217458   1.518            19.550   \n",
       "\n",
       "   Relief Ratio  Rudgeness Number  Melton Index  Flash flood record  \n",
       "0      0.223408          1.280198      0.582183                  AB  \n",
       "1      0.219618          0.952858      0.534278                  AB  \n",
       "2      0.120483          1.350146      0.324482                  AB  \n",
       "3      0.125434          1.981134      0.260024                  AB  \n",
       "4      0.136407          1.263665      0.397153                  AB  \n",
       "5      0.079866          1.499533      0.235463                  AB  \n",
       "6      0.217349          1.771209      0.583774                  AB  \n",
       "7      0.239924          1.826633      0.470570                  AB  \n",
       "8      0.077275          1.102587      0.254728                  AB  \n",
       "9           NaN          3.490324      0.577349                  AB  \n",
       "\n",
       "[10 rows x 31 columns]"
      ]
     },
     "execution_count": 81,
     "metadata": {},
     "output_type": "execute_result"
    }
   ],
   "source": [
    "data= pd.read_excel('https://github.com/edieraristizabal/MachineLearning/blob/master/data/Torrencialidad_DB_vf.xlsx?raw=true', sheet_name='Tabla R')\n",
    "data.head(10)"
   ]
  },
  {
   "cell_type": "code",
   "execution_count": null,
   "metadata": {
    "colab": {
     "base_uri": "https://localhost:8080/"
    },
    "executionInfo": {
     "elapsed": 262,
     "status": "ok",
     "timestamp": 1663255138806,
     "user": {
      "displayName": "Edier Vicente Aristizabal Giraldo",
      "userId": "14756502124163770629"
     },
     "user_tz": 300
    },
    "id": "H3T6TWywuj7d",
    "outputId": "7ac2b407-c93e-47d7-c896-c6b0c61328ae"
   },
   "outputs": [
    {
     "data": {
      "text/plain": [
       "array(['A', 'B', 'C', 'E', nan], dtype=object)"
      ]
     },
     "execution_count": 14,
     "metadata": {},
     "output_type": "execute_result"
    }
   ],
   "source": [
    "data[\"Categoria\"].unique()"
   ]
  },
  {
   "cell_type": "code",
   "execution_count": null,
   "metadata": {
    "colab": {
     "base_uri": "https://localhost:8080/"
    },
    "executionInfo": {
     "elapsed": 422,
     "status": "ok",
     "timestamp": 1663254795668,
     "user": {
      "displayName": "Edier Vicente Aristizabal Giraldo",
      "userId": "14756502124163770629"
     },
     "user_tz": 300
    },
    "id": "63t2M5FYg5AZ",
    "outputId": "8a81bc2e-7806-477b-b12a-0d2479a6a91b"
   },
   "outputs": [
    {
     "data": {
      "text/plain": [
       "(73, 31)"
      ]
     },
     "execution_count": 6,
     "metadata": {},
     "output_type": "execute_result"
    }
   ],
   "source": [
    "data.shape"
   ]
  },
  {
   "cell_type": "markdown",
   "metadata": {
    "id": "GeUOsOcXg5Ac"
   },
   "source": [
    "Se construye tambien, a partir de la tabla importada, el vector de la variable dependiente (y) y la matriz con las variables independientes (X)."
   ]
  },
  {
   "cell_type": "code",
   "execution_count": null,
   "metadata": {
    "id": "_amJ5eDXg5Ac"
   },
   "outputs": [],
   "source": [
    "X=data.drop(['Flash flood record'],axis=1)\n",
    "y=data['Flash flood record']"
   ]
  },
  {
   "cell_type": "markdown",
   "metadata": {
    "id": "NzKb1q9ng5Af"
   },
   "source": [
    "Inicialmente es importante obtener datos generales de la base de datos, tales como el número de variables (columnas) y el número de observaciones (filas) con que se cuenta, utilizando el método *shape*."
   ]
  },
  {
   "cell_type": "code",
   "execution_count": null,
   "metadata": {
    "colab": {
     "base_uri": "https://localhost:8080/"
    },
    "executionInfo": {
     "elapsed": 325,
     "status": "ok",
     "timestamp": 1663254855266,
     "user": {
      "displayName": "Edier Vicente Aristizabal Giraldo",
      "userId": "14756502124163770629"
     },
     "user_tz": 300
    },
    "id": "DsvOrIzLg5Af",
    "outputId": "887cfeae-ee29-4545-fa15-dee6a7e79fd4"
   },
   "outputs": [
    {
     "data": {
      "text/plain": [
       "(73, 30)"
      ]
     },
     "execution_count": 8,
     "metadata": {},
     "output_type": "execute_result"
    }
   ],
   "source": [
    "X.shape"
   ]
  },
  {
   "cell_type": "markdown",
   "metadata": {
    "id": "CEdW9IFTg5Ai"
   },
   "source": [
    "Es importante también conocer el nombre de las variables o columnas, el número de datos no nulos que tiene cada una, y el tipo de datos. Para esto utilizaremos la función *info*."
   ]
  },
  {
   "cell_type": "code",
   "execution_count": null,
   "metadata": {
    "colab": {
     "base_uri": "https://localhost:8080/"
    },
    "executionInfo": {
     "elapsed": 516,
     "status": "ok",
     "timestamp": 1663254863264,
     "user": {
      "displayName": "Edier Vicente Aristizabal Giraldo",
      "userId": "14756502124163770629"
     },
     "user_tz": 300
    },
    "id": "MEVRP-xtg5Ai",
    "outputId": "391af889-ad31-4c54-e060-0f1419cc0260"
   },
   "outputs": [
    {
     "name": "stdout",
     "output_type": "stream",
     "text": [
      "<class 'pandas.core.frame.DataFrame'>\n",
      "RangeIndex: 73 entries, 0 to 72\n",
      "Data columns (total 30 columns):\n",
      " #   Column                        Non-Null Count  Dtype  \n",
      "---  ------                        --------------  -----  \n",
      " 0   Main Stream Order             72 non-null     float64\n",
      " 1   Color                         67 non-null     object \n",
      " 2   Categoria                     69 non-null     object \n",
      " 3   Number of streams             70 non-null     float64\n",
      " 4   Stream Lenght                 69 non-null     float64\n",
      " 5   Main Stream Leght             67 non-null     float64\n",
      " 6   Stream Lenght Ratio           72 non-null     float64\n",
      " 7   Bifurcation Ratio             69 non-null     object \n",
      " 8   Ro Coefficient                69 non-null     float64\n",
      " 9   Lenght of Basin               71 non-null     float64\n",
      " 10  Area                          72 non-null     float64\n",
      " 11  Perimeter                     69 non-null     float64\n",
      " 12  Form Factor                   68 non-null     float64\n",
      " 13  Elongation Ratio              71 non-null     float64\n",
      " 14  Circularity Ratio             70 non-null     float64\n",
      " 15  Compactness Coefficient       71 non-null     float64\n",
      " 16  Texture Ratio                 68 non-null     float64\n",
      " 17  Fitness Ratio                 71 non-null     float64\n",
      " 18  Wandering ratio               73 non-null     float64\n",
      " 19  Stream Frequency              70 non-null     float64\n",
      " 20  Drainage Density              71 non-null     float64\n",
      " 21  Constant  Channel mantenance  71 non-null     float64\n",
      " 22  Drainage Intensity            70 non-null     float64\n",
      " 23  Infiltrarion Number           70 non-null     float64\n",
      " 24  Leght of overland flow        67 non-null     float64\n",
      " 25  Relief                        72 non-null     float64\n",
      " 26  Mean Basin Slope              72 non-null     float64\n",
      " 27  Relief Ratio                  72 non-null     float64\n",
      " 28  Rudgeness Number              72 non-null     float64\n",
      " 29  Melton Index                  72 non-null     float64\n",
      "dtypes: float64(27), object(3)\n",
      "memory usage: 17.2+ KB\n"
     ]
    }
   ],
   "source": [
    "X.info()"
   ]
  },
  {
   "cell_type": "markdown",
   "metadata": {
    "id": "BDUkL79qg5Am"
   },
   "source": [
    "En ocasiones es necesario conocer el número de datos unicos que presenta cada columna, especialmente para variables categóricas, ya que dicho número representa el número de categorias o conjuntos del dominio de dicha variable. A continuación se observa que variables como *color*, las cuales representan un atributo de mi objeto de estudio, tiene solo 4 colores, para la variable categórica se presentan 3 diferentes valores y para la columna final, que representa la variable objetivo, tiene solo dos opciones, es decir que corresponde a una variable dicotómica."
   ]
  },
  {
   "cell_type": "code",
   "execution_count": null,
   "metadata": {
    "colab": {
     "base_uri": "https://localhost:8080/"
    },
    "executionInfo": {
     "elapsed": 379,
     "status": "ok",
     "timestamp": 1663255020615,
     "user": {
      "displayName": "Edier Vicente Aristizabal Giraldo",
      "userId": "14756502124163770629"
     },
     "user_tz": 300
    },
    "id": "nYFe1VBJg5An",
    "outputId": "3ffc181c-1224-4a67-83a8-d52d635b2f6f",
    "scrolled": true
   },
   "outputs": [
    {
     "data": {
      "text/plain": [
       "Main Stream Order                4\n",
       "Color                            3\n",
       "Categoria                        4\n",
       "Number of streams               44\n",
       "Stream Lenght                   69\n",
       "Main Stream Leght               66\n",
       "Stream Lenght Ratio             72\n",
       "Bifurcation Ratio               50\n",
       "Ro Coefficient                  69\n",
       "Lenght of Basin                 71\n",
       "Area                            72\n",
       "Perimeter                       68\n",
       "Form Factor                     68\n",
       "Elongation Ratio                71\n",
       "Circularity Ratio               70\n",
       "Compactness Coefficient         71\n",
       "Texture Ratio                   68\n",
       "Fitness Ratio                   71\n",
       "Wandering ratio                 73\n",
       "Stream Frequency                70\n",
       "Drainage Density                71\n",
       "Constant  Channel mantenance    71\n",
       "Drainage Intensity              70\n",
       "Infiltrarion Number             70\n",
       "Leght of overland flow          67\n",
       "Relief                          72\n",
       "Mean Basin Slope                71\n",
       "Relief Ratio                    72\n",
       "Rudgeness Number                72\n",
       "Melton Index                    72\n",
       "dtype: int64"
      ]
     },
     "execution_count": 11,
     "metadata": {},
     "output_type": "execute_result"
    }
   ],
   "source": [
    "X.nunique()"
   ]
  },
  {
   "cell_type": "markdown",
   "metadata": {
    "id": "-BTUNoa_g5Ap"
   },
   "source": [
    "La función *columns* permite conocer el nombre de cada una de las variables o columnas de mi base de datos. De tal forma que pueda posteriormente llamarla utilizando el nombre adecuado."
   ]
  },
  {
   "cell_type": "code",
   "execution_count": null,
   "metadata": {
    "colab": {
     "base_uri": "https://localhost:8080/"
    },
    "executionInfo": {
     "elapsed": 246,
     "status": "ok",
     "timestamp": 1663255165047,
     "user": {
      "displayName": "Edier Vicente Aristizabal Giraldo",
      "userId": "14756502124163770629"
     },
     "user_tz": 300
    },
    "id": "M9KT2hFug5Ap",
    "outputId": "a10dcead-7cbb-4df7-8297-d8edb4ecaf0b"
   },
   "outputs": [
    {
     "data": {
      "text/plain": [
       "Index(['Main Stream Order', 'Color', 'Categoria', 'Number of streams',\n",
       "       'Stream Lenght', 'Main Stream Leght ', 'Stream Lenght Ratio',\n",
       "       'Bifurcation Ratio ', 'Ro Coefficient', 'Lenght of Basin', 'Area ',\n",
       "       'Perimeter', 'Form Factor', 'Elongation Ratio', 'Circularity Ratio',\n",
       "       'Compactness Coefficient', 'Texture Ratio', 'Fitness Ratio',\n",
       "       'Wandering ratio', 'Stream Frequency', 'Drainage Density',\n",
       "       'Constant  Channel mantenance', 'Drainage Intensity',\n",
       "       'Infiltrarion Number', 'Leght of overland flow', 'Relief',\n",
       "       'Mean Basin Slope', 'Relief Ratio', 'Rudgeness Number', 'Melton Index'],\n",
       "      dtype='object')"
      ]
     },
     "execution_count": 15,
     "metadata": {},
     "output_type": "execute_result"
    }
   ],
   "source": [
    "X.columns"
   ]
  },
  {
   "cell_type": "markdown",
   "metadata": {
    "id": "QjzLWjbgg5Ar"
   },
   "source": [
    "La función *values* permite obtener una matriz con los valores de toda la base de datos, o como en este caso de una sola columna. Existen muchas funciones que no trabajan con columnas de un DataFrame, por lo cual se requiere convertirlas a una matriz o un vector."
   ]
  },
  {
   "cell_type": "code",
   "execution_count": null,
   "metadata": {
    "colab": {
     "base_uri": "https://localhost:8080/"
    },
    "executionInfo": {
     "elapsed": 252,
     "status": "ok",
     "timestamp": 1663255182862,
     "user": {
      "displayName": "Edier Vicente Aristizabal Giraldo",
      "userId": "14756502124163770629"
     },
     "user_tz": 300
    },
    "id": "UQoRpSp-g5As",
    "outputId": "0647f20e-1d10-41c1-a86d-c161c391ea3f",
    "scrolled": true
   },
   "outputs": [
    {
     "data": {
      "text/plain": [
       "array(['Azul', 'Azul', 'Azul', 'Rojo', nan, 'Rojo', 'Rojo', nan, 'Azul',\n",
       "       'Azul', nan, 'Rojo', 'Rojo', nan, 'Rojo', 'Verde', 'Azul', 'Azul',\n",
       "       'Azul', 'Rojo', 'Rojo', 'Rojo', 'Rojo', 'Verde', 'Azul', 'Azul',\n",
       "       'Azul', 'Rojo', 'Rojo', 'Rojo', 'Rojo', 'Verde', 'Azul', 'Azul',\n",
       "       'Azul', 'Rojo', 'Rojo', nan, 'Rojo', 'Verde', 'Azul', 'Azul',\n",
       "       'Azul', 'Rojo', 'Rojo', 'Rojo', 'Rojo', nan, 'Azul', 'Azul',\n",
       "       'Azul', 'Rojo', 'Rojo', 'Rojo', 'Rojo', 'Verde', 'Azul', 'Azul',\n",
       "       'Azul', 'Rojo', 'Rojo', 'Rojo', 'Rojo', 'Verde', 'Azul', 'Azul',\n",
       "       'Azul', 'Rojo', 'Rojo', 'Rojo', 'Rojo', 'Verde', 'Azul'],\n",
       "      dtype=object)"
      ]
     },
     "execution_count": 16,
     "metadata": {},
     "output_type": "execute_result"
    }
   ],
   "source": [
    "X.Color.values"
   ]
  },
  {
   "cell_type": "markdown",
   "metadata": {
    "id": "_MBSmKAKg5Au"
   },
   "source": [
    "Y para obtener el tipo de datos se puede utilizar la funcion *dtypes*. En este caso la mayoría de datos son tipo flotante, es decir números no enteros, a excepción de las variables categóricas que estan como objetos y la variable objetivo que presenta como tipo de datos enteros (0,1)."
   ]
  },
  {
   "cell_type": "code",
   "execution_count": null,
   "metadata": {
    "colab": {
     "base_uri": "https://localhost:8080/"
    },
    "executionInfo": {
     "elapsed": 251,
     "status": "ok",
     "timestamp": 1663255199112,
     "user": {
      "displayName": "Edier Vicente Aristizabal Giraldo",
      "userId": "14756502124163770629"
     },
     "user_tz": 300
    },
    "id": "sB-teY2Yg5Au",
    "outputId": "d9107e55-1b70-428e-adfd-1935add2590d",
    "scrolled": true
   },
   "outputs": [
    {
     "data": {
      "text/plain": [
       "Main Stream Order               float64\n",
       "Color                            object\n",
       "Categoria                        object\n",
       "Number of streams               float64\n",
       "Stream Lenght                   float64\n",
       "Main Stream Leght               float64\n",
       "Stream Lenght Ratio             float64\n",
       "Bifurcation Ratio                object\n",
       "Ro Coefficient                  float64\n",
       "Lenght of Basin                 float64\n",
       "Area                            float64\n",
       "Perimeter                       float64\n",
       "Form Factor                     float64\n",
       "Elongation Ratio                float64\n",
       "Circularity Ratio               float64\n",
       "Compactness Coefficient         float64\n",
       "Texture Ratio                   float64\n",
       "Fitness Ratio                   float64\n",
       "Wandering ratio                 float64\n",
       "Stream Frequency                float64\n",
       "Drainage Density                float64\n",
       "Constant  Channel mantenance    float64\n",
       "Drainage Intensity              float64\n",
       "Infiltrarion Number             float64\n",
       "Leght of overland flow          float64\n",
       "Relief                          float64\n",
       "Mean Basin Slope                float64\n",
       "Relief Ratio                    float64\n",
       "Rudgeness Number                float64\n",
       "Melton Index                    float64\n",
       "dtype: object"
      ]
     },
     "execution_count": 17,
     "metadata": {},
     "output_type": "execute_result"
    }
   ],
   "source": [
    "X.dtypes"
   ]
  },
  {
   "cell_type": "markdown",
   "metadata": {
    "id": "ZidVzpuNg5Aw"
   },
   "source": [
    "## Valores faltantes"
   ]
  },
  {
   "cell_type": "markdown",
   "metadata": {
    "id": "x74aiY6Yg5Ax"
   },
   "source": [
    "La función *info* ya nos señaló que todas las columnas no tienen el mismo número de datos, lo cual este indicando la ausencia de valores (NaN) en diferentes observaciones (filas). Estos valores se pueden dar por que efectivamente no se levantó dicho dato, o por que no fue leido adecuadamente los datos que existían en esta posición. Es importante conocer de cual de los casos se trata.\n",
    "\n",
    "Para identificar si en una variable existen valores faltantes se utiliza la función *notnull*, la cual verifica si no es un valor nulo. Donde la respuesta sea falso es por que en esta posición existe un NaN."
   ]
  },
  {
   "cell_type": "code",
   "execution_count": null,
   "metadata": {
    "colab": {
     "base_uri": "https://localhost:8080/"
    },
    "executionInfo": {
     "elapsed": 587,
     "status": "ok",
     "timestamp": 1663255205988,
     "user": {
      "displayName": "Edier Vicente Aristizabal Giraldo",
      "userId": "14756502124163770629"
     },
     "user_tz": 300
    },
    "id": "_K_rKP40uNGb",
    "outputId": "f3660f12-3766-4f3d-f4f8-7aba23821aea"
   },
   "outputs": [
    {
     "name": "stdout",
     "output_type": "stream",
     "text": [
      "<class 'pandas.core.frame.DataFrame'>\n",
      "RangeIndex: 73 entries, 0 to 72\n",
      "Data columns (total 31 columns):\n",
      " #   Column                        Non-Null Count  Dtype  \n",
      "---  ------                        --------------  -----  \n",
      " 0   Main Stream Order             72 non-null     float64\n",
      " 1   Color                         67 non-null     object \n",
      " 2   Categoria                     69 non-null     object \n",
      " 3   Number of streams             70 non-null     float64\n",
      " 4   Stream Lenght                 69 non-null     float64\n",
      " 5   Main Stream Leght             67 non-null     float64\n",
      " 6   Stream Lenght Ratio           72 non-null     float64\n",
      " 7   Bifurcation Ratio             69 non-null     object \n",
      " 8   Ro Coefficient                69 non-null     float64\n",
      " 9   Lenght of Basin               71 non-null     float64\n",
      " 10  Area                          72 non-null     float64\n",
      " 11  Perimeter                     69 non-null     float64\n",
      " 12  Form Factor                   68 non-null     float64\n",
      " 13  Elongation Ratio              71 non-null     float64\n",
      " 14  Circularity Ratio             70 non-null     float64\n",
      " 15  Compactness Coefficient       71 non-null     float64\n",
      " 16  Texture Ratio                 68 non-null     float64\n",
      " 17  Fitness Ratio                 71 non-null     float64\n",
      " 18  Wandering ratio               73 non-null     float64\n",
      " 19  Stream Frequency              70 non-null     float64\n",
      " 20  Drainage Density              71 non-null     float64\n",
      " 21  Constant  Channel mantenance  71 non-null     float64\n",
      " 22  Drainage Intensity            70 non-null     float64\n",
      " 23  Infiltrarion Number           70 non-null     float64\n",
      " 24  Leght of overland flow        67 non-null     float64\n",
      " 25  Relief                        72 non-null     float64\n",
      " 26  Mean Basin Slope              72 non-null     float64\n",
      " 27  Relief Ratio                  72 non-null     float64\n",
      " 28  Rudgeness Number              72 non-null     float64\n",
      " 29  Melton Index                  72 non-null     float64\n",
      " 30  Flash flood record            73 non-null     object \n",
      "dtypes: float64(27), object(4)\n",
      "memory usage: 17.8+ KB\n"
     ]
    }
   ],
   "source": [
    "data.info()"
   ]
  },
  {
   "cell_type": "code",
   "execution_count": null,
   "metadata": {
    "colab": {
     "base_uri": "https://localhost:8080/"
    },
    "executionInfo": {
     "elapsed": 401,
     "status": "ok",
     "timestamp": 1663255279609,
     "user": {
      "displayName": "Edier Vicente Aristizabal Giraldo",
      "userId": "14756502124163770629"
     },
     "user_tz": 300
    },
    "id": "ZC8F7kCANDk3",
    "outputId": "30fe813f-1b33-4c3b-be0a-bb73e07fed6d"
   },
   "outputs": [
    {
     "data": {
      "text/plain": [
       "Main Stream Order                True\n",
       "Color                            True\n",
       "Categoria                        True\n",
       "Number of streams                True\n",
       "Stream Lenght                    True\n",
       "Main Stream Leght                True\n",
       "Stream Lenght Ratio              True\n",
       "Bifurcation Ratio                True\n",
       "Ro Coefficient                   True\n",
       "Lenght of Basin                  True\n",
       "Area                             True\n",
       "Perimeter                        True\n",
       "Form Factor                      True\n",
       "Elongation Ratio                 True\n",
       "Circularity Ratio                True\n",
       "Compactness Coefficient          True\n",
       "Texture Ratio                    True\n",
       "Fitness Ratio                    True\n",
       "Wandering ratio                 False\n",
       "Stream Frequency                 True\n",
       "Drainage Density                 True\n",
       "Constant  Channel mantenance     True\n",
       "Drainage Intensity               True\n",
       "Infiltrarion Number              True\n",
       "Leght of overland flow           True\n",
       "Relief                           True\n",
       "Mean Basin Slope                 True\n",
       "Relief Ratio                     True\n",
       "Rudgeness Number                 True\n",
       "Melton Index                     True\n",
       "Flash flood record              False\n",
       "dtype: bool"
      ]
     },
     "execution_count": 20,
     "metadata": {},
     "output_type": "execute_result"
    }
   ],
   "source": [
    "data.isna().any()"
   ]
  },
  {
   "cell_type": "code",
   "execution_count": null,
   "metadata": {
    "colab": {
     "base_uri": "https://localhost:8080/"
    },
    "executionInfo": {
     "elapsed": 221,
     "status": "ok",
     "timestamp": 1663109659328,
     "user": {
      "displayName": "Edier Vicente Aristizabal Giraldo",
      "userId": "14756502124163770629"
     },
     "user_tz": 300
    },
    "id": "WltGO6Fjg5Ax",
    "outputId": "7bd24061-9aca-45ca-c02c-80c841ffccf3"
   },
   "outputs": [
    {
     "data": {
      "text/plain": [
       "0      True\n",
       "1      True\n",
       "2     False\n",
       "3      True\n",
       "4      True\n",
       "      ...  \n",
       "68     True\n",
       "69     True\n",
       "70     True\n",
       "71     True\n",
       "72     True\n",
       "Name: Main Stream Order, Length: 73, dtype: bool"
      ]
     },
     "execution_count": 30,
     "metadata": {},
     "output_type": "execute_result"
    }
   ],
   "source": [
    "pd.notnull(X['Main Stream Order'])"
   ]
  },
  {
   "cell_type": "code",
   "execution_count": null,
   "metadata": {
    "colab": {
     "base_uri": "https://localhost:8080/",
     "height": 621
    },
    "executionInfo": {
     "elapsed": 2368,
     "status": "ok",
     "timestamp": 1663255383263,
     "user": {
      "displayName": "Edier Vicente Aristizabal Giraldo",
      "userId": "14756502124163770629"
     },
     "user_tz": 300
    },
    "id": "DVtUpT7SNDk4",
    "outputId": "0fce15da-ef4f-4235-c961-ed295a0ba41c"
   },
   "outputs": [
    {
     "data": {
      "text/plain": [
       "<matplotlib.axes._subplots.AxesSubplot at 0x7fc51f22bb10>"
      ]
     },
     "execution_count": 21,
     "metadata": {},
     "output_type": "execute_result"
    },
    {
     "data": {
      "image/png": "[encoded data removed]",
      "text/plain": [
       "<Figure size 1800x720 with 2 Axes>"
      ]
     },
     "metadata": {
      "needs_background": "light"
     },
     "output_type": "display_data"
    }
   ],
   "source": [
    "import missingno as msno\n",
    "msno.matrix(data)"
   ]
  },
  {
   "cell_type": "code",
   "execution_count": null,
   "metadata": {
    "colab": {
     "base_uri": "https://localhost:8080/",
     "height": 756
    },
    "executionInfo": {
     "elapsed": 4283,
     "status": "ok",
     "timestamp": 1663109682452,
     "user": {
      "displayName": "Edier Vicente Aristizabal Giraldo",
      "userId": "14756502124163770629"
     },
     "user_tz": 300
    },
    "id": "0iEskyvBNDk4",
    "outputId": "aba07582-ea1f-4a12-97b6-c595a8eddd33"
   },
   "outputs": [
    {
     "data": {
      "text/plain": [
       "<matplotlib.axes._subplots.AxesSubplot at 0x7f23fab3f290>"
      ]
     },
     "execution_count": 32,
     "metadata": {},
     "output_type": "execute_result"
    },
    {
     "data": {
      "image/png": "[encoded data removed]",
      "text/plain": [
       "<Figure size 1800x720 with 3 Axes>"
      ]
     },
     "metadata": {
      "needs_background": "light"
     },
     "output_type": "display_data"
    }
   ],
   "source": [
    "msno.bar(data)"
   ]
  },
  {
   "cell_type": "markdown",
   "metadata": {
    "id": "co6FVp72g5A0"
   },
   "source": [
    "La función *isnull* concatenada con las funciones *values* y *ravel* nos permiten obtener el número de NaN existentes."
   ]
  },
  {
   "cell_type": "code",
   "execution_count": null,
   "metadata": {
    "colab": {
     "base_uri": "https://localhost:8080/"
    },
    "executionInfo": {
     "elapsed": 305,
     "status": "ok",
     "timestamp": 1663255605858,
     "user": {
      "displayName": "Edier Vicente Aristizabal Giraldo",
      "userId": "14756502124163770629"
     },
     "user_tz": 300
    },
    "id": "BcyIGTMQg5A0",
    "outputId": "34bbd05e-a0bd-48f6-bd6d-9a424ab64480"
   },
   "outputs": [
    {
     "data": {
      "text/plain": [
       "1"
      ]
     },
     "execution_count": 28,
     "metadata": {},
     "output_type": "execute_result"
    }
   ],
   "source": [
    "sum(X['Main Stream Order'].isnull().values)"
   ]
  },
  {
   "cell_type": "markdown",
   "metadata": {
    "id": "BLsxdbIjg5A2"
   },
   "source": [
    "Si se desea conocer cuantas filas tienen valores *nan* en algún lado se utiliza la siguiente función:"
   ]
  },
  {
   "cell_type": "code",
   "execution_count": null,
   "metadata": {
    "colab": {
     "base_uri": "https://localhost:8080/"
    },
    "executionInfo": {
     "elapsed": 256,
     "status": "ok",
     "timestamp": 1663255677183,
     "user": {
      "displayName": "Edier Vicente Aristizabal Giraldo",
      "userId": "14756502124163770629"
     },
     "user_tz": 300
    },
    "id": "TbBAPFDMg5A3",
    "outputId": "313dadc5-3458-4c1d-d566-22fe4ca55d28"
   },
   "outputs": [
    {
     "data": {
      "text/plain": [
       "32"
      ]
     },
     "execution_count": 29,
     "metadata": {},
     "output_type": "execute_result"
    }
   ],
   "source": [
    "sum([True for idx,row in X.iterrows() if any(row.isnull())])"
   ]
  },
  {
   "cell_type": "code",
   "execution_count": null,
   "metadata": {
    "colab": {
     "base_uri": "https://localhost:8080/"
    },
    "executionInfo": {
     "elapsed": 258,
     "status": "ok",
     "timestamp": 1663255706212,
     "user": {
      "displayName": "Edier Vicente Aristizabal Giraldo",
      "userId": "14756502124163770629"
     },
     "user_tz": 300
    },
    "id": "LqoJHPHqw9Yj",
    "outputId": "54931cf0-4b3f-4ef5-db96-1da3fb1f7924"
   },
   "outputs": [
    {
     "data": {
      "text/plain": [
       "(73, 31)"
      ]
     },
     "execution_count": 30,
     "metadata": {},
     "output_type": "execute_result"
    }
   ],
   "source": [
    "data.shape"
   ]
  },
  {
   "cell_type": "markdown",
   "metadata": {
    "id": "FE11jZxRg5A5"
   },
   "source": [
    "Para saber cuantas posiciones en total corresponden a *nan* se utiliza:"
   ]
  },
  {
   "cell_type": "code",
   "execution_count": null,
   "metadata": {
    "colab": {
     "base_uri": "https://localhost:8080/"
    },
    "executionInfo": {
     "elapsed": 279,
     "status": "ok",
     "timestamp": 1663255765494,
     "user": {
      "displayName": "Edier Vicente Aristizabal Giraldo",
      "userId": "14756502124163770629"
     },
     "user_tz": 300
    },
    "id": "kEr0IO1Tg5A5",
    "outputId": "785d55eb-cd93-4e77-9473-459ca81cb846"
   },
   "outputs": [
    {
     "data": {
      "text/plain": [
       "83"
      ]
     },
     "execution_count": 32,
     "metadata": {},
     "output_type": "execute_result"
    }
   ],
   "source": [
    "X.isnull().values.ravel().sum()"
   ]
  },
  {
   "cell_type": "markdown",
   "metadata": {
    "id": "mBtPxtl8g5BL"
   },
   "source": [
    "## Imputación"
   ]
  },
  {
   "cell_type": "markdown",
   "metadata": {
    "id": "dyc6ZR1-g5BM"
   },
   "source": [
    "Luego de identificar las columnas, filas y posiciones que presentan valores nulos, se procede a eliminar o reemplazar estos valores. En ambos casos existen diferentes alternativas segun la cantidad de datos que se tienen y el número de valores nulos, entre otros criterios."
   ]
  },
  {
   "cell_type": "markdown",
   "metadata": {
    "id": "WRTvY4gYg5BN"
   },
   "source": [
    "Con la librearía *Feature Selector* se puede utilizar la funcion *Remove*:"
   ]
  },
  {
   "cell_type": "code",
   "execution_count": null,
   "metadata": {
    "id": "2IvTKtjfg5BN"
   },
   "outputs": [],
   "source": [
    "train_no_missing = fs.remove(methods = ['missing'])"
   ]
  },
  {
   "cell_type": "markdown",
   "metadata": {
    "id": "38bWyVdzg5BQ"
   },
   "source": [
    "Para eliminar la columna o fila que presenta dicho valor nulo se utilizan diferentes criterios. en el caso de la columna o variable se prefiere eliminar cuando se tiene un número importante de valores nulos. Es decir se presentan pocas observaciones o datos de esta variable, por lo tanto no será de mucha ayuda en el modelo. En el caso de preferir eliminar la fila, ya que es una o pocas observaciones de esta variable que presentan valores nulos, se analiza si se cuenta con suficientes observaciones (filas).\n",
    "\n",
    "Para cualquiera de estos casos se utiliza la función *dropna*, especificando en el argumento *axis* si corresponde a una fila (0) o a una columna (1). En el argumento *how* se define el criterio para borrar la fila o columna. En el caso de *all* la función borra solo si todos los valores de dicha fila o columna son NaN. Y *any* borra solo con la presencia de un valor NaN."
   ]
  },
  {
   "cell_type": "code",
   "execution_count": null,
   "metadata": {
    "colab": {
     "base_uri": "https://localhost:8080/"
    },
    "executionInfo": {
     "elapsed": 293,
     "status": "ok",
     "timestamp": 1663256263141,
     "user": {
      "displayName": "Edier Vicente Aristizabal Giraldo",
      "userId": "14756502124163770629"
     },
     "user_tz": 300
    },
    "id": "shVgA2Yvg5BQ",
    "outputId": "990e567a-8839-4000-bb82-4f141bb5e779"
   },
   "outputs": [
    {
     "data": {
      "text/plain": [
       "(41, 31)"
      ]
     },
     "execution_count": 36,
     "metadata": {},
     "output_type": "execute_result"
    }
   ],
   "source": [
    "data2=data.dropna(axis=0,how='any')\n",
    "data2.shape"
   ]
  },
  {
   "cell_type": "code",
   "execution_count": null,
   "metadata": {
    "colab": {
     "base_uri": "https://localhost:8080/"
    },
    "executionInfo": {
     "elapsed": 311,
     "status": "ok",
     "timestamp": 1663256345055,
     "user": {
      "displayName": "Edier Vicente Aristizabal Giraldo",
      "userId": "14756502124163770629"
     },
     "user_tz": 300
    },
    "id": "5vAxjaSHg5BS",
    "outputId": "2553314c-a0a5-4a89-a067-2d9c606d2333"
   },
   "outputs": [
    {
     "data": {
      "text/plain": [
       "(41, 31)"
      ]
     },
     "execution_count": 38,
     "metadata": {},
     "output_type": "execute_result"
    }
   ],
   "source": [
    "data3=data.dropna(axis=0,how='any')\n",
    "data3.shape"
   ]
  },
  {
   "cell_type": "code",
   "execution_count": null,
   "metadata": {
    "colab": {
     "base_uri": "https://localhost:8080/",
     "height": 240
    },
    "executionInfo": {
     "elapsed": 740,
     "status": "ok",
     "timestamp": 1663256354127,
     "user": {
      "displayName": "Edier Vicente Aristizabal Giraldo",
      "userId": "14756502124163770629"
     },
     "user_tz": 300
    },
    "id": "hFKo1NSR6rJO",
    "outputId": "654106b8-8b6b-4ffb-9763-7e0124a08bd6"
   },
   "outputs": [
    {
     "data": {
      "text/html": [
       "\n",
       "  <div id=\"df-119b7949-dec3-460a-8ab8-dde86221e141\">\n",
       "    <div class=\"colab-df-container\">\n",
       "      <div>\n",
       "<style scoped>\n",
       "    .dataframe tbody tr th:only-of-type {\n",
       "        vertical-align: middle;\n",
       "    }\n",
       "\n",
       "    .dataframe tbody tr th {\n",
       "        vertical-align: top;\n",
       "    }\n",
       "\n",
       "    .dataframe thead th {\n",
       "        text-align: right;\n",
       "    }\n",
       "</style>\n",
       "<table border=\"1\" class=\"dataframe\">\n",
       "  <thead>\n",
       "    <tr style=\"text-align: right;\">\n",
       "      <th></th>\n",
       "      <th>Main Stream Order</th>\n",
       "      <th>Color</th>\n",
       "      <th>Categoria</th>\n",
       "      <th>Number of streams</th>\n",
       "      <th>Stream Lenght</th>\n",
       "      <th>Main Stream Leght</th>\n",
       "      <th>Stream Lenght Ratio</th>\n",
       "      <th>Bifurcation Ratio</th>\n",
       "      <th>Ro Coefficient</th>\n",
       "      <th>Lenght of Basin</th>\n",
       "      <th>...</th>\n",
       "      <th>Constant  Channel mantenance</th>\n",
       "      <th>Drainage Intensity</th>\n",
       "      <th>Infiltrarion Number</th>\n",
       "      <th>Leght of overland flow</th>\n",
       "      <th>Relief</th>\n",
       "      <th>Mean Basin Slope</th>\n",
       "      <th>Relief Ratio</th>\n",
       "      <th>Rudgeness Number</th>\n",
       "      <th>Melton Index</th>\n",
       "      <th>Flash flood record</th>\n",
       "    </tr>\n",
       "  </thead>\n",
       "  <tbody>\n",
       "    <tr>\n",
       "      <th>0</th>\n",
       "      <td>2.0</td>\n",
       "      <td>Azul</td>\n",
       "      <td>A</td>\n",
       "      <td>3.0</td>\n",
       "      <td>4.982</td>\n",
       "      <td>4.048</td>\n",
       "      <td>0.907351</td>\n",
       "      <td>2.0</td>\n",
       "      <td>2.204219</td>\n",
       "      <td>5.904</td>\n",
       "      <td>...</td>\n",
       "      <td>1.030309</td>\n",
       "      <td>0.602168</td>\n",
       "      <td>0.56726</td>\n",
       "      <td>0.515155</td>\n",
       "      <td>1.319</td>\n",
       "      <td>24.32</td>\n",
       "      <td>0.223408</td>\n",
       "      <td>1.280198</td>\n",
       "      <td>0.582183</td>\n",
       "      <td>AB</td>\n",
       "    </tr>\n",
       "    <tr>\n",
       "      <th>15</th>\n",
       "      <td>5.0</td>\n",
       "      <td>Verde</td>\n",
       "      <td>C</td>\n",
       "      <td>173.0</td>\n",
       "      <td>290.076</td>\n",
       "      <td>42.482</td>\n",
       "      <td>2.360309</td>\n",
       "      <td>3.5375</td>\n",
       "      <td>1.559641</td>\n",
       "      <td>45.233</td>\n",
       "      <td>...</td>\n",
       "      <td>1.013703</td>\n",
       "      <td>0.596395</td>\n",
       "      <td>0.58038</td>\n",
       "      <td>0.506852</td>\n",
       "      <td>2.704</td>\n",
       "      <td>24.74</td>\n",
       "      <td>0.059779</td>\n",
       "      <td>2.667447</td>\n",
       "      <td>0.157687</td>\n",
       "      <td>AB</td>\n",
       "    </tr>\n",
       "  </tbody>\n",
       "</table>\n",
       "<p>2 rows × 31 columns</p>\n",
       "</div>\n",
       "      <button class=\"colab-df-convert\" onclick=\"convertToInteractive('df-119b7949-dec3-460a-8ab8-dde86221e141')\"\n",
       "              title=\"Convert this dataframe to an interactive table.\"\n",
       "              style=\"display:none;\">\n",
       "        \n",
       "  <svg xmlns=\"http://www.w3.org/2000/svg\" height=\"24px\"viewBox=\"0 0 24 24\"\n",
       "       width=\"24px\">\n",
       "    <path d=\"M0 0h24v24H0V0z\" fill=\"none\"/>\n",
       "    <path d=\"M18.56 5.44l.94 2.06.94-2.06 2.06-.94-2.06-.94-.94-2.06-.94 2.06-2.06.94zm-11 1L8.5 8.5l.94-2.06 2.06-.94-2.06-.94L8.5 2.5l-.94 2.06-2.06.94zm10 10l.94 2.06.94-2.06 2.06-.94-2.06-.94-.94-2.06-.94 2.06-2.06.94z\"/><path d=\"M17.41 7.96l-1.37-1.37c-.4-.4-.92-.59-1.43-.59-.52 0-1.04.2-1.43.59L10.3 9.45l-7.72 7.72c-.78.78-.78 2.05 0 2.83L4 21.41c.39.39.9.59 1.41.59.51 0 1.02-.2 1.41-.59l7.78-7.78 2.81-2.81c.8-.78.8-2.07 0-2.86zM5.41 20L4 18.59l7.72-7.72 1.47 1.35L5.41 20z\"/>\n",
       "  </svg>\n",
       "      </button>\n",
       "      \n",
       "  <style>\n",
       "    .colab-df-container {\n",
       "      display:flex;\n",
       "      flex-wrap:wrap;\n",
       "      gap: 12px;\n",
       "    }\n",
       "\n",
       "    .colab-df-convert {\n",
       "      background-color: #E8F0FE;\n",
       "      border: none;\n",
       "      border-radius: 50%;\n",
       "      cursor: pointer;\n",
       "      display: none;\n",
       "      fill: #1967D2;\n",
       "      height: 32px;\n",
       "      padding: 0 0 0 0;\n",
       "      width: 32px;\n",
       "    }\n",
       "\n",
       "    .colab-df-convert:hover {\n",
       "      background-color: #E2EBFA;\n",
       "      box-shadow: 0px 1px 2px rgba(60, 64, 67, 0.3), 0px 1px 3px 1px rgba(60, 64, 67, 0.15);\n",
       "      fill: #174EA6;\n",
       "    }\n",
       "\n",
       "    [theme=dark] .colab-df-convert {\n",
       "      background-color: #3B4455;\n",
       "      fill: #D2E3FC;\n",
       "    }\n",
       "\n",
       "    [theme=dark] .colab-df-convert:hover {\n",
       "      background-color: #434B5C;\n",
       "      box-shadow: 0px 1px 3px 1px rgba(0, 0, 0, 0.15);\n",
       "      filter: drop-shadow(0px 1px 2px rgba(0, 0, 0, 0.3));\n",
       "      fill: #FFFFFF;\n",
       "    }\n",
       "  </style>\n",
       "\n",
       "      <script>\n",
       "        const buttonEl =\n",
       "          document.querySelector('#df-119b7949-dec3-460a-8ab8-dde86221e141 button.colab-df-convert');\n",
       "        buttonEl.style.display =\n",
       "          google.colab.kernel.accessAllowed ? 'block' : 'none';\n",
       "\n",
       "        async function convertToInteractive(key) {\n",
       "          const element = document.querySelector('#df-119b7949-dec3-460a-8ab8-dde86221e141');\n",
       "          const dataTable =\n",
       "            await google.colab.kernel.invokeFunction('convertToInteractive',\n",
       "                                                     [key], {});\n",
       "          if (!dataTable) return;\n",
       "\n",
       "          const docLinkHtml = 'Like what you see? Visit the ' +\n",
       "            '<a target=\"_blank\" href=https://colab.research.google.com/notebooks/data_table.ipynb>data table notebook</a>'\n",
       "            + ' to learn more about interactive tables.';\n",
       "          element.innerHTML = '';\n",
       "          dataTable['output_type'] = 'display_data';\n",
       "          await google.colab.output.renderOutput(dataTable, element);\n",
       "          const docLink = document.createElement('div');\n",
       "          docLink.innerHTML = docLinkHtml;\n",
       "          element.appendChild(docLink);\n",
       "        }\n",
       "      </script>\n",
       "    </div>\n",
       "  </div>\n",
       "  "
      ],
      "text/plain": [
       "    Main Stream Order  Color Categoria  Number of streams  Stream Lenght  \\\n",
       "0                 2.0   Azul         A                3.0          4.982   \n",
       "15                5.0  Verde         C              173.0        290.076   \n",
       "\n",
       "    Main Stream Leght   Stream Lenght Ratio Bifurcation Ratio   \\\n",
       "0                4.048             0.907351                2.0   \n",
       "15              42.482             2.360309             3.5375   \n",
       "\n",
       "    Ro Coefficient  Lenght of Basin  ...  Constant  Channel mantenance  \\\n",
       "0         2.204219            5.904  ...                      1.030309   \n",
       "15        1.559641           45.233  ...                      1.013703   \n",
       "\n",
       "    Drainage Intensity  Infiltrarion Number  Leght of overland flow  Relief  \\\n",
       "0             0.602168              0.56726                0.515155   1.319   \n",
       "15            0.596395              0.58038                0.506852   2.704   \n",
       "\n",
       "    Mean Basin Slope  Relief Ratio  Rudgeness Number  Melton Index  \\\n",
       "0              24.32      0.223408          1.280198      0.582183   \n",
       "15             24.74      0.059779          2.667447      0.157687   \n",
       "\n",
       "    Flash flood record  \n",
       "0                   AB  \n",
       "15                  AB  \n",
       "\n",
       "[2 rows x 31 columns]"
      ]
     },
     "execution_count": 39,
     "metadata": {},
     "output_type": "execute_result"
    }
   ],
   "source": [
    "data3.head(2)"
   ]
  },
  {
   "cell_type": "markdown",
   "metadata": {
    "id": "y0PCY8Xog5BU"
   },
   "source": [
    "En caso de no preferir borrar la fila o columna se procede a reemplazar dicho dato. Existen diferentes formas:\n",
    "- Llenar con un valor de cero (0) o cualquier otro valor que permita trabajar con los datos pero que se identifique todo el tiempo que correspondía a un valor nulo. \n",
    "- reempalazar el valor faltante con la media.\n",
    "- y finalmente reemplazar el NaN con el valor siguiente proximo (*ffill*) o con el valor anterior próximo (*backfill*).\n",
    "\n",
    "A continuación se presentan cada una de estas opciones."
   ]
  },
  {
   "cell_type": "code",
   "execution_count": null,
   "metadata": {
    "colab": {
     "base_uri": "https://localhost:8080/"
    },
    "executionInfo": {
     "elapsed": 405,
     "status": "ok",
     "timestamp": 1663256513628,
     "user": {
      "displayName": "Edier Vicente Aristizabal Giraldo",
      "userId": "14756502124163770629"
     },
     "user_tz": 300
    },
    "id": "dhVVhB0C0EC9",
    "outputId": "83acd3e6-3039-43a6-b372-7953b8bffd54"
   },
   "outputs": [
    {
     "data": {
      "text/plain": [
       "0     2.0\n",
       "1     2.0\n",
       "2     NaN\n",
       "3     3.0\n",
       "4     2.0\n",
       "     ... \n",
       "68    2.0\n",
       "69    5.0\n",
       "70    2.0\n",
       "71    3.0\n",
       "72    2.0\n",
       "Name: Main Stream Order, Length: 73, dtype: float64"
      ]
     },
     "execution_count": 40,
     "metadata": {},
     "output_type": "execute_result"
    }
   ],
   "source": [
    "data['Main Stream Order']"
   ]
  },
  {
   "cell_type": "code",
   "execution_count": null,
   "metadata": {
    "colab": {
     "base_uri": "https://localhost:8080/"
    },
    "executionInfo": {
     "elapsed": 340,
     "status": "ok",
     "timestamp": 1663256526537,
     "user": {
      "displayName": "Edier Vicente Aristizabal Giraldo",
      "userId": "14756502124163770629"
     },
     "user_tz": 300
    },
    "id": "bcK0sro2g5BU",
    "outputId": "18aa9f88-d05a-4d28-96a1-5fccbd233042",
    "scrolled": true
   },
   "outputs": [
    {
     "data": {
      "text/plain": [
       "0    2.0\n",
       "1    2.0\n",
       "2    0.0\n",
       "3    3.0\n",
       "4    2.0\n",
       "Name: Main Stream Order, dtype: float64"
      ]
     },
     "execution_count": 41,
     "metadata": {},
     "output_type": "execute_result"
    }
   ],
   "source": [
    "Main_Stream=data['Main Stream Order'].fillna(0)\n",
    "Main_Stream.head(5)"
   ]
  },
  {
   "cell_type": "code",
   "execution_count": null,
   "metadata": {
    "colab": {
     "base_uri": "https://localhost:8080/"
    },
    "executionInfo": {
     "elapsed": 268,
     "status": "ok",
     "timestamp": 1663256532841,
     "user": {
      "displayName": "Edier Vicente Aristizabal Giraldo",
      "userId": "14756502124163770629"
     },
     "user_tz": 300
    },
    "id": "G6e6JbX9g5BZ",
    "outputId": "cd1924f6-1414-4038-ef18-3616fcd03660",
    "scrolled": true
   },
   "outputs": [
    {
     "data": {
      "text/plain": [
       "0    2.0\n",
       "1    2.0\n",
       "2    2.0\n",
       "3    3.0\n",
       "4    2.0\n",
       "Name: Main Stream Order, dtype: float64"
      ]
     },
     "execution_count": 42,
     "metadata": {},
     "output_type": "execute_result"
    }
   ],
   "source": [
    "data4=data['Main Stream Order'].fillna(data['Main Stream Order'].min())\n",
    "data4.head(5)"
   ]
  },
  {
   "cell_type": "code",
   "execution_count": null,
   "metadata": {
    "colab": {
     "base_uri": "https://localhost:8080/"
    },
    "executionInfo": {
     "elapsed": 627,
     "status": "ok",
     "timestamp": 1663256565857,
     "user": {
      "displayName": "Edier Vicente Aristizabal Giraldo",
      "userId": "14756502124163770629"
     },
     "user_tz": 300
    },
    "id": "FX2XueXSg5Bb",
    "outputId": "22fec33b-e09c-4340-a8f2-92640539ced2",
    "scrolled": true
   },
   "outputs": [
    {
     "data": {
      "text/plain": [
       "0    2.0\n",
       "1    2.0\n",
       "2    2.0\n",
       "3    3.0\n",
       "4    2.0\n",
       "5    4.0\n",
       "6    3.0\n",
       "7    3.0\n",
       "8    2.0\n",
       "9    3.0\n",
       "Name: Main Stream Order, dtype: float64"
      ]
     },
     "execution_count": 43,
     "metadata": {},
     "output_type": "execute_result"
    }
   ],
   "source": [
    "data5=data['Main Stream Order'].fillna(method='ffill')\n",
    "data5.head(10)"
   ]
  },
  {
   "cell_type": "code",
   "execution_count": null,
   "metadata": {
    "colab": {
     "base_uri": "https://localhost:8080/"
    },
    "executionInfo": {
     "elapsed": 345,
     "status": "ok",
     "timestamp": 1663256594680,
     "user": {
      "displayName": "Edier Vicente Aristizabal Giraldo",
      "userId": "14756502124163770629"
     },
     "user_tz": 300
    },
    "id": "r0ZPypPTg5Bd",
    "outputId": "bfa2c2fe-0d2a-42d1-d6b0-7f9d046462be",
    "scrolled": true
   },
   "outputs": [
    {
     "data": {
      "text/plain": [
       "0    2.0\n",
       "1    2.0\n",
       "2    3.0\n",
       "3    3.0\n",
       "4    2.0\n",
       "5    4.0\n",
       "6    3.0\n",
       "7    3.0\n",
       "8    2.0\n",
       "9    3.0\n",
       "Name: Main Stream Order, dtype: float64"
      ]
     },
     "execution_count": 44,
     "metadata": {},
     "output_type": "execute_result"
    }
   ],
   "source": [
    "data6=data['Main Stream Order'].fillna(method='backfill')\n",
    "data6.head(10)"
   ]
  },
  {
   "cell_type": "code",
   "execution_count": null,
   "metadata": {
    "colab": {
     "base_uri": "https://localhost:8080/"
    },
    "executionInfo": {
     "elapsed": 255,
     "status": "ok",
     "timestamp": 1663256704851,
     "user": {
      "displayName": "Edier Vicente Aristizabal Giraldo",
      "userId": "14756502124163770629"
     },
     "user_tz": 300
    },
    "id": "3wC7f3pzg5Bf",
    "outputId": "31614b71-0176-41cb-90af-8883785d46b1"
   },
   "outputs": [
    {
     "name": "stdout",
     "output_type": "stream",
     "text": [
      "0     2.0\n",
      "1     2.0\n",
      "2     2.5\n",
      "3     3.0\n",
      "4     2.0\n",
      "     ... \n",
      "68    2.0\n",
      "69    5.0\n",
      "70    2.0\n",
      "71    3.0\n",
      "72    2.0\n",
      "Name: Main Stream Order, Length: 73, dtype: float64\n"
     ]
    }
   ],
   "source": [
    "data7=data['Main Stream Order'].interpolate(limit=30, limit_direction='both')\n",
    "print(data7)"
   ]
  },
  {
   "cell_type": "markdown",
   "metadata": {
    "id": "Zz4pxai6g5Bh"
   },
   "source": [
    "Una opción intermedia es eliminar la columna o fila solo si sobrepasa un porcentaje de valores nulos predefinidos como umbral."
   ]
  },
  {
   "cell_type": "code",
   "execution_count": null,
   "metadata": {
    "colab": {
     "base_uri": "https://localhost:8080/"
    },
    "executionInfo": {
     "elapsed": 587,
     "status": "ok",
     "timestamp": 1663256990096,
     "user": {
      "displayName": "Edier Vicente Aristizabal Giraldo",
      "userId": "14756502124163770629"
     },
     "user_tz": 300
    },
    "id": "jjYw3WS1g5Bh",
    "outputId": "265d338d-e874-42b0-ca6f-e4222456a69d"
   },
   "outputs": [
    {
     "data": {
      "text/plain": [
       "(73, 21)"
      ]
     },
     "execution_count": 48,
     "metadata": {},
     "output_type": "execute_result"
    }
   ],
   "source": [
    "umbral = 0.05 # 5% de los datos es nulo\n",
    "data7= data[data.columns[data.isnull().mean() < umbral]]\n",
    "data7.shape"
   ]
  },
  {
   "cell_type": "code",
   "execution_count": null,
   "metadata": {
    "colab": {
     "base_uri": "https://localhost:8080/"
    },
    "executionInfo": {
     "elapsed": 586,
     "status": "ok",
     "timestamp": 1663256894460,
     "user": {
      "displayName": "Edier Vicente Aristizabal Giraldo",
      "userId": "14756502124163770629"
     },
     "user_tz": 300
    },
    "id": "xCB5kyWg1gnd",
    "outputId": "080ef01d-7ea0-4470-e797-cfaeca6ec2b5"
   },
   "outputs": [
    {
     "data": {
      "text/plain": [
       "Main Stream Order               0.013699\n",
       "Color                           0.082192\n",
       "Categoria                       0.054795\n",
       "Number of streams               0.041096\n",
       "Stream Lenght                   0.054795\n",
       "Main Stream Leght               0.082192\n",
       "Stream Lenght Ratio             0.013699\n",
       "Bifurcation Ratio               0.054795\n",
       "Ro Coefficient                  0.054795\n",
       "Lenght of Basin                 0.027397\n",
       "Area                            0.013699\n",
       "Perimeter                       0.054795\n",
       "Form Factor                     0.068493\n",
       "Elongation Ratio                0.027397\n",
       "Circularity Ratio               0.041096\n",
       "Compactness Coefficient         0.027397\n",
       "Texture Ratio                   0.068493\n",
       "Fitness Ratio                   0.027397\n",
       "Wandering ratio                 0.000000\n",
       "Stream Frequency                0.041096\n",
       "Drainage Density                0.027397\n",
       "Constant  Channel mantenance    0.027397\n",
       "Drainage Intensity              0.041096\n",
       "Infiltrarion Number             0.041096\n",
       "Leght of overland flow          0.082192\n",
       "Relief                          0.013699\n",
       "Mean Basin Slope                0.013699\n",
       "Relief Ratio                    0.013699\n",
       "Rudgeness Number                0.013699\n",
       "Melton Index                    0.013699\n",
       "Flash flood record              0.000000\n",
       "dtype: float64"
      ]
     },
     "execution_count": 47,
     "metadata": {},
     "output_type": "execute_result"
    }
   ],
   "source": [
    "data.isnull().mean()"
   ]
  },
  {
   "cell_type": "code",
   "execution_count": null,
   "metadata": {
    "colab": {
     "base_uri": "https://localhost:8080/"
    },
    "executionInfo": {
     "elapsed": 288,
     "status": "ok",
     "timestamp": 1663257033783,
     "user": {
      "displayName": "Edier Vicente Aristizabal Giraldo",
      "userId": "14756502124163770629"
     },
     "user_tz": 300
    },
    "id": "N4BJmFS11QIr",
    "outputId": "a6106750-2a80-4da3-8040-1b482573a88f"
   },
   "outputs": [
    {
     "data": {
      "text/plain": [
       "Main Stream Order               True\n",
       "Color                           True\n",
       "Categoria                       True\n",
       "Number of streams               True\n",
       "Stream Lenght                   True\n",
       "Main Stream Leght               True\n",
       "Stream Lenght Ratio             True\n",
       "Bifurcation Ratio               True\n",
       "Ro Coefficient                  True\n",
       "Lenght of Basin                 True\n",
       "Area                            True\n",
       "Perimeter                       True\n",
       "Form Factor                     True\n",
       "Elongation Ratio                True\n",
       "Circularity Ratio               True\n",
       "Compactness Coefficient         True\n",
       "Texture Ratio                   True\n",
       "Fitness Ratio                   True\n",
       "Wandering ratio                 True\n",
       "Stream Frequency                True\n",
       "Drainage Density                True\n",
       "Constant  Channel mantenance    True\n",
       "Drainage Intensity              True\n",
       "Infiltrarion Number             True\n",
       "Leght of overland flow          True\n",
       "Relief                          True\n",
       "Mean Basin Slope                True\n",
       "Relief Ratio                    True\n",
       "Rudgeness Number                True\n",
       "Melton Index                    True\n",
       "Flash flood record              True\n",
       "dtype: bool"
      ]
     },
     "execution_count": 49,
     "metadata": {},
     "output_type": "execute_result"
    }
   ],
   "source": [
    "data.isnull().mean() < 0.2"
   ]
  },
  {
   "cell_type": "code",
   "execution_count": null,
   "metadata": {
    "colab": {
     "base_uri": "https://localhost:8080/"
    },
    "executionInfo": {
     "elapsed": 317,
     "status": "ok",
     "timestamp": 1663257144910,
     "user": {
      "displayName": "Edier Vicente Aristizabal Giraldo",
      "userId": "14756502124163770629"
     },
     "user_tz": 300
    },
    "id": "tWi_vJLOg5Bj",
    "outputId": "f0217648-d551-489a-d30a-055d732330c6"
   },
   "outputs": [
    {
     "data": {
      "text/plain": [
       "(56, 31)"
      ]
     },
     "execution_count": 53,
     "metadata": {},
     "output_type": "execute_result"
    }
   ],
   "source": [
    "data8 = data.loc[data.isnull().mean(axis=1) < umbral]\n",
    "data8.shape"
   ]
  },
  {
   "cell_type": "markdown",
   "metadata": {
    "id": "Dq49f5kJg5Bm"
   },
   "source": [
    "En caso de corresponder a una variable categórica, los valores nulos se pueden reemplazar con la categoria que mas se repite de la siguiente forma:"
   ]
  },
  {
   "cell_type": "code",
   "execution_count": null,
   "metadata": {
    "colab": {
     "base_uri": "https://localhost:8080/"
    },
    "executionInfo": {
     "elapsed": 392,
     "status": "ok",
     "timestamp": 1663257254630,
     "user": {
      "displayName": "Edier Vicente Aristizabal Giraldo",
      "userId": "14756502124163770629"
     },
     "user_tz": 300
    },
    "id": "HWoy1HFe21od",
    "outputId": "6cbca068-343b-4083-d227-560450848de0"
   },
   "outputs": [
    {
     "data": {
      "text/plain": [
       "0      Azul\n",
       "1      Azul\n",
       "2      Azul\n",
       "3      Rojo\n",
       "4       NaN\n",
       "      ...  \n",
       "68     Rojo\n",
       "69     Rojo\n",
       "70     Rojo\n",
       "71    Verde\n",
       "72     Azul\n",
       "Name: Color, Length: 73, dtype: object"
      ]
     },
     "execution_count": 56,
     "metadata": {},
     "output_type": "execute_result"
    }
   ],
   "source": [
    "data9 = data['Color']\n",
    "data9"
   ]
  },
  {
   "cell_type": "code",
   "execution_count": null,
   "metadata": {
    "colab": {
     "base_uri": "https://localhost:8080/",
     "height": 35
    },
    "executionInfo": {
     "elapsed": 334,
     "status": "ok",
     "timestamp": 1663257285753,
     "user": {
      "displayName": "Edier Vicente Aristizabal Giraldo",
      "userId": "14756502124163770629"
     },
     "user_tz": 300
    },
    "id": "mwmnmxW129NE",
    "outputId": "89ca186e-09c4-4c77-d79c-cfb168a2390c"
   },
   "outputs": [
    {
     "data": {
      "application/vnd.google.colaboratory.intrinsic+json": {
       "type": "string"
      },
      "text/plain": [
       "'Rojo'"
      ]
     },
     "execution_count": 58,
     "metadata": {},
     "output_type": "execute_result"
    }
   ],
   "source": [
    "data['Color'].value_counts().idxmax()"
   ]
  },
  {
   "cell_type": "code",
   "execution_count": null,
   "metadata": {
    "colab": {
     "base_uri": "https://localhost:8080/"
    },
    "collapsed": true,
    "executionInfo": {
     "elapsed": 359,
     "status": "ok",
     "timestamp": 1663257234276,
     "user": {
      "displayName": "Edier Vicente Aristizabal Giraldo",
      "userId": "14756502124163770629"
     },
     "user_tz": 300
    },
    "id": "sDBjUoxdg5Bm",
    "jupyter": {
     "outputs_hidden": true
    },
    "outputId": "3032ded2-08be-4a52-ca3a-8c4fb93eccb5"
   },
   "outputs": [
    {
     "data": {
      "text/plain": [
       "0      Azul\n",
       "1      Azul\n",
       "2      Azul\n",
       "3      Rojo\n",
       "4      Rojo\n",
       "      ...  \n",
       "68     Rojo\n",
       "69     Rojo\n",
       "70     Rojo\n",
       "71    Verde\n",
       "72     Azul\n",
       "Name: Color, Length: 73, dtype: object"
      ]
     },
     "execution_count": 54,
     "metadata": {},
     "output_type": "execute_result"
    }
   ],
   "source": [
    "data9 = data['Color'].fillna(data['Color'].value_counts().idxmax())\n",
    "data9"
   ]
  },
  {
   "cell_type": "code",
   "execution_count": null,
   "metadata": {
    "colab": {
     "base_uri": "https://localhost:8080/"
    },
    "executionInfo": {
     "elapsed": 349,
     "status": "ok",
     "timestamp": 1663257425508,
     "user": {
      "displayName": "Edier Vicente Aristizabal Giraldo",
      "userId": "14756502124163770629"
     },
     "user_tz": 300
    },
    "id": "OqpIobcX3iwO",
    "outputId": "7fc3085e-989b-4e7d-8636-9ed4b3182eee"
   },
   "outputs": [
    {
     "data": {
      "text/plain": [
       "0      Azul\n",
       "1      Azul\n",
       "2      Azul\n",
       "3      Rojo\n",
       "4       NaN\n",
       "      ...  \n",
       "68     Rojo\n",
       "69     Rojo\n",
       "70     Rojo\n",
       "71    Verde\n",
       "72     Azul\n",
       "Name: Color, Length: 73, dtype: object"
      ]
     },
     "execution_count": 59,
     "metadata": {},
     "output_type": "execute_result"
    }
   ],
   "source": [
    "data['Color']"
   ]
  },
  {
   "cell_type": "code",
   "execution_count": null,
   "metadata": {
    "colab": {
     "base_uri": "https://localhost:8080/"
    },
    "executionInfo": {
     "elapsed": 288,
     "status": "ok",
     "timestamp": 1663257477789,
     "user": {
      "displayName": "Edier Vicente Aristizabal Giraldo",
      "userId": "14756502124163770629"
     },
     "user_tz": 300
    },
    "id": "_evAsYaD3TbE",
    "outputId": "13622df9-b818-484c-e595-f45773ad846d"
   },
   "outputs": [
    {
     "data": {
      "text/plain": [
       "0     Azul\n",
       "1     Azul\n",
       "2     Azul\n",
       "3     Rojo\n",
       "4    Verde\n",
       "Name: Color, dtype: object"
      ]
     },
     "execution_count": 62,
     "metadata": {},
     "output_type": "execute_result"
    }
   ],
   "source": [
    "data10=data['Color'].fillna(\"Verde\")\n",
    "data10.head(5)"
   ]
  },
  {
   "cell_type": "code",
   "execution_count": null,
   "metadata": {
    "colab": {
     "base_uri": "https://localhost:8080/"
    },
    "executionInfo": {
     "elapsed": 330,
     "status": "ok",
     "timestamp": 1663257547200,
     "user": {
      "displayName": "Edier Vicente Aristizabal Giraldo",
      "userId": "14756502124163770629"
     },
     "user_tz": 300
    },
    "id": "QLD8xgzw35fr",
    "outputId": "a55cd3ba-28cc-44df-db4c-ce2856045c75"
   },
   "outputs": [
    {
     "data": {
      "text/plain": [
       "0      Azul\n",
       "1      Azul\n",
       "2      Azul\n",
       "3      Rojo\n",
       "4      Rojo\n",
       "      ...  \n",
       "68     Rojo\n",
       "69     Rojo\n",
       "70     Rojo\n",
       "71    Verde\n",
       "72     Azul\n",
       "Name: Color, Length: 73, dtype: object"
      ]
     },
     "execution_count": 64,
     "metadata": {},
     "output_type": "execute_result"
    }
   ],
   "source": [
    "data11=data.Color.fillna(method='ffill')\n",
    "data11"
   ]
  },
  {
   "cell_type": "code",
   "execution_count": null,
   "metadata": {
    "id": "JL2i1I_Eg5Bp",
    "outputId": "d3be9c93-d23b-42d5-85ab-5a3f63e27c91"
   },
   "outputs": [
    {
     "data": {
      "text/plain": [
       "0    amarillo\n",
       "1       verde\n",
       "2       verde\n",
       "3    amarillo\n",
       "4        rojo\n",
       "Name: Color, dtype: object"
      ]
     },
     "execution_count": 38,
     "metadata": {
      "tags": []
     },
     "output_type": "execute_result"
    }
   ],
   "source": [
    "data['Color'].fillna(data['Color'].value_counts().idxmax(), inplace=True)\n",
    "data['Color'].head(5)"
   ]
  },
  {
   "cell_type": "markdown",
   "metadata": {
    "id": "SqF7wb6_g5Br"
   },
   "source": [
    "## Outlier detection"
   ]
  },
  {
   "cell_type": "markdown",
   "metadata": {
    "id": "lliUdGsig5Br"
   },
   "source": [
    "Los modelos geometricos, es decir que están basados en distancias, como los modelos de regresión, son sensibles a los *outliers*, ya que generan diferencias muy grandes en la estimación de la función de costo. Es por esto necesario identificar y eliminar dichos valores anómalos."
   ]
  },
  {
   "cell_type": "markdown",
   "metadata": {
    "id": "nRJZYU9lg5Br"
   },
   "source": [
    "Se puede utilizar la desviación estandar para identificar dichos valores y eliminarlos. A continuación se utiliza como factor o número de desviaciones estandar (3) para definir un límite inferior y superior. Posteriomente se filtran las filas de la base de datos con los valores que estén dentro de dicho rango."
   ]
  },
  {
   "cell_type": "code",
   "execution_count": null,
   "metadata": {
    "colab": {
     "base_uri": "https://localhost:8080/"
    },
    "executionInfo": {
     "elapsed": 298,
     "status": "ok",
     "timestamp": 1663257799091,
     "user": {
      "displayName": "Edier Vicente Aristizabal Giraldo",
      "userId": "14756502124163770629"
     },
     "user_tz": 300
    },
    "id": "Ifj8c9jTg5Bs",
    "outputId": "1f201e60-bf85-4aa2-f47b-09e4065513c2"
   },
   "outputs": [
    {
     "data": {
      "text/plain": [
       "(69, 31)"
      ]
     },
     "execution_count": 67,
     "metadata": {},
     "output_type": "execute_result"
    }
   ],
   "source": [
    "factor = 1\n",
    "upper_lim = data['Stream Lenght'].mean() + data['Stream Lenght'].std() * factor\n",
    "lower_lim = data['Stream Lenght'].mean() - data['Stream Lenght'].std() * factor\n",
    "\n",
    "data10 = data[(data['Stream Lenght'] < upper_lim) & (data['Stream Lenght'] > lower_lim)]\n",
    "data10.shape"
   ]
  },
  {
   "cell_type": "markdown",
   "metadata": {
    "id": "LmGzIWdsg5Bt"
   },
   "source": [
    "De forma similar se puede realizar, pero utilizando los percentiles, en este caso 95% y 5%."
   ]
  },
  {
   "cell_type": "code",
   "execution_count": null,
   "metadata": {
    "colab": {
     "base_uri": "https://localhost:8080/"
    },
    "collapsed": true,
    "executionInfo": {
     "elapsed": 276,
     "status": "ok",
     "timestamp": 1663257876379,
     "user": {
      "displayName": "Edier Vicente Aristizabal Giraldo",
      "userId": "14756502124163770629"
     },
     "user_tz": 300
    },
    "id": "v_0yu6png5Bu",
    "jupyter": {
     "outputs_hidden": true
    },
    "outputId": "8a129980-7e9a-4fd3-ad2e-c2a63e93f2b5",
    "scrolled": true
   },
   "outputs": [
    {
     "data": {
      "text/plain": [
       "(61, 31)"
      ]
     },
     "execution_count": 68,
     "metadata": {},
     "output_type": "execute_result"
    }
   ],
   "source": [
    "upper_lim = data['Stream Lenght'].quantile(.95)\n",
    "lower_lim = data['Stream Lenght'].quantile(.05)\n",
    "\n",
    "data11 = data[(data['Stream Lenght'] < upper_lim) & (data['Stream Lenght'] > lower_lim)]\n",
    "data11.shape"
   ]
  },
  {
   "cell_type": "markdown",
   "metadata": {
    "id": "Yy8bQESKg5Bw"
   },
   "source": [
    "Otra forma de hacerlo, eliminando los valores por encima y por debajo de los percentiles indicados es:"
   ]
  },
  {
   "cell_type": "code",
   "execution_count": null,
   "metadata": {
    "colab": {
     "base_uri": "https://localhost:8080/",
     "height": 545
    },
    "collapsed": true,
    "executionInfo": {
     "elapsed": 857,
     "status": "ok",
     "timestamp": 1663258898224,
     "user": {
      "displayName": "Edier Vicente Aristizabal Giraldo",
      "userId": "14756502124163770629"
     },
     "user_tz": 300
    },
    "id": "6tXzTmzUg5Bw",
    "jupyter": {
     "outputs_hidden": true
    },
    "outputId": "1cdba202-02ad-4710-d2e9-b26a0c414bac"
   },
   "outputs": [
    {
     "data": {
      "image/png": "[encoded data removed]",
      "text/plain": [
       "<Figure size 432x288 with 1 Axes>"
      ]
     },
     "metadata": {
      "needs_background": "light"
     },
     "output_type": "display_data"
    },
    {
     "data": {
      "image/png": "[encoded data removed]",
      "text/plain": [
       "<Figure size 432x288 with 1 Axes>"
      ]
     },
     "metadata": {
      "needs_background": "light"
     },
     "output_type": "display_data"
    }
   ],
   "source": [
    "y=data['Stream Lenght']\n",
    "pd.DataFrame(y).hist();\n",
    "stream=data['Stream Lenght']\n",
    "UPPERBOUND, LOWERBOUND = np.nanpercentile(stream, [50,70])\n",
    "y = np.clip(stream, UPPERBOUND, LOWERBOUND)\n",
    "pd.DataFrame(y).hist();"
   ]
  },
  {
   "cell_type": "code",
   "execution_count": null,
   "metadata": {
    "colab": {
     "base_uri": "https://localhost:8080/",
     "height": 281
    },
    "executionInfo": {
     "elapsed": 1183,
     "status": "ok",
     "timestamp": 1663258699177,
     "user": {
      "displayName": "Edier Vicente Aristizabal Giraldo",
      "userId": "14756502124163770629"
     },
     "user_tz": 300
    },
    "id": "WdfCgnCm8ZLa",
    "outputId": "aacbb37b-ed77-4224-dfb7-300e76916a02"
   },
   "outputs": [
    {
     "data": {
      "image/png": "[encoded data removed]",
      "text/plain": [
       "<Figure size 432x288 with 1 Axes>"
      ]
     },
     "metadata": {
      "needs_background": "light"
     },
     "output_type": "display_data"
    }
   ],
   "source": [
    "y=data['Stream Lenght']\n",
    "pd.DataFrame(y).hist();"
   ]
  },
  {
   "cell_type": "markdown",
   "metadata": {
    "id": "btE_1fG_g5Bz"
   },
   "source": [
    "Si se prefiere no eliminarlos, se pueden reemplazar con los límites definidos."
   ]
  },
  {
   "cell_type": "code",
   "execution_count": null,
   "metadata": {
    "collapsed": true,
    "id": "o0pI4vGPg5Bz",
    "jupyter": {
     "outputs_hidden": true
    },
    "scrolled": true
   },
   "outputs": [],
   "source": [
    "upper_lim = data['Stream Lenght'].quantile(.95)\n",
    "lower_lim = data['Stream Lenght'].quantile(.05)\n",
    "data.loc[(data['Stream Lenght'] > upper_lim),['Stream Lenght']] = upper_lim\n",
    "data.loc[(data['Stream Lenght'] < lower_lim),['Stream Lenght']] = lower_lim\n",
    "print(upper_lim,lower_lim)"
   ]
  },
  {
   "cell_type": "code",
   "execution_count": null,
   "metadata": {
    "collapsed": true,
    "id": "zekF7TX7g5B1",
    "jupyter": {
     "outputs_hidden": true
    }
   },
   "outputs": [],
   "source": [
    "data.head()"
   ]
  },
  {
   "cell_type": "markdown",
   "metadata": {
    "id": "j1We-EkNg5B3"
   },
   "source": [
    "La librería *Feature Selector* permite identificar las variables que presentas un valor único, y que por lo tanto no son de utilidad para el modelo. "
   ]
  },
  {
   "cell_type": "code",
   "execution_count": null,
   "metadata": {
    "id": "09B9e8bEg5B4",
    "outputId": "86db311f-1457-4089-8366-450f7975ccc7"
   },
   "outputs": [
    {
     "name": "stdout",
     "output_type": "stream",
     "text": [
      "0 features with a single unique value.\n",
      "\n"
     ]
    },
    {
     "data": {
      "text/html": [
       "<div>\n",
       "<style scoped>\n",
       "    .dataframe tbody tr th:only-of-type {\n",
       "        vertical-align: middle;\n",
       "    }\n",
       "\n",
       "    .dataframe tbody tr th {\n",
       "        vertical-align: top;\n",
       "    }\n",
       "\n",
       "    .dataframe thead th {\n",
       "        text-align: right;\n",
       "    }\n",
       "</style>\n",
       "<table border=\"1\" class=\"dataframe\">\n",
       "  <thead>\n",
       "    <tr style=\"text-align: right;\">\n",
       "      <th></th>\n",
       "      <th>nunique</th>\n",
       "    </tr>\n",
       "  </thead>\n",
       "  <tbody>\n",
       "    <tr>\n",
       "      <td>Drainage Intensity</td>\n",
       "      <td>72</td>\n",
       "    </tr>\n",
       "    <tr>\n",
       "      <td>Fitness Ratio</td>\n",
       "      <td>73</td>\n",
       "    </tr>\n",
       "    <tr>\n",
       "      <td>Area</td>\n",
       "      <td>73</td>\n",
       "    </tr>\n",
       "    <tr>\n",
       "      <td>Lenght of Basin</td>\n",
       "      <td>73</td>\n",
       "    </tr>\n",
       "    <tr>\n",
       "      <td>Perimeter</td>\n",
       "      <td>71</td>\n",
       "    </tr>\n",
       "  </tbody>\n",
       "</table>\n",
       "</div>"
      ],
      "text/plain": [
       "                    nunique\n",
       "Drainage Intensity       72\n",
       "Fitness Ratio            73\n",
       "Area                     73\n",
       "Lenght of Basin          73\n",
       "Perimeter                71"
      ]
     },
     "execution_count": 40,
     "metadata": {
      "tags": []
     },
     "output_type": "execute_result"
    }
   ],
   "source": [
    "fs.identify_single_unique()\n",
    "single_unique = fs.ops['single_unique']\n",
    "single_unique\n",
    "fs.unique_stats.sample(5)"
   ]
  },
  {
   "cell_type": "markdown",
   "metadata": {
    "id": "yJhEMxSHg5B6"
   },
   "source": [
    "Tambien se puede graficar el número de valores únicos para cada variable independiente."
   ]
  },
  {
   "cell_type": "code",
   "execution_count": null,
   "metadata": {
    "id": "TQGAeou4g5B6",
    "outputId": "ca77ad63-8d31-40af-ee09-00d717507dd9"
   },
   "outputs": [
    {
     "data": {
      "image/png": "[encoded data removed]",
      "text/plain": [
       "<matplotlib.figure.Figure at 0x2b291abdba8>"
      ]
     },
     "metadata": {
      "tags": []
     },
     "output_type": "display_data"
    }
   ],
   "source": [
    "fs.plot_unique()"
   ]
  },
  {
   "cell_type": "markdown",
   "metadata": {
    "id": "DKGVr6Ffg5B9"
   },
   "source": [
    "## Binning"
   ]
  },
  {
   "cell_type": "markdown",
   "metadata": {
    "id": "HGzAZrA8g5B9"
   },
   "source": [
    "Segmentar o definir intervalos en una variable continua o redefinir las categorias en una variable cualitativa, puede ser útil en algunos casos. "
   ]
  },
  {
   "cell_type": "markdown",
   "metadata": {
    "id": "hhaJeaM0g5B-"
   },
   "source": [
    "Para el caso de una variable numérica continua que se desee modificar a una variable categórica se puede utilizar el siguiente código."
   ]
  },
  {
   "cell_type": "code",
   "execution_count": null,
   "metadata": {
    "colab": {
     "base_uri": "https://localhost:8080/"
    },
    "executionInfo": {
     "elapsed": 216,
     "status": "ok",
     "timestamp": 1663259156572,
     "user": {
      "displayName": "Edier Vicente Aristizabal Giraldo",
      "userId": "14756502124163770629"
     },
     "user_tz": 300
    },
    "id": "ZoZPj0vOg5B-",
    "outputId": "b9ef0822-ff06-430a-dc7c-7933200cc6ee"
   },
   "outputs": [
    {
     "name": "stdout",
     "output_type": "stream",
     "text": [
      "325687.0\n",
      "3.719\n"
     ]
    },
    {
     "data": {
      "text/plain": [
       "0    low\n",
       "1    low\n",
       "2    NaN\n",
       "3    low\n",
       "4    low\n",
       "Name: Stream Lenght, dtype: category\n",
       "Categories (6, object): ['low' < 'low mid' < 'mid' < 'high mid' < 'high' < 'very high']"
      ]
     },
     "execution_count": 75,
     "metadata": {},
     "output_type": "execute_result"
    }
   ],
   "source": [
    "data13=data['Stream Lenght']\n",
    "print(data13.max())\n",
    "print(data13.min())\n",
    "data13 = pd.cut(data13, bins=[0,100,200,300,400,500,600], labels=[\"low\", \"low mid\",\"mid\",\"high mid\",\"high\",\"very high\"])\n",
    "data13.head(5)"
   ]
  },
  {
   "cell_type": "markdown",
   "metadata": {
    "id": "sMGU6B2-g5CA"
   },
   "source": [
    "Para el caso de una variable categórica que se quiera reclasificar en un valor menor de categorias se puede utilizar el siguiente código."
   ]
  },
  {
   "cell_type": "code",
   "execution_count": null,
   "metadata": {
    "colab": {
     "base_uri": "https://localhost:8080/"
    },
    "executionInfo": {
     "elapsed": 320,
     "status": "ok",
     "timestamp": 1663259264974,
     "user": {
      "displayName": "Edier Vicente Aristizabal Giraldo",
      "userId": "14756502124163770629"
     },
     "user_tz": 300
    },
    "id": "r8aAEE7mg5CB",
    "outputId": "0e9b2df8-0949-4f35-d112-eac3a47aed4f"
   },
   "outputs": [
    {
     "data": {
      "text/plain": [
       "array(['Europe', 'Europe', 'Other', 'South America', 'South America'],\n",
       "      dtype='<U13')"
      ]
     },
     "execution_count": 76,
     "metadata": {},
     "output_type": "execute_result"
    }
   ],
   "source": [
    "lista=pd.DataFrame(data=['Spain', 'Italy', 'Australia', 'Chile', 'Brazil'], columns=['paises'])\n",
    "\n",
    "conditions = [\n",
    "    lista['paises'].str.contains('Spain'),\n",
    "    lista['paises'].str.contains('Italy'),\n",
    "    lista['paises'].str.contains('Chile'),\n",
    "    lista['paises'].str.contains('Brazil')]\n",
    "\n",
    "choices = ['Europe', 'Europe', 'South America', 'South America']\n",
    "\n",
    "continente= np.select(conditions, choices, default='Other')\n",
    "continente"
   ]
  },
  {
   "cell_type": "markdown",
   "metadata": {
    "id": "W0rSy7_Kg5CD"
   },
   "source": [
    "## Variables categóricas"
   ]
  },
  {
   "cell_type": "markdown",
   "metadata": {
    "id": "wMJnKAXkg5CE"
   },
   "source": [
    "Las variables categóricas deben ser transformadas a un valor numérico de tal forma que se pueda trabajar con ellas en los métodos de *machine learning*. Para eso existen diferentes estrategias de acuerdo con el caso de cada variable."
   ]
  },
  {
   "cell_type": "markdown",
   "metadata": {
    "id": "v92vLqZ2g5CE"
   },
   "source": [
    "De forma general se puede transformar una variable categórica en variables numéricas de la siguiente forma."
   ]
  },
  {
   "cell_type": "code",
   "execution_count": null,
   "metadata": {
    "colab": {
     "base_uri": "https://localhost:8080/"
    },
    "executionInfo": {
     "elapsed": 329,
     "status": "ok",
     "timestamp": 1663259326963,
     "user": {
      "displayName": "Edier Vicente Aristizabal Giraldo",
      "userId": "14756502124163770629"
     },
     "user_tz": 300
    },
    "id": "52jc3VFT-uuo",
    "outputId": "fc8c5101-462d-4ae4-bf2a-af35b4616714"
   },
   "outputs": [
    {
     "data": {
      "text/plain": [
       "array(['A', 'B', 'C', 'E', nan], dtype=object)"
      ]
     },
     "execution_count": 77,
     "metadata": {},
     "output_type": "execute_result"
    }
   ],
   "source": [
    "data[\"Categoria\"].unique()"
   ]
  },
  {
   "cell_type": "code",
   "execution_count": null,
   "metadata": {
    "colab": {
     "base_uri": "https://localhost:8080/"
    },
    "executionInfo": {
     "elapsed": 314,
     "status": "ok",
     "timestamp": 1663259375198,
     "user": {
      "displayName": "Edier Vicente Aristizabal Giraldo",
      "userId": "14756502124163770629"
     },
     "user_tz": 300
    },
    "id": "6l-qCJ4Cg5CE",
    "outputId": "0ed1c962-93f2-4e53-ac99-fd953636cb24"
   },
   "outputs": [
    {
     "data": {
      "text/plain": [
       "0    1.0\n",
       "1    2.0\n",
       "2    3.0\n",
       "3    2.0\n",
       "4    3.0\n",
       "Name: Categoria, dtype: float64"
      ]
     },
     "execution_count": 78,
     "metadata": {},
     "output_type": "execute_result"
    }
   ],
   "source": [
    "Cat={'A':1,'B':2,'C':3, \"E\":4}\n",
    "data['Categoria']=data['Categoria'].map(Cat)\n",
    "data['Categoria'].head(5)"
   ]
  },
  {
   "cell_type": "markdown",
   "metadata": {
    "id": "hViTTfu1g5CG"
   },
   "source": [
    "Sin embargo la librería de *machine learning* Science Kit Learning (sckitlearn) presenta diferentes funciones para esta labor. la primera de ellas *LabelEncoder*. Con esta función se transforman las variables en número enteros de acuerdo con el número de categorias que existan."
   ]
  },
  {
   "cell_type": "code",
   "execution_count": null,
   "metadata": {
    "colab": {
     "base_uri": "https://localhost:8080/"
    },
    "executionInfo": {
     "elapsed": 316,
     "status": "ok",
     "timestamp": 1663259575435,
     "user": {
      "displayName": "Edier Vicente Aristizabal Giraldo",
      "userId": "14756502124163770629"
     },
     "user_tz": 300
    },
    "id": "BR5PqjkV_fK_",
    "outputId": "ced9a4dd-a1a5-4eb0-bc61-e9e9b8fe264b"
   },
   "outputs": [
    {
     "data": {
      "text/plain": [
       "0     A\n",
       "1     B\n",
       "2     C\n",
       "3     B\n",
       "4     C\n",
       "     ..\n",
       "68    A\n",
       "69    C\n",
       "70    A\n",
       "71    B\n",
       "72    A\n",
       "Name: Categoria, Length: 73, dtype: object"
      ]
     },
     "execution_count": 82,
     "metadata": {},
     "output_type": "execute_result"
    }
   ],
   "source": [
    "data.Categoria"
   ]
  },
  {
   "cell_type": "code",
   "execution_count": null,
   "metadata": {
    "colab": {
     "base_uri": "https://localhost:8080/"
    },
    "executionInfo": {
     "elapsed": 269,
     "status": "ok",
     "timestamp": 1663259586453,
     "user": {
      "displayName": "Edier Vicente Aristizabal Giraldo",
      "userId": "14756502124163770629"
     },
     "user_tz": 300
    },
    "id": "tHBRdHCyg5CG",
    "outputId": "36206042-2229-451d-d8d5-3974ae83d556",
    "scrolled": true
   },
   "outputs": [
    {
     "data": {
      "text/plain": [
       "0     0\n",
       "1     1\n",
       "2     2\n",
       "3     1\n",
       "4     2\n",
       "     ..\n",
       "68    0\n",
       "69    2\n",
       "70    0\n",
       "71    1\n",
       "72    0\n",
       "Name: Categoria, Length: 73, dtype: int64"
      ]
     },
     "execution_count": 83,
     "metadata": {},
     "output_type": "execute_result"
    }
   ],
   "source": [
    "from sklearn.preprocessing import LabelEncoder, OneHotEncoder\n",
    "\n",
    "le=LabelEncoder()\n",
    "X['Categoria']=le.fit_transform(X['Categoria'])\n",
    "X['Categoria']"
   ]
  },
  {
   "cell_type": "markdown",
   "metadata": {
    "id": "a4krXuXxg5CI"
   },
   "source": [
    "Sin embargo, la trasformación anterior puede generar problemas en el modelo ya que en los números consecutivos asignados existe una jerarquía o peso, es decir el 2 > 1, lo cual no necesariamente se presente en la variable categórica original. \n",
    "\n",
    "En estos casos se recomienda utilizar una tranformación binaria  (0,1) a cada categoria, por lo tanto se obtendran nuevas variables en igual número de categorias de la variable a transformar.  es decir que aumenta el número de dimensiones del problema a resolver."
   ]
  },
  {
   "cell_type": "code",
   "execution_count": null,
   "metadata": {
    "colab": {
     "base_uri": "https://localhost:8080/"
    },
    "executionInfo": {
     "elapsed": 353,
     "status": "ok",
     "timestamp": 1663260157566,
     "user": {
      "displayName": "Edier Vicente Aristizabal Giraldo",
      "userId": "14756502124163770629"
     },
     "user_tz": 300
    },
    "id": "-EGwqZRpBFL_",
    "outputId": "66edea38-5846-4f30-f4f2-5983f8e092c6"
   },
   "outputs": [
    {
     "data": {
      "text/plain": [
       "0     A\n",
       "1     B\n",
       "2     C\n",
       "3     B\n",
       "4     C\n",
       "     ..\n",
       "68    A\n",
       "69    C\n",
       "70    A\n",
       "71    B\n",
       "72    A\n",
       "Name: Categoria, Length: 73, dtype: object"
      ]
     },
     "execution_count": 90,
     "metadata": {},
     "output_type": "execute_result"
    }
   ],
   "source": [
    "data['Categoria']"
   ]
  },
  {
   "cell_type": "code",
   "execution_count": null,
   "metadata": {
    "colab": {
     "base_uri": "https://localhost:8080/"
    },
    "collapsed": true,
    "executionInfo": {
     "elapsed": 409,
     "status": "ok",
     "timestamp": 1663260168597,
     "user": {
      "displayName": "Edier Vicente Aristizabal Giraldo",
      "userId": "14756502124163770629"
     },
     "user_tz": 300
    },
    "id": "13s6eb0zBU51",
    "jupyter": {
     "outputs_hidden": true
    },
    "outputId": "95fe239b-85eb-4f7c-8250-d0d8998f41c1",
    "tags": []
   },
   "outputs": [
    {
     "data": {
      "text/plain": [
       "array([['A'],\n",
       "       ['B'],\n",
       "       ['C'],\n",
       "       ['B'],\n",
       "       ['C'],\n",
       "       ['A'],\n",
       "       ['C'],\n",
       "       ['A'],\n",
       "       ['B'],\n",
       "       ['A'],\n",
       "       ['B'],\n",
       "       ['C'],\n",
       "       ['B'],\n",
       "       ['C'],\n",
       "       ['A'],\n",
       "       ['C'],\n",
       "       ['A'],\n",
       "       ['B'],\n",
       "       ['A'],\n",
       "       ['B'],\n",
       "       ['C'],\n",
       "       ['B'],\n",
       "       ['C'],\n",
       "       ['A'],\n",
       "       ['C'],\n",
       "       ['A'],\n",
       "       ['B'],\n",
       "       ['A'],\n",
       "       ['B'],\n",
       "       ['C'],\n",
       "       ['B'],\n",
       "       ['C'],\n",
       "       ['A'],\n",
       "       ['C'],\n",
       "       ['A'],\n",
       "       ['B'],\n",
       "       ['A'],\n",
       "       ['B'],\n",
       "       ['C'],\n",
       "       ['E'],\n",
       "       ['C'],\n",
       "       ['A'],\n",
       "       ['C'],\n",
       "       ['A'],\n",
       "       ['B'],\n",
       "       ['A'],\n",
       "       [nan],\n",
       "       ['C'],\n",
       "       ['B'],\n",
       "       ['C'],\n",
       "       ['A'],\n",
       "       ['C'],\n",
       "       ['A'],\n",
       "       [nan],\n",
       "       ['A'],\n",
       "       ['B'],\n",
       "       ['C'],\n",
       "       [nan],\n",
       "       ['C'],\n",
       "       ['A'],\n",
       "       ['C'],\n",
       "       ['A'],\n",
       "       ['B'],\n",
       "       [nan],\n",
       "       ['B'],\n",
       "       ['C'],\n",
       "       ['B'],\n",
       "       ['C'],\n",
       "       ['A'],\n",
       "       ['C'],\n",
       "       ['A'],\n",
       "       ['B'],\n",
       "       ['A']], dtype=object)"
      ]
     },
     "execution_count": 91,
     "metadata": {},
     "output_type": "execute_result"
    }
   ],
   "source": [
    "data15=np.array(data['Categoria']).reshape(-1,1)\n",
    "data15"
   ]
  },
  {
   "cell_type": "code",
   "execution_count": null,
   "metadata": {
    "colab": {
     "base_uri": "https://localhost:8080/"
    },
    "collapsed": true,
    "executionInfo": {
     "elapsed": 318,
     "status": "ok",
     "timestamp": 1663260177698,
     "user": {
      "displayName": "Edier Vicente Aristizabal Giraldo",
      "userId": "14756502124163770629"
     },
     "user_tz": 300
    },
    "id": "yWBSXpcPg5CJ",
    "jupyter": {
     "outputs_hidden": true
    },
    "outputId": "de88860c-3f8d-4c27-e9e1-baf48a21c4b0",
    "scrolled": true,
    "tags": []
   },
   "outputs": [
    {
     "data": {
      "text/plain": [
       "array([[1., 0., 0., 0., 0.],\n",
       "       [0., 1., 0., 0., 0.],\n",
       "       [0., 0., 1., 0., 0.],\n",
       "       [0., 1., 0., 0., 0.],\n",
       "       [0., 0., 1., 0., 0.],\n",
       "       [1., 0., 0., 0., 0.],\n",
       "       [0., 0., 1., 0., 0.],\n",
       "       [1., 0., 0., 0., 0.],\n",
       "       [0., 1., 0., 0., 0.],\n",
       "       [1., 0., 0., 0., 0.],\n",
       "       [0., 1., 0., 0., 0.],\n",
       "       [0., 0., 1., 0., 0.],\n",
       "       [0., 1., 0., 0., 0.],\n",
       "       [0., 0., 1., 0., 0.],\n",
       "       [1., 0., 0., 0., 0.],\n",
       "       [0., 0., 1., 0., 0.],\n",
       "       [1., 0., 0., 0., 0.],\n",
       "       [0., 1., 0., 0., 0.],\n",
       "       [1., 0., 0., 0., 0.],\n",
       "       [0., 1., 0., 0., 0.],\n",
       "       [0., 0., 1., 0., 0.],\n",
       "       [0., 1., 0., 0., 0.],\n",
       "       [0., 0., 1., 0., 0.],\n",
       "       [1., 0., 0., 0., 0.],\n",
       "       [0., 0., 1., 0., 0.],\n",
       "       [1., 0., 0., 0., 0.],\n",
       "       [0., 1., 0., 0., 0.],\n",
       "       [1., 0., 0., 0., 0.],\n",
       "       [0., 1., 0., 0., 0.],\n",
       "       [0., 0., 1., 0., 0.],\n",
       "       [0., 1., 0., 0., 0.],\n",
       "       [0., 0., 1., 0., 0.],\n",
       "       [1., 0., 0., 0., 0.],\n",
       "       [0., 0., 1., 0., 0.],\n",
       "       [1., 0., 0., 0., 0.],\n",
       "       [0., 1., 0., 0., 0.],\n",
       "       [1., 0., 0., 0., 0.],\n",
       "       [0., 1., 0., 0., 0.],\n",
       "       [0., 0., 1., 0., 0.],\n",
       "       [0., 0., 0., 1., 0.],\n",
       "       [0., 0., 1., 0., 0.],\n",
       "       [1., 0., 0., 0., 0.],\n",
       "       [0., 0., 1., 0., 0.],\n",
       "       [1., 0., 0., 0., 0.],\n",
       "       [0., 1., 0., 0., 0.],\n",
       "       [1., 0., 0., 0., 0.],\n",
       "       [0., 0., 0., 0., 1.],\n",
       "       [0., 0., 1., 0., 0.],\n",
       "       [0., 1., 0., 0., 0.],\n",
       "       [0., 0., 1., 0., 0.],\n",
       "       [1., 0., 0., 0., 0.],\n",
       "       [0., 0., 1., 0., 0.],\n",
       "       [1., 0., 0., 0., 0.],\n",
       "       [0., 0., 0., 0., 1.],\n",
       "       [1., 0., 0., 0., 0.],\n",
       "       [0., 1., 0., 0., 0.],\n",
       "       [0., 0., 1., 0., 0.],\n",
       "       [0., 0., 0., 0., 1.],\n",
       "       [0., 0., 1., 0., 0.],\n",
       "       [1., 0., 0., 0., 0.],\n",
       "       [0., 0., 1., 0., 0.],\n",
       "       [1., 0., 0., 0., 0.],\n",
       "       [0., 1., 0., 0., 0.],\n",
       "       [0., 0., 0., 0., 1.],\n",
       "       [0., 1., 0., 0., 0.],\n",
       "       [0., 0., 1., 0., 0.],\n",
       "       [0., 1., 0., 0., 0.],\n",
       "       [0., 0., 1., 0., 0.],\n",
       "       [1., 0., 0., 0., 0.],\n",
       "       [0., 0., 1., 0., 0.],\n",
       "       [1., 0., 0., 0., 0.],\n",
       "       [0., 1., 0., 0., 0.],\n",
       "       [1., 0., 0., 0., 0.]])"
      ]
     },
     "execution_count": 92,
     "metadata": {},
     "output_type": "execute_result"
    }
   ],
   "source": [
    "ohe=OneHotEncoder(sparse=False)\n",
    "data15=np.array(X['Categoria']).reshape(-1,1)\n",
    "data15=ohe.fit_transform(data15)\n",
    "data15"
   ]
  },
  {
   "cell_type": "markdown",
   "metadata": {
    "id": "TWBotJq-g5CN"
   },
   "source": [
    "Otra forma de hacerlo directamente es con la función *get_dummies*."
   ]
  },
  {
   "cell_type": "code",
   "execution_count": null,
   "metadata": {
    "colab": {
     "base_uri": "https://localhost:8080/"
    },
    "executionInfo": {
     "elapsed": 286,
     "status": "ok",
     "timestamp": 1663260303689,
     "user": {
      "displayName": "Edier Vicente Aristizabal Giraldo",
      "userId": "14756502124163770629"
     },
     "user_tz": 300
    },
    "id": "l4aRaSUNCade",
    "outputId": "b4ed56eb-fe4a-4055-d023-6932be28d7a5"
   },
   "outputs": [
    {
     "data": {
      "text/plain": [
       "array(['Azul', 'Rojo', nan, 'Verde'], dtype=object)"
      ]
     },
     "execution_count": 96,
     "metadata": {},
     "output_type": "execute_result"
    }
   ],
   "source": [
    "data.Color.unique()"
   ]
  },
  {
   "cell_type": "code",
   "execution_count": null,
   "metadata": {
    "colab": {
     "base_uri": "https://localhost:8080/",
     "height": 334
    },
    "executionInfo": {
     "elapsed": 365,
     "status": "ok",
     "timestamp": 1663260252700,
     "user": {
      "displayName": "Edier Vicente Aristizabal Giraldo",
      "userId": "14756502124163770629"
     },
     "user_tz": 300
    },
    "id": "N3hBm8Hhg5CN",
    "outputId": "de175b36-efb3-455e-ffc9-4927ca4c8d6a",
    "scrolled": true
   },
   "outputs": [
    {
     "data": {
      "text/html": [
       "\n",
       "  <div id=\"df-5b84b4f3-0270-4263-a43f-9e47cb7b9bbf\">\n",
       "    <div class=\"colab-df-container\">\n",
       "      <div>\n",
       "<style scoped>\n",
       "    .dataframe tbody tr th:only-of-type {\n",
       "        vertical-align: middle;\n",
       "    }\n",
       "\n",
       "    .dataframe tbody tr th {\n",
       "        vertical-align: top;\n",
       "    }\n",
       "\n",
       "    .dataframe thead th {\n",
       "        text-align: right;\n",
       "    }\n",
       "</style>\n",
       "<table border=\"1\" class=\"dataframe\">\n",
       "  <thead>\n",
       "    <tr style=\"text-align: right;\">\n",
       "      <th></th>\n",
       "      <th>Main Stream Order</th>\n",
       "      <th>Categoria</th>\n",
       "      <th>Number of streams</th>\n",
       "      <th>Stream Lenght</th>\n",
       "      <th>Main Stream Leght</th>\n",
       "      <th>Stream Lenght Ratio</th>\n",
       "      <th>Bifurcation Ratio</th>\n",
       "      <th>Ro Coefficient</th>\n",
       "      <th>Lenght of Basin</th>\n",
       "      <th>Area</th>\n",
       "      <th>...</th>\n",
       "      <th>Leght of overland flow</th>\n",
       "      <th>Relief</th>\n",
       "      <th>Mean Basin Slope</th>\n",
       "      <th>Relief Ratio</th>\n",
       "      <th>Rudgeness Number</th>\n",
       "      <th>Melton Index</th>\n",
       "      <th>Flash flood record</th>\n",
       "      <th>Col_Azul</th>\n",
       "      <th>Col_Rojo</th>\n",
       "      <th>Col_Verde</th>\n",
       "    </tr>\n",
       "  </thead>\n",
       "  <tbody>\n",
       "    <tr>\n",
       "      <th>0</th>\n",
       "      <td>2.0</td>\n",
       "      <td>A</td>\n",
       "      <td>3.0</td>\n",
       "      <td>4.9820</td>\n",
       "      <td>4.048</td>\n",
       "      <td>0.907351</td>\n",
       "      <td>2.0</td>\n",
       "      <td>2.204219</td>\n",
       "      <td>5.904</td>\n",
       "      <td>5.133</td>\n",
       "      <td>...</td>\n",
       "      <td>0.515155</td>\n",
       "      <td>1.319</td>\n",
       "      <td>24.320</td>\n",
       "      <td>0.223408</td>\n",
       "      <td>1.280198</td>\n",
       "      <td>0.582183</td>\n",
       "      <td>AB</td>\n",
       "      <td>1</td>\n",
       "      <td>0</td>\n",
       "      <td>0</td>\n",
       "    </tr>\n",
       "    <tr>\n",
       "      <th>1</th>\n",
       "      <td>2.0</td>\n",
       "      <td>B</td>\n",
       "      <td>3.0</td>\n",
       "      <td>6.5693</td>\n",
       "      <td>NaN</td>\n",
       "      <td>0.531716</td>\n",
       "      <td>NaN</td>\n",
       "      <td>NaN</td>\n",
       "      <td>8.961</td>\n",
       "      <td>13.568</td>\n",
       "      <td>...</td>\n",
       "      <td>1.032682</td>\n",
       "      <td>1.968</td>\n",
       "      <td>28.100</td>\n",
       "      <td>0.219618</td>\n",
       "      <td>0.952858</td>\n",
       "      <td>0.534278</td>\n",
       "      <td>AB</td>\n",
       "      <td>1</td>\n",
       "      <td>0</td>\n",
       "      <td>0</td>\n",
       "    </tr>\n",
       "    <tr>\n",
       "      <th>2</th>\n",
       "      <td>NaN</td>\n",
       "      <td>C</td>\n",
       "      <td>NaN</td>\n",
       "      <td>NaN</td>\n",
       "      <td>18.117</td>\n",
       "      <td>1.496572</td>\n",
       "      <td>kklk</td>\n",
       "      <td>2.099288</td>\n",
       "      <td>20.617</td>\n",
       "      <td>NaN</td>\n",
       "      <td>...</td>\n",
       "      <td>0.919901</td>\n",
       "      <td>2.484</td>\n",
       "      <td>28.860</td>\n",
       "      <td>0.120483</td>\n",
       "      <td>1.350146</td>\n",
       "      <td>0.324482</td>\n",
       "      <td>AB</td>\n",
       "      <td>1</td>\n",
       "      <td>0</td>\n",
       "      <td>0</td>\n",
       "    </tr>\n",
       "    <tr>\n",
       "      <th>3</th>\n",
       "      <td>3.0</td>\n",
       "      <td>B</td>\n",
       "      <td>31.0</td>\n",
       "      <td>26.4590</td>\n",
       "      <td>6.152</td>\n",
       "      <td>NaN</td>\n",
       "      <td>5.0</td>\n",
       "      <td>2.965810</td>\n",
       "      <td>NaN</td>\n",
       "      <td>12.060</td>\n",
       "      <td>...</td>\n",
       "      <td>0.227900</td>\n",
       "      <td>0.903</td>\n",
       "      <td>20.669</td>\n",
       "      <td>0.125434</td>\n",
       "      <td>1.981134</td>\n",
       "      <td>0.260024</td>\n",
       "      <td>AB</td>\n",
       "      <td>0</td>\n",
       "      <td>1</td>\n",
       "      <td>0</td>\n",
       "    </tr>\n",
       "    <tr>\n",
       "      <th>4</th>\n",
       "      <td>2.0</td>\n",
       "      <td>C</td>\n",
       "      <td>4.0</td>\n",
       "      <td>10.4070</td>\n",
       "      <td>7.350</td>\n",
       "      <td>5.128386</td>\n",
       "      <td>3.0</td>\n",
       "      <td>NaN</td>\n",
       "      <td>9.523</td>\n",
       "      <td>10.698</td>\n",
       "      <td>...</td>\n",
       "      <td>NaN</td>\n",
       "      <td>1.299</td>\n",
       "      <td>17.790</td>\n",
       "      <td>0.136407</td>\n",
       "      <td>1.263665</td>\n",
       "      <td>0.397153</td>\n",
       "      <td>AB</td>\n",
       "      <td>0</td>\n",
       "      <td>0</td>\n",
       "      <td>0</td>\n",
       "    </tr>\n",
       "  </tbody>\n",
       "</table>\n",
       "<p>5 rows × 33 columns</p>\n",
       "</div>\n",
       "      <button class=\"colab-df-convert\" onclick=\"convertToInteractive('df-5b84b4f3-0270-4263-a43f-9e47cb7b9bbf')\"\n",
       "              title=\"Convert this dataframe to an interactive table.\"\n",
       "              style=\"display:none;\">\n",
       "        \n",
       "  <svg xmlns=\"http://www.w3.org/2000/svg\" height=\"24px\"viewBox=\"0 0 24 24\"\n",
       "       width=\"24px\">\n",
       "    <path d=\"M0 0h24v24H0V0z\" fill=\"none\"/>\n",
       "    <path d=\"M18.56 5.44l.94 2.06.94-2.06 2.06-.94-2.06-.94-.94-2.06-.94 2.06-2.06.94zm-11 1L8.5 8.5l.94-2.06 2.06-.94-2.06-.94L8.5 2.5l-.94 2.06-2.06.94zm10 10l.94 2.06.94-2.06 2.06-.94-2.06-.94-.94-2.06-.94 2.06-2.06.94z\"/><path d=\"M17.41 7.96l-1.37-1.37c-.4-.4-.92-.59-1.43-.59-.52 0-1.04.2-1.43.59L10.3 9.45l-7.72 7.72c-.78.78-.78 2.05 0 2.83L4 21.41c.39.39.9.59 1.41.59.51 0 1.02-.2 1.41-.59l7.78-7.78 2.81-2.81c.8-.78.8-2.07 0-2.86zM5.41 20L4 18.59l7.72-7.72 1.47 1.35L5.41 20z\"/>\n",
       "  </svg>\n",
       "      </button>\n",
       "      \n",
       "  <style>\n",
       "    .colab-df-container {\n",
       "      display:flex;\n",
       "      flex-wrap:wrap;\n",
       "      gap: 12px;\n",
       "    }\n",
       "\n",
       "    .colab-df-convert {\n",
       "      background-color: #E8F0FE;\n",
       "      border: none;\n",
       "      border-radius: 50%;\n",
       "      cursor: pointer;\n",
       "      display: none;\n",
       "      fill: #1967D2;\n",
       "      height: 32px;\n",
       "      padding: 0 0 0 0;\n",
       "      width: 32px;\n",
       "    }\n",
       "\n",
       "    .colab-df-convert:hover {\n",
       "      background-color: #E2EBFA;\n",
       "      box-shadow: 0px 1px 2px rgba(60, 64, 67, 0.3), 0px 1px 3px 1px rgba(60, 64, 67, 0.15);\n",
       "      fill: #174EA6;\n",
       "    }\n",
       "\n",
       "    [theme=dark] .colab-df-convert {\n",
       "      background-color: #3B4455;\n",
       "      fill: #D2E3FC;\n",
       "    }\n",
       "\n",
       "    [theme=dark] .colab-df-convert:hover {\n",
       "      background-color: #434B5C;\n",
       "      box-shadow: 0px 1px 3px 1px rgba(0, 0, 0, 0.15);\n",
       "      filter: drop-shadow(0px 1px 2px rgba(0, 0, 0, 0.3));\n",
       "      fill: #FFFFFF;\n",
       "    }\n",
       "  </style>\n",
       "\n",
       "      <script>\n",
       "        const buttonEl =\n",
       "          document.querySelector('#df-5b84b4f3-0270-4263-a43f-9e47cb7b9bbf button.colab-df-convert');\n",
       "        buttonEl.style.display =\n",
       "          google.colab.kernel.accessAllowed ? 'block' : 'none';\n",
       "\n",
       "        async function convertToInteractive(key) {\n",
       "          const element = document.querySelector('#df-5b84b4f3-0270-4263-a43f-9e47cb7b9bbf');\n",
       "          const dataTable =\n",
       "            await google.colab.kernel.invokeFunction('convertToInteractive',\n",
       "                                                     [key], {});\n",
       "          if (!dataTable) return;\n",
       "\n",
       "          const docLinkHtml = 'Like what you see? Visit the ' +\n",
       "            '<a target=\"_blank\" href=https://colab.research.google.com/notebooks/data_table.ipynb>data table notebook</a>'\n",
       "            + ' to learn more about interactive tables.';\n",
       "          element.innerHTML = '';\n",
       "          dataTable['output_type'] = 'display_data';\n",
       "          await google.colab.output.renderOutput(dataTable, element);\n",
       "          const docLink = document.createElement('div');\n",
       "          docLink.innerHTML = docLinkHtml;\n",
       "          element.appendChild(docLink);\n",
       "        }\n",
       "      </script>\n",
       "    </div>\n",
       "  </div>\n",
       "  "
      ],
      "text/plain": [
       "   Main Stream Order Categoria  Number of streams  Stream Lenght  \\\n",
       "0                2.0         A                3.0         4.9820   \n",
       "1                2.0         B                3.0         6.5693   \n",
       "2                NaN         C                NaN            NaN   \n",
       "3                3.0         B               31.0        26.4590   \n",
       "4                2.0         C                4.0        10.4070   \n",
       "\n",
       "   Main Stream Leght   Stream Lenght Ratio Bifurcation Ratio   Ro Coefficient  \\\n",
       "0               4.048             0.907351                2.0        2.204219   \n",
       "1                 NaN             0.531716                NaN             NaN   \n",
       "2              18.117             1.496572               kklk        2.099288   \n",
       "3               6.152                  NaN                5.0        2.965810   \n",
       "4               7.350             5.128386                3.0             NaN   \n",
       "\n",
       "   Lenght of Basin   Area   ...  Leght of overland flow  Relief  \\\n",
       "0            5.904   5.133  ...                0.515155   1.319   \n",
       "1            8.961  13.568  ...                1.032682   1.968   \n",
       "2           20.617     NaN  ...                0.919901   2.484   \n",
       "3              NaN  12.060  ...                0.227900   0.903   \n",
       "4            9.523  10.698  ...                     NaN   1.299   \n",
       "\n",
       "   Mean Basin Slope  Relief Ratio  Rudgeness Number  Melton Index  \\\n",
       "0            24.320      0.223408          1.280198      0.582183   \n",
       "1            28.100      0.219618          0.952858      0.534278   \n",
       "2            28.860      0.120483          1.350146      0.324482   \n",
       "3            20.669      0.125434          1.981134      0.260024   \n",
       "4            17.790      0.136407          1.263665      0.397153   \n",
       "\n",
       "   Flash flood record  Col_Azul  Col_Rojo  Col_Verde  \n",
       "0                  AB         1         0          0  \n",
       "1                  AB         1         0          0  \n",
       "2                  AB         1         0          0  \n",
       "3                  AB         0         1          0  \n",
       "4                  AB         0         0          0  \n",
       "\n",
       "[5 rows x 33 columns]"
      ]
     },
     "execution_count": 93,
     "metadata": {},
     "output_type": "execute_result"
    }
   ],
   "source": [
    "data15=pd.get_dummies(data, prefix='Col', columns=['Color'])\n",
    "data15.head()"
   ]
  },
  {
   "cell_type": "markdown",
   "metadata": {
    "id": "Jt7Qse1Cg5CQ"
   },
   "source": [
    "Para adicionar nuevas columnas y eliminar columnas del dataFrame, se utiliza:"
   ]
  },
  {
   "cell_type": "code",
   "execution_count": null,
   "metadata": {
    "collapsed": true,
    "id": "RhESCSTYg5CR",
    "jupyter": {
     "outputs_hidden": true
    },
    "scrolled": true
   },
   "outputs": [],
   "source": [
    "new_columns=pd.get_dummies(data['Color'],prefix='color')\n",
    "data15=data.join(new_columns).drop(data['Color'])"
   ]
  },
  {
   "cell_type": "markdown",
   "metadata": {
    "id": "X0JJ4q4pg5CU"
   },
   "source": [
    "## Escalar"
   ]
  },
  {
   "cell_type": "markdown",
   "metadata": {
    "id": "INqBE8Cxg5CU"
   },
   "source": [
    "Algunos algoritmos de *machine learning*, tales como Neural Networks, regresión, KNN, support vector machine, PCA, y análisis discriminante linear no se desempeñan adecuadamente si las variables (features) no están en la misma escala. Es por esta razón que se deben escalar, de tal forma que los modelos basados en medir distancias presenten resultados coherentes. En términos generales se tienen las siguientes recomendaciones:\n",
    "\n",
    "- Utilice MinMaxScaler por defecto                                                                                           \n",
    "- Utilice RobustScaler si tiene outliers y un gran rango entre variables                                                     \n",
    "- Utilice StandardScaler si necesita normalizar las variables "
   ]
  },
  {
   "cell_type": "code",
   "execution_count": null,
   "metadata": {
    "collapsed": true,
    "id": "oSVsYIhqg5CU",
    "jupyter": {
     "outputs_hidden": true
    }
   },
   "outputs": [],
   "source": [
    "from sklearn.preprocessing import StandardScaler, MinMaxScaler, RobustScaler, Normalizer"
   ]
  },
  {
   "cell_type": "markdown",
   "metadata": {
    "id": "2Jb-OXw9g5CW"
   },
   "source": [
    "StandardScaler escala cada columna para que tenga media 0 y varianza 1."
   ]
  },
  {
   "cell_type": "code",
   "execution_count": null,
   "metadata": {
    "colab": {
     "base_uri": "https://localhost:8080/",
     "height": 282
    },
    "executionInfo": {
     "elapsed": 900,
     "status": "ok",
     "timestamp": 1663260586698,
     "user": {
      "displayName": "Edier Vicente Aristizabal Giraldo",
      "userId": "14756502124163770629"
     },
     "user_tz": 300
    },
    "id": "AQiS-4VAg5CW",
    "outputId": "ebf93f84-250a-4433-91ba-65e719de2987",
    "scrolled": true
   },
   "outputs": [
    {
     "data": {
      "text/plain": [
       "<matplotlib.axes._subplots.AxesSubplot at 0x7fc51a29ae50>"
      ]
     },
     "execution_count": 104,
     "metadata": {},
     "output_type": "execute_result"
    },
    {
     "data": {
      "image/png": "[encoded data removed]",
      "text/plain": [
       "<Figure size 432x288 with 1 Axes>"
      ]
     },
     "metadata": {
      "needs_background": "light"
     },
     "output_type": "display_data"
    }
   ],
   "source": [
    "data15=data[['Stream Lenght','Stream Lenght Ratio']]\n",
    "st = StandardScaler()\n",
    "data16 = st.fit_transform(data15)\n",
    "data15.plot()\n",
    "#print(data16)"
   ]
  },
  {
   "cell_type": "code",
   "execution_count": null,
   "metadata": {
    "colab": {
     "base_uri": "https://localhost:8080/",
     "height": 300
    },
    "executionInfo": {
     "elapsed": 1380,
     "status": "ok",
     "timestamp": 1663260639339,
     "user": {
      "displayName": "Edier Vicente Aristizabal Giraldo",
      "userId": "14756502124163770629"
     },
     "user_tz": 300
    },
    "id": "_VDRolghDpWw",
    "outputId": "705d4b5e-5bb5-4571-c06f-121d70d3e4e3"
   },
   "outputs": [
    {
     "data": {
      "text/plain": [
       "[<matplotlib.lines.Line2D at 0x7fc5198162d0>,\n",
       " <matplotlib.lines.Line2D at 0x7fc519816510>]"
      ]
     },
     "execution_count": 108,
     "metadata": {},
     "output_type": "execute_result"
    },
    {
     "data": {
      "image/png": "[encoded data removed]",
      "text/plain": [
       "<Figure size 432x288 with 1 Axes>"
      ]
     },
     "metadata": {
      "needs_background": "light"
     },
     "output_type": "display_data"
    }
   ],
   "source": [
    "plt.plot(data16)"
   ]
  },
  {
   "cell_type": "markdown",
   "metadata": {
    "id": "lKvHTIs2g5CX"
   },
   "source": [
    "RobustScaler sustrae de cada columna la media y divide por el rango intercuartil."
   ]
  },
  {
   "cell_type": "code",
   "execution_count": null,
   "metadata": {
    "colab": {
     "base_uri": "https://localhost:8080/",
     "height": 300
    },
    "executionInfo": {
     "elapsed": 881,
     "status": "ok",
     "timestamp": 1663260744779,
     "user": {
      "displayName": "Edier Vicente Aristizabal Giraldo",
      "userId": "14756502124163770629"
     },
     "user_tz": 300
    },
    "id": "3JIVYC9Og5CY",
    "outputId": "c1c30ca4-acad-4ab7-91a7-2e240a97d260",
    "scrolled": true
   },
   "outputs": [
    {
     "data": {
      "text/plain": [
       "[<matplotlib.lines.Line2D at 0x7fc5193a7050>,\n",
       " <matplotlib.lines.Line2D at 0x7fc5193a7290>]"
      ]
     },
     "execution_count": 109,
     "metadata": {},
     "output_type": "execute_result"
    },
    {
     "data": {
      "image/png": "[encoded data removed]",
      "text/plain": [
       "<Figure size 432x288 with 1 Axes>"
      ]
     },
     "metadata": {
      "needs_background": "light"
     },
     "output_type": "display_data"
    }
   ],
   "source": [
    "rs=RobustScaler()\n",
    "data17 = rs.fit_transform(data15)\n",
    "plt.plot(data17)"
   ]
  },
  {
   "cell_type": "markdown",
   "metadata": {
    "id": "DFxIuG3rg5Ca"
   },
   "source": [
    "MinMaxScaler obtiene la media de la columna y divide por el rango"
   ]
  },
  {
   "cell_type": "code",
   "execution_count": null,
   "metadata": {
    "colab": {
     "base_uri": "https://localhost:8080/",
     "height": 300
    },
    "executionInfo": {
     "elapsed": 674,
     "status": "ok",
     "timestamp": 1663260898544,
     "user": {
      "displayName": "Edier Vicente Aristizabal Giraldo",
      "userId": "14756502124163770629"
     },
     "user_tz": 300
    },
    "id": "-XRKwypcg5Ca",
    "outputId": "3e351dd0-39bf-4188-96f0-101539a2bf92",
    "scrolled": true
   },
   "outputs": [
    {
     "data": {
      "text/plain": [
       "[<matplotlib.lines.Line2D at 0x7fc519388a50>,\n",
       " <matplotlib.lines.Line2D at 0x7fc5193883d0>]"
      ]
     },
     "execution_count": 111,
     "metadata": {},
     "output_type": "execute_result"
    },
    {
     "data": {
      "image/png": "[encoded data removed]",
      "text/plain": [
       "<Figure size 432x288 with 1 Axes>"
      ]
     },
     "metadata": {
      "needs_background": "light"
     },
     "output_type": "display_data"
    }
   ],
   "source": [
    "mm = MinMaxScaler()\n",
    "data18 = mm.fit_transform(data15)\n",
    "plt.plot(data18)"
   ]
  },
  {
   "cell_type": "markdown",
   "metadata": {
    "id": "zhRlZj6hg5Cc"
   },
   "source": [
    "La función *Normalizer* a diferencia de las otras opera sobre las filas, y aplica por defecto la normalización conocidad como l2."
   ]
  },
  {
   "cell_type": "code",
   "execution_count": null,
   "metadata": {
    "colab": {
     "base_uri": "https://localhost:8080/",
     "height": 300
    },
    "collapsed": true,
    "executionInfo": {
     "elapsed": 555,
     "status": "ok",
     "timestamp": 1663261005734,
     "user": {
      "displayName": "Edier Vicente Aristizabal Giraldo",
      "userId": "14756502124163770629"
     },
     "user_tz": 300
    },
    "id": "L7E0-O4Ug5Cd",
    "jupyter": {
     "outputs_hidden": true
    },
    "outputId": "64df4f7a-135e-4088-df3d-510ba0b6f6a5",
    "scrolled": true
   },
   "outputs": [
    {
     "data": {
      "text/plain": [
       "[<matplotlib.lines.Line2D at 0x7fc5191dde90>,\n",
       " <matplotlib.lines.Line2D at 0x7fc5191ddd10>]"
      ]
     },
     "execution_count": 114,
     "metadata": {},
     "output_type": "execute_result"
    },
    {
     "data": {
      "image/png": "[encoded data removed]",
      "text/plain": [
       "<Figure size 432x288 with 1 Axes>"
      ]
     },
     "metadata": {
      "needs_background": "light"
     },
     "output_type": "display_data"
    }
   ],
   "source": [
    "n = Normalizer()\n",
    "data15=data15.dropna()\n",
    "data19 = n.fit_transform(data15)\n",
    "plt.plot(data19)"
   ]
  }
 ],
 "metadata": {
  "colab": {
   "collapsed_sections": [
    "mBtPxtl8g5BL",
    "SqF7wb6_g5Br",
    "DKGVr6Ffg5B9",
    "W0rSy7_Kg5CD",
    "X0JJ4q4pg5CU"
   ],
   "provenance": []
  },
  "kernelspec": {
   "display_name": "Python 3 (ipykernel)",
   "language": "python",
   "name": "python3"
  },
  "language_info": {
   "codemirror_mode": {
    "name": "ipython",
    "version": 3
   },
   "file_extension": ".py",
   "mimetype": "text/x-python",
   "name": "python",
   "nbconvert_exporter": "python",
   "pygments_lexer": "ipython3",
   "version": "3.11.4"
  },
  "toc": {
   "base_numbering": 1,
   "nav_menu": {},
   "number_sections": true,
   "sideBar": true,
   "skip_h1_title": false,
   "title_cell": "Table of Contents",
   "title_sidebar": "Contents",
   "toc_cell": false,
   "toc_position": {},
   "toc_section_display": true,
   "toc_window_display": false
  },
  "vscode": {
   "interpreter": {
    "hash": "9f6ee8069c3d3dfdd9b74644d68939f591ae95aca226190b41a647506147ad80"
   }
  }
 },
 "nbformat": 4,
 "nbformat_minor": 4
}
