{
 "cells": [
  {
   "cell_type": "code",
   "execution_count": 2,
   "id": "04776675-24ed-4a18-8344-673d24370744",
   "metadata": {
    "collapsed": true,
    "jupyter": {
     "outputs_hidden": true
    },
    "tags": []
   },
   "outputs": [
    {
     "name": "stderr",
     "output_type": "stream",
     "text": [
      "Installing package into 'C:/Users/edier/AppData/Local/R/win-library/4.3'\n",
      "(as 'lib' is unspecified)\n",
      "\n",
      "also installing the dependencies 'ggformula', 'mosaicData', 'mosaicCore'\n",
      "\n",
      "\n"
     ]
    },
    {
     "name": "stdout",
     "output_type": "stream",
     "text": [
      "package 'ggformula' successfully unpacked and MD5 sums checked\n",
      "package 'mosaicData' successfully unpacked and MD5 sums checked\n",
      "package 'mosaicCore' successfully unpacked and MD5 sums checked\n",
      "package 'mosaic' successfully unpacked and MD5 sums checked\n",
      "\n",
      "The downloaded binary packages are in\n",
      "\tC:\\Users\\edier\\AppData\\Local\\Temp\\RtmpKKqS2F\\downloaded_packages\n"
     ]
    }
   ],
   "source": [
    "install.packages('mosaic')"
   ]
  },
  {
   "cell_type": "code",
   "execution_count": 3,
   "id": "4a830bb6-2466-4c5d-ab1c-2691e1396edb",
   "metadata": {
    "collapsed": true,
    "jupyter": {
     "outputs_hidden": true
    },
    "tags": []
   },
   "outputs": [
    {
     "name": "stderr",
     "output_type": "stream",
     "text": [
      "Warning message:\n",
      "\"package 'mosaic' was built under R version 4.3.3\"\n",
      "Registered S3 method overwritten by 'mosaic':\n",
      "  method                           from   \n",
      "  fortify.SpatialPolygonsDataFrame ggplot2\n",
      "\n",
      "\n",
      "The 'mosaic' package masks several functions from core packages in order to add \n",
      "additional features.  The original behavior of these functions should not be affected by this.\n",
      "\n",
      "\n",
      "Attaching package: 'mosaic'\n",
      "\n",
      "\n",
      "The following object is masked from 'package:Matrix':\n",
      "\n",
      "    mean\n",
      "\n",
      "\n",
      "The following objects are masked from 'package:dplyr':\n",
      "\n",
      "    count, do, tally\n",
      "\n",
      "\n",
      "The following object is masked from 'package:purrr':\n",
      "\n",
      "    cross\n",
      "\n",
      "\n",
      "The following object is masked from 'package:ggplot2':\n",
      "\n",
      "    stat\n",
      "\n",
      "\n",
      "The following objects are masked from 'package:stats':\n",
      "\n",
      "    binom.test, cor, cor.test, cov, fivenum, IQR, median, prop.test,\n",
      "    quantile, sd, t.test, var\n",
      "\n",
      "\n",
      "The following objects are masked from 'package:base':\n",
      "\n",
      "    max, mean, min, prod, range, sample, sum\n",
      "\n",
      "\n"
     ]
    }
   ],
   "source": [
    "library(tidyverse)  # data wrangling\n",
    "library(broom)  # tidy regression output\n",
    "library(mosaic)  # standardizing variables"
   ]
  },
  {
   "cell_type": "code",
   "execution_count": 11,
   "id": "55811da8-d32d-4752-a390-927afe69e932",
   "metadata": {
    "collapsed": true,
    "jupyter": {
     "outputs_hidden": true
    },
    "tags": []
   },
   "outputs": [
    {
     "name": "stderr",
     "output_type": "stream",
     "text": [
      "\u001b[1mRows: \u001b[22m\u001b[34m32\u001b[39m \u001b[1mColumns: \u001b[22m\u001b[34m12\u001b[39m\n",
      "\u001b[36m──\u001b[39m \u001b[1mColumn specification\u001b[22m \u001b[36m────────────────────────────────────────────────────────────────────────────────────────────────\u001b[39m\n",
      "\u001b[1mDelimiter:\u001b[22m \",\"\n",
      "\u001b[31mchr\u001b[39m  (1): rownames\n",
      "\u001b[32mdbl\u001b[39m (11): mpg, cyl, disp, hp, drat, wt, qsec, vs, am, gear, carb\n",
      "\n",
      "\u001b[36mℹ\u001b[39m Use `spec()` to retrieve the full column specification for this data.\n",
      "\u001b[36mℹ\u001b[39m Specify the column types or set `show_col_types = FALSE` to quiet this message.\n"
     ]
    }
   ],
   "source": [
    "mtcars <- read_csv(\"https://vincentarelbundock.github.io/Rdatasets/csv/datasets/mtcars.csv\")"
   ]
  },
  {
   "cell_type": "code",
   "execution_count": 12,
   "id": "1a703781-4a9c-436a-94fb-72d79efb39b8",
   "metadata": {
    "tags": []
   },
   "outputs": [
    {
     "name": "stdout",
     "output_type": "stream",
     "text": [
      "spc_tbl_ [32 × 12] (S3: spec_tbl_df/tbl_df/tbl/data.frame)\n",
      " $ rownames: chr [1:32] \"Mazda RX4\" \"Mazda RX4 Wag\" \"Datsun 710\" \"Hornet 4 Drive\" ...\n",
      " $ mpg     : num [1:32] 21 21 22.8 21.4 18.7 18.1 14.3 24.4 22.8 19.2 ...\n",
      " $ cyl     : num [1:32] 6 6 4 6 8 6 8 4 4 6 ...\n",
      " $ disp    : num [1:32] 160 160 108 258 360 ...\n",
      " $ hp      : num [1:32] 110 110 93 110 175 105 245 62 95 123 ...\n",
      " $ drat    : num [1:32] 3.9 3.9 3.85 3.08 3.15 2.76 3.21 3.69 3.92 3.92 ...\n",
      " $ wt      : num [1:32] 2.62 2.88 2.32 3.21 3.44 ...\n",
      " $ qsec    : num [1:32] 16.5 17 18.6 19.4 17 ...\n",
      " $ vs      : num [1:32] 0 0 1 1 0 1 0 1 1 1 ...\n",
      " $ am      : num [1:32] 1 1 1 0 0 0 0 0 0 0 ...\n",
      " $ gear    : num [1:32] 4 4 4 3 3 3 3 4 4 4 ...\n",
      " $ carb    : num [1:32] 4 4 1 1 2 1 4 2 2 4 ...\n",
      " - attr(*, \"spec\")=\n",
      "  .. cols(\n",
      "  ..   rownames = \u001b[31mcol_character()\u001b[39m,\n",
      "  ..   mpg = \u001b[32mcol_double()\u001b[39m,\n",
      "  ..   cyl = \u001b[32mcol_double()\u001b[39m,\n",
      "  ..   disp = \u001b[32mcol_double()\u001b[39m,\n",
      "  ..   hp = \u001b[32mcol_double()\u001b[39m,\n",
      "  ..   drat = \u001b[32mcol_double()\u001b[39m,\n",
      "  ..   wt = \u001b[32mcol_double()\u001b[39m,\n",
      "  ..   qsec = \u001b[32mcol_double()\u001b[39m,\n",
      "  ..   vs = \u001b[32mcol_double()\u001b[39m,\n",
      "  ..   am = \u001b[32mcol_double()\u001b[39m,\n",
      "  ..   gear = \u001b[32mcol_double()\u001b[39m,\n",
      "  ..   carb = \u001b[32mcol_double()\u001b[39m\n",
      "  .. )\n",
      " - attr(*, \"problems\")=<externalptr> \n"
     ]
    }
   ],
   "source": [
    "str(mtcars)"
   ]
  },
  {
   "cell_type": "code",
   "execution_count": 5,
   "id": "ed1501f4-7a9b-4467-8ba5-d4a0155c562e",
   "metadata": {
    "tags": []
   },
   "outputs": [
    {
     "data": {
      "text/html": [
       "<table class=\"dataframe\">\n",
       "<caption>A tibble: 2 × 5</caption>\n",
       "<thead>\n",
       "\t<tr><th scope=col>term</th><th scope=col>estimate</th><th scope=col>std.error</th><th scope=col>statistic</th><th scope=col>p.value</th></tr>\n",
       "\t<tr><th scope=col>&lt;chr&gt;</th><th scope=col>&lt;dbl&gt;</th><th scope=col>&lt;dbl&gt;</th><th scope=col>&lt;dbl&gt;</th><th scope=col>&lt;dbl&gt;</th></tr>\n",
       "</thead>\n",
       "<tbody>\n",
       "\t<tr><td>(Intercept)</td><td>30.09886054</td><td>1.6339210</td><td>18.421246</td><td>6.642736e-18</td></tr>\n",
       "\t<tr><td>hp         </td><td>-0.06822828</td><td>0.0101193</td><td>-6.742389</td><td>1.787835e-07</td></tr>\n",
       "</tbody>\n",
       "</table>\n"
      ],
      "text/latex": [
       "A tibble: 2 × 5\n",
       "\\begin{tabular}{lllll}\n",
       " term & estimate & std.error & statistic & p.value\\\\\n",
       " <chr> & <dbl> & <dbl> & <dbl> & <dbl>\\\\\n",
       "\\hline\n",
       "\t (Intercept) & 30.09886054 & 1.6339210 & 18.421246 & 6.642736e-18\\\\\n",
       "\t hp          & -0.06822828 & 0.0101193 & -6.742389 & 1.787835e-07\\\\\n",
       "\\end{tabular}\n"
      ],
      "text/markdown": [
       "\n",
       "A tibble: 2 × 5\n",
       "\n",
       "| term &lt;chr&gt; | estimate &lt;dbl&gt; | std.error &lt;dbl&gt; | statistic &lt;dbl&gt; | p.value &lt;dbl&gt; |\n",
       "|---|---|---|---|---|\n",
       "| (Intercept) | 30.09886054 | 1.6339210 | 18.421246 | 6.642736e-18 |\n",
       "| hp          | -0.06822828 | 0.0101193 | -6.742389 | 1.787835e-07 |\n",
       "\n"
      ],
      "text/plain": [
       "  term        estimate    std.error statistic p.value     \n",
       "1 (Intercept) 30.09886054 1.6339210 18.421246 6.642736e-18\n",
       "2 hp          -0.06822828 0.0101193 -6.742389 1.787835e-07"
      ]
     },
     "metadata": {},
     "output_type": "display_data"
    }
   ],
   "source": [
    "lm1 <- lm(mpg ~ hp, data = mtcars)\n",
    "\n",
    "tidy(lm1)"
   ]
  },
  {
   "cell_type": "code",
   "execution_count": 8,
   "id": "49ee4e0e-1451-41de-9634-89b14e67799e",
   "metadata": {
    "tags": []
   },
   "outputs": [
    {
     "data": {
      "text/html": [
       "<table class=\"dataframe\">\n",
       "<caption>A tibble: 1 × 12</caption>\n",
       "<thead>\n",
       "\t<tr><th scope=col>r.squared</th><th scope=col>adj.r.squared</th><th scope=col>sigma</th><th scope=col>statistic</th><th scope=col>p.value</th><th scope=col>df</th><th scope=col>logLik</th><th scope=col>AIC</th><th scope=col>BIC</th><th scope=col>deviance</th><th scope=col>df.residual</th><th scope=col>nobs</th></tr>\n",
       "\t<tr><th scope=col>&lt;dbl&gt;</th><th scope=col>&lt;dbl&gt;</th><th scope=col>&lt;dbl&gt;</th><th scope=col>&lt;dbl&gt;</th><th scope=col>&lt;dbl&gt;</th><th scope=col>&lt;dbl&gt;</th><th scope=col>&lt;dbl&gt;</th><th scope=col>&lt;dbl&gt;</th><th scope=col>&lt;dbl&gt;</th><th scope=col>&lt;dbl&gt;</th><th scope=col>&lt;int&gt;</th><th scope=col>&lt;int&gt;</th></tr>\n",
       "</thead>\n",
       "<tbody>\n",
       "\t<tr><td>0.6024373</td><td>0.5891853</td><td>3.862962</td><td>45.4598</td><td>1.787835e-07</td><td>1</td><td>-87.61931</td><td>181.2386</td><td>185.6358</td><td>447.6743</td><td>30</td><td>32</td></tr>\n",
       "</tbody>\n",
       "</table>\n"
      ],
      "text/latex": [
       "A tibble: 1 × 12\n",
       "\\begin{tabular}{llllllllllll}\n",
       " r.squared & adj.r.squared & sigma & statistic & p.value & df & logLik & AIC & BIC & deviance & df.residual & nobs\\\\\n",
       " <dbl> & <dbl> & <dbl> & <dbl> & <dbl> & <dbl> & <dbl> & <dbl> & <dbl> & <dbl> & <int> & <int>\\\\\n",
       "\\hline\n",
       "\t 0.6024373 & 0.5891853 & 3.862962 & 45.4598 & 1.787835e-07 & 1 & -87.61931 & 181.2386 & 185.6358 & 447.6743 & 30 & 32\\\\\n",
       "\\end{tabular}\n"
      ],
      "text/markdown": [
       "\n",
       "A tibble: 1 × 12\n",
       "\n",
       "| r.squared &lt;dbl&gt; | adj.r.squared &lt;dbl&gt; | sigma &lt;dbl&gt; | statistic &lt;dbl&gt; | p.value &lt;dbl&gt; | df &lt;dbl&gt; | logLik &lt;dbl&gt; | AIC &lt;dbl&gt; | BIC &lt;dbl&gt; | deviance &lt;dbl&gt; | df.residual &lt;int&gt; | nobs &lt;int&gt; |\n",
       "|---|---|---|---|---|---|---|---|---|---|---|---|\n",
       "| 0.6024373 | 0.5891853 | 3.862962 | 45.4598 | 1.787835e-07 | 1 | -87.61931 | 181.2386 | 185.6358 | 447.6743 | 30 | 32 |\n",
       "\n"
      ],
      "text/plain": [
       "  r.squared adj.r.squared sigma    statistic p.value      df logLik    AIC     \n",
       "1 0.6024373 0.5891853     3.862962 45.4598   1.787835e-07 1  -87.61931 181.2386\n",
       "  BIC      deviance df.residual nobs\n",
       "1 185.6358 447.6743 30          32  "
      ]
     },
     "metadata": {},
     "output_type": "display_data"
    }
   ],
   "source": [
    "glance(lm1)"
   ]
  },
  {
   "cell_type": "code",
   "execution_count": 6,
   "id": "bda95979-908a-46ec-ac70-de0df84e316d",
   "metadata": {
    "tags": []
   },
   "outputs": [],
   "source": [
    "mtcars_standardized <- \n",
    "  mtcars %>% \n",
    "  mutate(hp_s = scale(hp))"
   ]
  },
  {
   "cell_type": "code",
   "execution_count": 7,
   "id": "7f32e452-e288-46b5-bac4-8a0acc431d9e",
   "metadata": {
    "tags": []
   },
   "outputs": [
    {
     "data": {
      "text/html": [
       "<table class=\"dataframe\">\n",
       "<caption>A tibble: 2 × 5</caption>\n",
       "<thead>\n",
       "\t<tr><th scope=col>term</th><th scope=col>estimate</th><th scope=col>std.error</th><th scope=col>statistic</th><th scope=col>p.value</th></tr>\n",
       "\t<tr><th scope=col>&lt;chr&gt;</th><th scope=col>&lt;dbl&gt;</th><th scope=col>&lt;dbl&gt;</th><th scope=col>&lt;dbl&gt;</th><th scope=col>&lt;dbl&gt;</th></tr>\n",
       "</thead>\n",
       "<tbody>\n",
       "\t<tr><td>(Intercept)</td><td>20.090625</td><td>0.6828817</td><td>29.420360</td><td>1.101810e-23</td></tr>\n",
       "\t<tr><td>hp_s       </td><td>-4.677926</td><td>0.6938085</td><td>-6.742389</td><td>1.787835e-07</td></tr>\n",
       "</tbody>\n",
       "</table>\n"
      ],
      "text/latex": [
       "A tibble: 2 × 5\n",
       "\\begin{tabular}{lllll}\n",
       " term & estimate & std.error & statistic & p.value\\\\\n",
       " <chr> & <dbl> & <dbl> & <dbl> & <dbl>\\\\\n",
       "\\hline\n",
       "\t (Intercept) & 20.090625 & 0.6828817 & 29.420360 & 1.101810e-23\\\\\n",
       "\t hp\\_s        & -4.677926 & 0.6938085 & -6.742389 & 1.787835e-07\\\\\n",
       "\\end{tabular}\n"
      ],
      "text/markdown": [
       "\n",
       "A tibble: 2 × 5\n",
       "\n",
       "| term &lt;chr&gt; | estimate &lt;dbl&gt; | std.error &lt;dbl&gt; | statistic &lt;dbl&gt; | p.value &lt;dbl&gt; |\n",
       "|---|---|---|---|---|\n",
       "| (Intercept) | 20.090625 | 0.6828817 | 29.420360 | 1.101810e-23 |\n",
       "| hp_s        | -4.677926 | 0.6938085 | -6.742389 | 1.787835e-07 |\n",
       "\n"
      ],
      "text/plain": [
       "  term        estimate  std.error statistic p.value     \n",
       "1 (Intercept) 20.090625 0.6828817 29.420360 1.101810e-23\n",
       "2 hp_s        -4.677926 0.6938085 -6.742389 1.787835e-07"
      ]
     },
     "metadata": {},
     "output_type": "display_data"
    }
   ],
   "source": [
    "lm2 <- lm(mpg ~ hp_s, data = mtcars_standardized)\n",
    "\n",
    "tidy(lm2)"
   ]
  },
  {
   "cell_type": "code",
   "execution_count": 9,
   "id": "013f1ff3-8311-45f3-b948-332c4191e60b",
   "metadata": {
    "tags": []
   },
   "outputs": [
    {
     "data": {
      "text/html": [
       "<table class=\"dataframe\">\n",
       "<caption>A tibble: 1 × 12</caption>\n",
       "<thead>\n",
       "\t<tr><th scope=col>r.squared</th><th scope=col>adj.r.squared</th><th scope=col>sigma</th><th scope=col>statistic</th><th scope=col>p.value</th><th scope=col>df</th><th scope=col>logLik</th><th scope=col>AIC</th><th scope=col>BIC</th><th scope=col>deviance</th><th scope=col>df.residual</th><th scope=col>nobs</th></tr>\n",
       "\t<tr><th scope=col>&lt;dbl&gt;</th><th scope=col>&lt;dbl&gt;</th><th scope=col>&lt;dbl&gt;</th><th scope=col>&lt;dbl&gt;</th><th scope=col>&lt;dbl&gt;</th><th scope=col>&lt;dbl&gt;</th><th scope=col>&lt;dbl&gt;</th><th scope=col>&lt;dbl&gt;</th><th scope=col>&lt;dbl&gt;</th><th scope=col>&lt;dbl&gt;</th><th scope=col>&lt;int&gt;</th><th scope=col>&lt;int&gt;</th></tr>\n",
       "</thead>\n",
       "<tbody>\n",
       "\t<tr><td>0.6024373</td><td>0.5891853</td><td>3.862962</td><td>45.4598</td><td>1.787835e-07</td><td>1</td><td>-87.61931</td><td>181.2386</td><td>185.6358</td><td>447.6743</td><td>30</td><td>32</td></tr>\n",
       "</tbody>\n",
       "</table>\n"
      ],
      "text/latex": [
       "A tibble: 1 × 12\n",
       "\\begin{tabular}{llllllllllll}\n",
       " r.squared & adj.r.squared & sigma & statistic & p.value & df & logLik & AIC & BIC & deviance & df.residual & nobs\\\\\n",
       " <dbl> & <dbl> & <dbl> & <dbl> & <dbl> & <dbl> & <dbl> & <dbl> & <dbl> & <dbl> & <int> & <int>\\\\\n",
       "\\hline\n",
       "\t 0.6024373 & 0.5891853 & 3.862962 & 45.4598 & 1.787835e-07 & 1 & -87.61931 & 181.2386 & 185.6358 & 447.6743 & 30 & 32\\\\\n",
       "\\end{tabular}\n"
      ],
      "text/markdown": [
       "\n",
       "A tibble: 1 × 12\n",
       "\n",
       "| r.squared &lt;dbl&gt; | adj.r.squared &lt;dbl&gt; | sigma &lt;dbl&gt; | statistic &lt;dbl&gt; | p.value &lt;dbl&gt; | df &lt;dbl&gt; | logLik &lt;dbl&gt; | AIC &lt;dbl&gt; | BIC &lt;dbl&gt; | deviance &lt;dbl&gt; | df.residual &lt;int&gt; | nobs &lt;int&gt; |\n",
       "|---|---|---|---|---|---|---|---|---|---|---|---|\n",
       "| 0.6024373 | 0.5891853 | 3.862962 | 45.4598 | 1.787835e-07 | 1 | -87.61931 | 181.2386 | 185.6358 | 447.6743 | 30 | 32 |\n",
       "\n"
      ],
      "text/plain": [
       "  r.squared adj.r.squared sigma    statistic p.value      df logLik    AIC     \n",
       "1 0.6024373 0.5891853     3.862962 45.4598   1.787835e-07 1  -87.61931 181.2386\n",
       "  BIC      deviance df.residual nobs\n",
       "1 185.6358 447.6743 30          32  "
      ]
     },
     "metadata": {},
     "output_type": "display_data"
    }
   ],
   "source": [
    "glance(lm2)"
   ]
  },
  {
   "cell_type": "code",
   "execution_count": null,
   "id": "e04b171d-4f8f-4d76-8968-2c24fefecbf8",
   "metadata": {},
   "outputs": [],
   "source": []
  }
 ],
 "metadata": {
  "kernelspec": {
   "display_name": "R",
   "language": "R",
   "name": "ir"
  },
  "language_info": {
   "codemirror_mode": "r",
   "file_extension": ".r",
   "mimetype": "text/x-r-source",
   "name": "R",
   "pygments_lexer": "r",
   "version": "4.3.2"
  }
 },
 "nbformat": 4,
 "nbformat_minor": 5
}
