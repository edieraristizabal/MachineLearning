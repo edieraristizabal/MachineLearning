{
 "cells": [
  {
   "cell_type": "markdown",
   "metadata": {},
   "source": [
    "**CURSO**: *Machine Learning* en Geociencias<br />\n",
    "**Profesor**: Edier Aristizábal (evaristizabalg@unal.edu.co) <br />\n",
    "**Credits**: The content of this notebook is taken from several sources, such as: [datacamp](https://www.datacamp.com/tutorial/tutorial-normal-equation-for-linear-regression#what-is-the-normal-equation-). Every effort has been made to trace copyright holders of the materials used in this notebook. The author apologies for any unintentional omissions and would be pleased to add an acknowledgment in future editions."
   ]
  },
  {
   "cell_type": "markdown",
   "metadata": {},
   "source": [
    "# 09: Selección de hiperparámetros (*hyperparameter optimization*)"
   ]
  },
  {
   "cell_type": "markdown",
   "metadata": {},
   "source": [
    "## The Normal Equation vs Gradient Descent"
   ]
  },
  {
   "cell_type": "code",
   "execution_count": 1,
   "metadata": {},
   "outputs": [
    {
     "data": {
      "image/png": "[encoded data removed]",
      "text/plain": [
       "<Figure size 576x360 with 1 Axes>"
      ]
     },
     "metadata": {
      "needs_background": "light"
     },
     "output_type": "display_data"
    }
   ],
   "source": [
    "import numpy as np\n",
    "import matplotlib.pyplot as plt\n",
    "from sklearn.datasets import make_regression\n",
    "\n",
    "# Generate a regression problem\n",
    "X, y = make_regression(\n",
    "    n_samples=100,\n",
    "    n_features=2,\n",
    "    n_informative=2,\n",
    "    noise = 10,\n",
    "    random_state=25\n",
    "    )\n",
    "\n",
    "# Visualize feature at index 1 vs target\n",
    "plt.subplots(figsize=(8, 5))\n",
    "plt.scatter(X[:, 1], y, marker='o')\n",
    "plt.xlabel(\"Feature at Index 1\")\n",
    "plt.ylabel(\"Target\")\n",
    "plt.show()"
   ]
  },
  {
   "cell_type": "markdown",
   "metadata": {},
   "source": [
    "### The normal equation from scratch"
   ]
  },
  {
   "cell_type": "code",
   "execution_count": 2,
   "metadata": {},
   "outputs": [
    {
     "name": "stdout",
     "output_type": "stream",
     "text": [
      "Intercept: 0.3592124267797836\n",
      "Coefficients: [6.129199175400599, 96.44309685893136]\n"
     ]
    }
   ],
   "source": [
    "# adds x0 = 1 to each instance\n",
    "X_b = np.concatenate([np.ones((len(X), 1)), X], axis=1)\n",
    "# calculate normal equation\n",
    "theta_best = np.linalg.inv(X_b.T.dot(X_b)).dot(X_b.T).dot(y)\n",
    "# best values for theta\n",
    "intercept, *coef = theta_best\n",
    "print(f\"Intercept: {intercept}\\n\\\n",
    "Coefficients: {coef}\")"
   ]
  },
  {
   "cell_type": "markdown",
   "metadata": {},
   "source": [
    "### The normal equation using Scikit-learn"
   ]
  },
  {
   "cell_type": "code",
   "execution_count": 4,
   "metadata": {},
   "outputs": [
    {
     "name": "stdout",
     "output_type": "stream",
     "text": [
      "Intercept: 0.3592124267797807\n",
      "Coefficients: [ 6.12919918 96.44309686]\n"
     ]
    }
   ],
   "source": [
    "from sklearn.linear_model import LinearRegression\n",
    "\n",
    "lr = LinearRegression()\n",
    "lr.fit(X, y)\n",
    "\n",
    "print(f\"Intercept: {lr.intercept_}\\n\\\n",
    "Coefficients: {lr.coef_}\")"
   ]
  },
  {
   "cell_type": "markdown",
   "metadata": {},
   "source": [
    "Los modelos de *machine learning* son parametrizados por lo que los resultados están en función de dichos valores. Los parámetros del algoritmo y que no dependen de los datos son denominados hiperparámetros, mientras que el término parámetros es exclusivo de los coeficientes que encuentra el modelo y dependen de los datos. "
   ]
  },
  {
   "cell_type": "markdown",
   "metadata": {},
   "source": [
    "## Curva de validación con Sklearn"
   ]
  },
  {
   "cell_type": "markdown",
   "metadata": {},
   "source": [
    "La Curva de Vallidación visualiza la métrica del desempeño del modelo sobre un rango de valores para algún hiperparámetro. Es por lo tanto utilizado para seleccionar los hiperparámetros que maximicen el desempeño del modelo."
   ]
  },
  {
   "cell_type": "code",
   "execution_count": 41,
   "metadata": {},
   "outputs": [],
   "source": [
    "import numpy as np\n",
    "import matplotlib.pyplot as plt\n",
    "from sklearn.linear_model import Ridge\n",
    "from sklearn.linear_model import Lasso\n",
    "from sklearn.neighbors import KNeighborsRegressor\n",
    "from sklearn.model_selection import cross_validate\n",
    "import warnings\n",
    "warnings.simplefilter(\"ignore\")"
   ]
  },
  {
   "cell_type": "markdown",
   "metadata": {},
   "source": [
    "Para este ejemplo se utilizará la base de datos para regresión de *boston*."
   ]
  },
  {
   "cell_type": "code",
   "execution_count": 2,
   "metadata": {},
   "outputs": [],
   "source": [
    "from sklearn.datasets import load_boston\n",
    "X,y=load_boston(return_X_y=True)"
   ]
  },
  {
   "cell_type": "markdown",
   "metadata": {},
   "source": [
    "Como algoritmo se utilizará el vecino mas cercano. Inicialmente se ejecutará el modelo para un hiperparámetro que determina el número de vecinos a utilizar. Inicialmente como ejemplo se utiliza un valor de K=10."
   ]
  },
  {
   "cell_type": "code",
   "execution_count": 46,
   "metadata": {},
   "outputs": [
    {
     "data": {
      "text/plain": [
       "{'fit_time': array([0.00498724, 0.00498676, 0.00199103, 0.00299048, 0.00299168]),\n",
       " 'score_time': array([0.06981349, 0.05090117, 0.04687548, 0.04686785, 0.04684377]),\n",
       " 'test_score': array([0.85354294, 0.89466997, 0.90704499, 0.93033766, 0.90217437])}"
      ]
     },
     "execution_count": 46,
     "metadata": {},
     "output_type": "execute_result"
    }
   ],
   "source": [
    "results=cross_validate(KNeighborsRegressor(n_neighbors=10), X, y, cv=5)\n",
    "results"
   ]
  },
  {
   "cell_type": "code",
   "execution_count": 47,
   "metadata": {},
   "outputs": [
    {
     "data": {
      "text/plain": [
       "0.8975539883713222"
      ]
     },
     "execution_count": 47,
     "metadata": {},
     "output_type": "execute_result"
    }
   ],
   "source": [
    "results['test_score'].mean()"
   ]
  },
  {
   "cell_type": "markdown",
   "metadata": {},
   "source": [
    "Para seleccionar el valor de K que optimice el algoritmo, primero definiremos el rango de K en el cual evaluaremos la función. Se utilizarán valores pares de 2 hasta 50."
   ]
  },
  {
   "cell_type": "code",
   "execution_count": 12,
   "metadata": {},
   "outputs": [
    {
     "data": {
      "text/plain": [
       "array([ 2,  4,  6,  8, 10, 12, 14, 16, 18, 20, 22, 24, 26, 28, 30, 32, 34,\n",
       "       36, 38, 40, 42, 44, 46, 48, 50, 52, 54, 56, 58, 60, 62, 64, 66, 68,\n",
       "       70, 72, 74, 76, 78, 80, 82, 84, 86, 88, 90, 92, 94, 96, 98])"
      ]
     },
     "execution_count": 12,
     "metadata": {},
     "output_type": "execute_result"
    }
   ],
   "source": [
    "k = np.arange(2,100,2)\n",
    "k"
   ]
  },
  {
   "cell_type": "markdown",
   "metadata": {},
   "source": [
    "Y se llama la función *validation_curve* en el rango de valores K definido:"
   ]
  },
  {
   "cell_type": "code",
   "execution_count": 22,
   "metadata": {},
   "outputs": [],
   "source": [
    "from sklearn.model_selection import validation_curve\n",
    "\n",
    "train_scores, test_scores = validation_curve(KNeighborsRegressor(), X, y, param_name='n_neighbors', param_range=k, cv=6)"
   ]
  },
  {
   "cell_type": "code",
   "execution_count": 25,
   "metadata": {},
   "outputs": [
    {
     "name": "stdout",
     "output_type": "stream",
     "text": [
      "[[-1.94329049e+00 -2.71414218e-01 -5.69674242e-01 -1.00729658e-01\n",
      "   2.17776168e-02  3.26257436e-02]\n",
      " [-1.36889327e+00 -3.68977722e-01 -4.61116612e-01 -1.05162587e-01\n",
      "   3.57024146e-02 -6.08582565e-02]\n",
      " [-1.12725382e+00 -3.15025776e-01 -4.46686154e-01 -1.06483293e-01\n",
      "   6.79583536e-02 -1.11819154e-01]\n",
      " [-1.16275280e+00 -2.65576874e-01 -4.58657537e-01 -1.36275397e-01\n",
      "   7.76251990e-02 -8.28163506e-02]\n",
      " [-1.13942102e+00 -2.91221246e-01 -4.61653398e-01 -9.77530399e-02\n",
      "   8.83450953e-02  8.48380027e-02]\n",
      " [-1.12299723e+00 -2.39861307e-01 -4.72087197e-01 -8.51962420e-02\n",
      "   9.21088229e-02  7.76457230e-02]\n",
      " [-1.00403128e+00 -1.89104499e-01 -4.99800906e-01 -7.96624473e-02\n",
      "   8.36897519e-02  5.64562199e-02]\n",
      " [-1.01966661e+00 -1.68216204e-01 -5.10133783e-01 -9.44081264e-02\n",
      "   7.66577385e-02 -2.47838263e-02]\n",
      " [-9.68744971e-01 -1.55851295e-01 -5.19479932e-01 -6.60309772e-02\n",
      "   7.38239257e-02 -3.12714174e-02]\n",
      " [-8.99111886e-01 -1.38381607e-01 -5.23019840e-01 -7.06740104e-02\n",
      "   7.13045734e-02 -1.30824202e-01]\n",
      " [-9.54562615e-01 -1.36436256e-01 -5.51861147e-01 -8.89440426e-02\n",
      "   5.08068876e-02 -2.60212375e-01]\n",
      " [-9.58886248e-01 -1.39696251e-01 -5.51296417e-01 -9.70686604e-02\n",
      "   4.78349049e-02 -2.97464132e-01]\n",
      " [-9.06336182e-01 -1.27401164e-01 -5.60391144e-01 -1.09127471e-01\n",
      "   4.83714898e-02 -3.33422471e-01]\n",
      " [-8.84706651e-01 -9.15178437e-02 -5.49399088e-01 -9.66896629e-02\n",
      "   3.71436016e-02 -3.58342898e-01]\n",
      " [-8.56711183e-01 -9.31216195e-02 -5.65564567e-01 -1.10734603e-01\n",
      "   4.70338021e-02 -3.93733564e-01]\n",
      " [-7.99023071e-01 -4.61641464e-02 -5.66083114e-01 -1.18830373e-01\n",
      "   4.18691888e-02 -4.07267274e-01]\n",
      " [-7.87326711e-01 -3.64068991e-02 -5.71000556e-01 -1.13248037e-01\n",
      "   4.75503957e-02 -3.57318135e-01]\n",
      " [-7.68872386e-01 -2.02768093e-02 -5.69861175e-01 -1.09926682e-01\n",
      "   4.25591062e-02 -3.73569388e-01]\n",
      " [-7.16478580e-01 -2.12164363e-02 -5.66265917e-01 -1.04028922e-01\n",
      "   3.82309694e-02 -3.81741292e-01]\n",
      " [-6.68672733e-01 -3.09501139e-02 -5.69538873e-01 -1.02348814e-01\n",
      "   5.16195520e-02 -4.55924895e-01]\n",
      " [-6.68136946e-01 -1.85082032e-02 -5.69959575e-01 -1.08488290e-01\n",
      "   5.10316107e-02 -4.64611556e-01]\n",
      " [-6.41188871e-01 -1.37757480e-02 -5.66901048e-01 -1.18150833e-01\n",
      "   5.18846138e-02 -4.47469341e-01]\n",
      " [-6.02239313e-01  1.58399167e-04 -5.65945049e-01 -1.23100650e-01\n",
      "   4.72749942e-02 -3.91677534e-01]\n",
      " [-5.85335833e-01 -1.84821915e-02 -5.59833190e-01 -1.13260401e-01\n",
      "   4.67925063e-02 -3.87234307e-01]\n",
      " [-5.60334813e-01 -1.87972841e-02 -5.34662426e-01 -1.01374376e-01\n",
      "   4.92123840e-02 -4.22985342e-01]\n",
      " [-5.54219141e-01 -7.88168728e-03 -5.17710959e-01 -9.55829553e-02\n",
      "   5.31059641e-02 -3.45692320e-01]\n",
      " [-5.63609766e-01 -1.83413460e-02 -5.01688551e-01 -9.68415180e-02\n",
      "   5.31641418e-02 -3.26483993e-01]\n",
      " [-5.66334637e-01 -8.76265655e-03 -4.86203889e-01 -9.16221554e-02\n",
      "   5.32006239e-02 -2.87373409e-01]\n",
      " [-5.76575939e-01  1.08267408e-02 -4.75583132e-01 -8.59654828e-02\n",
      "   5.27758673e-02 -2.37606952e-01]\n",
      " [-6.03589176e-01  4.87174679e-03 -4.60334362e-01 -8.80765609e-02\n",
      "   5.04298403e-02 -1.90407615e-01]\n",
      " [-6.09438699e-01  1.53510491e-02 -4.48404863e-01 -9.33769868e-02\n",
      "   4.58573849e-02 -1.53983385e-01]\n",
      " [-6.22881074e-01  1.14716546e-02 -4.32434168e-01 -9.36782635e-02\n",
      "   4.11123402e-02 -1.24174489e-01]\n",
      " [-6.28476607e-01  9.76860422e-03 -4.24532976e-01 -9.25177525e-02\n",
      "   4.05013550e-02 -9.16891759e-02]\n",
      " [-6.41294428e-01 -3.96607237e-03 -4.03823174e-01 -9.22712951e-02\n",
      "   3.85926305e-02 -6.65040736e-02]\n",
      " [-6.40962660e-01 -1.04502036e-02 -3.79495412e-01 -8.53309855e-02\n",
      "   3.84395290e-02 -4.42507701e-02]\n",
      " [-6.45379803e-01 -1.93954787e-02 -3.60435486e-01 -8.40785580e-02\n",
      "   3.91767415e-02 -2.47527624e-02]\n",
      " [-6.69181119e-01 -1.32636761e-02 -3.46014137e-01 -7.89377842e-02\n",
      "   3.75324020e-02 -2.05310740e-03]\n",
      " [-6.81452505e-01 -1.60334963e-02 -3.48032990e-01 -8.00983449e-02\n",
      "   3.95181005e-02  5.22764811e-03]\n",
      " [-6.93486223e-01 -2.21331963e-02 -3.51787109e-01 -7.80224354e-02\n",
      "   6.41755927e-02 -1.01204367e-02]\n",
      " [-7.10221774e-01 -2.65959758e-02 -3.44873894e-01 -7.47910630e-02\n",
      "   7.42399980e-02 -1.44464616e-02]\n",
      " [-7.23996676e-01 -2.96137977e-02 -3.34876469e-01 -7.17136425e-02\n",
      "   5.68325226e-02 -3.13109944e-02]\n",
      " [-7.17046495e-01 -3.52598636e-02 -3.20921446e-01 -6.82958826e-02\n",
      "   4.51424365e-02 -3.49032543e-02]\n",
      " [-7.28096117e-01 -4.32202425e-02 -3.16940545e-01 -6.63259423e-02\n",
      "   2.34364322e-02 -2.13009173e-02]\n",
      " [-7.22653843e-01 -4.45397292e-02 -3.15011942e-01 -6.69928247e-02\n",
      "   2.10929867e-02  1.65654461e-03]\n",
      " [-7.20692811e-01 -4.23900721e-02 -3.15372259e-01 -6.57740346e-02\n",
      "   1.84096979e-02  1.30983394e-03]\n",
      " [-7.25652112e-01 -3.89091331e-02 -3.20457098e-01 -7.11962066e-02\n",
      "   1.42612166e-02  7.57231522e-03]\n",
      " [-7.49987134e-01 -3.76710101e-02 -3.19421435e-01 -6.80499383e-02\n",
      "   1.48501059e-02 -2.09559187e-02]\n",
      " [-7.62251016e-01 -3.34867790e-02 -3.23620100e-01 -7.07826780e-02\n",
      "   1.33825264e-02 -4.67117652e-02]\n",
      " [-7.60374071e-01 -3.34629088e-02 -3.30766453e-01 -6.86539000e-02\n",
      "   1.22944691e-02 -7.00079999e-02]]\n"
     ]
    }
   ],
   "source": [
    "print(test_scores)"
   ]
  },
  {
   "cell_type": "markdown",
   "metadata": {},
   "source": [
    "Como se obtienen 5 valores de *score* por cada valor de K, por lo cual se debe promediar dicho valor en las 50 valores de k para los datos de entrenamiento y para los datos de validación."
   ]
  },
  {
   "cell_type": "code",
   "execution_count": 30,
   "metadata": {},
   "outputs": [
    {
     "data": {
      "text/plain": [
       "array([0.85621024, 0.75116866, 0.68755467, 0.64242127, 0.60882598,\n",
       "       0.56913984, 0.55230706, 0.53225376, 0.51120138, 0.48416616,\n",
       "       0.46008627, 0.44475883, 0.42870573, 0.41627094, 0.40322169,\n",
       "       0.3896899 , 0.37853898, 0.36812953, 0.35479556, 0.34428472,\n",
       "       0.33416722, 0.32736341, 0.32062301, 0.31539128, 0.31041503,\n",
       "       0.30641081, 0.30188278, 0.29612578, 0.29219971, 0.2863675 ,\n",
       "       0.28223364, 0.27855611, 0.2740922 , 0.27129727, 0.26905237,\n",
       "       0.26600445, 0.26377098, 0.26121681, 0.25864349, 0.25576968,\n",
       "       0.25353785, 0.2513059 , 0.24885626, 0.24874429, 0.24812699,\n",
       "       0.24725074, 0.24461871, 0.24364258, 0.2427999 ])"
      ]
     },
     "execution_count": 30,
     "metadata": {},
     "output_type": "execute_result"
    }
   ],
   "source": [
    "#np.mean(test_scores,axis=1)\n",
    "np.mean(train_scores,axis=1)"
   ]
  },
  {
   "cell_type": "code",
   "execution_count": 18,
   "metadata": {},
   "outputs": [
    {
     "data": {
      "text/plain": [
       "array([-0.47178421, -0.38821767, -0.33988497, -0.33807563, -0.30281094,\n",
       "       -0.29173124, -0.27207553, -0.2900918 , -0.27792578, -0.2817845 ,\n",
       "       -0.32353492, -0.3327628 , -0.33138449, -0.32391876, -0.32880529,\n",
       "       -0.31591647, -0.30295832, -0.29999122, -0.2919167 , -0.29596931,\n",
       "       -0.29644549, -0.28926687, -0.27258819, -0.2695589 , -0.26482364,\n",
       "       -0.24466352, -0.24230017, -0.23118269, -0.21868815, -0.21451769,\n",
       "       -0.20733258, -0.20343067, -0.19782443, -0.19487774, -0.18700842,\n",
       "       -0.18247756, -0.1786529 , -0.18014526, -0.18189563, -0.18278153,\n",
       "       -0.18911318, -0.18854742, -0.19207456, -0.18774147, -0.18741827,\n",
       "       -0.1890635 , -0.19687255, -0.20391164, -0.20849514])"
      ]
     },
     "execution_count": 18,
     "metadata": {},
     "output_type": "execute_result"
    }
   ],
   "source": [
    "np.mean(test_scores,axis=1)"
   ]
  },
  {
   "cell_type": "markdown",
   "metadata": {},
   "source": [
    "Y se grafica la Curva de Validación."
   ]
  },
  {
   "cell_type": "code",
   "execution_count": 27,
   "metadata": {},
   "outputs": [
    {
     "data": {
      "image/png": "[encoded data removed]",
      "text/plain": [
       "<Figure size 432x288 with 1 Axes>"
      ]
     },
     "metadata": {
      "needs_background": "light"
     },
     "output_type": "display_data"
    }
   ],
   "source": [
    "plt.figure()\n",
    "plt.title(\"Curva de validación (KNeighbors)\")    \n",
    "plt.xlabel(\"k\")\n",
    "plt.ylabel(\"Score\")\n",
    "plt.plot(np.mean(train_scores,axis=1),label=\"Entrenamiento\")\n",
    "plt.plot(np.mean(test_scores,axis=1),label=\"Validación\")\n",
    "#plt.ylim(0, 1)\n",
    "plt.xticks(np.arange(49),k)\n",
    "plt.legend(loc=\"best\")\n",
    "plt.grid(True);"
   ]
  },
  {
   "cell_type": "markdown",
   "metadata": {},
   "source": [
    "Lo que señalan los resultados es que el mejor desempeño lo tiene para un valor de K=2. A medida que aumenta el número de K el desempeño del modelo, tanto para el entrenamiento como para la validación, se reduce."
   ]
  },
  {
   "cell_type": "markdown",
   "metadata": {},
   "source": [
    "A continuacion se presenta otro ejemplo de Curva de Validación con el método de *Support Vector machine* para clasificación con el hiperparámetro $\\gamma$."
   ]
  },
  {
   "cell_type": "code",
   "execution_count": 13,
   "metadata": {},
   "outputs": [],
   "source": [
    "from sklearn.datasets import load_digits\n",
    "from sklearn.svm import SVC"
   ]
  },
  {
   "cell_type": "code",
   "execution_count": 14,
   "metadata": {},
   "outputs": [],
   "source": [
    "digits = load_digits()\n",
    "X, y = digits.data, digits.target"
   ]
  },
  {
   "cell_type": "code",
   "execution_count": 15,
   "metadata": {},
   "outputs": [],
   "source": [
    "param_range = np.logspace(-6, -1, 5)\n",
    "train_scores, test_scores = validation_curve(SVC(), X, y, param_name=\"gamma\", param_range=param_range,\n",
    "    cv=5, scoring=\"accuracy\", n_jobs=1)\n",
    "train_scores_mean = np.mean(train_scores, axis=1)\n",
    "train_scores_std = np.std(train_scores, axis=1)\n",
    "test_scores_mean = np.mean(test_scores, axis=1)\n",
    "test_scores_std = np.std(test_scores, axis=1)"
   ]
  },
  {
   "cell_type": "code",
   "execution_count": 37,
   "metadata": {},
   "outputs": [
    {
     "data": {
      "image/png": "[encoded data removed]",
      "text/plain": [
       "<matplotlib.figure.Figure at 0x1b4000954e0>"
      ]
     },
     "metadata": {
      "needs_background": "light"
     },
     "output_type": "display_data"
    }
   ],
   "source": [
    "plt.title(\"Curva de validación (SVM)\")\n",
    "plt.xlabel(r\"$\\gamma$\")\n",
    "plt.ylabel(\"Score\")\n",
    "plt.ylim(0.0, 1.1)\n",
    "lw = 2\n",
    "plt.semilogx(param_range, train_scores_mean, label=\"Entrenamiento\",color=\"darkorange\", lw=lw)\n",
    "plt.fill_between(param_range, train_scores_mean - train_scores_std, train_scores_mean + train_scores_std, alpha=0.2,\n",
    "                 color=\"darkorange\", lw=lw)\n",
    "plt.semilogx(param_range, test_scores_mean, label=\"Validación\", color=\"navy\", lw=lw)\n",
    "plt.fill_between(param_range, test_scores_mean - test_scores_std, test_scores_mean + test_scores_std, alpha=0.2,\n",
    "                 color=\"navy\", lw=lw)\n",
    "plt.legend(loc=\"best\");"
   ]
  },
  {
   "cell_type": "markdown",
   "metadata": {},
   "source": [
    "## Curva de validación con yellowbrick"
   ]
  },
  {
   "cell_type": "code",
   "execution_count": 8,
   "metadata": {},
   "outputs": [],
   "source": [
    "from yellowbrick.model_selection import ValidationCurve\n",
    "from yellowbrick.datasets import load_energy"
   ]
  },
  {
   "cell_type": "code",
   "execution_count": 9,
   "metadata": {},
   "outputs": [],
   "source": [
    "X, y = load_energy()"
   ]
  },
  {
   "cell_type": "code",
   "execution_count": 10,
   "metadata": {},
   "outputs": [
    {
     "data": {
      "image/png": "[encoded data removed]",
      "text/plain": [
       "<Figure size 576x396 with 1 Axes>"
      ]
     },
     "metadata": {},
     "output_type": "display_data"
    }
   ],
   "source": [
    "from sklearn.tree import DecisionTreeRegressor\n",
    "viz = ValidationCurve(DecisionTreeRegressor(), param_name=\"max_depth\", param_range=np.arange(1, 11), cv=10, scoring=\"r2\")\n",
    "viz.fit(X, y)\n",
    "viz.show();"
   ]
  },
  {
   "cell_type": "markdown",
   "metadata": {},
   "source": [
    "# Funciones para selección de hiperparámetros"
   ]
  },
  {
   "cell_type": "markdown",
   "metadata": {},
   "source": [
    "La librearía de Sklearn tiene dos métodos para seleccionar automáticamente los mejores hiperparámetros del modelo:\n",
    "\n",
    "- Grid Search Parameter Tuning.\n",
    "- Random Search Parameter Tuning."
   ]
  },
  {
   "cell_type": "markdown",
   "metadata": {},
   "source": [
    "## Grid Search\n",
    "El *Grid search* es un método para ajustar los parámetros que consiste en crear y evaluar un modelo metódicamente  para cada combinación de hiperparámetros especificados en la grilla de búsqueda definida."
   ]
  },
  {
   "cell_type": "code",
   "execution_count": 31,
   "metadata": {},
   "outputs": [],
   "source": [
    "from sklearn.model_selection import GridSearchCV"
   ]
  },
  {
   "cell_type": "markdown",
   "metadata": {},
   "source": [
    "En el siguiente ejemplo se utilizará la misma base de datos del ejemplo anterior."
   ]
  },
  {
   "cell_type": "code",
   "execution_count": 42,
   "metadata": {},
   "outputs": [
    {
     "name": "stdout",
     "output_type": "stream",
     "text": [
      "0.431848787926522\n",
      "1.0\n"
     ]
    }
   ],
   "source": [
    "alphas = np.array([310, 100, 10,1,0.1,0.01,0.001,0.0001,0])\n",
    "param_grid = dict(alpha=alphas)\n",
    "model = Lasso()\n",
    "grid = GridSearchCV(estimator=model, param_grid=param_grid)\n",
    "grid.fit(X, y)\n",
    "print(grid.best_score_)\n",
    "print(grid.best_estimator_.alpha)"
   ]
  },
  {
   "cell_type": "markdown",
   "metadata": {},
   "source": [
    "Los resultados señalan que el mejor parámetro alpha es 1 para obtener un *score* de 0.5, lo que señala un grave problema de *bias* de nuestro modelo."
   ]
  },
  {
   "cell_type": "markdown",
   "metadata": {},
   "source": [
    "## Random Search\n",
    "El método de *Random search* selecciona aleatoriamente valores del hiperparámetro de una distribución uniforme por un número especificado de iteracciones. Un modelo es construido y evaluado para cada combinación de parámetros seleccionados."
   ]
  },
  {
   "cell_type": "code",
   "execution_count": 51,
   "metadata": {},
   "outputs": [],
   "source": [
    "from sklearn.model_selection import RandomizedSearchCV\n",
    "from scipy.stats import uniform"
   ]
  },
  {
   "cell_type": "code",
   "execution_count": 52,
   "metadata": {},
   "outputs": [
    {
     "name": "stdout",
     "output_type": "stream",
     "text": [
      "0.5063905111241171\n",
      "0.9888610889064947\n"
     ]
    }
   ],
   "source": [
    "param_grid = {'alpha': uniform()}\n",
    "model = Ridge()\n",
    "rsearch = RandomizedSearchCV(estimator=model, param_distributions=param_grid, n_iter=100, random_state=1)\n",
    "rsearch.fit(X, y)\n",
    "print(rsearch.best_score_)\n",
    "print(rsearch.best_estimator_.alpha)"
   ]
  },
  {
   "cell_type": "markdown",
   "metadata": {},
   "source": [
    "Los resultados arrojan que el mejor valor del hiperparámetro es 0.98 para un desempeño de 0.5."
   ]
  }
 ],
 "metadata": {
  "kernelspec": {
   "display_name": "Python 3 (ipykernel)",
   "language": "python",
   "name": "python3"
  },
  "language_info": {
   "codemirror_mode": {
    "name": "ipython",
    "version": 3
   },
   "file_extension": ".py",
   "mimetype": "text/x-python",
   "name": "python",
   "nbconvert_exporter": "python",
   "pygments_lexer": "ipython3",
   "version": "3.9.12"
  },
  "toc": {
   "base_numbering": 1,
   "nav_menu": {},
   "number_sections": true,
   "sideBar": true,
   "skip_h1_title": false,
   "title_cell": "Table of Contents",
   "title_sidebar": "Contents",
   "toc_cell": false,
   "toc_position": {},
   "toc_section_display": true,
   "toc_window_display": false
  },
  "vscode": {
   "interpreter": {
    "hash": "e1d4d4432adaf810d84079afef3a2b5cc3e6cff3448576ce9e7d5e7cd95700e9"
   }
  }
 },
 "nbformat": 4,
 "nbformat_minor": 4
}
