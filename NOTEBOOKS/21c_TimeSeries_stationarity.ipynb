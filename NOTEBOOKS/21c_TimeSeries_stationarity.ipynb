{
 "cells": [
  {
   "cell_type": "markdown",
   "metadata": {
    "id": "HKwn8Z5TM03z"
   },
   "source": [
    "**CURSO**: *Machine Learning* en Geociencias<br />\n",
    "**Profesor**: Edier Aristizábal (evaristizabalg@unal.edu.co) <br />\n",
    "**Credits**: The content of this notebook is taken from several sources: Marco Peixeiro, Soner Yıldırım, Bex T, Manuel Hupperich, Youssef Hosni and Piero Paialunga en www.towardsdatascience.com. Every effort has been made to trace copyright holders of the materials used in this book. The author apologies for any unintentional omissions and would be pleased to add an acknowledgment in future editions."
   ]
  },
  {
   "cell_type": "markdown",
   "metadata": {
    "id": "r6x7aGK7M04D"
   },
   "source": [
    "# Time Series Analysis: Stationarity\n",
    "\n",
    "A stationary time series is one whose statistical properties do not change over time. In other\n",
    "words, it is not depending on time component and it has a constant mean, constant variance, and constant autocorrelation structure (i.e. the pattern of autocorrelation does not change over time).\n",
    "\n",
    "Many forecasting models assume stationarity. The moving average model, autoregressive model, and autoregressive moving average model assume stationarity. These models can only be used if we verify that the data is indeed\n",
    "stationary. Otherwise, the models will not be valid, and the forecasts will not be reliable.\n",
    "Intuitively, this makes sense, because if the data is non-stationary, its properties are going\n",
    "change over time, and so it would mean that our model parameters must also change\n",
    "through time. This means that we cannot possibly derive a function of future values as a\n",
    "function of past values, since the coefficients change at each point in time, hence making\n",
    "forecasting unreliable.\n",
    "\n",
    "A stationary series shows a Gaussian distribution, and the mean and variance are similar."
   ]
  },
  {
   "cell_type": "code",
   "execution_count": 1,
   "metadata": {
    "executionInfo": {
     "elapsed": 1908,
     "status": "ok",
     "timestamp": 1669909957377,
     "user": {
      "displayName": "Edier Vicente Aristizabal Giraldo",
      "userId": "14756502124163770629"
     },
     "user_tz": 300
    },
    "id": "B2KOpPklM04E"
   },
   "outputs": [],
   "source": [
    "import pandas as pd\n",
    "import numpy as np\n",
    "import matplotlib.pyplot as plt"
   ]
  },
  {
   "cell_type": "code",
   "execution_count": 2,
   "metadata": {
    "colab": {
     "base_uri": "https://localhost:8080/",
     "height": 237
    },
    "executionInfo": {
     "elapsed": 288,
     "status": "ok",
     "timestamp": 1669909957652,
     "user": {
      "displayName": "Edier Vicente Aristizabal Giraldo",
      "userId": "14756502124163770629"
     },
     "user_tz": 300
    },
    "id": "dEDi7tX5M04F",
    "outputId": "f2725f07-8e34-4ebe-b857-b6d628672466"
   },
   "outputs": [
    {
     "data": {
      "text/html": [
       "\n",
       "  <div id=\"df-5663049f-dc6b-4a0e-a37a-781b2009f3f3\">\n",
       "    <div class=\"colab-df-container\">\n",
       "      <div>\n",
       "<style scoped>\n",
       "    .dataframe tbody tr th:only-of-type {\n",
       "        vertical-align: middle;\n",
       "    }\n",
       "\n",
       "    .dataframe tbody tr th {\n",
       "        vertical-align: top;\n",
       "    }\n",
       "\n",
       "    .dataframe thead th {\n",
       "        text-align: right;\n",
       "    }\n",
       "</style>\n",
       "<table border=\"1\" class=\"dataframe\">\n",
       "  <thead>\n",
       "    <tr style=\"text-align: right;\">\n",
       "      <th></th>\n",
       "      <th>DJI</th>\n",
       "      <th>UFO</th>\n",
       "    </tr>\n",
       "    <tr>\n",
       "      <th>Date</th>\n",
       "      <th></th>\n",
       "      <th></th>\n",
       "    </tr>\n",
       "  </thead>\n",
       "  <tbody>\n",
       "    <tr>\n",
       "      <th>1941-01-01</th>\n",
       "      <td>110.96</td>\n",
       "      <td>1</td>\n",
       "    </tr>\n",
       "    <tr>\n",
       "      <th>1942-01-01</th>\n",
       "      <td>119.40</td>\n",
       "      <td>2</td>\n",
       "    </tr>\n",
       "    <tr>\n",
       "      <th>1943-01-01</th>\n",
       "      <td>135.89</td>\n",
       "      <td>9</td>\n",
       "    </tr>\n",
       "    <tr>\n",
       "      <th>1944-01-01</th>\n",
       "      <td>152.32</td>\n",
       "      <td>9</td>\n",
       "    </tr>\n",
       "    <tr>\n",
       "      <th>1945-01-01</th>\n",
       "      <td>192.91</td>\n",
       "      <td>9</td>\n",
       "    </tr>\n",
       "  </tbody>\n",
       "</table>\n",
       "</div>\n",
       "      <button class=\"colab-df-convert\" onclick=\"convertToInteractive('df-5663049f-dc6b-4a0e-a37a-781b2009f3f3')\"\n",
       "              title=\"Convert this dataframe to an interactive table.\"\n",
       "              style=\"display:none;\">\n",
       "        \n",
       "  <svg xmlns=\"http://www.w3.org/2000/svg\" height=\"24px\"viewBox=\"0 0 24 24\"\n",
       "       width=\"24px\">\n",
       "    <path d=\"M0 0h24v24H0V0z\" fill=\"none\"/>\n",
       "    <path d=\"M18.56 5.44l.94 2.06.94-2.06 2.06-.94-2.06-.94-.94-2.06-.94 2.06-2.06.94zm-11 1L8.5 8.5l.94-2.06 2.06-.94-2.06-.94L8.5 2.5l-.94 2.06-2.06.94zm10 10l.94 2.06.94-2.06 2.06-.94-2.06-.94-.94-2.06-.94 2.06-2.06.94z\"/><path d=\"M17.41 7.96l-1.37-1.37c-.4-.4-.92-.59-1.43-.59-.52 0-1.04.2-1.43.59L10.3 9.45l-7.72 7.72c-.78.78-.78 2.05 0 2.83L4 21.41c.39.39.9.59 1.41.59.51 0 1.02-.2 1.41-.59l7.78-7.78 2.81-2.81c.8-.78.8-2.07 0-2.86zM5.41 20L4 18.59l7.72-7.72 1.47 1.35L5.41 20z\"/>\n",
       "  </svg>\n",
       "      </button>\n",
       "      \n",
       "  <style>\n",
       "    .colab-df-container {\n",
       "      display:flex;\n",
       "      flex-wrap:wrap;\n",
       "      gap: 12px;\n",
       "    }\n",
       "\n",
       "    .colab-df-convert {\n",
       "      background-color: #E8F0FE;\n",
       "      border: none;\n",
       "      border-radius: 50%;\n",
       "      cursor: pointer;\n",
       "      display: none;\n",
       "      fill: #1967D2;\n",
       "      height: 32px;\n",
       "      padding: 0 0 0 0;\n",
       "      width: 32px;\n",
       "    }\n",
       "\n",
       "    .colab-df-convert:hover {\n",
       "      background-color: #E2EBFA;\n",
       "      box-shadow: 0px 1px 2px rgba(60, 64, 67, 0.3), 0px 1px 3px 1px rgba(60, 64, 67, 0.15);\n",
       "      fill: #174EA6;\n",
       "    }\n",
       "\n",
       "    [theme=dark] .colab-df-convert {\n",
       "      background-color: #3B4455;\n",
       "      fill: #D2E3FC;\n",
       "    }\n",
       "\n",
       "    [theme=dark] .colab-df-convert:hover {\n",
       "      background-color: #434B5C;\n",
       "      box-shadow: 0px 1px 3px 1px rgba(0, 0, 0, 0.15);\n",
       "      filter: drop-shadow(0px 1px 2px rgba(0, 0, 0, 0.3));\n",
       "      fill: #FFFFFF;\n",
       "    }\n",
       "  </style>\n",
       "\n",
       "      <script>\n",
       "        const buttonEl =\n",
       "          document.querySelector('#df-5663049f-dc6b-4a0e-a37a-781b2009f3f3 button.colab-df-convert');\n",
       "        buttonEl.style.display =\n",
       "          google.colab.kernel.accessAllowed ? 'block' : 'none';\n",
       "\n",
       "        async function convertToInteractive(key) {\n",
       "          const element = document.querySelector('#df-5663049f-dc6b-4a0e-a37a-781b2009f3f3');\n",
       "          const dataTable =\n",
       "            await google.colab.kernel.invokeFunction('convertToInteractive',\n",
       "                                                     [key], {});\n",
       "          if (!dataTable) return;\n",
       "\n",
       "          const docLinkHtml = 'Like what you see? Visit the ' +\n",
       "            '<a target=\"_blank\" href=https://colab.research.google.com/notebooks/data_table.ipynb>data table notebook</a>'\n",
       "            + ' to learn more about interactive tables.';\n",
       "          element.innerHTML = '';\n",
       "          dataTable['output_type'] = 'display_data';\n",
       "          await google.colab.output.renderOutput(dataTable, element);\n",
       "          const docLink = document.createElement('div');\n",
       "          docLink.innerHTML = docLinkHtml;\n",
       "          element.appendChild(docLink);\n",
       "        }\n",
       "      </script>\n",
       "    </div>\n",
       "  </div>\n",
       "  "
      ],
      "text/plain": [
       "               DJI  UFO\n",
       "Date                   \n",
       "1941-01-01  110.96    1\n",
       "1942-01-01  119.40    2\n",
       "1943-01-01  135.89    9\n",
       "1944-01-01  152.32    9\n",
       "1945-01-01  192.91    9"
      ]
     },
     "execution_count": 2,
     "metadata": {},
     "output_type": "execute_result"
    }
   ],
   "source": [
    "levels = pd.read_csv('https://raw.githubusercontent.com/youssefHosni/Time-Series-With-Python/main/Time%20Series%20Analysis/DJI.csv', parse_dates=['Date'], index_col='Date')\n",
    "levels.head()"
   ]
  },
  {
   "cell_type": "markdown",
   "metadata": {
    "id": "wq09Y4Z8T4Iq"
   },
   "source": [
    "## Spurious correlations in time series data\n",
    "\n",
    "De acuerdo con [Wikipedia](https://es.wikipedia.org/wiki/Relaci%C3%B3n_espuria#:~:text=Un%20caso%20bien%20conocido%20de,entre%20variables%20independientes%20no%20estacionarias.) una relación espuria (o, a veces, correlación espuria) es una relación matemática en la cual dos acontecimientos no tienen conexión lógica, aunque se puede implicar que la tienen debido a un tercer factor no considerado aún (llamado \"factor de confusión\" o \"variable escondida\"). La relación espuria da la impresión de la existencia de un vínculo apreciable entre dos grupos que es inválido cuando se examina objetivamente.\n",
    "\n",
    "En series temporales las correlaciones espurias son frecuentes, simplemente porque muchas series tienen tendencia."
   ]
  },
  {
   "cell_type": "code",
   "execution_count": null,
   "metadata": {
    "id": "_tzmkqlwM04H",
    "outputId": "bfbb946a-db67-4a8c-a44d-7d986bb6c648"
   },
   "outputs": [
    {
     "data": {
      "image/png": "[encoded data removed]",
      "text/plain": [
       "<Figure size 432x288 with 1 Axes>"
      ]
     },
     "metadata": {
      "needs_background": "light"
     },
     "output_type": "display_data"
    }
   ],
   "source": [
    "plt.scatter(levels.DJI, levels.UFO);"
   ]
  },
  {
   "cell_type": "code",
   "execution_count": 5,
   "metadata": {
    "colab": {
     "base_uri": "https://localhost:8080/"
    },
    "executionInfo": {
     "elapsed": 240,
     "status": "ok",
     "timestamp": 1669910259255,
     "user": {
      "displayName": "Edier Vicente Aristizabal Giraldo",
      "userId": "14756502124163770629"
     },
     "user_tz": 300
    },
    "id": "3DA8ajipM04H",
    "outputId": "f788bf6f-6d28-4f13-c376-2b36a1bb085d"
   },
   "outputs": [
    {
     "name": "stdout",
     "output_type": "stream",
     "text": [
      "Correlation of levels:  0.9204594155244163\n"
     ]
    }
   ],
   "source": [
    "correlation1 = levels['DJI'].corr(levels['UFO'])\n",
    "print(\"Correlation of levels: \", correlation1)"
   ]
  },
  {
   "cell_type": "code",
   "execution_count": 6,
   "metadata": {
    "colab": {
     "base_uri": "https://localhost:8080/",
     "height": 237
    },
    "executionInfo": {
     "elapsed": 16,
     "status": "ok",
     "timestamp": 1669910261044,
     "user": {
      "displayName": "Edier Vicente Aristizabal Giraldo",
      "userId": "14756502124163770629"
     },
     "user_tz": 300
    },
    "id": "B3exK8F9M04I",
    "outputId": "8f12fb00-c3e7-4b57-add4-b687063aaec2"
   },
   "outputs": [
    {
     "data": {
      "text/html": [
       "\n",
       "  <div id=\"df-ab402619-502e-4a96-a2ec-fb07abba4196\">\n",
       "    <div class=\"colab-df-container\">\n",
       "      <div>\n",
       "<style scoped>\n",
       "    .dataframe tbody tr th:only-of-type {\n",
       "        vertical-align: middle;\n",
       "    }\n",
       "\n",
       "    .dataframe tbody tr th {\n",
       "        vertical-align: top;\n",
       "    }\n",
       "\n",
       "    .dataframe thead th {\n",
       "        text-align: right;\n",
       "    }\n",
       "</style>\n",
       "<table border=\"1\" class=\"dataframe\">\n",
       "  <thead>\n",
       "    <tr style=\"text-align: right;\">\n",
       "      <th></th>\n",
       "      <th>DJI</th>\n",
       "      <th>UFO</th>\n",
       "    </tr>\n",
       "    <tr>\n",
       "      <th>Date</th>\n",
       "      <th></th>\n",
       "      <th></th>\n",
       "    </tr>\n",
       "  </thead>\n",
       "  <tbody>\n",
       "    <tr>\n",
       "      <th>1941-01-01</th>\n",
       "      <td>NaN</td>\n",
       "      <td>NaN</td>\n",
       "    </tr>\n",
       "    <tr>\n",
       "      <th>1942-01-01</th>\n",
       "      <td>0.076063</td>\n",
       "      <td>1.0</td>\n",
       "    </tr>\n",
       "    <tr>\n",
       "      <th>1943-01-01</th>\n",
       "      <td>0.138107</td>\n",
       "      <td>3.5</td>\n",
       "    </tr>\n",
       "    <tr>\n",
       "      <th>1944-01-01</th>\n",
       "      <td>0.120907</td>\n",
       "      <td>0.0</td>\n",
       "    </tr>\n",
       "    <tr>\n",
       "      <th>1945-01-01</th>\n",
       "      <td>0.266478</td>\n",
       "      <td>0.0</td>\n",
       "    </tr>\n",
       "  </tbody>\n",
       "</table>\n",
       "</div>\n",
       "      <button class=\"colab-df-convert\" onclick=\"convertToInteractive('df-ab402619-502e-4a96-a2ec-fb07abba4196')\"\n",
       "              title=\"Convert this dataframe to an interactive table.\"\n",
       "              style=\"display:none;\">\n",
       "        \n",
       "  <svg xmlns=\"http://www.w3.org/2000/svg\" height=\"24px\"viewBox=\"0 0 24 24\"\n",
       "       width=\"24px\">\n",
       "    <path d=\"M0 0h24v24H0V0z\" fill=\"none\"/>\n",
       "    <path d=\"M18.56 5.44l.94 2.06.94-2.06 2.06-.94-2.06-.94-.94-2.06-.94 2.06-2.06.94zm-11 1L8.5 8.5l.94-2.06 2.06-.94-2.06-.94L8.5 2.5l-.94 2.06-2.06.94zm10 10l.94 2.06.94-2.06 2.06-.94-2.06-.94-.94-2.06-.94 2.06-2.06.94z\"/><path d=\"M17.41 7.96l-1.37-1.37c-.4-.4-.92-.59-1.43-.59-.52 0-1.04.2-1.43.59L10.3 9.45l-7.72 7.72c-.78.78-.78 2.05 0 2.83L4 21.41c.39.39.9.59 1.41.59.51 0 1.02-.2 1.41-.59l7.78-7.78 2.81-2.81c.8-.78.8-2.07 0-2.86zM5.41 20L4 18.59l7.72-7.72 1.47 1.35L5.41 20z\"/>\n",
       "  </svg>\n",
       "      </button>\n",
       "      \n",
       "  <style>\n",
       "    .colab-df-container {\n",
       "      display:flex;\n",
       "      flex-wrap:wrap;\n",
       "      gap: 12px;\n",
       "    }\n",
       "\n",
       "    .colab-df-convert {\n",
       "      background-color: #E8F0FE;\n",
       "      border: none;\n",
       "      border-radius: 50%;\n",
       "      cursor: pointer;\n",
       "      display: none;\n",
       "      fill: #1967D2;\n",
       "      height: 32px;\n",
       "      padding: 0 0 0 0;\n",
       "      width: 32px;\n",
       "    }\n",
       "\n",
       "    .colab-df-convert:hover {\n",
       "      background-color: #E2EBFA;\n",
       "      box-shadow: 0px 1px 2px rgba(60, 64, 67, 0.3), 0px 1px 3px 1px rgba(60, 64, 67, 0.15);\n",
       "      fill: #174EA6;\n",
       "    }\n",
       "\n",
       "    [theme=dark] .colab-df-convert {\n",
       "      background-color: #3B4455;\n",
       "      fill: #D2E3FC;\n",
       "    }\n",
       "\n",
       "    [theme=dark] .colab-df-convert:hover {\n",
       "      background-color: #434B5C;\n",
       "      box-shadow: 0px 1px 3px 1px rgba(0, 0, 0, 0.15);\n",
       "      filter: drop-shadow(0px 1px 2px rgba(0, 0, 0, 0.3));\n",
       "      fill: #FFFFFF;\n",
       "    }\n",
       "  </style>\n",
       "\n",
       "      <script>\n",
       "        const buttonEl =\n",
       "          document.querySelector('#df-ab402619-502e-4a96-a2ec-fb07abba4196 button.colab-df-convert');\n",
       "        buttonEl.style.display =\n",
       "          google.colab.kernel.accessAllowed ? 'block' : 'none';\n",
       "\n",
       "        async function convertToInteractive(key) {\n",
       "          const element = document.querySelector('#df-ab402619-502e-4a96-a2ec-fb07abba4196');\n",
       "          const dataTable =\n",
       "            await google.colab.kernel.invokeFunction('convertToInteractive',\n",
       "                                                     [key], {});\n",
       "          if (!dataTable) return;\n",
       "\n",
       "          const docLinkHtml = 'Like what you see? Visit the ' +\n",
       "            '<a target=\"_blank\" href=https://colab.research.google.com/notebooks/data_table.ipynb>data table notebook</a>'\n",
       "            + ' to learn more about interactive tables.';\n",
       "          element.innerHTML = '';\n",
       "          dataTable['output_type'] = 'display_data';\n",
       "          await google.colab.output.renderOutput(dataTable, element);\n",
       "          const docLink = document.createElement('div');\n",
       "          docLink.innerHTML = docLinkHtml;\n",
       "          element.appendChild(docLink);\n",
       "        }\n",
       "      </script>\n",
       "    </div>\n",
       "  </div>\n",
       "  "
      ],
      "text/plain": [
       "                 DJI  UFO\n",
       "Date                     \n",
       "1941-01-01       NaN  NaN\n",
       "1942-01-01  0.076063  1.0\n",
       "1943-01-01  0.138107  3.5\n",
       "1944-01-01  0.120907  0.0\n",
       "1945-01-01  0.266478  0.0"
      ]
     },
     "execution_count": 6,
     "metadata": {},
     "output_type": "execute_result"
    }
   ],
   "source": [
    "# Compute correlation of percent changes\n",
    "changes = levels.pct_change()\n",
    "changes.head()"
   ]
  },
  {
   "cell_type": "code",
   "execution_count": null,
   "metadata": {
    "id": "A4-74j1mM04J",
    "outputId": "34e5bf21-26e1-401f-a0aa-985d2c51def8"
   },
   "outputs": [
    {
     "name": "stdout",
     "output_type": "stream",
     "text": [
      "Correlation of changes:  0.009287288259357323\n"
     ]
    }
   ],
   "source": [
    "correlation2 = changes['DJI'].corr(changes['UFO'])\n",
    "print(\"Correlation of changes: \", correlation2)"
   ]
  },
  {
   "cell_type": "markdown",
   "metadata": {
    "id": "OJHmAY62M04K"
   },
   "source": [
    "## Regresión Lineal"
   ]
  },
  {
   "cell_type": "code",
   "execution_count": 7,
   "metadata": {
    "colab": {
     "base_uri": "https://localhost:8080/"
    },
    "executionInfo": {
     "elapsed": 263,
     "status": "ok",
     "timestamp": 1669910266321,
     "user": {
      "displayName": "Edier Vicente Aristizabal Giraldo",
      "userId": "14756502124163770629"
     },
     "user_tz": 300
    },
    "id": "1ACkQH0cM04L",
    "outputId": "2666bd4c-a054-4acc-8c0c-7351fc995c9d"
   },
   "outputs": [
    {
     "name": "stdout",
     "output_type": "stream",
     "text": [
      "The correlation between x and y is 0.92\n"
     ]
    }
   ],
   "source": [
    "# Compute correlation of x and y\n",
    "\n",
    "data = levels.dropna()\n",
    "x = data['DJI']\n",
    "y = data['UFO']\n",
    "\n",
    "correlation = x.corr(y)\n",
    "print(\"The correlation between x and y is %4.2f\" %(correlation))\n"
   ]
  },
  {
   "cell_type": "code",
   "execution_count": 8,
   "metadata": {
    "colab": {
     "base_uri": "https://localhost:8080/",
     "height": 352
    },
    "executionInfo": {
     "elapsed": 321,
     "status": "ok",
     "timestamp": 1669910269656,
     "user": {
      "displayName": "Edier Vicente Aristizabal Giraldo",
      "userId": "14756502124163770629"
     },
     "user_tz": 300
    },
    "id": "iusKhsMOM04M",
    "outputId": "0132df7e-efa7-46e8-8001-06da37c932b2"
   },
   "outputs": [
    {
     "name": "stderr",
     "output_type": "stream",
     "text": [
      "/usr/local/lib/python3.8/dist-packages/seaborn/_decorators.py:36: FutureWarning: Pass the following variables as keyword args: x, y. From version 0.12, the only valid positional argument will be `data`, and passing other arguments without an explicit keyword will result in an error or misinterpretation.\n",
      "  warnings.warn(\n"
     ]
    },
    {
     "data": {
      "text/plain": [
       "<matplotlib.axes._subplots.AxesSubplot at 0x7f81719382b0>"
      ]
     },
     "execution_count": 8,
     "metadata": {},
     "output_type": "execute_result"
    },
    {
     "data": {
      "image/png": "[encoded data removed]",
      "text/plain": [
       "<Figure size 432x288 with 1 Axes>"
      ]
     },
     "metadata": {
      "needs_background": "light"
     },
     "output_type": "display_data"
    }
   ],
   "source": [
    "import seaborn as sbn\n",
    "sbn.regplot(x,y)"
   ]
  },
  {
   "cell_type": "code",
   "execution_count": 9,
   "metadata": {
    "colab": {
     "base_uri": "https://localhost:8080/"
    },
    "executionInfo": {
     "elapsed": 1746,
     "status": "ok",
     "timestamp": 1669910279809,
     "user": {
      "displayName": "Edier Vicente Aristizabal Giraldo",
      "userId": "14756502124163770629"
     },
     "user_tz": 300
    },
    "id": "N081IGFfM04N",
    "outputId": "30ff2f2a-ce9e-440a-d07d-e0c197ce3b0d"
   },
   "outputs": [
    {
     "name": "stdout",
     "output_type": "stream",
     "text": [
      "                            OLS Regression Results                            \n",
      "==============================================================================\n",
      "Dep. Variable:                      y   R-squared:                       0.847\n",
      "Model:                            OLS   Adj. R-squared:                  0.845\n",
      "Method:                 Least Squares   F-statistic:                     393.8\n",
      "Date:                Thu, 01 Dec 2022   Prob (F-statistic):           1.10e-30\n",
      "Time:                        15:57:58   Log-Likelihood:                -581.51\n",
      "No. Observations:                  73   AIC:                             1167.\n",
      "Df Residuals:                      71   BIC:                             1172.\n",
      "Df Model:                           1                                         \n",
      "Covariance Type:            nonrobust                                         \n",
      "==============================================================================\n",
      "                 coef    std err          t      P>|t|      [0.025      0.975]\n",
      "------------------------------------------------------------------------------\n",
      "const       -247.2650    105.184     -2.351      0.022    -456.996     -37.534\n",
      "x              0.3702      0.019     19.844      0.000       0.333       0.407\n",
      "==============================================================================\n",
      "Omnibus:                       20.736   Durbin-Watson:                   0.717\n",
      "Prob(Omnibus):                  0.000   Jarque-Bera (JB):              131.103\n",
      "Skew:                          -0.328   Prob(JB):                     3.40e-29\n",
      "Kurtosis:                       9.532   Cond. No.                     7.17e+03\n",
      "==============================================================================\n",
      "\n",
      "Notes:\n",
      "[1] Standard Errors assume that the covariance matrix of the errors is correctly specified.\n",
      "[2] The condition number is large, 7.17e+03. This might indicate that there are\n",
      "strong multicollinearity or other numerical problems.\n"
     ]
    },
    {
     "name": "stderr",
     "output_type": "stream",
     "text": [
      "/usr/local/lib/python3.8/dist-packages/statsmodels/tsa/tsatools.py:142: FutureWarning: In a future version of pandas all arguments of concat except for the argument 'objs' will be keyword-only\n",
      "  x = pd.concat(x[::order], 1)\n"
     ]
    }
   ],
   "source": [
    "# Import the statsmodels module\n",
    "import statsmodels.api as sm\n",
    "\n",
    "# Convert the Series x to a DataFrame and name the column x\n",
    "dfx = pd.DataFrame(x.values, columns=['x'])\n",
    "\n",
    "# Add a constant to the DataFrame dfx\n",
    "dfx1 = sm.add_constant(dfx)\n",
    "\n",
    "# Regress y on dfx1\n",
    "result = sm.OLS(y.values, dfx1).fit()\n",
    "\n",
    "# Print out the results and look at the relationship between R-squared and the correlation above\n",
    "print(result.summary())"
   ]
  },
  {
   "cell_type": "code",
   "execution_count": 10,
   "metadata": {
    "colab": {
     "base_uri": "https://localhost:8080/",
     "height": 206
    },
    "executionInfo": {
     "elapsed": 10,
     "status": "ok",
     "timestamp": 1669910290249,
     "user": {
      "displayName": "Edier Vicente Aristizabal Giraldo",
      "userId": "14756502124163770629"
     },
     "user_tz": 300
    },
    "id": "6zN-tQHOaL_y",
    "outputId": "63ff1b58-47b2-41f1-86bd-f18e6f220d1d"
   },
   "outputs": [
    {
     "data": {
      "text/html": [
       "\n",
       "  <div id=\"df-e964b401-c2ef-48cf-80b7-db4f2739369b\">\n",
       "    <div class=\"colab-df-container\">\n",
       "      <div>\n",
       "<style scoped>\n",
       "    .dataframe tbody tr th:only-of-type {\n",
       "        vertical-align: middle;\n",
       "    }\n",
       "\n",
       "    .dataframe tbody tr th {\n",
       "        vertical-align: top;\n",
       "    }\n",
       "\n",
       "    .dataframe thead th {\n",
       "        text-align: right;\n",
       "    }\n",
       "</style>\n",
       "<table border=\"1\" class=\"dataframe\">\n",
       "  <thead>\n",
       "    <tr style=\"text-align: right;\">\n",
       "      <th></th>\n",
       "      <th>const</th>\n",
       "      <th>x</th>\n",
       "    </tr>\n",
       "  </thead>\n",
       "  <tbody>\n",
       "    <tr>\n",
       "      <th>0</th>\n",
       "      <td>1.0</td>\n",
       "      <td>110.96</td>\n",
       "    </tr>\n",
       "    <tr>\n",
       "      <th>1</th>\n",
       "      <td>1.0</td>\n",
       "      <td>119.40</td>\n",
       "    </tr>\n",
       "    <tr>\n",
       "      <th>2</th>\n",
       "      <td>1.0</td>\n",
       "      <td>135.89</td>\n",
       "    </tr>\n",
       "    <tr>\n",
       "      <th>3</th>\n",
       "      <td>1.0</td>\n",
       "      <td>152.32</td>\n",
       "    </tr>\n",
       "    <tr>\n",
       "      <th>4</th>\n",
       "      <td>1.0</td>\n",
       "      <td>192.91</td>\n",
       "    </tr>\n",
       "  </tbody>\n",
       "</table>\n",
       "</div>\n",
       "      <button class=\"colab-df-convert\" onclick=\"convertToInteractive('df-e964b401-c2ef-48cf-80b7-db4f2739369b')\"\n",
       "              title=\"Convert this dataframe to an interactive table.\"\n",
       "              style=\"display:none;\">\n",
       "        \n",
       "  <svg xmlns=\"http://www.w3.org/2000/svg\" height=\"24px\"viewBox=\"0 0 24 24\"\n",
       "       width=\"24px\">\n",
       "    <path d=\"M0 0h24v24H0V0z\" fill=\"none\"/>\n",
       "    <path d=\"M18.56 5.44l.94 2.06.94-2.06 2.06-.94-2.06-.94-.94-2.06-.94 2.06-2.06.94zm-11 1L8.5 8.5l.94-2.06 2.06-.94-2.06-.94L8.5 2.5l-.94 2.06-2.06.94zm10 10l.94 2.06.94-2.06 2.06-.94-2.06-.94-.94-2.06-.94 2.06-2.06.94z\"/><path d=\"M17.41 7.96l-1.37-1.37c-.4-.4-.92-.59-1.43-.59-.52 0-1.04.2-1.43.59L10.3 9.45l-7.72 7.72c-.78.78-.78 2.05 0 2.83L4 21.41c.39.39.9.59 1.41.59.51 0 1.02-.2 1.41-.59l7.78-7.78 2.81-2.81c.8-.78.8-2.07 0-2.86zM5.41 20L4 18.59l7.72-7.72 1.47 1.35L5.41 20z\"/>\n",
       "  </svg>\n",
       "      </button>\n",
       "      \n",
       "  <style>\n",
       "    .colab-df-container {\n",
       "      display:flex;\n",
       "      flex-wrap:wrap;\n",
       "      gap: 12px;\n",
       "    }\n",
       "\n",
       "    .colab-df-convert {\n",
       "      background-color: #E8F0FE;\n",
       "      border: none;\n",
       "      border-radius: 50%;\n",
       "      cursor: pointer;\n",
       "      display: none;\n",
       "      fill: #1967D2;\n",
       "      height: 32px;\n",
       "      padding: 0 0 0 0;\n",
       "      width: 32px;\n",
       "    }\n",
       "\n",
       "    .colab-df-convert:hover {\n",
       "      background-color: #E2EBFA;\n",
       "      box-shadow: 0px 1px 2px rgba(60, 64, 67, 0.3), 0px 1px 3px 1px rgba(60, 64, 67, 0.15);\n",
       "      fill: #174EA6;\n",
       "    }\n",
       "\n",
       "    [theme=dark] .colab-df-convert {\n",
       "      background-color: #3B4455;\n",
       "      fill: #D2E3FC;\n",
       "    }\n",
       "\n",
       "    [theme=dark] .colab-df-convert:hover {\n",
       "      background-color: #434B5C;\n",
       "      box-shadow: 0px 1px 3px 1px rgba(0, 0, 0, 0.15);\n",
       "      filter: drop-shadow(0px 1px 2px rgba(0, 0, 0, 0.3));\n",
       "      fill: #FFFFFF;\n",
       "    }\n",
       "  </style>\n",
       "\n",
       "      <script>\n",
       "        const buttonEl =\n",
       "          document.querySelector('#df-e964b401-c2ef-48cf-80b7-db4f2739369b button.colab-df-convert');\n",
       "        buttonEl.style.display =\n",
       "          google.colab.kernel.accessAllowed ? 'block' : 'none';\n",
       "\n",
       "        async function convertToInteractive(key) {\n",
       "          const element = document.querySelector('#df-e964b401-c2ef-48cf-80b7-db4f2739369b');\n",
       "          const dataTable =\n",
       "            await google.colab.kernel.invokeFunction('convertToInteractive',\n",
       "                                                     [key], {});\n",
       "          if (!dataTable) return;\n",
       "\n",
       "          const docLinkHtml = 'Like what you see? Visit the ' +\n",
       "            '<a target=\"_blank\" href=https://colab.research.google.com/notebooks/data_table.ipynb>data table notebook</a>'\n",
       "            + ' to learn more about interactive tables.';\n",
       "          element.innerHTML = '';\n",
       "          dataTable['output_type'] = 'display_data';\n",
       "          await google.colab.output.renderOutput(dataTable, element);\n",
       "          const docLink = document.createElement('div');\n",
       "          docLink.innerHTML = docLinkHtml;\n",
       "          element.appendChild(docLink);\n",
       "        }\n",
       "      </script>\n",
       "    </div>\n",
       "  </div>\n",
       "  "
      ],
      "text/plain": [
       "   const       x\n",
       "0    1.0  110.96\n",
       "1    1.0  119.40\n",
       "2    1.0  135.89\n",
       "3    1.0  152.32\n",
       "4    1.0  192.91"
      ]
     },
     "execution_count": 10,
     "metadata": {},
     "output_type": "execute_result"
    }
   ],
   "source": [
    "dfx1.head()"
   ]
  },
  {
   "cell_type": "code",
   "execution_count": null,
   "metadata": {
    "id": "ySc4BCVMM04Q",
    "outputId": "5a2da73e-4330-4d8d-b57a-0d7f8ec2e396"
   },
   "outputs": [
    {
     "data": {
      "text/plain": [
       "0.8472455356275501"
      ]
     },
     "execution_count": 16,
     "metadata": {},
     "output_type": "execute_result"
    }
   ],
   "source": [
    "correlation*correlation"
   ]
  },
  {
   "cell_type": "markdown",
   "metadata": {
    "id": "tMrRnuSOiBWY"
   },
   "source": [
    "## Testing for stationarity"
   ]
  },
  {
   "cell_type": "markdown",
   "metadata": {
    "id": "4cFTWB0aiFWY"
   },
   "source": [
    "**ADF (Augmented Dickey-Fuller)** test examines stationarity based on the null hypothesis that data is non-stationary and alternative hypothesis that data is stationary. The result of this test is the ADF statistic that is a negative number. The more negative it is, the stronger the rejection of the null hypothesis. If the p-value generated from the ADF test is smaller than 0.05, it provides stronger evidence to reject that data is non-stationary."
   ]
  },
  {
   "cell_type": "code",
   "execution_count": null,
   "metadata": {
    "colab": {
     "base_uri": "https://localhost:8080/",
     "height": 314
    },
    "executionInfo": {
     "elapsed": 632,
     "status": "ok",
     "timestamp": 1663203791545,
     "user": {
      "displayName": "Edier Vicente Aristizabal Giraldo",
      "userId": "14756502124163770629"
     },
     "user_tz": 300
    },
    "id": "E6NL0vwTiIJ3",
    "outputId": "63059cc6-2b9f-4fa9-aca8-e7753c4835c0"
   },
   "outputs": [
    {
     "name": "stdout",
     "output_type": "stream",
     "text": [
      "1.7706584776801464\n",
      "0.998289012539757\n"
     ]
    },
    {
     "data": {
      "image/png": "[encoded data removed]",
      "text/plain": [
       "<Figure size 432x288 with 1 Axes>"
      ]
     },
     "metadata": {
      "needs_background": "light"
     },
     "output_type": "display_data"
    }
   ],
   "source": [
    "from statsmodels.tsa.stattools import adfuller\n",
    "data = levels.dropna()\n",
    "dji = data['DJI']\n",
    "results = adfuller(dji)\n",
    "print(results[0]) # print ADF statistic\n",
    "print(results[1]) # print the p-value \n",
    "dji.plot();"
   ]
  },
  {
   "cell_type": "markdown",
   "metadata": {
    "id": "YELbYenviMnv"
   },
   "source": [
    "The p-value is 0.9 which means that the difference is not significant and we cannot reject the null hypothesis therefore the DJI time series is non-stationary."
   ]
  },
  {
   "cell_type": "markdown",
   "metadata": {
    "id": "rgADnI7AnvOF"
   },
   "source": [
    "## Transformation\n",
    "A transformation is simply a mathematical manipulation to\n",
    "the data in order to stabilize its mean and variance, thus making it stationary. The simplest\n",
    "transformation one can apply is differencing. This transformation helps stabilize the mean,\n",
    "which in turn removes or reduces the trend and seasonality effects. Differencing is\n",
    "calculating the series of change from one timestep to another. To accomplish that, we simply\n",
    "subtract the value of the previous timestep from the value in the present to obtain the\n",
    "differenced value.\n",
    "\n",
    "It is possible to difference a time series many times. Taking the difference once is applying a\n",
    "first-order differencing. Taking it a second time, would be a second-order differencing. It\n",
    "is often not necessary to difference more than twice to obtain a stationary series.\n",
    "\n",
    "While differencing is used to obtain a constant mean through time, we must also make\n",
    "sure to have a constant variance in order for our process to be stationary. In such case,\n",
    "logarithms are used to help stabilize the variance.\n",
    "\n",
    "Keep in mind that when we model a time series that was transformed, we must\n",
    "untransform it to bring back the results of the model to the original units of measurement.\n",
    "Therefore, if you apply a log transformation to your data, make sure to raise your forecast\n",
    "values to the power of 10, in order to bring the values back to their original magnitude. That\n",
    "way, our predictions will make sense in their original context."
   ]
  },
  {
   "cell_type": "code",
   "execution_count": null,
   "metadata": {
    "colab": {
     "base_uri": "https://localhost:8080/",
     "height": 318
    },
    "executionInfo": {
     "elapsed": 335,
     "status": "ok",
     "timestamp": 1663204243976,
     "user": {
      "displayName": "Edier Vicente Aristizabal Giraldo",
      "userId": "14756502124163770629"
     },
     "user_tz": 300
    },
    "id": "vj9PuBPOiQNs",
    "outputId": "61e43616-3593-4b5b-94e1-7f81c8a1f87d"
   },
   "outputs": [
    {
     "name": "stdout",
     "output_type": "stream",
     "text": [
      "-7.420367376952998\n",
      "6.761480792705851e-11\n"
     ]
    },
    {
     "data": {
      "image/png": "[encoded data removed]",
      "text/plain": [
       "<Figure size 432x288 with 1 Axes>"
      ]
     },
     "metadata": {
      "needs_background": "light"
     },
     "output_type": "display_data"
    }
   ],
   "source": [
    "dji_log=np.log(dji).diff(1)\n",
    "dji_log=dji_log.dropna()\n",
    "results = adfuller(dji_log)\n",
    "print(results[0])\n",
    "print(results[1])\n",
    "dji_log.plot();"
   ]
  },
  {
   "cell_type": "markdown",
   "metadata": {
    "id": "o_jF-YKtM04V"
   },
   "source": [
    "## Autocorrelation function (ACF)\n",
    "\n",
    "Once a process is stationary, plotting the autocorrelation function is a great way to\n",
    "understand what type of process we are analyzing.\n",
    "\n",
    "We know that correlation measures the extent of a linear relationship between two\n",
    "variables. Autocorrelation therefore measures the linear relationship between lagged values\n",
    "of a time series. Thus, the autocorrelation function reveals how the correlation between any\n",
    "two values changes as the lag increases. Here, the lag is simply the number of timesteps\n",
    "separating two values.\n",
    "\n",
    "or example, we can calculate the autocorrelation coefficient between $y_t$ and $y_{t−1}$. In this\n",
    "case, the lag is equal to 1, and the coefficient would be denoted as r1. Similarly, we can\n",
    "calculate the autocorrelation between $y_t$ and $y_{t−2}$. Then, the lag would be 2, and the\n",
    "coefficient would be denoted as r2. When we plot the ACF function, the coefficient is the\n",
    "dependent variable, while the lag is the independent variable. Note that the autocorrelation\n",
    "coefficient at lag 0 will always be equal to 1.\n",
    "\n",
    "In the presence of a trend when plotting the ACF, the coefficients will be high for short\n",
    "lags, and we will see a linear decrease as the lag increases. If the data is seasonal, the ACF\n",
    "plot will also display cyclical patterns. Therefore, plotting the ACF function of a non-\n",
    "stationary process will not give us further information as to what we already know by looking\n",
    "at the evolution of our process through time. However, plotting the ACF for a stationary\n",
    "process can for instance help us identify the presence of a random walk."
   ]
  },
  {
   "cell_type": "code",
   "execution_count": null,
   "metadata": {
    "id": "l5EB6tnWM04V"
   },
   "outputs": [],
   "source": [
    "# Import the acf module and the plot_acf module from statsmodels\n",
    "from statsmodels.tsa.stattools import acf\n",
    "from statsmodels.graphics.tsaplots import plot_acf\n",
    "from statsmodels.graphics.tsaplots import plot_pacf"
   ]
  },
  {
   "cell_type": "code",
   "execution_count": null,
   "metadata": {
    "colab": {
     "base_uri": "https://localhost:8080/",
     "height": 281
    },
    "executionInfo": {
     "elapsed": 584,
     "status": "ok",
     "timestamp": 1663203893251,
     "user": {
      "displayName": "Edier Vicente Aristizabal Giraldo",
      "userId": "14756502124163770629"
     },
     "user_tz": 300
    },
    "id": "YRP61uPfM04W",
    "outputId": "beda9eeb-a087-406b-9449-0e6c12eda4ad"
   },
   "outputs": [
    {
     "data": {
      "image/png": "[encoded data removed]",
      "text/plain": [
       "<Figure size 432x288 with 1 Axes>"
      ]
     },
     "metadata": {
      "needs_background": "light"
     },
     "output_type": "display_data"
    }
   ],
   "source": [
    "\n",
    "# Plot the acf function\n",
    "plot_acf(data['DJI'], lags=20, alpha=0.05)\n",
    "plt.show()"
   ]
  },
  {
   "cell_type": "markdown",
   "metadata": {
    "id": "ZabzZ4fyrb6A"
   },
   "source": [
    "Looking at the previous  figure, we notice how the autocorrelation coefficients slowly decrease as the\n",
    "lag increases, which is a clear indicator that our random walk is not a stationary process.\n",
    "Note that the shaded area represents a confidence interval. If a point is within the shaded\n",
    "area, then it is not significantly different from 0. Otherwise, the autocorrelation coefficient is\n",
    "significant."
   ]
  },
  {
   "cell_type": "code",
   "execution_count": null,
   "metadata": {
    "colab": {
     "base_uri": "https://localhost:8080/",
     "height": 281
    },
    "executionInfo": {
     "elapsed": 887,
     "status": "ok",
     "timestamp": 1663204194784,
     "user": {
      "displayName": "Edier Vicente Aristizabal Giraldo",
      "userId": "14756502124163770629"
     },
     "user_tz": 300
    },
    "id": "4FjaE1Nxrr_X",
    "outputId": "0c4df5dc-ec4a-4f0b-bdda-eebfb18bc366"
   },
   "outputs": [
    {
     "data": {
      "image/png": "[encoded data removed]",
      "text/plain": [
       "<Figure size 432x288 with 1 Axes>"
      ]
     },
     "metadata": {
      "needs_background": "light"
     },
     "output_type": "display_data"
    }
   ],
   "source": [
    "plot_acf(dji_log, lags=20, alpha=0.05)\n",
    "plt.show()\n"
   ]
  },
  {
   "cell_type": "markdown",
   "metadata": {
    "id": "IPip4yRk0T3Q"
   },
   "source": [
    "## Partial Autocorrelation function (PACF)\n",
    "In an attempt to identify the order of a stationary autoregressive process, we used the ACF\n",
    "plot just like we did for a moving average process. Unfortunately, the ACF plot cannot give\n",
    "us this information and therefore we must turn to the partial autocorrelation function or\n",
    "PACF.\n",
    "\n",
    "Partial autocorrelation measures the correlation between lagged values in a time series when we remove the\n",
    "influence of other correlated lagged values. We can plot the partial autocorrelation function to determine the order of\n",
    "a stationary AR(p) process. The coefficients will be non-significant after lag p."
   ]
  },
  {
   "cell_type": "code",
   "execution_count": null,
   "metadata": {
    "colab": {
     "base_uri": "https://localhost:8080/",
     "height": 281
    },
    "executionInfo": {
     "elapsed": 625,
     "status": "ok",
     "timestamp": 1663203678067,
     "user": {
      "displayName": "Edier Vicente Aristizabal Giraldo",
      "userId": "14756502124163770629"
     },
     "user_tz": 300
    },
    "id": "mO0XEn7ahAwe",
    "outputId": "a8dce952-82da-40d5-8123-175e4400d930"
   },
   "outputs": [
    {
     "data": {
      "image/png": "[encoded data removed]",
      "text/plain": [
       "<Figure size 432x288 with 1 Axes>"
      ]
     },
     "metadata": {
      "needs_background": "light"
     },
     "output_type": "display_data"
    }
   ],
   "source": [
    "\n",
    "plot_pacf(data['DJI'], alpha=0.05)\n",
    "plt.show()"
   ]
  },
  {
   "cell_type": "markdown",
   "metadata": {
    "id": "7GzXCj3vszLV"
   },
   "source": [
    "Looking at the previous figure, we notice that there are no significant autocorrelation coefficients\n",
    "after lag 0. This means that the stationary process is completely random and can therefore\n",
    "be described as white noise. Each value is simply a random step away from the previous one\n",
    "with no relation between them."
   ]
  }
 ],
 "metadata": {
  "colab": {
   "provenance": []
  },
  "kernelspec": {
   "display_name": "Python 3 (ipykernel)",
   "language": "python",
   "name": "python3"
  },
  "language_info": {
   "codemirror_mode": {
    "name": "ipython",
    "version": 3
   },
   "file_extension": ".py",
   "mimetype": "text/x-python",
   "name": "python",
   "nbconvert_exporter": "python",
   "pygments_lexer": "ipython3",
   "version": "3.11.4"
  },
  "vscode": {
   "interpreter": {
    "hash": "81794d4967e6c3204c66dcd87b604927b115b27c00565d3d43f05ba2f3a2cb0d"
   }
  }
 },
 "nbformat": 4,
 "nbformat_minor": 4
}
